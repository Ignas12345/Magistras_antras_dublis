{
  "nbformat": 4,
  "nbformat_minor": 0,
  "metadata": {
    "colab": {
      "provenance": [],
      "authorship_tag": "ABX9TyOh/pfAXeBeil2TPgg+qT7V",
      "include_colab_link": true
    },
    "kernelspec": {
      "name": "python3",
      "display_name": "Python 3"
    },
    "language_info": {
      "name": "python"
    }
  },
  "cells": [
    {
      "cell_type": "markdown",
      "metadata": {
        "id": "view-in-github",
        "colab_type": "text"
      },
      "source": [
        "<a href=\"https://colab.research.google.com/github/Ignas12345/Magistro_projektas/blob/main/knygutes/ketvirtas_bandymas_klasifikuoti.ipynb\" target=\"_parent\"><img src=\"https://colab.research.google.com/assets/colab-badge.svg\" alt=\"Open In Colab\"/></a>"
      ]
    },
    {
      "cell_type": "code",
      "source": [
        "import numpy as np\n",
        "import pandas as pd\n",
        "import torch\n",
        "import torch.nn as nn\n",
        "import torch.nn.functional as F\n",
        "from torch.utils.data import DataLoader, TensorDataset\n",
        "from sklearn.utils.class_weight import compute_class_weight\n",
        "from sklearn.metrics import accuracy_score\n",
        "import matplotlib.pyplot as plt\n"
      ],
      "metadata": {
        "id": "cU_eBl0bbHUu"
      },
      "execution_count": 1,
      "outputs": []
    },
    {
      "cell_type": "code",
      "source": [
        "# uzkraunam neapdorotus duomenis\n",
        "url = 'https://raw.githubusercontent.com/Ignas12345/Magistro_projektas/refs/heads/main/counts_combined.csv'\n",
        "df = pd.read_csv(url)\n",
        "full_gene_names = df[\"miRNA_ID\"].to_numpy()\n",
        "df_trimmed = df.drop(df.columns[0], axis=1)\n",
        "full_data = (df_trimmed.to_numpy(dtype=np.int32))\n",
        "print(np.shape(full_data))"
      ],
      "metadata": {
        "id": "dpCO4P51uln6",
        "outputId": "2f0dd01f-7b07-4409-f388-d39f5f8cb813",
        "colab": {
          "base_uri": "https://localhost:8080/"
        }
      },
      "execution_count": 2,
      "outputs": [
        {
          "output_type": "stream",
          "name": "stdout",
          "text": [
            "(1881, 139)\n"
          ]
        }
      ]
    },
    {
      "cell_type": "code",
      "source": [
        "\n",
        "# Papildomas filtravimas, jei reikia\n",
        "#Calculate the percentage of values less than 100 for each row\n",
        "min_counts = 1000\n",
        "max_below_min_counts = 0.98\n",
        "percent_less_than_100 = np.sum(full_data < min_counts, axis=1) / full_data.shape[1]\n",
        "\n",
        "# Keep only rows where values less than min_counts occur max_below_min_counts or less of the time\n",
        "filtered_data = full_data[percent_less_than_100 <= max_below_min_counts]\n",
        "filtered_gene_names = full_gene_names[percent_less_than_100 <= max_below_min_counts]\n",
        "\n",
        "# Display the filtered array\n",
        "print(np.shape(filtered_data))"
      ],
      "metadata": {
        "id": "I9gF01aJ7Q3r",
        "outputId": "d356f37b-87b8-499f-97aa-2290201b993f",
        "colab": {
          "base_uri": "https://localhost:8080/"
        }
      },
      "execution_count": 3,
      "outputs": [
        {
          "output_type": "stream",
          "name": "stdout",
          "text": [
            "(300, 139)\n"
          ]
        }
      ]
    },
    {
      "cell_type": "code",
      "source": [
        "X = filtered_data.T\n",
        "gene_ids = filtered_gene_names\n",
        "print(np.shape(X))"
      ],
      "metadata": {
        "id": "-LKuHl9_h4_m",
        "outputId": "e887851f-28e8-4c09-aea9-90e5339cc50b",
        "colab": {
          "base_uri": "https://localhost:8080/"
        }
      },
      "execution_count": 4,
      "outputs": [
        {
          "output_type": "stream",
          "name": "stdout",
          "text": [
            "(139, 300)\n"
          ]
        }
      ]
    },
    {
      "cell_type": "code",
      "source": [
        "print(X[:5, 105])\n",
        "print((np.delete(X, 2, axis = 0))[:4, 105])"
      ],
      "metadata": {
        "id": "XMk-T9ZtGlXZ",
        "outputId": "d3c8df8d-5d84-4f3d-a72c-182001f5eaed",
        "colab": {
          "base_uri": "https://localhost:8080/"
        }
      },
      "execution_count": null,
      "outputs": [
        {
          "output_type": "stream",
          "name": "stdout",
          "text": [
            "[87325 48793  9623 40540 78825]\n",
            "[87325 48793 40540 78825]\n"
          ]
        }
      ]
    },
    {
      "cell_type": "code",
      "source": [
        "try:\n",
        "  #i=np.where(gene_ids == 'hsa-mir-520f')[0][0]\n",
        "  i = 105\n",
        "\n",
        "\n",
        "  plt.scatter(X[6:139, i], np.random.normal(scale=0.3, size = len(X[6:139, 0])), c = 'r', label = 'Other')\n",
        "  plt.scatter(X[0, i], 0.1, c = 'b', label = 'Teratoma, benign 1')\n",
        "  plt.scatter(X[1, i], 0.2, c = 'c', label = 'Teratoma, benign 2')\n",
        "  plt.scatter(X[2, i], 0.3, c = 'g', label = 'Teratoma, benign 3')\n",
        "  plt.scatter(X[3, i], -0.3, c = 'y', label = 'Teratoma, benign 4')\n",
        "  plt.scatter(X[4, i], -0.2, c = 'purple', label = 'Teratoma, benign 5')\n",
        "  plt.scatter(X[5, i], -0.1, c = 'k', label = 'Teratoma, benign 6')\n",
        "  plt.xlabel('genas ' + str(gene_ids[i]))\n",
        "  plt.ylim(-5, 5)\n",
        "  plt.legend()\n",
        "  plt.show()\n",
        "except:\n",
        "    print('Sitas genas isfiltruotas - reiktu pakeisti X matrica')"
      ],
      "metadata": {
        "id": "j41sq1VX7h3a",
        "outputId": "007ba5c8-7f38-419d-f790-0d400bb9374b",
        "colab": {
          "base_uri": "https://localhost:8080/",
          "height": 449
        }
      },
      "execution_count": 5,
      "outputs": [
        {
          "output_type": "display_data",
          "data": {
            "text/plain": [
              "<Figure size 640x480 with 1 Axes>"
            ],
            "image/png": "[encoded data removed]"
          },
          "metadata": {}
        }
      ]
    },
    {
      "cell_type": "code",
      "source": [
        "import numpy as np\n",
        "\n",
        "# Create a 2D NumPy array\n",
        "arr = np.array([[1, 2, 3],\n",
        "                [4, 5, 6],\n",
        "                [7, 8, 9]])\n",
        "\n",
        "# Row index to filter out\n",
        "row_to_filter = 1\n",
        "\n",
        "# Remove the specified row\n",
        "filtered_arr = np.delete(arr, row_to_filter, axis=0)\n",
        "\n",
        "print(\"Original array:\\n\", arr)\n",
        "print(\"Array after removing row:\\n\", filtered_arr)\n"
      ],
      "metadata": {
        "id": "AnsI6PVhEP-B",
        "outputId": "fccc08d0-215c-4f7d-d9e6-6d6d351cb719",
        "colab": {
          "base_uri": "https://localhost:8080/"
        }
      },
      "execution_count": null,
      "outputs": [
        {
          "output_type": "stream",
          "name": "stdout",
          "text": [
            "Original array:\n",
            " [[1 2 3]\n",
            " [4 5 6]\n",
            " [7 8 9]]\n",
            "Array after removing row:\n",
            " [[1 2 3]\n",
            " [7 8 9]]\n"
          ]
        }
      ]
    },
    {
      "cell_type": "code",
      "source": [
        "# Create labels: first 6 samples -> label 0, rest -> label 1\n",
        "num_samples = X.shape[0]\n",
        "labels = torch.zeros(num_samples, dtype=torch.float32)\n",
        "labels[6:] = 1  # Set the rest of the samples to label 1\n",
        "\n",
        "# Convert X to a PyTorch tensor\n",
        "features = torch.tensor(X, dtype=torch.float32)\n",
        "mean = features.mean(dim=0)\n",
        "std = features.std(dim=0)\n",
        "\n",
        "#jeigu norim, galim istrinti isskirtini elementa\n",
        "num_samples = X.shape[0] - 1\n",
        "features = torch.tensor(np.delete(X, 2, axis = 0), dtype=torch.float32)\n",
        "labels = torch.zeros(num_samples, dtype=torch.float32)\n",
        "labels[5:] = 1\n",
        "# cia baigiasi isskirtinio meginio istrynimas (uzkomentuoti sias elutes jeigu to nenorim)\n",
        "\n",
        "#netikri papildomi treniravimo duomenys\n",
        "benign_features = features[np.where(labels == 0)]  # First 6 samples are benign\n",
        "benign_labels = labels[np.where(labels == 0)]\n",
        "\n",
        "\n",
        "# Duplicate benign samples with slight noise\n",
        "for i in range(10):\n",
        "  augmented_features = benign_features + 0.01 * torch.randn_like(benign_features)\n",
        "  features = torch.cat([features, augmented_features])\n",
        "  labels = torch.cat([labels, benign_labels])\n",
        "\n",
        "features = (features - mean) / (std + 1e-8)\n",
        "\n",
        "# Combine features and labels into a dataset\n",
        "dataset = TensorDataset(features, labels)"
      ],
      "metadata": {
        "id": "4e0tFFYAcnle"
      },
      "execution_count": 83,
      "outputs": []
    },
    {
      "cell_type": "code",
      "source": [
        "test_labels = torch.zeros(139, dtype=torch.float32)\n",
        "test_labels[6:] = 1\n",
        "test_features = torch.tensor(X, dtype=torch.float32)\n",
        "test_features = (test_features - mean) / (std + 1e-8)"
      ],
      "metadata": {
        "id": "g9xfphQ7S1--"
      },
      "execution_count": 84,
      "outputs": []
    },
    {
      "cell_type": "code",
      "source": [
        "from imblearn.over_sampling import RandomOverSampler\n",
        "\n",
        "#dar padauginam benign meginiu\n",
        "# Convert data to numpy for resampling\n",
        "features_np = features.numpy()\n",
        "labels_np = labels.numpy()\n",
        "\n",
        "# Oversample\n",
        "ros = RandomOverSampler()\n",
        "features_resampled, labels_resampled = ros.fit_resample(features_np, labels_np)\n",
        "\n",
        "# Convert back to tensors\n",
        "features = torch.tensor(features_resampled, dtype=torch.float32)\n",
        "labels = torch.tensor(labels_resampled, dtype=torch.float32)\n",
        "\n",
        "dataset = TensorDataset(features, labels)"
      ],
      "metadata": {
        "id": "jgBlPRxu-2DC"
      },
      "execution_count": 93,
      "outputs": []
    },
    {
      "cell_type": "code",
      "source": [
        "print(np.shape(labels))"
      ],
      "metadata": {
        "colab": {
          "base_uri": "https://localhost:8080/"
        },
        "id": "INtx20KkWPnN",
        "outputId": "386e9b2c-968b-4733-ec5d-cc6e9f0b6377"
      },
      "execution_count": 99,
      "outputs": [
        {
          "output_type": "stream",
          "name": "stdout",
          "text": [
            "torch.Size([266])\n"
          ]
        }
      ]
    },
    {
      "cell_type": "code",
      "source": [
        "print(labels[labels == 0])"
      ],
      "metadata": {
        "id": "vWADoQq3_7F6",
        "outputId": "42ef8597-9f5e-4767-c359-5f698b0073ae",
        "colab": {
          "base_uri": "https://localhost:8080/"
        }
      },
      "execution_count": null,
      "outputs": [
        {
          "output_type": "stream",
          "name": "stdout",
          "text": [
            "tensor([0., 0., 0., 0., 0., 0., 0., 0., 0., 0., 0., 0., 0., 0., 0., 0., 0., 0., 0., 0., 0., 0., 0., 0.,\n",
            "        0., 0., 0., 0., 0., 0., 0., 0., 0., 0., 0., 0., 0., 0., 0., 0., 0., 0., 0., 0., 0., 0., 0., 0.,\n",
            "        0., 0., 0., 0., 0., 0., 0., 0., 0., 0., 0., 0., 0., 0., 0., 0., 0., 0., 0., 0., 0., 0., 0., 0.,\n",
            "        0., 0., 0., 0., 0., 0., 0., 0., 0., 0., 0., 0., 0., 0., 0., 0., 0., 0., 0., 0., 0., 0., 0., 0.,\n",
            "        0., 0., 0., 0., 0., 0., 0., 0., 0., 0., 0., 0., 0., 0., 0., 0., 0., 0., 0., 0., 0., 0., 0., 0.,\n",
            "        0., 0., 0., 0., 0., 0., 0., 0., 0., 0., 0., 0., 0.])\n"
          ]
        }
      ]
    },
    {
      "cell_type": "code",
      "source": [
        "# Create a DataLoader for batching\n",
        "batch_size = 2  # You can adjust this as needed\n",
        "data_loader = DataLoader(dataset, batch_size=batch_size, shuffle=True)\n",
        "\n",
        "# Example: Print the shape of a batch\n",
        "for batch_features, batch_labels in data_loader:\n",
        "    print(f\"Batch features shape: {batch_features.shape}\")\n",
        "    print(f\"Batch labels shape: {batch_labels.shape}\")\n",
        "    break"
      ],
      "metadata": {
        "id": "_hAWolYbu26q",
        "colab": {
          "base_uri": "https://localhost:8080/"
        },
        "outputId": "3331dbe8-fe14-4559-af90-d0bd85b3804a"
      },
      "execution_count": 12,
      "outputs": [
        {
          "output_type": "stream",
          "name": "stdout",
          "text": [
            "Batch features shape: torch.Size([2, 300])\n",
            "Batch labels shape: torch.Size([2])\n"
          ]
        }
      ]
    },
    {
      "cell_type": "code",
      "source": [
        "print(features[0])"
      ],
      "metadata": {
        "id": "jg4dSYMSKPIB"
      },
      "execution_count": null,
      "outputs": []
    },
    {
      "cell_type": "code",
      "source": [
        "for batch_features, batch_labels in data_loader:\n",
        "    print(f\"Batch features shape: {batch_features}\")\n",
        "    print(f\"Batch labels shape: {batch_labels}\")\n",
        "    break"
      ],
      "metadata": {
        "colab": {
          "base_uri": "https://localhost:8080/"
        },
        "id": "h7MFlevNmseU",
        "outputId": "ae1b2f00-78d0-44e1-a51c-5b3778114936"
      },
      "execution_count": null,
      "outputs": [
        {
          "output_type": "stream",
          "name": "stdout",
          "text": [
            "Batch features shape: tensor([[-0.4202, -0.4190, -0.4189, -0.5222, -0.4267, -0.4379, -0.5122, -0.3789,\n",
            "         -0.3905, -0.2518, -0.4331, -0.5286, -0.0767, -0.0914, -0.6333, -0.6347,\n",
            "          1.5937,  1.5757, -0.6209, -0.8597, -0.6032, -0.6093, -0.3402, -0.4592,\n",
            "         -0.3929, -0.7102, -0.5144, -0.5066, -0.5726, -0.2692,  0.1066,  0.2820,\n",
            "         -0.0914, -0.1206, -0.3672,  0.0884, -0.5307, -0.0728, -0.5520, -0.9523,\n",
            "         -0.4180, -0.5381, -0.2854, -0.7428, -0.3375, -0.3485, -0.3906, -0.4429,\n",
            "          0.4400, -0.2638, -0.6155, -0.2417,  0.1125, -0.5115,  1.0740, -0.2824,\n",
            "         -0.1617,  0.0269, -0.0662, -0.4925, -0.1999, -0.0687, -0.1604, -0.6651,\n",
            "          0.5691, -0.4192, -0.2966, -0.6920, -0.4501, -0.4978, -0.5041, -0.4984,\n",
            "         -0.3729, -0.4540, -0.0171,  0.3037, -0.3918, -0.3279, -0.5138, -0.3938,\n",
            "         -0.7908,  0.2592, -0.1739, -0.3517, -0.8469,  0.6807, -0.2942, -0.2999,\n",
            "         -0.1894, -0.5065, -0.4219,  0.1239, -0.5509, -0.5626, -0.5792, -0.7760,\n",
            "         -0.7778, -0.7352, -0.4436, -0.6664, -0.1566, -0.2345, -0.5040, -0.6940,\n",
            "         -0.5706, -0.6392, -0.8109, -0.8025, -0.5314, -0.1159, -0.4747, -0.4671,\n",
            "         -0.2141, -0.2603, -0.4641, -0.6771, -0.8157, -0.5612, -0.3123,  0.0997,\n",
            "         -0.4053, -0.4525, -0.7556, -0.7741,  0.0513, -0.5740, -0.5691, -0.6758,\n",
            "         -0.7209, -0.5685, -0.4447,  0.5546,  0.5947,  0.0762,  0.2973,  0.3048,\n",
            "          0.3975, -0.5703, -0.2561, -0.5718, -0.5757, -0.5634, -0.6349,  0.9037,\n",
            "         -0.1709, -0.6270, -0.6216, -0.4748, -0.4785,  0.2131, -1.0821, -0.5086,\n",
            "         -0.6715, -0.3013, -0.3363, -0.5062, -0.2876, -0.2461, -0.6040, -0.1712,\n",
            "         -0.5561, -0.3474, -0.5554, -0.7069, -0.2172, -0.3039, -0.3218,  0.1675,\n",
            "         -0.8244, -0.1903, -0.0920, -0.5249, -0.2310, -0.4635, -0.8034, -0.4989,\n",
            "         -0.3146, -0.2023, -0.3443, -0.5532, -0.4204, -0.1285, -0.0583,  0.0112,\n",
            "         -0.4753,  1.1101, -0.1134, -0.3198, -0.4855, -0.4132, -0.4759, -0.2580,\n",
            "          0.1137, -0.3048, -0.0120, -0.2007, -0.2108,  0.2255, -0.2116, -0.3816,\n",
            "         -0.3889, -0.2331, -0.3787, -0.4327, -0.8499, -0.6499, -0.8583, -0.4892,\n",
            "         -0.4789, -0.3823, -0.5602, -0.5769, -0.2559, -0.5231, -0.5412,  0.8898,\n",
            "         -0.5506,  0.1655,  0.6126, -0.2343, -0.1428, -0.6648, -0.6612, -0.3240,\n",
            "         -0.4457, -0.1961, -0.3573, -0.1083, -0.1301, -0.1542, -0.4278, -0.6900,\n",
            "         -0.4112, -0.7069, -0.6074, -0.5815, -0.1419, -0.1733, -0.1595, -0.2488,\n",
            "         -0.4412, -0.4491, -0.1692, -0.1715, -0.1789, -0.3917, -0.3903, -0.3099,\n",
            "         -0.3615, -0.4579, -0.4902, -0.4479, -0.3689, -0.3312, -0.4266, -0.4231,\n",
            "         -0.3436, -0.4502, -0.4796, -0.5848, -0.4155, -0.5558, -0.1678, -0.3940,\n",
            "         -0.4880, -0.7590, -0.5640, -0.0034,  0.0225, -0.6671, -0.2869, -0.1911,\n",
            "          0.9083,  1.0314,  1.7222,  0.2546, -0.1315, -0.2343, -0.1963, -0.0973,\n",
            "         -0.4770, -0.7579, -0.4451, -0.1871,  0.7354, -0.4309,  2.1058, -0.6266,\n",
            "         -0.5488, -0.0569, -0.5561,  2.0798, -0.4559,  0.4486, -0.5722, -0.3901,\n",
            "         -0.3315, -0.1521, -0.1522, -0.1515, -0.8883, -0.8798, -0.2778, -0.5054,\n",
            "         -0.4490,  0.3038,  0.2442, -0.4928, -0.4327, -0.6406]])\n",
            "Batch labels shape: tensor([1.])\n"
          ]
        }
      ]
    },
    {
      "cell_type": "code",
      "source": [
        "class SparseNN(nn.Module):\n",
        "    def __init__(self, input_dim, temperature = 1):\n",
        "        super(SparseNN, self).__init__()\n",
        "        self.input_dim = input_dim\n",
        "        self.temperature = temperature\n",
        "        self.first_layer_biases = nn.Parameter(torch.randn(input_dim))\n",
        "        self.output_weights = nn.Parameter(torch.randn(input_dim))  # Raw weights\n",
        "\n",
        "    def forward(self, x):\n",
        "\n",
        "        first_layer_output = torch.tanh((x + self.first_layer_biases))\n",
        "        weighted_output = first_layer_output * self.output_weights\n",
        "        pooled_output = weighted_output.sum(dim=1)\n",
        "\n",
        "        output = torch.sigmoid(pooled_output / self.temperature)\n",
        "\n",
        "        return output\n",
        "\n",
        "def l1_regularization(weight, lambda_l1=0.001):\n",
        "    return lambda_l1 * weight.abs().sum()\n",
        "\n"
      ],
      "metadata": {
        "id": "eM5yeyfSWIqo"
      },
      "execution_count": 94,
      "outputs": []
    },
    {
      "cell_type": "code",
      "source": [
        "#initialize the model\n",
        "input_dim = features.shape[1]\n",
        "model = SparseNN(input_dim, temperature = 1)\n",
        "lambda_l1 = 0.05\n",
        "\n",
        "# Define a loss function and optimizer\n",
        "criterion = nn.BCELoss()  # Binary Cross Entropy Loss for binary classification\n",
        "optimizer = torch.optim.Adam(model.parameters(), lr=0.001)  # L1 sparsity via weight_decay"
      ],
      "metadata": {
        "id": "dWKjCuxSlA19"
      },
      "execution_count": 95,
      "outputs": []
    },
    {
      "cell_type": "code",
      "execution_count": 97,
      "metadata": {
        "colab": {
          "base_uri": "https://localhost:8080/"
        },
        "collapsed": true,
        "id": "u0gHb8mXTh7C",
        "outputId": "1b80c0a0-7e40-4d70-9989-70d90b9b9f1f"
      },
      "outputs": [
        {
          "output_type": "stream",
          "name": "stdout",
          "text": [
            "Epoch [1/40], Loss: 0.9474\n",
            "Epoch [2/40], Loss: 0.8721\n",
            "Epoch [3/40], Loss: 0.8044\n",
            "Epoch [4/40], Loss: 0.7471\n",
            "Epoch [5/40], Loss: 0.7003\n",
            "Epoch [6/40], Loss: 0.6518\n",
            "Epoch [7/40], Loss: 0.6198\n",
            "Epoch [8/40], Loss: 0.5884\n",
            "Epoch [9/40], Loss: 0.5635\n",
            "Epoch [10/40], Loss: 0.5411\n",
            "Epoch [11/40], Loss: 0.5205\n",
            "Epoch [12/40], Loss: 0.5014\n",
            "Epoch [13/40], Loss: 0.4810\n",
            "Epoch [14/40], Loss: 0.4665\n",
            "Epoch [15/40], Loss: 0.4530\n",
            "Epoch [16/40], Loss: 0.4396\n",
            "Epoch [17/40], Loss: 0.4303\n",
            "Epoch [18/40], Loss: 0.4198\n",
            "Epoch [19/40], Loss: 0.4122\n",
            "Epoch [20/40], Loss: 0.4046\n",
            "Epoch [21/40], Loss: 0.3968\n",
            "Epoch [22/40], Loss: 0.3935\n",
            "Epoch [23/40], Loss: 0.3880\n",
            "Epoch [24/40], Loss: 0.3859\n",
            "Epoch [25/40], Loss: 0.3815\n",
            "Epoch [26/40], Loss: 0.3777\n",
            "Epoch [27/40], Loss: 0.3744\n",
            "Epoch [28/40], Loss: 0.3721\n",
            "Epoch [29/40], Loss: 0.3667\n",
            "Epoch [30/40], Loss: 0.3634\n",
            "Epoch [31/40], Loss: 0.3625\n",
            "Epoch [32/40], Loss: 0.3547\n",
            "Epoch [33/40], Loss: 0.3507\n",
            "Epoch [34/40], Loss: 0.3477\n",
            "Epoch [35/40], Loss: 0.3447\n",
            "Epoch [36/40], Loss: 0.3452\n",
            "Epoch [37/40], Loss: 0.3420\n",
            "Epoch [38/40], Loss: 0.3402\n",
            "Epoch [39/40], Loss: 0.3427\n",
            "Epoch [40/40], Loss: 0.3336\n",
            "Training Accuracy: 0.9361\n",
            "Accuracy over original data set: 0.8705\n"
          ]
        }
      ],
      "source": [
        "# Training Loop\n",
        "num_epochs = 40  # Adjust based on dataset size and convergence\n",
        "\n",
        "for epoch in range(num_epochs):\n",
        "    model.train()\n",
        "    total_loss = 0.0\n",
        "\n",
        "    for batch_features, batch_labels in data_loader:\n",
        "        # Forward pass\n",
        "        outputs = model(batch_features)  # Ensure shape compatibility for BCELoss\n",
        "        # Compute binary cross-entropy loss\n",
        "        loss = criterion(outputs, batch_labels)\n",
        "\n",
        "        # Add L1 regularization for sparsity\n",
        "        loss += l1_regularization(model.output_weights, lambda_l1)\n",
        "\n",
        "        #make probabilities less extreme\n",
        "        penalty = (outputs * torch.log(outputs + 1e-8) + (1 - outputs) * torch.log(1 - outputs + 1e-8)).mean()\n",
        "        loss += 0.1 * penalty\n",
        "\n",
        "        # Backward pass and optimization\n",
        "        optimizer.zero_grad()\n",
        "        loss.backward()\n",
        "        optimizer.step()\n",
        "\n",
        "        total_loss += loss.item()\n",
        "\n",
        "    # Logging epoch statistics\n",
        "    print(f\"Epoch [{epoch + 1}/{num_epochs}], Loss: {total_loss / len(data_loader):.4f}\")\n",
        "\n",
        "# Evaluation (after training)\n",
        "model.eval()\n",
        "with torch.no_grad():\n",
        "    predictions = model(features)\n",
        "    predictions = (predictions > 0.5).float()  # Convert probabilities to binary predictions\n",
        "\n",
        "    # Compute accuracy\n",
        "    accuracy = accuracy_score(labels.numpy(), predictions.numpy())\n",
        "    print(f\"Training Accuracy: {accuracy:.4f}\")\n",
        "\n",
        "    # Forward pass on the entire dataset\n",
        "    predictions = model(test_features)\n",
        "    predictions = (predictions > 0.5).float()  # Convert probabilities to binary predictions\n",
        "\n",
        "    # Compute accuracy\n",
        "    accuracy = accuracy_score(test_labels.numpy(), predictions.numpy())\n",
        "    print(f\"Accuracy over original data set: {accuracy:.4f}\")"
      ]
    },
    {
      "cell_type": "code",
      "source": [
        "\n",
        "probs = 100 * model(test_features).detach().numpy()\n",
        "formatted_probs = np.array([f\"{p:.2f}%\" for p in probs])\n",
        "print(formatted_probs)\n"
      ],
      "metadata": {
        "colab": {
          "base_uri": "https://localhost:8080/"
        },
        "id": "SxXeME3tiw6N",
        "outputId": "f7b7b05a-77e0-4e09-d23d-ed9850f04a58"
      },
      "execution_count": 98,
      "outputs": [
        {
          "output_type": "stream",
          "name": "stdout",
          "text": [
            "['6.98%' '9.92%' '90.40%' '12.88%' '11.55%' '8.60%' '86.85%' '84.53%'\n",
            " '79.34%' '88.07%' '66.98%' '87.29%' '79.36%' '88.49%' '75.67%' '88.46%'\n",
            " '89.40%' '88.40%' '88.69%' '45.60%' '91.54%' '17.49%' '35.07%' '90.21%'\n",
            " '87.36%' '71.73%' '89.21%' '51.44%' '90.51%' '14.52%' '91.79%' '90.32%'\n",
            " '89.73%' '88.26%' '87.56%' '19.52%' '86.36%' '83.60%' '90.77%' '89.67%'\n",
            " '24.49%' '90.35%' '90.88%' '86.11%' '89.15%' '88.06%' '87.42%' '74.11%'\n",
            " '84.15%' '90.35%' '81.34%' '88.65%' '88.08%' '29.90%' '53.67%' '86.41%'\n",
            " '83.80%' '63.91%' '90.16%' '85.01%' '90.95%' '85.82%' '88.52%' '39.86%'\n",
            " '86.94%' '72.51%' '86.65%' '88.42%' '76.16%' '89.54%' '89.85%' '46.60%'\n",
            " '89.84%' '80.01%' '85.50%' '24.67%' '89.83%' '88.68%' '83.96%' '45.82%'\n",
            " '82.73%' '89.57%' '84.79%' '84.61%' '88.30%' '85.92%' '75.64%' '91.66%'\n",
            " '90.51%' '86.77%' '87.13%' '47.85%' '45.89%' '88.72%' '85.59%' '85.12%'\n",
            " '85.75%' '87.90%' '83.87%' '82.36%' '91.16%' '85.81%' '88.80%' '87.64%'\n",
            " '68.86%' '86.29%' '91.78%' '88.93%' '88.42%' '53.20%' '91.02%' '85.19%'\n",
            " '87.35%' '23.17%' '91.31%' '87.25%' '27.73%' '85.75%' '85.08%' '88.63%'\n",
            " '81.30%' '79.19%' '88.94%' '88.83%' '86.50%' '48.40%' '90.48%' '87.13%'\n",
            " '88.11%' '89.74%' '86.56%' '87.66%' '89.52%' '89.35%' '54.28%' '81.71%'\n",
            " '57.75%' '90.95%' '48.90%']\n"
          ]
        }
      ]
    },
    {
      "cell_type": "code",
      "source": [
        "#jeigu procentai sutampa su tikrove, issaugom svorius (ir jeigu jie naudingi...)\n",
        "\n",
        "torch.save(model.first_layer_weights.data, \"first_layer_weights.pt\")\n",
        "\n",
        "# Save the first layer's biases (if present)\n",
        "torch.save(model.first_layer_biases.data, \"first_layer_biases.pt\")\n",
        "\n",
        "# Save the second layer (sparse) weights\n",
        "torch.save(model.output_weights_raw.data, \"output_weights_raw.pt\")"
      ],
      "metadata": {
        "id": "5cwRWuziTODI"
      },
      "execution_count": null,
      "outputs": []
    },
    {
      "cell_type": "code",
      "source": [
        "# Svoriu analize is idejos turetu parodyti, kurie genai yra svarbiausi priimant sprendima\n",
        "\n",
        "sorted_indices = torch.argsort(np.abs(model.output_weights.data), descending=True)\n",
        "values_weights = model.output_weights.data[sorted_indices]\n",
        "values_biases = model.first_layer_biases.data[sorted_indices]\n",
        "genes = gene_ids[sorted_indices]\n",
        "\n",
        "print(sorted_indices[:30])\n",
        "print('sorted weights ' + str(values_weights[:30]))\n",
        "print('sorted biases ' + str(values_biases[:30]))\n",
        "print(gene_ids[291])"
      ],
      "metadata": {
        "colab": {
          "base_uri": "https://localhost:8080/"
        },
        "id": "he-q2mrITtax",
        "outputId": "823db69b-6f97-4e82-bd83-2306e799425a"
      },
      "execution_count": 74,
      "outputs": [
        {
          "output_type": "stream",
          "name": "stdout",
          "text": [
            "tensor([ 67,  87, 191,  91, 185, 117, 255, 126, 274, 279,  85, 290, 150,  93,\n",
            "        188, 197,   2, 210, 135, 227, 111, 271, 134,  30,  97, 156,  76,  63,\n",
            "        297, 264])\n",
            "sorted weights tensor([-0.9103, -0.8004,  0.7619, -0.6423, -0.5180, -0.4697,  0.4430, -0.4390,\n",
            "         0.3995, -0.2939, -0.2910,  0.2797, -0.2783, -0.2750, -0.2216, -0.1822,\n",
            "        -0.1798,  0.1780, -0.1768,  0.1052, -0.0349, -0.0168, -0.0125, -0.0124,\n",
            "        -0.0088, -0.0076, -0.0074, -0.0072, -0.0068, -0.0067])\n",
            "sorted biases tensor([-0.4269, -1.9018, -1.4906, -3.1825, -0.0976,  2.1535,  3.0762, -0.6520,\n",
            "        -0.3079,  0.1847, -0.3911,  1.1758,  0.0234, -0.1423, -0.0895, -0.0610,\n",
            "         0.0601,  1.8357, -0.2908, -1.2400,  1.4314, -0.4194, -0.4134, -0.2581,\n",
            "        -0.5174,  0.0151, -0.2513, -0.2661, -0.1082, -0.5629])\n",
            "hsa-mir-9-3\n"
          ]
        }
      ]
    },
    {
      "cell_type": "code",
      "source": [
        "try:\n",
        "  #i=np.where(gene_ids == 'hsa-mir-520f')[0][0]\n",
        "  i = 94\n",
        "\n",
        "\n",
        "  plt.scatter(X[6:139, i], np.random.normal(scale=0.3, size = len(X[6:139, 0])), c = 'r', label = 'Other')\n",
        "  plt.scatter(X[0, i], 0.1, c = 'b', label = 'Teratoma, benign 1')\n",
        "  plt.scatter(X[1, i], 0.2, c = 'c', label = 'Teratoma, benign 2')\n",
        "  plt.scatter(X[2, i], 0.3, c = 'g', label = 'Teratoma, benign 3')\n",
        "  plt.scatter(X[3, i], -0.3, c = 'y', label = 'Teratoma, benign 4')\n",
        "  plt.scatter(X[4, i], -0.2, c = 'purple', label = 'Teratoma, benign 5')\n",
        "  plt.scatter(X[5, i], -0.1, c = 'k', label = 'Teratoma, benign 6')\n",
        "  plt.xlabel('genas ' + str(gene_ids[i]))\n",
        "  plt.ylim(-5, 5)\n",
        "  plt.legend()\n",
        "  plt.show()\n",
        "except:\n",
        "    print('Sitas genas isfiltruotas - reiktu pakeisti X matrica')"
      ],
      "metadata": {
        "colab": {
          "base_uri": "https://localhost:8080/",
          "height": 449
        },
        "id": "gt8HtC5RK6Ev",
        "outputId": "6982df85-f68d-4641-a18f-546bafa44ec7"
      },
      "execution_count": 69,
      "outputs": [
        {
          "output_type": "display_data",
          "data": {
            "text/plain": [
              "<Figure size 640x480 with 1 Axes>"
            ],
            "image/png": "[encoded data removed]"
          },
          "metadata": {}
        }
      ]
    },
    {
      "cell_type": "code",
      "source": [
        "model = SparseNN(input_dim, temperature = 5)\n",
        "\n",
        "loaded_first_layer_weights = torch.load(\"first_layer_weights.pt\")\n",
        "loaded_first_layer_biases = torch.load(\"first_layer_biases.pt\")\n",
        "loaded_otput_weights_raw = torch.load(\"output_weights_raw.pt\")\n",
        "\n",
        "# Assign the loaded values to the model\n",
        "model.first_layer_weights.data = loaded_first_layer_weights\n",
        "model.first_layer_biases.data = loaded_first_layer_biases\n",
        "model.output_weights_raw.data = loaded_otput_weights_raw\n",
        "\n",
        "probs = 100 * model(features).detach().numpy()\n",
        "formatted_probs = np.array([f\"{p:.2f}%\" for p in probs])\n",
        "print(formatted_probs)"
      ],
      "metadata": {
        "colab": {
          "base_uri": "https://localhost:8080/"
        },
        "id": "VSgbW5z_abWH",
        "outputId": "f70c6e5d-0405-4ee5-9a09-969fc846a0aa"
      },
      "execution_count": null,
      "outputs": [
        {
          "output_type": "stream",
          "name": "stdout",
          "text": [
            "['0.28%' '2.63%' '98.76%' '13.91%' '6.85%' '2.21%' '100.00%' '99.84%'\n",
            " '99.97%' '99.61%' '99.25%' '99.98%' '100.00%' '100.00%' '99.84%' '96.65%'\n",
            " '99.59%' '99.98%' '100.00%' '99.96%' '99.95%' '100.00%' '99.56%' '99.91%'\n",
            " '99.99%' '100.00%' '99.87%' '98.75%' '99.90%' '91.62%' '99.97%' '99.85%'\n",
            " '99.57%' '100.00%' '93.07%' '99.83%' '99.97%' '100.00%' '100.00%'\n",
            " '100.00%' '78.69%' '85.09%' '99.97%' '99.86%' '99.94%' '99.91%' '98.92%'\n",
            " '96.46%' '100.00%' '99.58%' '100.00%' '98.58%' '99.46%' '99.59%'\n",
            " '100.00%' '98.60%' '97.74%' '100.00%' '100.00%' '99.84%' '100.00%'\n",
            " '100.00%' '93.83%' '84.41%' '99.85%' '99.96%' '100.00%' '99.79%' '99.79%'\n",
            " '99.93%' '99.92%' '92.36%' '100.00%' '99.76%' '99.98%' '99.78%' '99.87%'\n",
            " '99.77%' '100.00%' '97.00%' '91.85%' '79.52%' '99.78%' '84.40%' '99.07%'\n",
            " '100.00%' '99.98%' '99.56%' '99.98%' '100.00%' '100.00%' '95.92%'\n",
            " '99.38%' '92.33%' '99.79%' '100.00%' '99.97%' '99.04%' '100.00%'\n",
            " '100.00%' '99.99%' '99.54%' '99.99%' '100.00%' '99.99%' '98.96%' '99.99%'\n",
            " '100.00%' '99.87%' '52.97%' '99.90%' '99.96%' '100.00%' '88.59%'\n",
            " '100.00%' '100.00%' '94.31%' '100.00%' '99.94%' '99.78%' '100.00%'\n",
            " '99.98%' '99.98%' '99.12%' '99.00%' '99.99%' '99.99%' '99.99%' '98.38%'\n",
            " '69.99%' '85.16%' '99.99%' '98.10%' '100.00%' '99.99%' '96.14%' '100.00%'\n",
            " '97.74%' '99.48%' '0.00%' '0.12%' '0.00%' '0.05%' '0.00%' '0.00%']\n"
          ]
        },
        {
          "output_type": "stream",
          "name": "stderr",
          "text": [
            "<ipython-input-84-6c24784f2594>:3: FutureWarning: You are using `torch.load` with `weights_only=False` (the current default value), which uses the default pickle module implicitly. It is possible to construct malicious pickle data which will execute arbitrary code during unpickling (See https://github.com/pytorch/pytorch/blob/main/SECURITY.md#untrusted-models for more details). In a future release, the default value for `weights_only` will be flipped to `True`. This limits the functions that could be executed during unpickling. Arbitrary objects will no longer be allowed to be loaded via this mode unless they are explicitly allowlisted by the user via `torch.serialization.add_safe_globals`. We recommend you start setting `weights_only=True` for any use case where you don't have full control of the loaded file. Please open an issue on GitHub for any issues related to this experimental feature.\n",
            "  loaded_first_layer_weights = torch.load(\"first_layer_weights.pt\")\n",
            "<ipython-input-84-6c24784f2594>:4: FutureWarning: You are using `torch.load` with `weights_only=False` (the current default value), which uses the default pickle module implicitly. It is possible to construct malicious pickle data which will execute arbitrary code during unpickling (See https://github.com/pytorch/pytorch/blob/main/SECURITY.md#untrusted-models for more details). In a future release, the default value for `weights_only` will be flipped to `True`. This limits the functions that could be executed during unpickling. Arbitrary objects will no longer be allowed to be loaded via this mode unless they are explicitly allowlisted by the user via `torch.serialization.add_safe_globals`. We recommend you start setting `weights_only=True` for any use case where you don't have full control of the loaded file. Please open an issue on GitHub for any issues related to this experimental feature.\n",
            "  loaded_first_layer_biases = torch.load(\"first_layer_biases.pt\")\n",
            "<ipython-input-84-6c24784f2594>:5: FutureWarning: You are using `torch.load` with `weights_only=False` (the current default value), which uses the default pickle module implicitly. It is possible to construct malicious pickle data which will execute arbitrary code during unpickling (See https://github.com/pytorch/pytorch/blob/main/SECURITY.md#untrusted-models for more details). In a future release, the default value for `weights_only` will be flipped to `True`. This limits the functions that could be executed during unpickling. Arbitrary objects will no longer be allowed to be loaded via this mode unless they are explicitly allowlisted by the user via `torch.serialization.add_safe_globals`. We recommend you start setting `weights_only=True` for any use case where you don't have full control of the loaded file. Please open an issue on GitHub for any issues related to this experimental feature.\n",
            "  loaded_otput_weights_raw = torch.load(\"output_weights_raw.pt\")\n"
          ]
        }
      ]
    }
  ]
}