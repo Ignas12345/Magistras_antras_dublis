{
  "nbformat": 4,
  "nbformat_minor": 0,
  "metadata": {
    "colab": {
      "provenance": [],
      "authorship_tag": "ABX9TyPt/wkvBhpRfCrvLlabNx6f",
      "include_colab_link": true
    },
    "kernelspec": {
      "name": "python3",
      "display_name": "Python 3"
    },
    "language_info": {
      "name": "python"
    }
  },
  "cells": [
    {
      "cell_type": "markdown",
      "metadata": {
        "id": "view-in-github",
        "colab_type": "text"
      },
      "source": [
        "<a href=\"https://colab.research.google.com/github/Ignas12345/Magistro_projektas/blob/main/knygutes/ketvirtas_bandymas_klasifikuoti.ipynb\" target=\"_parent\"><img src=\"https://colab.research.google.com/assets/colab-badge.svg\" alt=\"Open In Colab\"/></a>"
      ]
    },
    {
      "cell_type": "code",
      "source": [
        "import numpy as np\n",
        "import pandas as pd\n",
        "import torch\n",
        "import torch.nn as nn\n",
        "import torch.nn.functional as F\n",
        "from torch.utils.data import DataLoader, TensorDataset\n",
        "from sklearn.utils.class_weight import compute_class_weight\n",
        "from sklearn.metrics import accuracy_score\n",
        "import matplotlib.pyplot as plt\n"
      ],
      "metadata": {
        "id": "cU_eBl0bbHUu"
      },
      "execution_count": 1,
      "outputs": []
    },
    {
      "cell_type": "code",
      "source": [
        "# uzkraunam neapdorotus duomenis\n",
        "url = 'https://raw.githubusercontent.com/Ignas12345/Magistro_projektas/refs/heads/main/counts_combined.csv'\n",
        "df = pd.read_csv(url)\n",
        "full_gene_names = df[\"miRNA_ID\"].to_numpy()\n",
        "df_trimmed = df.drop(df.columns[0], axis=1)\n",
        "full_data = (df_trimmed.to_numpy(dtype=np.int32))\n",
        "print(np.shape(full_data))"
      ],
      "metadata": {
        "id": "dpCO4P51uln6",
        "outputId": "c19a9099-583e-4613-8b28-4f9c494af8b9",
        "colab": {
          "base_uri": "https://localhost:8080/"
        }
      },
      "execution_count": 2,
      "outputs": [
        {
          "output_type": "stream",
          "name": "stdout",
          "text": [
            "(1881, 139)\n"
          ]
        }
      ]
    },
    {
      "cell_type": "code",
      "source": [
        "\n",
        "# Papildomas filtravimas, jei reikia\n",
        "#Calculate the percentage of values less than 100 for each row\n",
        "min_counts = 1000\n",
        "max_below_min_counts = 0.98\n",
        "percent_less_than_100 = np.sum(full_data < min_counts, axis=1) / full_data.shape[1]\n",
        "\n",
        "# Keep only rows where values less than min_counts occur max_below_min_counts or less of the time\n",
        "filtered_data = full_data[percent_less_than_100 <= max_below_min_counts]\n",
        "filtered_gene_names = full_gene_names[percent_less_than_100 <= max_below_min_counts]\n",
        "\n",
        "# Display the filtered array\n",
        "print(np.shape(filtered_data))"
      ],
      "metadata": {
        "id": "I9gF01aJ7Q3r",
        "outputId": "dd9cb1d3-3ed1-4d99-e5f1-8e8426a1b203",
        "colab": {
          "base_uri": "https://localhost:8080/"
        }
      },
      "execution_count": 3,
      "outputs": [
        {
          "output_type": "stream",
          "name": "stdout",
          "text": [
            "(300, 139)\n"
          ]
        }
      ]
    },
    {
      "cell_type": "code",
      "source": [
        "X = filtered_data.T\n",
        "gene_ids = filtered_gene_names\n",
        "print(np.shape(X))"
      ],
      "metadata": {
        "id": "-LKuHl9_h4_m",
        "outputId": "ecbbbc09-e707-4cea-918e-6c8294db2766",
        "colab": {
          "base_uri": "https://localhost:8080/"
        }
      },
      "execution_count": 4,
      "outputs": [
        {
          "output_type": "stream",
          "name": "stdout",
          "text": [
            "(139, 300)\n"
          ]
        }
      ]
    },
    {
      "cell_type": "code",
      "source": [
        "print(X[:5, 105])\n",
        "print((np.delete(X, 2, axis = 0))[:4, 105])"
      ],
      "metadata": {
        "id": "XMk-T9ZtGlXZ",
        "outputId": "d3c8df8d-5d84-4f3d-a72c-182001f5eaed",
        "colab": {
          "base_uri": "https://localhost:8080/"
        }
      },
      "execution_count": null,
      "outputs": [
        {
          "output_type": "stream",
          "name": "stdout",
          "text": [
            "[87325 48793  9623 40540 78825]\n",
            "[87325 48793 40540 78825]\n"
          ]
        }
      ]
    },
    {
      "cell_type": "code",
      "source": [
        "try:\n",
        "  #i=np.where(gene_ids == 'hsa-mir-520f')[0][0]\n",
        "  i = 105\n",
        "\n",
        "\n",
        "  plt.scatter(X[6:139, i], np.random.normal(scale=0.3, size = len(X[6:139, 0])), c = 'r', label = 'Other')\n",
        "  plt.scatter(X[0, i], 0.1, c = 'b', label = 'Teratoma, benign 1')\n",
        "  plt.scatter(X[1, i], 0.2, c = 'c', label = 'Teratoma, benign 2')\n",
        "  plt.scatter(X[2, i], 0.3, c = 'g', label = 'Teratoma, benign 3')\n",
        "  plt.scatter(X[3, i], -0.3, c = 'y', label = 'Teratoma, benign 4')\n",
        "  plt.scatter(X[4, i], -0.2, c = 'purple', label = 'Teratoma, benign 5')\n",
        "  plt.scatter(X[5, i], -0.1, c = 'k', label = 'Teratoma, benign 6')\n",
        "  plt.xlabel('genas ' + str(gene_ids[i]))\n",
        "  plt.ylim(-5, 5)\n",
        "  plt.legend()\n",
        "  plt.show()\n",
        "except:\n",
        "    print('Sitas genas isfiltruotas - reiktu pakeisti X matrica')"
      ],
      "metadata": {
        "id": "j41sq1VX7h3a",
        "outputId": "4c61d965-9a93-47ea-c7ac-82fcc9a62df3",
        "colab": {
          "base_uri": "https://localhost:8080/",
          "height": 449
        }
      },
      "execution_count": 5,
      "outputs": [
        {
          "output_type": "display_data",
          "data": {
            "text/plain": [
              "<Figure size 640x480 with 1 Axes>"
            ],
            "image/png": "[encoded data removed]"
          },
          "metadata": {}
        }
      ]
    },
    {
      "cell_type": "code",
      "source": [
        "num_samples = X.shape[0]\n",
        "labels = torch.zeros(num_samples, dtype=torch.float32)\n",
        "labels[6:] = 1\n",
        "\n",
        "features = torch.tensor(X, dtype=torch.float32)\n",
        "mean_X = features.mean(dim=0)\n",
        "std_X = features.std(dim=0)\n",
        "transformed_X = (X - mean_X.numpy()) / (std_X.numpy() + 1e-8)"
      ],
      "metadata": {
        "id": "0pTtSuER-YWq"
      },
      "execution_count": 108,
      "outputs": []
    },
    {
      "cell_type": "code",
      "source": [
        "print(transformed_X[:, 25])"
      ],
      "metadata": {
        "id": "dsXtUP_C__TR",
        "outputId": "0a099d1d-b6ea-4059-e811-9477e3e198a8",
        "colab": {
          "base_uri": "https://localhost:8080/"
        }
      },
      "execution_count": 114,
      "outputs": [
        {
          "output_type": "stream",
          "name": "stdout",
          "text": [
            "[ 1.85632632e+00  1.70072551e+00 -6.63542312e-01  1.07400004e+00\n",
            "  2.78707023e-01  2.94120973e+00 -4.08529878e-01 -6.50575578e-01\n",
            " -5.29552728e-01 -7.41342716e-01  3.82440894e-01  3.23390772e-02\n",
            " -3.22084984e-01 -4.12852122e-01 -4.69041303e-01 -2.87507027e-01\n",
            " -2.39962336e-01 -2.18351113e-01 -3.78274165e-01  5.97542548e+00\n",
            " -1.01650507e-01  2.66458607e+00  3.87481458e+00 -5.85741908e-01\n",
            " -7.84565163e-01 -5.72775174e-01 -7.45664961e-01 -4.77685792e-01\n",
            " -4.99297015e-01  4.25084986e+00 -5.33874973e-01 -4.90652526e-01\n",
            " -5.38197217e-01 -5.90064153e-01 -4.25818856e-01  1.55809144e+00\n",
            " -5.07941505e-01 -2.83184783e-01 -3.17762740e-01 -3.56662942e-01\n",
            "  1.67046980e+00 -4.08529878e-01 -2.74540293e-01 -5.72775174e-01\n",
            " -6.98120269e-01 -4.25818856e-01 -6.70725498e-02 -7.13947945e-02\n",
            "  4.81852521e-01 -5.51163951e-01  3.86763139e-01 -2.14028868e-01\n",
            " -5.46841706e-01  2.61418044e-01  1.65318082e+00 -4.34463345e-01\n",
            " -6.07353132e-01  6.24486595e-01 -5.42519462e-01 -8.43615284e-02\n",
            " -4.12852122e-01 -7.11087003e-01 -3.00473761e-01  8.70854540e-01\n",
            " -6.07353132e-01 -4.64719058e-01 -6.33286600e-01 -2.39962336e-01\n",
            " -5.51163951e-01 -3.39373963e-01 -4.38785590e-01  2.40957364e+00\n",
            " -2.23887999e-03 -1.96739889e-01 -4.08529878e-01  5.76941904e-01\n",
            " -3.30729474e-01 -7.11087003e-01 -5.42519462e-01  1.70650906e-01\n",
            " -2.96151517e-01 -7.84565163e-01 -4.56074569e-01 -5.29552728e-01\n",
            " -5.38197217e-01 -5.29552728e-01 -5.90064153e-01 -3.68168372e-02\n",
            "  4.34307830e-01 -5.94386398e-01  4.86174766e-01 -3.00473761e-01\n",
            "  1.18783970e-01 -6.07353132e-01 -6.46253334e-01 -6.37608844e-01\n",
            " -2.65895804e-01 -5.41058159e-02 -5.59808440e-01 -4.34463345e-01\n",
            "  4.68885787e-01 -7.54309450e-01 -6.15997621e-01 -4.56074569e-01\n",
            "  6.46097818e-01 -6.11675376e-01  1.96584374e-01  3.23390772e-02\n",
            " -6.20319866e-01 -2.09706623e-01 -4.86330281e-01 -5.72775174e-01\n",
            " -1.14617241e-01  9.65943923e-01 -6.15997621e-01 -2.96151517e-01\n",
            "  1.37655716e+00  9.96199635e-01 -4.56074569e-01 -5.98708642e-01\n",
            " -1.18939486e-01 -4.82008037e-01 -6.03030887e-01 -6.37608844e-01\n",
            "  3.65151916e-01  3.04640490e-01 -6.20319866e-01 -2.96151517e-01\n",
            " -6.27503052e-02  3.86763139e-01 -1.14617241e-01 -3.35051718e-01\n",
            " -5.29552728e-01 -5.84280605e-02  1.06967779e+00  3.21929469e-01\n",
            "  1.27428460e-01 -6.03030887e-01  2.61418044e-01]\n"
          ]
        }
      ]
    },
    {
      "cell_type": "code",
      "source": [
        "\n",
        "#jeigu norim, galim istrinti isskirtini elementa\n",
        "num_samples = X.shape[0] - 1\n",
        "features = torch.tensor(np.delete(X, 2, axis = 0), dtype=torch.float32)\n",
        "labels = torch.zeros(num_samples, dtype=torch.float32)\n",
        "labels[5:] = 1\n",
        "# cia baigiasi isskirtinio meginio istrynimas (uzkomentuoti sias elutes jeigu to nenorim)\n",
        "\n",
        "#netikri papildomi treniravimo duomenys\n",
        "benign_features = features[np.where(labels == 0)]  # First 6 samples are benign\n",
        "benign_labels = labels[np.where(labels == 0)]\n",
        "\n",
        "\n",
        "# Duplicate benign samples with slight noise\n",
        "for i in range(10):\n",
        "  augmented_features = benign_features + 0.01 * torch.randn_like(benign_features)\n",
        "  features = torch.cat([features, augmented_features])\n",
        "  labels = torch.cat([labels, benign_labels])\n",
        "\n",
        "features = (features - mean) / (std + 1e-8)\n",
        "\n",
        "# Combine features and labels into a dataset\n",
        "dataset = TensorDataset(features, labels)"
      ],
      "metadata": {
        "id": "4e0tFFYAcnle"
      },
      "execution_count": 6,
      "outputs": []
    },
    {
      "cell_type": "code",
      "source": [
        "print(np.shape(features))"
      ],
      "metadata": {
        "id": "AGAAQs0Fyq_D",
        "outputId": "38a7e16c-fae8-41b6-bfe7-73c27579926c",
        "colab": {
          "base_uri": "https://localhost:8080/"
        }
      },
      "execution_count": 7,
      "outputs": [
        {
          "output_type": "stream",
          "name": "stdout",
          "text": [
            "torch.Size([188, 300])\n"
          ]
        }
      ]
    },
    {
      "cell_type": "code",
      "source": [
        "test_labels = torch.zeros(139, dtype=torch.float32)\n",
        "test_labels[6:] = 1\n",
        "test_features = torch.tensor(X, dtype=torch.float32)\n",
        "test_features = (test_features - mean) / (std + 1e-8)"
      ],
      "metadata": {
        "id": "g9xfphQ7S1--"
      },
      "execution_count": 8,
      "outputs": []
    },
    {
      "cell_type": "code",
      "source": [
        "from imblearn.over_sampling import RandomOverSampler\n",
        "\n",
        "#dar padauginam benign meginiu\n",
        "# Convert data to numpy for resampling\n",
        "features_np = features.numpy()\n",
        "labels_np = labels.numpy()\n",
        "\n",
        "# Oversample\n",
        "ros = RandomOverSampler()\n",
        "features_resampled, labels_resampled = ros.fit_resample(features_np, labels_np)\n",
        "\n",
        "# Convert back to tensors\n",
        "features = torch.tensor(features_resampled, dtype=torch.float32)\n",
        "labels = torch.tensor(labels_resampled, dtype=torch.float32)\n",
        "\n",
        "dataset = TensorDataset(features, labels)"
      ],
      "metadata": {
        "id": "jgBlPRxu-2DC"
      },
      "execution_count": 31,
      "outputs": []
    },
    {
      "cell_type": "code",
      "source": [
        "# Create a DataLoader for batching\n",
        "batch_size = 2  # You can adjust this as needed\n",
        "data_loader = DataLoader(dataset, batch_size=batch_size, shuffle=True)\n",
        "\n",
        "# Example: Print the shape of a batch\n",
        "for batch_features, batch_labels in data_loader:\n",
        "    print(f\"Batch features shape: {batch_features.shape}\")\n",
        "    print(f\"Batch labels shape: {batch_labels.shape}\")\n",
        "    break"
      ],
      "metadata": {
        "id": "_hAWolYbu26q",
        "colab": {
          "base_uri": "https://localhost:8080/"
        },
        "outputId": "edeb05be-7261-4ea2-fb78-691918cbd019"
      },
      "execution_count": 9,
      "outputs": [
        {
          "output_type": "stream",
          "name": "stdout",
          "text": [
            "Batch features shape: torch.Size([2, 300])\n",
            "Batch labels shape: torch.Size([2])\n"
          ]
        }
      ]
    },
    {
      "cell_type": "code",
      "source": [
        "class SparseNN(nn.Module):\n",
        "    def __init__(self, input_dim, temperature = 1):\n",
        "        super(SparseNN, self).__init__()\n",
        "        self.input_dim = input_dim\n",
        "        self.temperature = temperature\n",
        "        self.first_layer_biases = nn.Parameter(torch.randn(input_dim))\n",
        "        self.output_weights = nn.Parameter(torch.randn(input_dim))  # Raw weights\n",
        "\n",
        "    def forward(self, x):\n",
        "\n",
        "        first_layer_output = torch.tanh((x + self.first_layer_biases))\n",
        "        weighted_output = first_layer_output * self.output_weights\n",
        "        pooled_output = weighted_output.sum(dim=1)\n",
        "\n",
        "        output = torch.sigmoid(pooled_output / self.temperature)\n",
        "\n",
        "        return output\n",
        "\n",
        "def l1_regularization(weight, lambda_l1=0.001):\n",
        "    return lambda_l1 * weight.abs().sum()\n",
        "\n"
      ],
      "metadata": {
        "id": "eM5yeyfSWIqo"
      },
      "execution_count": 32,
      "outputs": []
    },
    {
      "cell_type": "code",
      "source": [
        "#initialize the model\n",
        "input_dim = features.shape[1]\n",
        "model = SparseNN(input_dim, temperature = 1)\n",
        "lambda_l1 = 0.01\n",
        "\n",
        "# Define a loss function and optimizer\n",
        "criterion = nn.BCELoss()  # Binary Cross Entropy Loss for binary classification\n",
        "optimizer = torch.optim.Adam(model.parameters(), lr=0.001)  # L1 sparsity via weight_decay"
      ],
      "metadata": {
        "id": "dWKjCuxSlA19"
      },
      "execution_count": 66,
      "outputs": []
    },
    {
      "cell_type": "code",
      "execution_count": 67,
      "metadata": {
        "colab": {
          "base_uri": "https://localhost:8080/"
        },
        "collapsed": true,
        "id": "u0gHb8mXTh7C",
        "outputId": "e2df3dea-ca07-4f60-de46-4f1349b5a6e7"
      },
      "outputs": [
        {
          "output_type": "stream",
          "name": "stdout",
          "text": [
            "Epoch [1/50], Loss: 5.0231\n",
            "Epoch [2/50], Loss: 4.0167\n",
            "Epoch [3/50], Loss: 3.5785\n",
            "Epoch [4/50], Loss: 3.2626\n",
            "Epoch [5/50], Loss: 3.0315\n",
            "Epoch [6/50], Loss: 2.8684\n",
            "Epoch [7/50], Loss: 2.7481\n",
            "Epoch [8/50], Loss: 2.6487\n",
            "Epoch [9/50], Loss: 2.5834\n",
            "Epoch [10/50], Loss: 2.5114\n",
            "Epoch [11/50], Loss: 2.4646\n",
            "Epoch [12/50], Loss: 2.4160\n",
            "Epoch [13/50], Loss: 2.3779\n",
            "Epoch [14/50], Loss: 2.3283\n",
            "Epoch [15/50], Loss: 2.2910\n",
            "Epoch [16/50], Loss: 2.2519\n",
            "Epoch [17/50], Loss: 2.2186\n",
            "Epoch [18/50], Loss: 2.1833\n",
            "Epoch [19/50], Loss: 2.1505\n",
            "Epoch [20/50], Loss: 2.1228\n",
            "Epoch [21/50], Loss: 2.0932\n",
            "Epoch [22/50], Loss: 2.0625\n",
            "Epoch [23/50], Loss: 2.0322\n",
            "Epoch [24/50], Loss: 2.0017\n",
            "Epoch [25/50], Loss: 1.9733\n",
            "Epoch [26/50], Loss: 1.9443\n",
            "Epoch [27/50], Loss: 1.9125\n",
            "Epoch [28/50], Loss: 1.8813\n",
            "Epoch [29/50], Loss: 1.8550\n",
            "Epoch [30/50], Loss: 1.8238\n",
            "Epoch [31/50], Loss: 1.7920\n",
            "Epoch [32/50], Loss: 1.7610\n",
            "Epoch [33/50], Loss: 1.7283\n",
            "Epoch [34/50], Loss: 1.6963\n",
            "Epoch [35/50], Loss: 1.6655\n",
            "Epoch [36/50], Loss: 1.6315\n",
            "Epoch [37/50], Loss: 1.5988\n",
            "Epoch [38/50], Loss: 1.5653\n",
            "Epoch [39/50], Loss: 1.5315\n",
            "Epoch [40/50], Loss: 1.4979\n",
            "Epoch [41/50], Loss: 1.4639\n",
            "Epoch [42/50], Loss: 1.4292\n",
            "Epoch [43/50], Loss: 1.3934\n",
            "Epoch [44/50], Loss: 1.3570\n",
            "Epoch [45/50], Loss: 1.3209\n",
            "Epoch [46/50], Loss: 1.2846\n",
            "Epoch [47/50], Loss: 1.2496\n",
            "Epoch [48/50], Loss: 1.2141\n",
            "Epoch [49/50], Loss: 1.1775\n",
            "Epoch [50/50], Loss: 1.1407\n",
            "Training Accuracy: 1.0000\n",
            "Accuracy over original data set: 0.9928\n"
          ]
        }
      ],
      "source": [
        "# Training Loop\n",
        "num_epochs = 50  # Adjust based on dataset size and convergence\n",
        "\n",
        "for epoch in range(num_epochs):\n",
        "    model.train()\n",
        "    total_loss = 0.0\n",
        "\n",
        "    for batch_features, batch_labels in data_loader:\n",
        "        # Forward pass\n",
        "        outputs = model(batch_features)  # Ensure shape compatibility for BCELoss\n",
        "        # Compute binary cross-entropy loss\n",
        "        loss = criterion(outputs, batch_labels)\n",
        "\n",
        "        # Add L1 regularization for sparsity\n",
        "        loss += l1_regularization(model.output_weights, lambda_l1)\n",
        "\n",
        "        #make probabilities less extreme\n",
        "        #penalty = (outputs * torch.log(outputs + 1e-8) + (1 - outputs) * torch.log(1 - outputs + 1e-8)).mean()\n",
        "        #loss += 0.1 * penalty\n",
        "\n",
        "        # Backward pass and optimization\n",
        "        optimizer.zero_grad()\n",
        "        loss.backward()\n",
        "        optimizer.step()\n",
        "\n",
        "        total_loss += loss.item()\n",
        "\n",
        "    # Logging epoch statistics\n",
        "    print(f\"Epoch [{epoch + 1}/{num_epochs}], Loss: {total_loss / len(data_loader):.4f}\")\n",
        "\n",
        "# Evaluation (after training)\n",
        "model.eval()\n",
        "with torch.no_grad():\n",
        "    predictions = model(features)\n",
        "    predictions = (predictions > 0.5).float()  # Convert probabilities to binary predictions\n",
        "\n",
        "    # Compute accuracy\n",
        "    accuracy = accuracy_score(labels.numpy(), predictions.numpy())\n",
        "    print(f\"Training Accuracy: {accuracy:.4f}\")\n",
        "\n",
        "    # Forward pass on the entire dataset\n",
        "    predictions = model(test_features)\n",
        "    predictions = (predictions > 0.5).float()  # Convert probabilities to binary predictions\n",
        "\n",
        "    # Compute accuracy\n",
        "    accuracy = accuracy_score(test_labels.numpy(), predictions.numpy())\n",
        "    print(f\"Accuracy over original data set: {accuracy:.4f}\")"
      ]
    },
    {
      "cell_type": "code",
      "source": [
        "\n",
        "probs = 100 * model(test_features).detach().numpy()\n",
        "formatted_probs = np.array([f\"{p:.2f}%\" for p in probs])\n",
        "print(formatted_probs)\n"
      ],
      "metadata": {
        "colab": {
          "base_uri": "https://localhost:8080/"
        },
        "id": "SxXeME3tiw6N",
        "outputId": "03867122-cf1e-4117-85c0-bcc660c85dae"
      },
      "execution_count": 68,
      "outputs": [
        {
          "output_type": "stream",
          "name": "stdout",
          "text": [
            "['0.94%' '2.17%' '100.00%' '3.38%' '1.25%' '1.48%' '100.00%' '100.00%'\n",
            " '100.00%' '100.00%' '100.00%' '100.00%' '100.00%' '100.00%' '100.00%'\n",
            " '100.00%' '99.90%' '99.99%' '99.99%' '93.09%' '100.00%' '83.30%' '98.28%'\n",
            " '100.00%' '100.00%' '100.00%' '100.00%' '99.99%' '100.00%' '86.60%'\n",
            " '100.00%' '99.91%' '100.00%' '100.00%' '100.00%' '64.32%' '100.00%'\n",
            " '99.74%' '100.00%' '100.00%' '94.04%' '100.00%' '99.99%' '100.00%'\n",
            " '100.00%' '100.00%' '100.00%' '100.00%' '100.00%' '100.00%' '99.98%'\n",
            " '100.00%' '100.00%' '94.47%' '99.99%' '100.00%' '100.00%' '100.00%'\n",
            " '100.00%' '100.00%' '100.00%' '100.00%' '100.00%' '100.00%' '99.99%'\n",
            " '100.00%' '100.00%' '100.00%' '100.00%' '100.00%' '99.98%' '99.04%'\n",
            " '99.96%' '99.95%' '100.00%' '96.09%' '100.00%' '100.00%' '100.00%'\n",
            " '80.24%' '100.00%' '100.00%' '100.00%' '100.00%' '100.00%' '100.00%'\n",
            " '100.00%' '100.00%' '100.00%' '100.00%' '100.00%' '98.88%' '99.96%'\n",
            " '100.00%' '100.00%' '100.00%' '100.00%' '100.00%' '100.00%' '100.00%'\n",
            " '100.00%' '100.00%' '100.00%' '100.00%' '99.69%' '100.00%' '99.86%'\n",
            " '99.97%' '100.00%' '96.64%' '100.00%' '100.00%' '100.00%' '95.94%'\n",
            " '100.00%' '100.00%' '99.99%' '92.46%' '100.00%' '100.00%' '100.00%'\n",
            " '100.00%' '100.00%' '100.00%' '100.00%' '98.09%' '100.00%' '100.00%'\n",
            " '100.00%' '99.99%' '100.00%' '100.00%' '99.99%' '100.00%' '96.14%'\n",
            " '99.99%' '99.93%' '99.99%' '91.55%']\n"
          ]
        }
      ]
    },
    {
      "cell_type": "code",
      "source": [
        "#jeigu procentai sutampa su tikrove, issaugom svorius (ir jeigu jie naudingi...)\n",
        "\n",
        "torch.save(model.first_layer_weights.data, \"first_layer_weights.pt\")\n",
        "\n",
        "# Save the first layer's biases (if present)\n",
        "torch.save(model.first_layer_biases.data, \"first_layer_biases.pt\")\n",
        "\n",
        "# Save the second layer (sparse) weights\n",
        "torch.save(model.output_weights_raw.data, \"output_weights_raw.pt\")"
      ],
      "metadata": {
        "id": "5cwRWuziTODI"
      },
      "execution_count": null,
      "outputs": []
    },
    {
      "cell_type": "code",
      "source": [
        "# Svoriu analize is idejos turetu parodyti, kurie genai yra svarbiausi priimant sprendima\n",
        "\n",
        "sorted_indices = torch.argsort(np.abs(model.output_weights.data), descending=True)\n",
        "values_weights = model.output_weights.data[sorted_indices]\n",
        "values_biases = model.first_layer_biases.data[sorted_indices]\n",
        "genes = gene_ids[sorted_indices]\n",
        "sorted_shifted_biases = std[sorted_indices] * values_biases + mean[sorted_indices]\n",
        "\n",
        "print('indices of largest weights: ' + str(sorted_indices[:30]))\n",
        "print('largest sorted weights ' + str(values_weights[:30]))\n",
        "print('corresponding biases ' + str(sorted_shifted_biases[:30]))\n",
        "print(values_biases[:30])\n",
        "print('indices of smallest weights: ' + str(sorted_indices[-30:]))\n",
        "print('smallest sorted weights ' + str(values_weights[-30:]))\n",
        "print('corresponding biases ' + str(sorted_shifted_biases[-30:]))\n",
        "print(gene_ids[115])"
      ],
      "metadata": {
        "colab": {
          "base_uri": "https://localhost:8080/"
        },
        "id": "he-q2mrITtax",
        "outputId": "f91f7831-d980-4229-c4c3-ce78459139ea"
      },
      "execution_count": 98,
      "outputs": [
        {
          "output_type": "stream",
          "name": "stdout",
          "text": [
            "indices of largest weights: tensor([178, 201,  60,  81,  57, 139, 192,  32,  29, 244, 286,  59, 287, 298,\n",
            "        108, 141, 128, 105, 151, 116,  96, 138, 219, 161, 198, 146, 130,  25,\n",
            "        296, 288])\n",
            "largest sorted weights tensor([-2.6363, -2.5231,  2.4861, -2.2180, -2.0061, -1.9730,  1.8246, -1.6238,\n",
            "         1.5831,  1.5383,  1.5252,  1.5145,  1.4989, -1.4906,  1.4841,  1.4826,\n",
            "         1.4700, -1.4639,  1.4395, -1.4230, -1.3732,  1.3369,  1.3243,  1.2911,\n",
            "        -1.2797, -1.2568, -1.1915, -1.1751,  1.1122,  1.0867])\n",
            "corresponding biases tensor([-1.6963e+02,  1.0598e+02,  2.9064e+03,  5.6084e+05, -3.7444e+05,\n",
            "         3.5125e+00,  4.7640e+02,  4.0973e+04,  1.4957e+03, -1.6443e+04,\n",
            "         1.9361e+02,  6.8601e+04, -2.8415e+03,  2.1531e+04,  9.8649e+03,\n",
            "        -4.6924e+02,  5.2266e+03,  2.4257e+04,  5.4054e+04, -2.6467e+03,\n",
            "         1.0963e+03,  1.4030e+03,  5.3536e+02,  7.8941e+01,  1.8687e+02,\n",
            "         7.6173e+02,  1.0013e+04,  2.0848e+02,  8.4075e+02, -3.5882e+03])\n",
            "tensor([-1.2334, -0.6357,  0.0093,  0.4038, -0.8484, -1.0491, -0.9490,  1.0186,\n",
            "        -1.0303, -3.0481, -0.7218,  1.8236, -1.2277,  0.7041,  1.4161, -1.8736,\n",
            "         1.0772, -0.0185,  0.6883, -0.5749, -0.6989, -0.4084,  0.9259, -0.8746,\n",
            "         0.0189,  0.7346,  0.7389, -0.0563, -0.0846, -1.7928])\n",
            "indices of smallest weights: tensor([149,  40, 204,  88, 156, 153,  33,  19, 253, 223,  61, 117, 228, 210,\n",
            "         43, 174, 237, 275, 256, 235,   9, 250, 260, 251, 104,   7, 268,  44,\n",
            "        118,  73])\n",
            "smallest sorted weights tensor([ 3.3083e-05,  3.2555e-05, -3.0206e-05, -2.9285e-05,  2.9211e-05,\n",
            "        -2.8593e-05, -2.8433e-05, -2.8049e-05, -2.7902e-05, -2.5151e-05,\n",
            "         2.3745e-05, -2.3514e-05,  2.2813e-05,  2.1279e-05, -1.8466e-05,\n",
            "         1.8238e-05, -1.8175e-05,  1.7187e-05, -1.5725e-05, -1.5517e-05,\n",
            "        -1.5347e-05, -1.1220e-05,  1.0909e-05,  1.0592e-05,  1.0420e-05,\n",
            "        -9.6715e-06, -7.1863e-06, -6.2938e-06,  2.4290e-06, -1.0908e-06])\n",
            "corresponding biases tensor([ 4742.2759,   359.2224,   230.0032,  -815.2316,  -181.3866,    79.3777,\n",
            "         1854.9283, 12488.2197,  -166.1749, -1142.2478, 18022.8281,  1327.1514,\n",
            "          -63.2854,  -138.4595, 10190.2490, 30334.9023,   947.9418,  4956.7021,\n",
            "        -1401.4319,  3252.1353,  5084.4648,  1845.5460,  -175.7597,  -146.4033,\n",
            "        -1758.5005, 26231.2656,  1140.9399,  4948.1221,   -42.5324,  3541.0830])\n",
            "hsa-mir-214\n"
          ]
        }
      ]
    },
    {
      "cell_type": "code",
      "source": [
        "shifted_biases = std * model.first_layer_biases.data + mean\n",
        "print(shifted_biases[25])"
      ],
      "metadata": {
        "id": "wK3EHQ7a4buq",
        "outputId": "0bed72f9-4281-42a5-f4de-3803356a5a6c",
        "colab": {
          "base_uri": "https://localhost:8080/"
        }
      },
      "execution_count": 89,
      "outputs": [
        {
          "output_type": "stream",
          "name": "stdout",
          "text": [
            "tensor(208.4819)\n"
          ]
        }
      ]
    },
    {
      "cell_type": "code",
      "source": [
        "#i=np.where(gene_ids == 'hsa-mir-520f')[0][0]\n",
        "i = 81\n",
        "\n",
        "\n",
        "plt.scatter(X[6:139, i], np.random.normal(scale=0.3, size = len(X[6:139, 0])), c = 'r', label = 'Other')\n",
        "plt.scatter(X[0, i], 0.1, c = 'b', label = 'Teratoma, benign 1')\n",
        "plt.scatter(X[1, i], 0.2, c = 'c', label = 'Teratoma, benign 2')\n",
        "plt.scatter(X[2, i], 0.3, c = 'g', label = 'Teratoma, benign 3')\n",
        "plt.scatter(X[3, i], -0.3, c = 'y', label = 'Teratoma, benign 4')\n",
        "plt.scatter(X[4, i], -0.2, c = 'purple', label = 'Teratoma, benign 5')\n",
        "plt.scatter(X[5, i], -0.1, c = 'k', label = 'Teratoma, benign 6')\n",
        "#plt.scatter(np.ones(100) * shifted_biases[i].numpy(), np.arange(start = -4, stop = 4, step = 8 / 100), marker = '|')\n",
        "plt.xlabel('genas ' + str(gene_ids[i]))\n",
        "plt.ylim(-5, 5)\n",
        "plt.legend()\n",
        "plt.show()"
      ],
      "metadata": {
        "colab": {
          "base_uri": "https://localhost:8080/",
          "height": 449
        },
        "id": "gt8HtC5RK6Ev",
        "outputId": "8eea8f26-3450-432d-f695-63644b1d9c76"
      },
      "execution_count": 119,
      "outputs": [
        {
          "output_type": "display_data",
          "data": {
            "text/plain": [
              "<Figure size 640x480 with 1 Axes>"
            ],
            "image/png": "[encoded data removed]"
          },
          "metadata": {}
        }
      ]
    },
    {
      "cell_type": "code",
      "source": [
        "i = 288\n",
        "\n",
        "\n",
        "plt.scatter(transformed_X[6:139, i], np.random.normal(scale=0.3, size = len(transformed_X[6:139, 0])), c = 'r', label = 'Other')\n",
        "plt.scatter(transformed_X[0, i], 0.1, c = 'b', label = 'Teratoma, benign 1')\n",
        "plt.scatter(transformed_X[1, i], 0.2, c = 'c', label = 'Teratoma, benign 2')\n",
        "plt.scatter(transformed_X[2, i], 0.3, c = 'g', label = 'Teratoma, benign 3')\n",
        "plt.scatter(transformed_X[3, i], -0.3, c = 'y', label = 'Teratoma, benign 4')\n",
        "plt.scatter(transformed_X[4, i], -0.2, c = 'purple', label = 'Teratoma, benign 5')\n",
        "plt.scatter(transformed_X[5, i], -0.1, c = 'k', label = 'Teratoma, benign 6')\n",
        "#plt.scatter(np.ones(100) * shifted_biases[i].numpy(), np.arange(start = -4, stop = 4, step = 8 / 100), marker = '|')\n",
        "#plt.scatter(np.ones(100) * model.first_layer_biases.data.numpy()[i], np.arange(start = -4, stop = 4, step = 8 / 100), marker = '|')\n",
        "plt.xlabel('genas ' + str(gene_ids[i]))\n",
        "plt.ylim(-5, 5)\n",
        "plt.legend()\n",
        "plt.show()"
      ],
      "metadata": {
        "id": "_e8OQYq99PYh",
        "outputId": "a3e4cd3d-8cdf-4fcb-b4e0-955d39293f5d",
        "colab": {
          "base_uri": "https://localhost:8080/",
          "height": 449
        }
      },
      "execution_count": 117,
      "outputs": [
        {
          "output_type": "display_data",
          "data": {
            "text/plain": [
              "<Figure size 640x480 with 1 Axes>"
            ],
            "image/png": "[encoded data removed]"
          },
          "metadata": {}
        }
      ]
    },
    {
      "cell_type": "code",
      "source": [
        "print(torch.mean(features[:,25]))"
      ],
      "metadata": {
        "id": "fv74Mk-u91Bq",
        "outputId": "24c3e8bd-c532-4642-ce43-5b464bb852ee",
        "colab": {
          "base_uri": "https://localhost:8080/"
        }
      },
      "execution_count": 107,
      "outputs": [
        {
          "output_type": "stream",
          "name": "stdout",
          "text": [
            "tensor(0.7288)\n"
          ]
        }
      ]
    },
    {
      "cell_type": "code",
      "source": [
        "model = SparseNN(input_dim, temperature = 5)\n",
        "\n",
        "loaded_first_layer_weights = torch.load(\"first_layer_weights.pt\")\n",
        "loaded_first_layer_biases = torch.load(\"first_layer_biases.pt\")\n",
        "loaded_otput_weights_raw = torch.load(\"output_weights_raw.pt\")\n",
        "\n",
        "# Assign the loaded values to the model\n",
        "model.first_layer_weights.data = loaded_first_layer_weights\n",
        "model.first_layer_biases.data = loaded_first_layer_biases\n",
        "model.output_weights_raw.data = loaded_otput_weights_raw\n",
        "\n",
        "probs = 100 * model(features).detach().numpy()\n",
        "formatted_probs = np.array([f\"{p:.2f}%\" for p in probs])\n",
        "print(formatted_probs)"
      ],
      "metadata": {
        "colab": {
          "base_uri": "https://localhost:8080/"
        },
        "id": "VSgbW5z_abWH",
        "outputId": "f70c6e5d-0405-4ee5-9a09-969fc846a0aa"
      },
      "execution_count": null,
      "outputs": [
        {
          "output_type": "stream",
          "name": "stdout",
          "text": [
            "['0.28%' '2.63%' '98.76%' '13.91%' '6.85%' '2.21%' '100.00%' '99.84%'\n",
            " '99.97%' '99.61%' '99.25%' '99.98%' '100.00%' '100.00%' '99.84%' '96.65%'\n",
            " '99.59%' '99.98%' '100.00%' '99.96%' '99.95%' '100.00%' '99.56%' '99.91%'\n",
            " '99.99%' '100.00%' '99.87%' '98.75%' '99.90%' '91.62%' '99.97%' '99.85%'\n",
            " '99.57%' '100.00%' '93.07%' '99.83%' '99.97%' '100.00%' '100.00%'\n",
            " '100.00%' '78.69%' '85.09%' '99.97%' '99.86%' '99.94%' '99.91%' '98.92%'\n",
            " '96.46%' '100.00%' '99.58%' '100.00%' '98.58%' '99.46%' '99.59%'\n",
            " '100.00%' '98.60%' '97.74%' '100.00%' '100.00%' '99.84%' '100.00%'\n",
            " '100.00%' '93.83%' '84.41%' '99.85%' '99.96%' '100.00%' '99.79%' '99.79%'\n",
            " '99.93%' '99.92%' '92.36%' '100.00%' '99.76%' '99.98%' '99.78%' '99.87%'\n",
            " '99.77%' '100.00%' '97.00%' '91.85%' '79.52%' '99.78%' '84.40%' '99.07%'\n",
            " '100.00%' '99.98%' '99.56%' '99.98%' '100.00%' '100.00%' '95.92%'\n",
            " '99.38%' '92.33%' '99.79%' '100.00%' '99.97%' '99.04%' '100.00%'\n",
            " '100.00%' '99.99%' '99.54%' '99.99%' '100.00%' '99.99%' '98.96%' '99.99%'\n",
            " '100.00%' '99.87%' '52.97%' '99.90%' '99.96%' '100.00%' '88.59%'\n",
            " '100.00%' '100.00%' '94.31%' '100.00%' '99.94%' '99.78%' '100.00%'\n",
            " '99.98%' '99.98%' '99.12%' '99.00%' '99.99%' '99.99%' '99.99%' '98.38%'\n",
            " '69.99%' '85.16%' '99.99%' '98.10%' '100.00%' '99.99%' '96.14%' '100.00%'\n",
            " '97.74%' '99.48%' '0.00%' '0.12%' '0.00%' '0.05%' '0.00%' '0.00%']\n"
          ]
        },
        {
          "output_type": "stream",
          "name": "stderr",
          "text": [
            "<ipython-input-84-6c24784f2594>:3: FutureWarning: You are using `torch.load` with `weights_only=False` (the current default value), which uses the default pickle module implicitly. It is possible to construct malicious pickle data which will execute arbitrary code during unpickling (See https://github.com/pytorch/pytorch/blob/main/SECURITY.md#untrusted-models for more details). In a future release, the default value for `weights_only` will be flipped to `True`. This limits the functions that could be executed during unpickling. Arbitrary objects will no longer be allowed to be loaded via this mode unless they are explicitly allowlisted by the user via `torch.serialization.add_safe_globals`. We recommend you start setting `weights_only=True` for any use case where you don't have full control of the loaded file. Please open an issue on GitHub for any issues related to this experimental feature.\n",
            "  loaded_first_layer_weights = torch.load(\"first_layer_weights.pt\")\n",
            "<ipython-input-84-6c24784f2594>:4: FutureWarning: You are using `torch.load` with `weights_only=False` (the current default value), which uses the default pickle module implicitly. It is possible to construct malicious pickle data which will execute arbitrary code during unpickling (See https://github.com/pytorch/pytorch/blob/main/SECURITY.md#untrusted-models for more details). In a future release, the default value for `weights_only` will be flipped to `True`. This limits the functions that could be executed during unpickling. Arbitrary objects will no longer be allowed to be loaded via this mode unless they are explicitly allowlisted by the user via `torch.serialization.add_safe_globals`. We recommend you start setting `weights_only=True` for any use case where you don't have full control of the loaded file. Please open an issue on GitHub for any issues related to this experimental feature.\n",
            "  loaded_first_layer_biases = torch.load(\"first_layer_biases.pt\")\n",
            "<ipython-input-84-6c24784f2594>:5: FutureWarning: You are using `torch.load` with `weights_only=False` (the current default value), which uses the default pickle module implicitly. It is possible to construct malicious pickle data which will execute arbitrary code during unpickling (See https://github.com/pytorch/pytorch/blob/main/SECURITY.md#untrusted-models for more details). In a future release, the default value for `weights_only` will be flipped to `True`. This limits the functions that could be executed during unpickling. Arbitrary objects will no longer be allowed to be loaded via this mode unless they are explicitly allowlisted by the user via `torch.serialization.add_safe_globals`. We recommend you start setting `weights_only=True` for any use case where you don't have full control of the loaded file. Please open an issue on GitHub for any issues related to this experimental feature.\n",
            "  loaded_otput_weights_raw = torch.load(\"output_weights_raw.pt\")\n"
          ]
        }
      ]
    }
  ]
}