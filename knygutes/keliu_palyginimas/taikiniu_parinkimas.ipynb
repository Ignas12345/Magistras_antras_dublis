{
  "nbformat": 4,
  "nbformat_minor": 0,
  "metadata": {
    "colab": {
      "provenance": [],
      "authorship_tag": "ABX9TyNlBqVPVJckNLOKR4yDWLZU",
      "include_colab_link": true
    },
    "kernelspec": {
      "name": "python3",
      "display_name": "Python 3"
    },
    "language_info": {
      "name": "python"
    }
  },
  "cells": [
    {
      "cell_type": "markdown",
      "metadata": {
        "id": "view-in-github",
        "colab_type": "text"
      },
      "source": [
        "<a href=\"https://colab.research.google.com/github/Ignas12345/Magistro_projektas/blob/main/knygutes/keliu_palyginimas/taikiniu_parinkimas.ipynb\" target=\"_parent\"><img src=\"https://colab.research.google.com/assets/colab-badge.svg\" alt=\"Open In Colab\"/></a>"
      ]
    },
    {
      "cell_type": "markdown",
      "source": [
        "Šitoje knygutėje bandomas sukurti ligos klasifikavimui svarbių, priklausomų nuo tam tikro miRNR, genų sąrąšą (išmetant daugelį genų). Vėliau šis genų sąrašas bus naudojamas kelių palyginimui (beje, kai kalba eina apie tam tikrus svarbius miRNR, kaip iš 371 spiečiaus, kiekvienam miRNR šis sąrašas gali būti nuolat pildomas arba filtruojamas rankiniu būdu)"
      ],
      "metadata": {
        "id": "ur4l9JGIDQu-"
      }
    },
    {
      "cell_type": "code",
      "execution_count": null,
      "metadata": {
        "id": "gpqUZIxaDGu6"
      },
      "outputs": [],
      "source": [
        "import numpy as np\n",
        "import pandas as pd"
      ]
    },
    {
      "cell_type": "code",
      "source": [
        "'''\n",
        "def find_duplicates_in_list(lst):\n",
        "    seen = []\n",
        "    duplicates = []\n",
        "    for item in lst:\n",
        "        if item in seen:\n",
        "            duplicates.append(item)\n",
        "        else:\n",
        "            seen.append(item)\n",
        "    return duplicates\n",
        "'''"
      ],
      "metadata": {
        "colab": {
          "base_uri": "https://localhost:8080/",
          "height": 36
        },
        "id": "a7ln63F0Ks81",
        "outputId": "06fef1db-c507-413c-c8d1-94552ce0aa9f"
      },
      "execution_count": null,
      "outputs": [
        {
          "output_type": "execute_result",
          "data": {
            "text/plain": [
              "'\\ndef find_duplicates_in_list(lst):\\n    seen = []\\n    duplicates = []\\n    for item in lst:\\n        if item in seen:\\n            duplicates.append(item)\\n        else:\\n            seen.append(item)\\n    return duplicates\\n'"
            ],
            "application/vnd.google.colaboratory.intrinsic+json": {
              "type": "string"
            }
          },
          "metadata": {},
          "execution_count": 2
        }
      ]
    },
    {
      "cell_type": "code",
      "source": [
        "mir_name = '20-5p'"
      ],
      "metadata": {
        "id": "fraICsi8eoNp"
      },
      "execution_count": null,
      "outputs": []
    },
    {
      "cell_type": "code",
      "source": [
        "#miRPath_df = pd.read_csv('/content/'+mir_name+'_targets.csv')\n",
        "TargetScan_df = pd.read_excel('/content/TargetScan8.0__miR-'+mir_name+'.Human.predicted_targets.xlsx')\n",
        "#miRTarBase_df = pd.read_csv('/content/search_result_'+mir_name+'.csv')\n",
        "TargetLink_df = pd.read_csv('/content/miRTargetLink_'+mir_name+'.csv')\n",
        "all_ordered_genes_df = pd.read_csv('/content/ordered_genes.csv')"
      ],
      "metadata": {
        "id": "CjYFYIKkE1vE"
      },
      "execution_count": null,
      "outputs": []
    },
    {
      "cell_type": "code",
      "source": [
        "TargetScan_df.rename(columns={'Target gene': 'Target'}, inplace=True)\n",
        "TargetLink_df.rename(columns={'Target / Target pathway': 'Target'}, inplace=True)"
      ],
      "metadata": {
        "id": "ydURAUTOFbhN"
      },
      "execution_count": null,
      "outputs": []
    },
    {
      "cell_type": "code",
      "source": [
        "#miRPath_set = set(miRPath_df['Target'])\n",
        "TargetScan_set = set(TargetScan_df['Target'])\n",
        "TargetLink_set = set(TargetLink_df['Target'])\n",
        "#miRTarBase_set = set(miRTarBase_df['Target'])\n",
        "un = TargetScan_set.union(TargetLink_set)\n",
        "#un_2 = TargetScan_set.union(TargetLink_set, miRTarBase_set)\n",
        "#all_ordered_genes = set(all_ordered_genes_df['gene_name'])"
      ],
      "metadata": {
        "id": "JZMfQ_e6Oy64"
      },
      "execution_count": null,
      "outputs": []
    },
    {
      "cell_type": "code",
      "source": [
        "'''for s in [TargetScan_set, TargetLink_set, miRTarBase_set, un, un_2]:\n",
        "  print(len(s))'''\n",
        "for s in [TargetScan_set, TargetLink_set, un]:\n",
        "  print(len(s))"
      ],
      "metadata": {
        "colab": {
          "base_uri": "https://localhost:8080/"
        },
        "id": "YtJdvyooO7S4",
        "outputId": "4f3d15d3-a283-419f-a59a-ecca237df391"
      },
      "execution_count": null,
      "outputs": [
        {
          "output_type": "stream",
          "name": "stdout",
          "text": [
            "1385\n",
            "1069\n",
            "1980\n"
          ]
        }
      ]
    },
    {
      "cell_type": "code",
      "source": [
        "for s in [TargetScan_set, TargetLink_set, un]:\n",
        "  filtered_set = s.intersection(set(all_ordered_genes_df['gene_name'].to_list()[:4000]))\n",
        "  print(len(filtered_set))"
      ],
      "metadata": {
        "colab": {
          "base_uri": "https://localhost:8080/"
        },
        "id": "SrD9T-9mDYhb",
        "outputId": "f3ff8b8d-0dc2-4980-ef36-9a780ee4b9d4"
      },
      "execution_count": null,
      "outputs": [
        {
          "output_type": "stream",
          "name": "stdout",
          "text": [
            "295\n",
            "238\n",
            "424\n"
          ]
        }
      ]
    },
    {
      "cell_type": "code",
      "source": [
        "filtered_un = un.intersection(set(all_ordered_genes_df['gene_name'].to_list()[:4000]))\n",
        "#filtered_miRPath = miRPath_set.intersection(set(all_ordered_genes_df['gene_name'].to_list()[:4000]))\n",
        "#thrown_out = filtered_miRPath.difference(filtered_un)\n",
        "#thrown_out_df = all_ordered_genes_df[all_ordered_genes_df['gene_name'].isin(thrown_out)]\n",
        "#len(thrown_out)\n",
        "#thrown_out_df.head(n=10)"
      ],
      "metadata": {
        "id": "K6SzNzvoUMfe"
      },
      "execution_count": null,
      "outputs": []
    },
    {
      "cell_type": "code",
      "source": [
        "un_df = all_ordered_genes_df[all_ordered_genes_df['gene_name'].isin(un)].copy()\n",
        "un_df.loc[:,'in_TargetLink'] = 0\n",
        "un_df.loc[un_df['gene_name'].isin(TargetLink_set),'in_TargetLink'] = 1\n",
        "\n",
        "write_csv = un_df.to_csv('targets_'+mir_name+'.csv')"
      ],
      "metadata": {
        "id": "wndSdY9MTU5w"
      },
      "execution_count": null,
      "outputs": []
    },
    {
      "cell_type": "code",
      "source": [
        "'''\n",
        "un_2_df = all_ordered_genes_df[all_ordered_genes_df['gene_name'].isin(un_2)].copy()\n",
        "un_2_df.loc[:,'in_TargetLink'] = 0\n",
        "un_2_df.loc[un_df['gene_name'].isin(TargetLink_set),'in_TargetLink'] = 1\n",
        "\n",
        "write_csv = un_2_df.to_csv('union_targets_'+mir_name+'.csv')\n",
        "'''"
      ],
      "metadata": {
        "colab": {
          "base_uri": "https://localhost:8080/",
          "height": 54
        },
        "id": "2aan_8JdSmbY",
        "outputId": "5438ec08-d3a7-4a9f-c3aa-193e435a5e49"
      },
      "execution_count": null,
      "outputs": [
        {
          "output_type": "execute_result",
          "data": {
            "text/plain": [
              "\"\\nun_2_df = all_ordered_genes_df[all_ordered_genes_df['gene_name'].isin(un_2)].copy()\\nun_2_df.loc[:,'in_TargetLink'] = 0\\nun_2_df.loc[un_df['gene_name'].isin(TargetLink_set),'in_TargetLink'] = 1\\n\\nwrite_csv = un_2_df.to_csv('union_targets_'+mir_name+'.csv')\\n\""
            ],
            "application/vnd.google.colaboratory.intrinsic+json": {
              "type": "string"
            }
          },
          "metadata": {},
          "execution_count": 11
        }
      ]
    },
    {
      "cell_type": "code",
      "source": [
        "filtered_un_df = all_ordered_genes_df[all_ordered_genes_df['gene_name'].isin(filtered_un)].copy()\n",
        "filtered_un_df.loc[:,'in_TargetLink'] = 0\n",
        "filtered_un_df.loc[filtered_un_df['gene_name'].isin(TargetLink_set),'in_TargetLink'] = 1\n",
        "\n",
        "write_csv = filtered_un_df.to_csv('filtered_targets_'+mir_name+'.csv')"
      ],
      "metadata": {
        "id": "yPxvlZG_o4Wq"
      },
      "execution_count": null,
      "outputs": []
    },
    {
      "cell_type": "code",
      "source": [
        "#filtered_un_df.head(n=10)"
      ],
      "metadata": {
        "id": "OqLqO3a8uBJB"
      },
      "execution_count": null,
      "outputs": []
    }
  ]
}