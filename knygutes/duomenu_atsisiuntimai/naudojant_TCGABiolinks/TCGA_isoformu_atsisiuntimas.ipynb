{
  "nbformat": 4,
  "nbformat_minor": 0,
  "metadata": {
    "colab": {
      "provenance": [],
      "authorship_tag": "ABX9TyN/Nm2AicBNOzDGvt0bs1EE",
      "include_colab_link": true
    },
    "kernelspec": {
      "name": "ir",
      "display_name": "R"
    },
    "language_info": {
      "name": "R"
    }
  },
  "cells": [
    {
      "cell_type": "markdown",
      "metadata": {
        "id": "view-in-github",
        "colab_type": "text"
      },
      "source": [
        "<a href=\"https://colab.research.google.com/github/Ignas12345/Magistro_projektas/blob/main/knygutes/TCGA_isoformu_atsisiuntimas.ipynb\" target=\"_parent\"><img src=\"https://colab.research.google.com/assets/colab-badge.svg\" alt=\"Open In Colab\"/></a>"
      ]
    },
    {
      "cell_type": "code",
      "source": [
        "if (!requireNamespace(\"BiocManager\", quietly = TRUE))\n",
        "    install.packages(\"BiocManager\")"
      ],
      "metadata": {
        "id": "MYApbw0KaQAn",
        "colab": {
          "base_uri": "https://localhost:8080/"
        },
        "outputId": "c3acdacc-2fa0-439a-879b-af05c93fbb47"
      },
      "execution_count": 1,
      "outputs": [
        {
          "output_type": "stream",
          "name": "stderr",
          "text": [
            "Installing package into ‘/usr/local/lib/R/site-library’\n",
            "(as ‘lib’ is unspecified)\n",
            "\n"
          ]
        }
      ]
    },
    {
      "cell_type": "code",
      "source": [
        "BiocManager::install(\"TCGAbiolinks\", ask = FALSE, verbose = TRUE)"
      ],
      "metadata": {
        "id": "W6AbVh8AcT6t",
        "colab": {
          "base_uri": "https://localhost:8080/"
        },
        "outputId": "c34e44e2-3853-4855-ca6d-126722058714"
      },
      "execution_count": 2,
      "outputs": [
        {
          "output_type": "stream",
          "name": "stderr",
          "text": [
            "'getOption(\"repos\")' replaces Bioconductor standard repositories, see\n",
            "'help(\"repositories\", package = \"BiocManager\")' for details.\n",
            "Replacement repositories:\n",
            "    CRAN: https://cran.rstudio.com\n",
            "\n",
            "Bioconductor version 3.20 (BiocManager 1.30.25), R 4.4.2 (2024-10-31)\n",
            "\n",
            "Installing package(s) 'BiocVersion', 'TCGAbiolinks'\n",
            "\n",
            "system (cmd0): /usr/lib/R/bin/R CMD INSTALL\n",
            "\n",
            "also installing the dependencies ‘plogr’, ‘png’, ‘Biostrings’, ‘RSQLite’, ‘KEGGREST’, ‘filelock’, ‘UCSC.utils’, ‘GenomeInfoDbData’, ‘zlibbioc’, ‘matrixStats’, ‘abind’, ‘SparseArray’, ‘AnnotationDbi’, ‘BiocFileCache’, ‘BiocGenerics’, ‘GenomeInfoDb’, ‘XVector’, ‘R.oo’, ‘R.methodsS3’, ‘MatrixGenerics’, ‘Biobase’, ‘S4Arrays’, ‘DelayedArray’, ‘downloader’, ‘biomaRt’, ‘GenomicRanges’, ‘XML’, ‘plyr’, ‘IRanges’, ‘S4Vectors’, ‘R.utils’, ‘SummarizedExperiment’, ‘TCGAbiolinksGUI.data’\n",
            "\n",
            "\n",
            "foundpkgs: plogr, png, Biostrings, RSQLite, KEGGREST, filelock, UCSC.utils, GenomeInfoDbData, zlibbioc, matrixStats, abind, SparseArray, AnnotationDbi, BiocFileCache, BiocGenerics, GenomeInfoDb, XVector, R.oo, R.methodsS3, MatrixGenerics, Biobase, S4Arrays, DelayedArray, downloader, biomaRt, GenomicRanges, XML, plyr, IRanges, S4Vectors, R.utils, SummarizedExperiment, TCGAbiolinksGUI.data, BiocVersion, TCGAbiolinks, /tmp/RtmpQhdJMW/downloaded_packages/plogr_0.2.0.tar.gz, /tmp/RtmpQhdJMW/downloaded_packages/png_0.1-8.tar.gz, /tmp/RtmpQhdJMW/downloaded_packages/Biostrings_2.74.1.tar.gz, /tmp/RtmpQhdJMW/downloaded_packages/RSQLite_2.3.9.tar.gz, /tmp/RtmpQhdJMW/downloaded_packages/KEGGREST_1.46.0.tar.gz, /tmp/RtmpQhdJMW/downloaded_packages/filelock_1.0.3.tar.gz, /tmp/RtmpQhdJMW/downloaded_packages/UCSC.utils_1.2.0.tar.gz, /tmp/RtmpQhdJMW/downloaded_packages/GenomeInfoDbData_1.2.13.tar.gz, /tmp/RtmpQhdJMW/downloaded_packages/zlibbioc_1.52.0.tar.gz, /tmp/RtmpQhdJMW/downloaded_packages/matrixStats_1.5.0.tar.gz, /tmp/RtmpQhdJMW/downloaded_packages/abind_1.4-8.tar.gz, /tmp/RtmpQhdJMW/downloaded_packages/SparseArray_1.6.0.tar.gz, /tmp/RtmpQhdJMW/downloaded_packages/AnnotationDbi_1.68.0.tar.gz, /tmp/RtmpQhdJMW/downloaded_packages/BiocFileCache_2.14.0.tar.gz, /tmp/RtmpQhdJMW/downloaded_packages/BiocGenerics_0.52.0.tar.gz, /tmp/RtmpQhdJMW/downloaded_packages/GenomeInfoDb_1.42.1.tar.gz, /tmp/RtmpQhdJMW/downloaded_packages/XVector_0.46.0.tar.gz, /tmp/RtmpQhdJMW/downloaded_packages/R.oo_1.27.0.tar.gz, /tmp/RtmpQhdJMW/downloaded_packages/R.methodsS3_1.8.2.tar.gz, /tmp/RtmpQhdJMW/downloaded_packages/MatrixGenerics_1.18.1.tar.gz, /tmp/RtmpQhdJMW/downloaded_packages/Biobase_2.66.0.tar.gz, /tmp/RtmpQhdJMW/downloaded_packages/S4Arrays_1.6.0.tar.gz, /tmp/RtmpQhdJMW/downloaded_packages/DelayedArray_0.32.0.tar.gz, /tmp/RtmpQhdJMW/downloaded_packages/downloader_0.4.tar.gz, /tmp/RtmpQhdJMW/downloaded_packages/biomaRt_2.62.0.tar.gz, /tmp/RtmpQhdJMW/downloaded_packages/GenomicRanges_1.58.0.tar.gz, /tmp/RtmpQhdJMW/downloaded_packages/XML_3.99-0.18.tar.gz, /tmp/RtmpQhdJMW/downloaded_packages/plyr_1.8.9.tar.gz, /tmp/RtmpQhdJMW/downloaded_packages/IRanges_2.40.1.tar.gz, /tmp/RtmpQhdJMW/downloaded_packages/S4Vectors_0.44.0.tar.gz, /tmp/RtmpQhdJMW/downloaded_packages/R.utils_2.12.3.tar.gz, /tmp/RtmpQhdJMW/downloaded_packages/SummarizedExperiment_1.36.0.tar.gz, /tmp/RtmpQhdJMW/downloaded_packages/TCGAbiolinksGUI.data_1.26.0.tar.gz, /tmp/RtmpQhdJMW/downloaded_packages/BiocVersion_3.20.0.tar.gz, /tmp/RtmpQhdJMW/downloaded_packages/TCGAbiolinks_2.34.0.tar.gz\n",
            "\n",
            "files: /tmp/RtmpQhdJMW/downloaded_packages/plogr_0.2.0.tar.gz, \n",
            "\t/tmp/RtmpQhdJMW/downloaded_packages/png_0.1-8.tar.gz, \n",
            "\t/tmp/RtmpQhdJMW/downloaded_packages/Biostrings_2.74.1.tar.gz, \n",
            "\t/tmp/RtmpQhdJMW/downloaded_packages/RSQLite_2.3.9.tar.gz, \n",
            "\t/tmp/RtmpQhdJMW/downloaded_packages/KEGGREST_1.46.0.tar.gz, \n",
            "\t/tmp/RtmpQhdJMW/downloaded_packages/filelock_1.0.3.tar.gz, \n",
            "\t/tmp/RtmpQhdJMW/downloaded_packages/UCSC.utils_1.2.0.tar.gz, \n",
            "\t/tmp/RtmpQhdJMW/downloaded_packages/GenomeInfoDbData_1.2.13.tar.gz, \n",
            "\t/tmp/RtmpQhdJMW/downloaded_packages/zlibbioc_1.52.0.tar.gz, \n",
            "\t/tmp/RtmpQhdJMW/downloaded_packages/matrixStats_1.5.0.tar.gz, \n",
            "\t/tmp/RtmpQhdJMW/downloaded_packages/abind_1.4-8.tar.gz, \n",
            "\t/tmp/RtmpQhdJMW/downloaded_packages/SparseArray_1.6.0.tar.gz, \n",
            "\t/tmp/RtmpQhdJMW/downloaded_packages/AnnotationDbi_1.68.0.tar.gz, \n",
            "\t/tmp/RtmpQhdJMW/downloaded_packages/BiocFileCache_2.14.0.tar.gz, \n",
            "\t/tmp/RtmpQhdJMW/downloaded_packages/BiocGenerics_0.52.0.tar.gz, \n",
            "\t/tmp/RtmpQhdJMW/downloaded_packages/GenomeInfoDb_1.42.1.tar.gz, \n",
            "\t/tmp/RtmpQhdJMW/downloaded_packages/XVector_0.46.0.tar.gz, \n",
            "\t/tmp/RtmpQhdJMW/downloaded_packages/R.oo_1.27.0.tar.gz, \n",
            "\t/tmp/RtmpQhdJMW/downloaded_packages/R.methodsS3_1.8.2.tar.gz, \n",
            "\t/tmp/RtmpQhdJMW/downloaded_packages/MatrixGenerics_1.18.1.tar.gz, \n",
            "\t/tmp/RtmpQhdJMW/downloaded_packages/Biobase_2.66.0.tar.gz, \n",
            "\t/tmp/RtmpQhdJMW/downloaded_packages/S4Arrays_1.6.0.tar.gz, \n",
            "\t/tmp/RtmpQhdJMW/downloaded_packages/DelayedArray_0.32.0.tar.gz, \n",
            "\t/tmp/RtmpQhdJMW/downloaded_packages/downloader_0.4.tar.gz, \n",
            "\t/tmp/RtmpQhdJMW/downloaded_packages/biomaRt_2.62.0.tar.gz, \n",
            "\t/tmp/RtmpQhdJMW/downloaded_packages/GenomicRanges_1.58.0.tar.gz, \n",
            "\t/tmp/RtmpQhdJMW/downloaded_packages/XML_3.99-0.18.tar.gz, \n",
            "\t/tmp/RtmpQhdJMW/downloaded_packages/plyr_1.8.9.tar.gz, \n",
            "\t/tmp/RtmpQhdJMW/downloaded_packages/IRanges_2.40.1.tar.gz, \n",
            "\t/tmp/RtmpQhdJMW/downloaded_packages/S4Vectors_0.44.0.tar.gz, \n",
            "\t/tmp/RtmpQhdJMW/downloaded_packages/R.utils_2.12.3.tar.gz, \n",
            "\t/tmp/RtmpQhdJMW/downloaded_packages/SummarizedExperiment_1.36.0.tar.gz, \n",
            "\t/tmp/RtmpQhdJMW/downloaded_packages/TCGAbiolinksGUI.data_1.26.0.tar.gz, \n",
            "\t/tmp/RtmpQhdJMW/downloaded_packages/BiocVersion_3.20.0.tar.gz, \n",
            "\t/tmp/RtmpQhdJMW/downloaded_packages/TCGAbiolinks_2.34.0.tar.gz\n",
            "\n",
            "1): succeeded '/usr/lib/R/bin/R CMD INSTALL -l '/usr/local/lib/R/site-library' '/tmp/RtmpQhdJMW/downloaded_packages/plogr_0.2.0.tar.gz''\n",
            "\n",
            "2): succeeded '/usr/lib/R/bin/R CMD INSTALL -l '/usr/local/lib/R/site-library' '/tmp/RtmpQhdJMW/downloaded_packages/png_0.1-8.tar.gz''\n",
            "\n",
            "3): succeeded '/usr/lib/R/bin/R CMD INSTALL -l '/usr/local/lib/R/site-library' '/tmp/RtmpQhdJMW/downloaded_packages/filelock_1.0.3.tar.gz''\n",
            "\n",
            "4): succeeded '/usr/lib/R/bin/R CMD INSTALL -l '/usr/local/lib/R/site-library' '/tmp/RtmpQhdJMW/downloaded_packages/GenomeInfoDbData_1.2.13.tar.gz''\n",
            "\n",
            "5): succeeded '/usr/lib/R/bin/R CMD INSTALL -l '/usr/local/lib/R/site-library' '/tmp/RtmpQhdJMW/downloaded_packages/zlibbioc_1.52.0.tar.gz''\n",
            "\n",
            "6): succeeded '/usr/lib/R/bin/R CMD INSTALL -l '/usr/local/lib/R/site-library' '/tmp/RtmpQhdJMW/downloaded_packages/matrixStats_1.5.0.tar.gz''\n",
            "\n",
            "7): succeeded '/usr/lib/R/bin/R CMD INSTALL -l '/usr/local/lib/R/site-library' '/tmp/RtmpQhdJMW/downloaded_packages/abind_1.4-8.tar.gz''\n",
            "\n",
            "8): succeeded '/usr/lib/R/bin/R CMD INSTALL -l '/usr/local/lib/R/site-library' '/tmp/RtmpQhdJMW/downloaded_packages/BiocGenerics_0.52.0.tar.gz''\n",
            "\n",
            "9): succeeded '/usr/lib/R/bin/R CMD INSTALL -l '/usr/local/lib/R/site-library' '/tmp/RtmpQhdJMW/downloaded_packages/R.methodsS3_1.8.2.tar.gz''\n",
            "\n",
            "10): succeeded '/usr/lib/R/bin/R CMD INSTALL -l '/usr/local/lib/R/site-library' '/tmp/RtmpQhdJMW/downloaded_packages/downloader_0.4.tar.gz''\n",
            "\n",
            "11): succeeded '/usr/lib/R/bin/R CMD INSTALL -l '/usr/local/lib/R/site-library' '/tmp/RtmpQhdJMW/downloaded_packages/XML_3.99-0.18.tar.gz''\n",
            "\n",
            "12): succeeded '/usr/lib/R/bin/R CMD INSTALL -l '/usr/local/lib/R/site-library' '/tmp/RtmpQhdJMW/downloaded_packages/plyr_1.8.9.tar.gz''\n",
            "\n",
            "13): succeeded '/usr/lib/R/bin/R CMD INSTALL -l '/usr/local/lib/R/site-library' '/tmp/RtmpQhdJMW/downloaded_packages/TCGAbiolinksGUI.data_1.26.0.tar.gz''\n",
            "\n",
            "14): succeeded '/usr/lib/R/bin/R CMD INSTALL -l '/usr/local/lib/R/site-library' '/tmp/RtmpQhdJMW/downloaded_packages/BiocVersion_3.20.0.tar.gz''\n",
            "\n",
            "15): succeeded '/usr/lib/R/bin/R CMD INSTALL -l '/usr/local/lib/R/site-library' '/tmp/RtmpQhdJMW/downloaded_packages/RSQLite_2.3.9.tar.gz''\n",
            "\n",
            "16): succeeded '/usr/lib/R/bin/R CMD INSTALL -l '/usr/local/lib/R/site-library' '/tmp/RtmpQhdJMW/downloaded_packages/R.oo_1.27.0.tar.gz''\n",
            "\n",
            "17): succeeded '/usr/lib/R/bin/R CMD INSTALL -l '/usr/local/lib/R/site-library' '/tmp/RtmpQhdJMW/downloaded_packages/MatrixGenerics_1.18.1.tar.gz''\n",
            "\n",
            "18): succeeded '/usr/lib/R/bin/R CMD INSTALL -l '/usr/local/lib/R/site-library' '/tmp/RtmpQhdJMW/downloaded_packages/Biobase_2.66.0.tar.gz''\n",
            "\n",
            "19): succeeded '/usr/lib/R/bin/R CMD INSTALL -l '/usr/local/lib/R/site-library' '/tmp/RtmpQhdJMW/downloaded_packages/S4Vectors_0.44.0.tar.gz''\n",
            "\n",
            "20): succeeded '/usr/lib/R/bin/R CMD INSTALL -l '/usr/local/lib/R/site-library' '/tmp/RtmpQhdJMW/downloaded_packages/UCSC.utils_1.2.0.tar.gz''\n",
            "\n",
            "21): succeeded '/usr/lib/R/bin/R CMD INSTALL -l '/usr/local/lib/R/site-library' '/tmp/RtmpQhdJMW/downloaded_packages/BiocFileCache_2.14.0.tar.gz''\n",
            "\n",
            "22): succeeded '/usr/lib/R/bin/R CMD INSTALL -l '/usr/local/lib/R/site-library' '/tmp/RtmpQhdJMW/downloaded_packages/IRanges_2.40.1.tar.gz''\n",
            "\n",
            "23): succeeded '/usr/lib/R/bin/R CMD INSTALL -l '/usr/local/lib/R/site-library' '/tmp/RtmpQhdJMW/downloaded_packages/R.utils_2.12.3.tar.gz''\n",
            "\n",
            "24): succeeded '/usr/lib/R/bin/R CMD INSTALL -l '/usr/local/lib/R/site-library' '/tmp/RtmpQhdJMW/downloaded_packages/GenomeInfoDb_1.42.1.tar.gz''\n",
            "\n",
            "25): succeeded '/usr/lib/R/bin/R CMD INSTALL -l '/usr/local/lib/R/site-library' '/tmp/RtmpQhdJMW/downloaded_packages/XVector_0.46.0.tar.gz''\n",
            "\n",
            "26): succeeded '/usr/lib/R/bin/R CMD INSTALL -l '/usr/local/lib/R/site-library' '/tmp/RtmpQhdJMW/downloaded_packages/S4Arrays_1.6.0.tar.gz''\n",
            "\n",
            "27): succeeded '/usr/lib/R/bin/R CMD INSTALL -l '/usr/local/lib/R/site-library' '/tmp/RtmpQhdJMW/downloaded_packages/Biostrings_2.74.1.tar.gz''\n",
            "\n",
            "28): succeeded '/usr/lib/R/bin/R CMD INSTALL -l '/usr/local/lib/R/site-library' '/tmp/RtmpQhdJMW/downloaded_packages/SparseArray_1.6.0.tar.gz''\n",
            "\n",
            "29): succeeded '/usr/lib/R/bin/R CMD INSTALL -l '/usr/local/lib/R/site-library' '/tmp/RtmpQhdJMW/downloaded_packages/GenomicRanges_1.58.0.tar.gz''\n",
            "\n",
            "30): succeeded '/usr/lib/R/bin/R CMD INSTALL -l '/usr/local/lib/R/site-library' '/tmp/RtmpQhdJMW/downloaded_packages/KEGGREST_1.46.0.tar.gz''\n",
            "\n",
            "31): succeeded '/usr/lib/R/bin/R CMD INSTALL -l '/usr/local/lib/R/site-library' '/tmp/RtmpQhdJMW/downloaded_packages/DelayedArray_0.32.0.tar.gz''\n",
            "\n",
            "32): succeeded '/usr/lib/R/bin/R CMD INSTALL -l '/usr/local/lib/R/site-library' '/tmp/RtmpQhdJMW/downloaded_packages/AnnotationDbi_1.68.0.tar.gz''\n",
            "\n",
            "33): succeeded '/usr/lib/R/bin/R CMD INSTALL -l '/usr/local/lib/R/site-library' '/tmp/RtmpQhdJMW/downloaded_packages/SummarizedExperiment_1.36.0.tar.gz''\n",
            "\n",
            "34): succeeded '/usr/lib/R/bin/R CMD INSTALL -l '/usr/local/lib/R/site-library' '/tmp/RtmpQhdJMW/downloaded_packages/biomaRt_2.62.0.tar.gz''\n",
            "\n",
            "35): succeeded '/usr/lib/R/bin/R CMD INSTALL -l '/usr/local/lib/R/site-library' '/tmp/RtmpQhdJMW/downloaded_packages/TCGAbiolinks_2.34.0.tar.gz''\n",
            "\n",
            "Old packages: 'evaluate', 'foreign', 'openssl', 'Rcpp', 'testthat'\n",
            "\n",
            "system (cmd0): /usr/lib/R/bin/R CMD INSTALL\n",
            "\n",
            "foundpkgs: evaluate, foreign, openssl, Rcpp, testthat, /tmp/RtmpQhdJMW/downloaded_packages/evaluate_1.0.3.tar.gz, /tmp/RtmpQhdJMW/downloaded_packages/foreign_0.8-88.tar.gz, /tmp/RtmpQhdJMW/downloaded_packages/openssl_2.3.1.tar.gz, /tmp/RtmpQhdJMW/downloaded_packages/Rcpp_1.0.14.tar.gz, /tmp/RtmpQhdJMW/downloaded_packages/testthat_3.2.3.tar.gz\n",
            "\n",
            "files: /tmp/RtmpQhdJMW/downloaded_packages/evaluate_1.0.3.tar.gz, \n",
            "\t/tmp/RtmpQhdJMW/downloaded_packages/foreign_0.8-88.tar.gz, \n",
            "\t/tmp/RtmpQhdJMW/downloaded_packages/openssl_2.3.1.tar.gz, \n",
            "\t/tmp/RtmpQhdJMW/downloaded_packages/Rcpp_1.0.14.tar.gz, \n",
            "\t/tmp/RtmpQhdJMW/downloaded_packages/testthat_3.2.3.tar.gz\n",
            "\n",
            "1): succeeded '/usr/lib/R/bin/R CMD INSTALL -l '/usr/lib/R/site-library' '/tmp/RtmpQhdJMW/downloaded_packages/evaluate_1.0.3.tar.gz''\n",
            "\n",
            "2): succeeded '/usr/lib/R/bin/R CMD INSTALL -l '/usr/lib/R/site-library' '/tmp/RtmpQhdJMW/downloaded_packages/foreign_0.8-88.tar.gz''\n",
            "\n",
            "3): succeeded '/usr/lib/R/bin/R CMD INSTALL -l '/usr/lib/R/site-library' '/tmp/RtmpQhdJMW/downloaded_packages/openssl_2.3.1.tar.gz''\n",
            "\n",
            "4): succeeded '/usr/lib/R/bin/R CMD INSTALL -l '/usr/lib/R/site-library' '/tmp/RtmpQhdJMW/downloaded_packages/Rcpp_1.0.14.tar.gz''\n",
            "\n",
            "5): succeeded '/usr/lib/R/bin/R CMD INSTALL -l '/usr/lib/R/site-library' '/tmp/RtmpQhdJMW/downloaded_packages/testthat_3.2.3.tar.gz''\n",
            "\n"
          ]
        }
      ]
    },
    {
      "cell_type": "code",
      "source": [
        "library(TCGAbiolinks)"
      ],
      "metadata": {
        "id": "_L30pBthMC1p"
      },
      "execution_count": 51,
      "outputs": []
    },
    {
      "cell_type": "code",
      "source": [
        "clinical_data <- GDCquery_clinic(project = \"TCGA-TGCT\", type = \"clinical\")"
      ],
      "metadata": {
        "id": "J-pNiw9jd3uS"
      },
      "execution_count": 5,
      "outputs": []
    },
    {
      "cell_type": "code",
      "source": [
        "teratoma_submitter_ids <- clinical_data$submitter_id[clinical_data$primary_diagnosis == \"Teratoma, benign\"]\n",
        "teratoma_submitter_ids <- teratoma_submitter_ids[!is.na(teratoma_submitter_ids)]\n",
        "\n",
        "# View the result\n",
        "teratoma_submitter_ids"
      ],
      "metadata": {
        "colab": {
          "base_uri": "https://localhost:8080/",
          "height": 34
        },
        "id": "WHpwllvZeFXU",
        "outputId": "dad107ce-ee23-4783-9548-52410f5478d6"
      },
      "execution_count": 6,
      "outputs": [
        {
          "output_type": "display_data",
          "data": {
            "text/html": [
              "<style>\n",
              ".list-inline {list-style: none; margin:0; padding: 0}\n",
              ".list-inline>li {display: inline-block}\n",
              ".list-inline>li:not(:last-child)::after {content: \"\\00b7\"; padding: 0 .5ex}\n",
              "</style>\n",
              "<ol class=list-inline><li>'TCGA-2G-AAG5'</li><li>'TCGA-2G-AAG6'</li><li>'TCGA-2G-AAGY'</li><li>'TCGA-2G-AAGV'</li><li>'TCGA-2G-AAGX'</li></ol>\n"
            ],
            "text/markdown": "1. 'TCGA-2G-AAG5'\n2. 'TCGA-2G-AAG6'\n3. 'TCGA-2G-AAGY'\n4. 'TCGA-2G-AAGV'\n5. 'TCGA-2G-AAGX'\n\n\n",
            "text/latex": "\\begin{enumerate*}\n\\item 'TCGA-2G-AAG5'\n\\item 'TCGA-2G-AAG6'\n\\item 'TCGA-2G-AAGY'\n\\item 'TCGA-2G-AAGV'\n\\item 'TCGA-2G-AAGX'\n\\end{enumerate*}\n",
            "text/plain": [
              "[1] \"TCGA-2G-AAG5\" \"TCGA-2G-AAG6\" \"TCGA-2G-AAGY\" \"TCGA-2G-AAGV\" \"TCGA-2G-AAGX\""
            ]
          },
          "metadata": {}
        }
      ]
    },
    {
      "cell_type": "code",
      "execution_count": 7,
      "metadata": {
        "id": "NPa3zhTFZtod",
        "colab": {
          "base_uri": "https://localhost:8080/"
        },
        "outputId": "c69b4e70-ebc7-4ee4-c470-4503aac47ba7"
      },
      "outputs": [
        {
          "output_type": "stream",
          "name": "stderr",
          "text": [
            "--------------------------------------\n",
            "\n",
            "o GDCquery: Searching in GDC database\n",
            "\n",
            "--------------------------------------\n",
            "\n",
            "Genome of reference: hg38\n",
            "\n",
            "--------------------------------------------\n",
            "\n",
            "oo Accessing GDC. This might take a while...\n",
            "\n",
            "--------------------------------------------\n",
            "\n",
            "ooo Project: TCGA-TGCT\n",
            "\n",
            "--------------------\n",
            "\n",
            "oo Filtering results\n",
            "\n",
            "--------------------\n",
            "\n",
            "ooo By data.type\n",
            "\n",
            "ooo By barcode\n",
            "\n",
            "----------------\n",
            "\n",
            "oo Checking data\n",
            "\n",
            "----------------\n",
            "\n",
            "ooo Checking if there are duplicated cases\n",
            "\n",
            "ooo Checking if there are results for the query\n",
            "\n",
            "-------------------\n",
            "\n",
            "o Preparing output\n",
            "\n",
            "-------------------\n",
            "\n"
          ]
        }
      ],
      "source": [
        "query_miRNA_1 <- GDCquery(\n",
        "  project = \"TCGA-TGCT\",\n",
        "  data.category = \"Transcriptome Profiling\",\n",
        "  data.type = \"Isoform Expression Quantification\",\n",
        "  barcode = teratoma_submitter_ids\n",
        ")"
      ]
    },
    {
      "cell_type": "code",
      "source": [
        "GDCdownload(query_miRNA_1)\n",
        "\n",
        "# Prepare the data for analysis\n"
      ],
      "metadata": {
        "id": "jlPR6gIlf55q",
        "colab": {
          "base_uri": "https://localhost:8080/"
        },
        "outputId": "b776f979-14eb-41df-d696-22a4df827efe"
      },
      "execution_count": 8,
      "outputs": [
        {
          "output_type": "stream",
          "name": "stderr",
          "text": [
            "Downloading data for project TCGA-TGCT\n",
            "\n",
            "GDCdownload will download 6 files. A total of 3.467809 MB\n",
            "\n",
            "Downloading as: Tue_Jan_14_09_42_46_2025.tar.gz\n",
            "\n"
          ]
        },
        {
          "output_type": "stream",
          "name": "stdout",
          "text": [
            "Downloading: 390 kB     "
          ]
        }
      ]
    },
    {
      "cell_type": "code",
      "source": [
        "data_teratoma <- GDCprepare(query_miRNA_1)"
      ],
      "metadata": {
        "id": "FlMhs61YgCkM",
        "colab": {
          "base_uri": "https://localhost:8080/"
        },
        "outputId": "2b6732fa-5e03-429d-9a7d-de4ed0c39920"
      },
      "execution_count": 110,
      "outputs": [
        {
          "output_type": "stream",
          "name": "stdout",
          "text": [
            "  |======================================================================| 100%\n"
          ]
        }
      ]
    },
    {
      "cell_type": "code",
      "source": [
        "head(data_teratoma)"
      ],
      "metadata": {
        "id": "jeyDIZP9vRQb"
      },
      "execution_count": null,
      "outputs": []
    },
    {
      "cell_type": "code",
      "source": [
        "library(dplyr)\n",
        "library(tidyr)"
      ],
      "metadata": {
        "id": "H-aBK8CkfR5t"
      },
      "execution_count": 50,
      "outputs": []
    },
    {
      "cell_type": "code",
      "source": [
        "# Combine miRNA_ID and miRNA_region into a single identifier\n",
        "data_teratoma <- data_teratoma %>%\n",
        "  mutate(miRNA_id_and_region = paste(miRNA_ID, miRNA_region, sep = \", \"))\n",
        "\n",
        "# This should be summing the read counts per million RNA mapped, but instead it sums the regular read counts\n",
        "aggregated_data_teratoma <- data_teratoma %>%\n",
        "  group_by(miRNA_id_and_region, barcode) %>%\n",
        "  summarise(total_reads_per_million_miRNA_mapped = sum(reads_per_million_miRNA_mapped), .groups = \"drop\")\n",
        "\n",
        "# Reshape into wide format\n",
        "final_teratoma_reads_per_million_miRNA_mapped <- aggregated_data_teratoma %>%\n",
        "  pivot_wider(names_from = barcode, values_from = total_reads_per_million_miRNA_mapped, values_fill = 0)\n",
        "\n",
        "# View the resulting table\n",
        "head(final_teratoma_reads_per_million_miRNA_mapped, n = 20)"
      ],
      "metadata": {
        "id": "1OUfFuKeUFbe"
      },
      "execution_count": null,
      "outputs": []
    },
    {
      "cell_type": "code",
      "source": [
        "teratoma_reads <- as.data.frame(final_teratoma_reads_per_million_miRNA_mapped[,-1])\n",
        "rownames(teratoma_reads) <- final_teratoma_reads_per_million_miRNA_mapped$miRNA_id_and_region"
      ],
      "metadata": {
        "id": "ehmsZDZkmwXb"
      },
      "execution_count": null,
      "outputs": []
    },
    {
      "cell_type": "code",
      "source": [
        "head(teratoma_reads, n =10)\n"
      ],
      "metadata": {
        "id": "n0r5Lf4xj7gg"
      },
      "execution_count": null,
      "outputs": []
    },
    {
      "cell_type": "code",
      "source": [
        "print(sum(teratoma_reads$'TCGA-2G-AAG5-01A-11R-A439-13'))"
      ],
      "metadata": {
        "colab": {
          "base_uri": "https://localhost:8080/"
        },
        "id": "hsciYhD_cfTc",
        "outputId": "b6263328-ea78-4891-830e-f1d613830f4c"
      },
      "execution_count": 117,
      "outputs": [
        {
          "output_type": "stream",
          "name": "stdout",
          "text": [
            "[1] 1e+06\n"
          ]
        }
      ]
    },
    {
      "cell_type": "code",
      "source": [
        "other_submitter_ids <- clinical_data$submitter_id[clinical_data$primary_diagnosis != \"Teratoma, benign\"]\n",
        "other_submitter_ids <- other_submitter_ids[!is.na(other_submitter_ids)]\n",
        "\n",
        "# View the result\n",
        "other_submitter_ids"
      ],
      "metadata": {
        "id": "JEuuPDm0iCK5"
      },
      "execution_count": null,
      "outputs": []
    },
    {
      "cell_type": "code",
      "source": [
        "query_miRNA_2 <- GDCquery(\n",
        "  project = \"TCGA-TGCT\",\n",
        "  data.category = \"Transcriptome Profiling\",\n",
        "  data.type = \"Isoform Expression Quantification\",\n",
        "  barcode = other_submitter_ids\n",
        ")"
      ],
      "metadata": {
        "id": "X_ee_JW5ikga",
        "colab": {
          "base_uri": "https://localhost:8080/"
        },
        "outputId": "33bbb383-ecc6-4613-e5f5-00c4668917e4"
      },
      "execution_count": 56,
      "outputs": [
        {
          "output_type": "stream",
          "name": "stderr",
          "text": [
            "--------------------------------------\n",
            "\n",
            "o GDCquery: Searching in GDC database\n",
            "\n",
            "--------------------------------------\n",
            "\n",
            "Genome of reference: hg38\n",
            "\n",
            "--------------------------------------------\n",
            "\n",
            "oo Accessing GDC. This might take a while...\n",
            "\n",
            "--------------------------------------------\n",
            "\n",
            "ooo Project: TCGA-TGCT\n",
            "\n",
            "--------------------\n",
            "\n",
            "oo Filtering results\n",
            "\n",
            "--------------------\n",
            "\n",
            "ooo By data.type\n",
            "\n",
            "ooo By barcode\n",
            "\n",
            "----------------\n",
            "\n",
            "oo Checking data\n",
            "\n",
            "----------------\n",
            "\n",
            "ooo Checking if there are duplicated cases\n",
            "\n",
            "ooo Checking if there are results for the query\n",
            "\n",
            "-------------------\n",
            "\n",
            "o Preparing output\n",
            "\n",
            "-------------------\n",
            "\n"
          ]
        }
      ]
    },
    {
      "cell_type": "code",
      "source": [
        "GDCdownload(query_miRNA_2)\n"
      ],
      "metadata": {
        "id": "Cl5YDEHPix3Q",
        "colab": {
          "base_uri": "https://localhost:8080/"
        },
        "outputId": "c06bbd78-8ed7-4c99-a216-0e9828cbb895"
      },
      "execution_count": 57,
      "outputs": [
        {
          "output_type": "stream",
          "name": "stderr",
          "text": [
            "Downloading data for project TCGA-TGCT\n",
            "\n",
            "GDCdownload will download 133 files. A total of 72.845722 MB\n",
            "\n",
            "Downloading as: Tue_Jan_14_11_07_57_2025.tar.gz\n",
            "\n"
          ]
        },
        {
          "output_type": "stream",
          "name": "stdout",
          "text": [
            "Downloading: 8.1 MB     "
          ]
        }
      ]
    },
    {
      "cell_type": "code",
      "source": [
        "data_other <- GDCprepare(query_miRNA_2)"
      ],
      "metadata": {
        "id": "ejtbf9n8i6in",
        "colab": {
          "base_uri": "https://localhost:8080/"
        },
        "outputId": "b756c9be-a490-4a5b-dba1-8ce9787eb1d9"
      },
      "execution_count": 113,
      "outputs": [
        {
          "output_type": "stream",
          "name": "stdout",
          "text": [
            "  |======================================================================| 100%\n"
          ]
        }
      ]
    },
    {
      "cell_type": "code",
      "source": [
        "# Combine miRNA_ID and miRNA_region into a single identifier\n",
        "data_other <- data_other %>%\n",
        "  mutate(miRNA_id_and_region = paste(miRNA_ID, miRNA_region, sep = \", \"))\n",
        "\n",
        "# This should be summing the read counts per million RNA mapped, but instead it sums the regular read counts\n",
        "aggregated_data_other <- data_other %>%\n",
        "  group_by(miRNA_id_and_region, barcode) %>%\n",
        "  summarise(total_reads_per_million_miRNA_mapped = sum(reads_per_million_miRNA_mapped), .groups = \"drop\")\n",
        "\n",
        "# Reshape into wide format\n",
        "final_other_reads_per_million_miRNA_mapped <- aggregated_data_other %>%\n",
        "  pivot_wider(names_from = barcode, values_from = total_reads_per_million_miRNA_mapped, values_fill = 0)\n",
        "\n",
        "# View the resulting table\n",
        "head(final_other_reads_per_million_miRNA_mapped, n = 20)"
      ],
      "metadata": {
        "id": "zyFVZRThjAK3"
      },
      "execution_count": null,
      "outputs": []
    },
    {
      "cell_type": "code",
      "source": [
        "other_reads <- as.data.frame(final_other_reads_per_million_miRNA_mapped[,-1])\n",
        "rownames(other_reads) <- final_other_reads_per_million_miRNA_mapped$miRNA_id_and_region"
      ],
      "metadata": {
        "id": "B7IONsxum11r"
      },
      "execution_count": 88,
      "outputs": []
    },
    {
      "cell_type": "code",
      "source": [
        "#teratoma_reads[grepl('371', rownames(teratoma_reads)),]"
      ],
      "metadata": {
        "id": "Ws_GQhaAtwJp"
      },
      "execution_count": null,
      "outputs": []
    },
    {
      "cell_type": "code",
      "source": [
        "#other_reads[grepl('371', rownames(other_reads)),]"
      ],
      "metadata": {
        "id": "LHYj4tQYxCyM"
      },
      "execution_count": null,
      "outputs": []
    },
    {
      "cell_type": "code",
      "source": [
        "filtered_teratoma = teratoma_reads[(rowSums(teratoma_reads[])>1*ncol(teratoma_reads)),]\n",
        "print(nrow(filtered_teratoma))"
      ],
      "metadata": {
        "colab": {
          "base_uri": "https://localhost:8080/"
        },
        "id": "Oo1lO9xsoo9v",
        "outputId": "48b3aec3-2a91-414c-ff2e-82c9ee12f4f9"
      },
      "execution_count": 121,
      "outputs": [
        {
          "output_type": "stream",
          "name": "stdout",
          "text": [
            "[1] 801\n"
          ]
        }
      ]
    },
    {
      "cell_type": "code",
      "source": [
        "filtered_other = other_reads[(rowSums(other_reads[])>1*ncol(other_reads)),]\n",
        "print(nrow(filtered_other))"
      ],
      "metadata": {
        "colab": {
          "base_uri": "https://localhost:8080/"
        },
        "id": "xnzZjAWwhd3r",
        "outputId": "9bdcec8b-3539-4247-8998-6c7851fb0127"
      },
      "execution_count": 122,
      "outputs": [
        {
          "output_type": "stream",
          "name": "stdout",
          "text": [
            "[1] 947\n"
          ]
        }
      ]
    },
    {
      "cell_type": "code",
      "source": [
        "#sujungiam naudodami chat GPT koda...\n",
        "\n",
        "# Find the union of row names\n",
        "all_rows <- union(rownames(filtered_teratoma), rownames(filtered_other))\n",
        "\n",
        "# Reindex filtered_teratoma to include all rows, fill missing rows with 0\n",
        "filtered_teratoma_full <- data.frame(matrix(0, nrow = length(all_rows), ncol = ncol(filtered_teratoma)))\n",
        "rownames(filtered_teratoma_full) <- all_rows\n",
        "colnames(filtered_teratoma_full) <- colnames(filtered_teratoma)\n",
        "filtered_teratoma_full[rownames(filtered_teratoma), ] <- filtered_teratoma\n",
        "\n",
        "# Reindex filtered_other to include all rows, fill missing rows with 0\n",
        "filtered_other_full <- data.frame(matrix(0, nrow = length(all_rows), ncol = ncol(filtered_other)))\n",
        "rownames(filtered_other_full) <- all_rows\n",
        "colnames(filtered_other_full) <- colnames(filtered_other)\n",
        "filtered_other_full[rownames(filtered_other), ] <- filtered_other\n",
        "\n",
        "# Combine the two data frames by column\n",
        "combined_df <- cbind(filtered_teratoma_full, filtered_other_full)\n",
        "\n",
        "# View the resulting combined data frame\n",
        "print(combined_df)\n"
      ],
      "metadata": {
        "collapsed": true,
        "id": "KVUS8iyTzZ4D"
      },
      "execution_count": null,
      "outputs": []
    },
    {
      "cell_type": "code",
      "source": [
        "write.csv(combined_df, file = \"filtered_isoform_read_per_million_RNA_mapped.csv\", row.names = TRUE)"
      ],
      "metadata": {
        "id": "fZMfRHaVlmTo"
      },
      "execution_count": 133,
      "outputs": []
    }
  ]
}