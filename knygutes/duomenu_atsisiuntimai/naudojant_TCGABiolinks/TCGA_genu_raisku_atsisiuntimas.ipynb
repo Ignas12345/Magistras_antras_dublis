{
  "nbformat": 4,
  "nbformat_minor": 0,
  "metadata": {
    "colab": {
      "provenance": [],
      "gpuType": "T4",
      "authorship_tag": "ABX9TyPnGMa6NsGHdsOGvzCM2h98",
      "include_colab_link": true
    },
    "kernelspec": {
      "name": "ir",
      "display_name": "R"
    },
    "language_info": {
      "name": "R"
    },
    "accelerator": "GPU"
  },
  "cells": [
    {
      "cell_type": "markdown",
      "metadata": {
        "id": "view-in-github",
        "colab_type": "text"
      },
      "source": [
        "<a href=\"https://colab.research.google.com/github/Ignas12345/Magistro_projektas/blob/main/knygutes/TCGA_genu_raisku_atsisiuntimas.ipynb\" target=\"_parent\"><img src=\"https://colab.research.google.com/assets/colab-badge.svg\" alt=\"Open In Colab\"/></a>"
      ]
    },
    {
      "cell_type": "code",
      "source": [
        "if (!requireNamespace(\"BiocManager\", quietly = TRUE))\n",
        "    install.packages(\"BiocManager\")"
      ],
      "metadata": {
        "id": "MYApbw0KaQAn",
        "colab": {
          "base_uri": "https://localhost:8080/"
        },
        "outputId": "7ad08907-6917-484f-cae6-2f05977653a4"
      },
      "execution_count": 1,
      "outputs": [
        {
          "output_type": "stream",
          "name": "stderr",
          "text": [
            "Installing package into ‘/usr/local/lib/R/site-library’\n",
            "(as ‘lib’ is unspecified)\n",
            "\n"
          ]
        }
      ]
    },
    {
      "cell_type": "code",
      "source": [
        "BiocManager::install(\"TCGAbiolinks\", ask = FALSE, verbose = TRUE)"
      ],
      "metadata": {
        "id": "W6AbVh8AcT6t",
        "colab": {
          "base_uri": "https://localhost:8080/"
        },
        "outputId": "8693147a-3b52-4849-b3b6-5842a2412c7f"
      },
      "execution_count": 2,
      "outputs": [
        {
          "output_type": "stream",
          "name": "stderr",
          "text": [
            "'getOption(\"repos\")' replaces Bioconductor standard repositories, see\n",
            "'help(\"repositories\", package = \"BiocManager\")' for details.\n",
            "Replacement repositories:\n",
            "    CRAN: https://cran.rstudio.com\n",
            "\n",
            "Bioconductor version 3.20 (BiocManager 1.30.25), R 4.4.2 (2024-10-31)\n",
            "\n",
            "Installing package(s) 'BiocVersion', 'TCGAbiolinks'\n",
            "\n",
            "system (cmd0): /usr/lib/R/bin/R CMD INSTALL\n",
            "\n",
            "also installing the dependencies ‘plogr’, ‘png’, ‘Biostrings’, ‘RSQLite’, ‘KEGGREST’, ‘filelock’, ‘UCSC.utils’, ‘GenomeInfoDbData’, ‘zlibbioc’, ‘matrixStats’, ‘abind’, ‘SparseArray’, ‘AnnotationDbi’, ‘BiocFileCache’, ‘BiocGenerics’, ‘GenomeInfoDb’, ‘XVector’, ‘R.oo’, ‘R.methodsS3’, ‘MatrixGenerics’, ‘Biobase’, ‘S4Arrays’, ‘DelayedArray’, ‘downloader’, ‘biomaRt’, ‘GenomicRanges’, ‘XML’, ‘plyr’, ‘IRanges’, ‘S4Vectors’, ‘R.utils’, ‘SummarizedExperiment’, ‘TCGAbiolinksGUI.data’\n",
            "\n",
            "\n",
            "foundpkgs: plogr, png, Biostrings, RSQLite, KEGGREST, filelock, UCSC.utils, GenomeInfoDbData, zlibbioc, matrixStats, abind, SparseArray, AnnotationDbi, BiocFileCache, BiocGenerics, GenomeInfoDb, XVector, R.oo, R.methodsS3, MatrixGenerics, Biobase, S4Arrays, DelayedArray, downloader, biomaRt, GenomicRanges, XML, plyr, IRanges, S4Vectors, R.utils, SummarizedExperiment, TCGAbiolinksGUI.data, BiocVersion, TCGAbiolinks, /tmp/RtmpAsKjSX/downloaded_packages/plogr_0.2.0.tar.gz, /tmp/RtmpAsKjSX/downloaded_packages/png_0.1-8.tar.gz, /tmp/RtmpAsKjSX/downloaded_packages/Biostrings_2.74.1.tar.gz, /tmp/RtmpAsKjSX/downloaded_packages/RSQLite_2.3.9.tar.gz, /tmp/RtmpAsKjSX/downloaded_packages/KEGGREST_1.46.0.tar.gz, /tmp/RtmpAsKjSX/downloaded_packages/filelock_1.0.3.tar.gz, /tmp/RtmpAsKjSX/downloaded_packages/UCSC.utils_1.2.0.tar.gz, /tmp/RtmpAsKjSX/downloaded_packages/GenomeInfoDbData_1.2.13.tar.gz, /tmp/RtmpAsKjSX/downloaded_packages/zlibbioc_1.52.0.tar.gz, /tmp/RtmpAsKjSX/downloaded_packages/matrixStats_1.5.0.tar.gz, /tmp/RtmpAsKjSX/downloaded_packages/abind_1.4-8.tar.gz, /tmp/RtmpAsKjSX/downloaded_packages/SparseArray_1.6.0.tar.gz, /tmp/RtmpAsKjSX/downloaded_packages/AnnotationDbi_1.68.0.tar.gz, /tmp/RtmpAsKjSX/downloaded_packages/BiocFileCache_2.14.0.tar.gz, /tmp/RtmpAsKjSX/downloaded_packages/BiocGenerics_0.52.0.tar.gz, /tmp/RtmpAsKjSX/downloaded_packages/GenomeInfoDb_1.42.1.tar.gz, /tmp/RtmpAsKjSX/downloaded_packages/XVector_0.46.0.tar.gz, /tmp/RtmpAsKjSX/downloaded_packages/R.oo_1.27.0.tar.gz, /tmp/RtmpAsKjSX/downloaded_packages/R.methodsS3_1.8.2.tar.gz, /tmp/RtmpAsKjSX/downloaded_packages/MatrixGenerics_1.18.1.tar.gz, /tmp/RtmpAsKjSX/downloaded_packages/Biobase_2.66.0.tar.gz, /tmp/RtmpAsKjSX/downloaded_packages/S4Arrays_1.6.0.tar.gz, /tmp/RtmpAsKjSX/downloaded_packages/DelayedArray_0.32.0.tar.gz, /tmp/RtmpAsKjSX/downloaded_packages/downloader_0.4.tar.gz, /tmp/RtmpAsKjSX/downloaded_packages/biomaRt_2.62.0.tar.gz, /tmp/RtmpAsKjSX/downloaded_packages/GenomicRanges_1.58.0.tar.gz, /tmp/RtmpAsKjSX/downloaded_packages/XML_3.99-0.18.tar.gz, /tmp/RtmpAsKjSX/downloaded_packages/plyr_1.8.9.tar.gz, /tmp/RtmpAsKjSX/downloaded_packages/IRanges_2.40.1.tar.gz, /tmp/RtmpAsKjSX/downloaded_packages/S4Vectors_0.44.0.tar.gz, /tmp/RtmpAsKjSX/downloaded_packages/R.utils_2.12.3.tar.gz, /tmp/RtmpAsKjSX/downloaded_packages/SummarizedExperiment_1.36.0.tar.gz, /tmp/RtmpAsKjSX/downloaded_packages/TCGAbiolinksGUI.data_1.26.0.tar.gz, /tmp/RtmpAsKjSX/downloaded_packages/BiocVersion_3.20.0.tar.gz, /tmp/RtmpAsKjSX/downloaded_packages/TCGAbiolinks_2.34.0.tar.gz\n",
            "\n",
            "files: /tmp/RtmpAsKjSX/downloaded_packages/plogr_0.2.0.tar.gz, \n",
            "\t/tmp/RtmpAsKjSX/downloaded_packages/png_0.1-8.tar.gz, \n",
            "\t/tmp/RtmpAsKjSX/downloaded_packages/Biostrings_2.74.1.tar.gz, \n",
            "\t/tmp/RtmpAsKjSX/downloaded_packages/RSQLite_2.3.9.tar.gz, \n",
            "\t/tmp/RtmpAsKjSX/downloaded_packages/KEGGREST_1.46.0.tar.gz, \n",
            "\t/tmp/RtmpAsKjSX/downloaded_packages/filelock_1.0.3.tar.gz, \n",
            "\t/tmp/RtmpAsKjSX/downloaded_packages/UCSC.utils_1.2.0.tar.gz, \n",
            "\t/tmp/RtmpAsKjSX/downloaded_packages/GenomeInfoDbData_1.2.13.tar.gz, \n",
            "\t/tmp/RtmpAsKjSX/downloaded_packages/zlibbioc_1.52.0.tar.gz, \n",
            "\t/tmp/RtmpAsKjSX/downloaded_packages/matrixStats_1.5.0.tar.gz, \n",
            "\t/tmp/RtmpAsKjSX/downloaded_packages/abind_1.4-8.tar.gz, \n",
            "\t/tmp/RtmpAsKjSX/downloaded_packages/SparseArray_1.6.0.tar.gz, \n",
            "\t/tmp/RtmpAsKjSX/downloaded_packages/AnnotationDbi_1.68.0.tar.gz, \n",
            "\t/tmp/RtmpAsKjSX/downloaded_packages/BiocFileCache_2.14.0.tar.gz, \n",
            "\t/tmp/RtmpAsKjSX/downloaded_packages/BiocGenerics_0.52.0.tar.gz, \n",
            "\t/tmp/RtmpAsKjSX/downloaded_packages/GenomeInfoDb_1.42.1.tar.gz, \n",
            "\t/tmp/RtmpAsKjSX/downloaded_packages/XVector_0.46.0.tar.gz, \n",
            "\t/tmp/RtmpAsKjSX/downloaded_packages/R.oo_1.27.0.tar.gz, \n",
            "\t/tmp/RtmpAsKjSX/downloaded_packages/R.methodsS3_1.8.2.tar.gz, \n",
            "\t/tmp/RtmpAsKjSX/downloaded_packages/MatrixGenerics_1.18.1.tar.gz, \n",
            "\t/tmp/RtmpAsKjSX/downloaded_packages/Biobase_2.66.0.tar.gz, \n",
            "\t/tmp/RtmpAsKjSX/downloaded_packages/S4Arrays_1.6.0.tar.gz, \n",
            "\t/tmp/RtmpAsKjSX/downloaded_packages/DelayedArray_0.32.0.tar.gz, \n",
            "\t/tmp/RtmpAsKjSX/downloaded_packages/downloader_0.4.tar.gz, \n",
            "\t/tmp/RtmpAsKjSX/downloaded_packages/biomaRt_2.62.0.tar.gz, \n",
            "\t/tmp/RtmpAsKjSX/downloaded_packages/GenomicRanges_1.58.0.tar.gz, \n",
            "\t/tmp/RtmpAsKjSX/downloaded_packages/XML_3.99-0.18.tar.gz, \n",
            "\t/tmp/RtmpAsKjSX/downloaded_packages/plyr_1.8.9.tar.gz, \n",
            "\t/tmp/RtmpAsKjSX/downloaded_packages/IRanges_2.40.1.tar.gz, \n",
            "\t/tmp/RtmpAsKjSX/downloaded_packages/S4Vectors_0.44.0.tar.gz, \n",
            "\t/tmp/RtmpAsKjSX/downloaded_packages/R.utils_2.12.3.tar.gz, \n",
            "\t/tmp/RtmpAsKjSX/downloaded_packages/SummarizedExperiment_1.36.0.tar.gz, \n",
            "\t/tmp/RtmpAsKjSX/downloaded_packages/TCGAbiolinksGUI.data_1.26.0.tar.gz, \n",
            "\t/tmp/RtmpAsKjSX/downloaded_packages/BiocVersion_3.20.0.tar.gz, \n",
            "\t/tmp/RtmpAsKjSX/downloaded_packages/TCGAbiolinks_2.34.0.tar.gz\n",
            "\n",
            "1): succeeded '/usr/lib/R/bin/R CMD INSTALL -l '/usr/local/lib/R/site-library' '/tmp/RtmpAsKjSX/downloaded_packages/plogr_0.2.0.tar.gz''\n",
            "\n",
            "2): succeeded '/usr/lib/R/bin/R CMD INSTALL -l '/usr/local/lib/R/site-library' '/tmp/RtmpAsKjSX/downloaded_packages/png_0.1-8.tar.gz''\n",
            "\n",
            "3): succeeded '/usr/lib/R/bin/R CMD INSTALL -l '/usr/local/lib/R/site-library' '/tmp/RtmpAsKjSX/downloaded_packages/filelock_1.0.3.tar.gz''\n",
            "\n",
            "4): succeeded '/usr/lib/R/bin/R CMD INSTALL -l '/usr/local/lib/R/site-library' '/tmp/RtmpAsKjSX/downloaded_packages/GenomeInfoDbData_1.2.13.tar.gz''\n",
            "\n",
            "5): succeeded '/usr/lib/R/bin/R CMD INSTALL -l '/usr/local/lib/R/site-library' '/tmp/RtmpAsKjSX/downloaded_packages/zlibbioc_1.52.0.tar.gz''\n",
            "\n",
            "6): succeeded '/usr/lib/R/bin/R CMD INSTALL -l '/usr/local/lib/R/site-library' '/tmp/RtmpAsKjSX/downloaded_packages/matrixStats_1.5.0.tar.gz''\n",
            "\n",
            "7): succeeded '/usr/lib/R/bin/R CMD INSTALL -l '/usr/local/lib/R/site-library' '/tmp/RtmpAsKjSX/downloaded_packages/abind_1.4-8.tar.gz''\n",
            "\n",
            "8): succeeded '/usr/lib/R/bin/R CMD INSTALL -l '/usr/local/lib/R/site-library' '/tmp/RtmpAsKjSX/downloaded_packages/BiocGenerics_0.52.0.tar.gz''\n",
            "\n",
            "9): succeeded '/usr/lib/R/bin/R CMD INSTALL -l '/usr/local/lib/R/site-library' '/tmp/RtmpAsKjSX/downloaded_packages/R.methodsS3_1.8.2.tar.gz''\n",
            "\n",
            "10): succeeded '/usr/lib/R/bin/R CMD INSTALL -l '/usr/local/lib/R/site-library' '/tmp/RtmpAsKjSX/downloaded_packages/downloader_0.4.tar.gz''\n",
            "\n",
            "11): succeeded '/usr/lib/R/bin/R CMD INSTALL -l '/usr/local/lib/R/site-library' '/tmp/RtmpAsKjSX/downloaded_packages/XML_3.99-0.18.tar.gz''\n",
            "\n",
            "12): succeeded '/usr/lib/R/bin/R CMD INSTALL -l '/usr/local/lib/R/site-library' '/tmp/RtmpAsKjSX/downloaded_packages/plyr_1.8.9.tar.gz''\n",
            "\n",
            "13): succeeded '/usr/lib/R/bin/R CMD INSTALL -l '/usr/local/lib/R/site-library' '/tmp/RtmpAsKjSX/downloaded_packages/TCGAbiolinksGUI.data_1.26.0.tar.gz''\n",
            "\n",
            "14): succeeded '/usr/lib/R/bin/R CMD INSTALL -l '/usr/local/lib/R/site-library' '/tmp/RtmpAsKjSX/downloaded_packages/BiocVersion_3.20.0.tar.gz''\n",
            "\n",
            "15): succeeded '/usr/lib/R/bin/R CMD INSTALL -l '/usr/local/lib/R/site-library' '/tmp/RtmpAsKjSX/downloaded_packages/RSQLite_2.3.9.tar.gz''\n",
            "\n",
            "16): succeeded '/usr/lib/R/bin/R CMD INSTALL -l '/usr/local/lib/R/site-library' '/tmp/RtmpAsKjSX/downloaded_packages/R.oo_1.27.0.tar.gz''\n",
            "\n",
            "17): succeeded '/usr/lib/R/bin/R CMD INSTALL -l '/usr/local/lib/R/site-library' '/tmp/RtmpAsKjSX/downloaded_packages/MatrixGenerics_1.18.1.tar.gz''\n",
            "\n",
            "18): succeeded '/usr/lib/R/bin/R CMD INSTALL -l '/usr/local/lib/R/site-library' '/tmp/RtmpAsKjSX/downloaded_packages/Biobase_2.66.0.tar.gz''\n",
            "\n",
            "19): succeeded '/usr/lib/R/bin/R CMD INSTALL -l '/usr/local/lib/R/site-library' '/tmp/RtmpAsKjSX/downloaded_packages/S4Vectors_0.44.0.tar.gz''\n",
            "\n",
            "20): succeeded '/usr/lib/R/bin/R CMD INSTALL -l '/usr/local/lib/R/site-library' '/tmp/RtmpAsKjSX/downloaded_packages/UCSC.utils_1.2.0.tar.gz''\n",
            "\n",
            "21): succeeded '/usr/lib/R/bin/R CMD INSTALL -l '/usr/local/lib/R/site-library' '/tmp/RtmpAsKjSX/downloaded_packages/BiocFileCache_2.14.0.tar.gz''\n",
            "\n",
            "22): succeeded '/usr/lib/R/bin/R CMD INSTALL -l '/usr/local/lib/R/site-library' '/tmp/RtmpAsKjSX/downloaded_packages/IRanges_2.40.1.tar.gz''\n",
            "\n",
            "23): succeeded '/usr/lib/R/bin/R CMD INSTALL -l '/usr/local/lib/R/site-library' '/tmp/RtmpAsKjSX/downloaded_packages/R.utils_2.12.3.tar.gz''\n",
            "\n",
            "24): succeeded '/usr/lib/R/bin/R CMD INSTALL -l '/usr/local/lib/R/site-library' '/tmp/RtmpAsKjSX/downloaded_packages/GenomeInfoDb_1.42.1.tar.gz''\n",
            "\n",
            "25): succeeded '/usr/lib/R/bin/R CMD INSTALL -l '/usr/local/lib/R/site-library' '/tmp/RtmpAsKjSX/downloaded_packages/XVector_0.46.0.tar.gz''\n",
            "\n",
            "26): succeeded '/usr/lib/R/bin/R CMD INSTALL -l '/usr/local/lib/R/site-library' '/tmp/RtmpAsKjSX/downloaded_packages/S4Arrays_1.6.0.tar.gz''\n",
            "\n",
            "27): succeeded '/usr/lib/R/bin/R CMD INSTALL -l '/usr/local/lib/R/site-library' '/tmp/RtmpAsKjSX/downloaded_packages/Biostrings_2.74.1.tar.gz''\n",
            "\n",
            "28): succeeded '/usr/lib/R/bin/R CMD INSTALL -l '/usr/local/lib/R/site-library' '/tmp/RtmpAsKjSX/downloaded_packages/SparseArray_1.6.0.tar.gz''\n",
            "\n",
            "29): succeeded '/usr/lib/R/bin/R CMD INSTALL -l '/usr/local/lib/R/site-library' '/tmp/RtmpAsKjSX/downloaded_packages/GenomicRanges_1.58.0.tar.gz''\n",
            "\n",
            "30): succeeded '/usr/lib/R/bin/R CMD INSTALL -l '/usr/local/lib/R/site-library' '/tmp/RtmpAsKjSX/downloaded_packages/KEGGREST_1.46.0.tar.gz''\n",
            "\n",
            "31): succeeded '/usr/lib/R/bin/R CMD INSTALL -l '/usr/local/lib/R/site-library' '/tmp/RtmpAsKjSX/downloaded_packages/DelayedArray_0.32.0.tar.gz''\n",
            "\n",
            "32): succeeded '/usr/lib/R/bin/R CMD INSTALL -l '/usr/local/lib/R/site-library' '/tmp/RtmpAsKjSX/downloaded_packages/AnnotationDbi_1.68.0.tar.gz''\n",
            "\n",
            "33): succeeded '/usr/lib/R/bin/R CMD INSTALL -l '/usr/local/lib/R/site-library' '/tmp/RtmpAsKjSX/downloaded_packages/SummarizedExperiment_1.36.0.tar.gz''\n",
            "\n",
            "34): succeeded '/usr/lib/R/bin/R CMD INSTALL -l '/usr/local/lib/R/site-library' '/tmp/RtmpAsKjSX/downloaded_packages/biomaRt_2.62.0.tar.gz''\n",
            "\n",
            "35): succeeded '/usr/lib/R/bin/R CMD INSTALL -l '/usr/local/lib/R/site-library' '/tmp/RtmpAsKjSX/downloaded_packages/TCGAbiolinks_2.34.0.tar.gz''\n",
            "\n",
            "Old packages: 'bit64', 'httr2', 'pkgbuild', 'rlang', 'systemfonts'\n",
            "\n",
            "system (cmd0): /usr/lib/R/bin/R CMD INSTALL\n",
            "\n",
            "foundpkgs: bit64, httr2, pkgbuild, rlang, systemfonts, /tmp/RtmpAsKjSX/downloaded_packages/bit64_4.6.0-1.tar.gz, /tmp/RtmpAsKjSX/downloaded_packages/httr2_1.1.0.tar.gz, /tmp/RtmpAsKjSX/downloaded_packages/pkgbuild_1.4.6.tar.gz, /tmp/RtmpAsKjSX/downloaded_packages/rlang_1.1.5.tar.gz, /tmp/RtmpAsKjSX/downloaded_packages/systemfonts_1.2.0.tar.gz\n",
            "\n",
            "files: /tmp/RtmpAsKjSX/downloaded_packages/bit64_4.6.0-1.tar.gz, \n",
            "\t/tmp/RtmpAsKjSX/downloaded_packages/httr2_1.1.0.tar.gz, \n",
            "\t/tmp/RtmpAsKjSX/downloaded_packages/pkgbuild_1.4.6.tar.gz, \n",
            "\t/tmp/RtmpAsKjSX/downloaded_packages/rlang_1.1.5.tar.gz, \n",
            "\t/tmp/RtmpAsKjSX/downloaded_packages/systemfonts_1.2.0.tar.gz\n",
            "\n",
            "1): succeeded '/usr/lib/R/bin/R CMD INSTALL -l '/usr/lib/R/site-library' '/tmp/RtmpAsKjSX/downloaded_packages/bit64_4.6.0-1.tar.gz''\n",
            "\n",
            "2): succeeded '/usr/lib/R/bin/R CMD INSTALL -l '/usr/lib/R/site-library' '/tmp/RtmpAsKjSX/downloaded_packages/pkgbuild_1.4.6.tar.gz''\n",
            "\n",
            "3): succeeded '/usr/lib/R/bin/R CMD INSTALL -l '/usr/lib/R/site-library' '/tmp/RtmpAsKjSX/downloaded_packages/rlang_1.1.5.tar.gz''\n",
            "\n",
            "4): succeeded '/usr/lib/R/bin/R CMD INSTALL -l '/usr/lib/R/site-library' '/tmp/RtmpAsKjSX/downloaded_packages/systemfonts_1.2.0.tar.gz''\n",
            "\n",
            "5): succeeded '/usr/lib/R/bin/R CMD INSTALL -l '/usr/lib/R/site-library' '/tmp/RtmpAsKjSX/downloaded_packages/httr2_1.1.0.tar.gz''\n",
            "\n"
          ]
        }
      ]
    },
    {
      "cell_type": "code",
      "source": [
        "if (!requireNamespace(\"SummarizedExperiment\", quietly = TRUE)) {\n",
        "    install.packages(\"BiocManager\")\n",
        "    BiocManager::install(\"SummarizedExperiment\")\n",
        "}\n",
        "library(SummarizedExperiment)"
      ],
      "metadata": {
        "colab": {
          "base_uri": "https://localhost:8080/"
        },
        "id": "8z6MSJZZa27Y",
        "outputId": "ba4e0498-b342-4b1d-8dd0-119c49034b2d"
      },
      "execution_count": 16,
      "outputs": [
        {
          "output_type": "stream",
          "name": "stderr",
          "text": [
            "Loading required package: MatrixGenerics\n",
            "\n",
            "Loading required package: matrixStats\n",
            "\n",
            "\n",
            "Attaching package: ‘MatrixGenerics’\n",
            "\n",
            "\n",
            "The following objects are masked from ‘package:matrixStats’:\n",
            "\n",
            "    colAlls, colAnyNAs, colAnys, colAvgsPerRowSet, colCollapse,\n",
            "    colCounts, colCummaxs, colCummins, colCumprods, colCumsums,\n",
            "    colDiffs, colIQRDiffs, colIQRs, colLogSumExps, colMadDiffs,\n",
            "    colMads, colMaxs, colMeans2, colMedians, colMins, colOrderStats,\n",
            "    colProds, colQuantiles, colRanges, colRanks, colSdDiffs, colSds,\n",
            "    colSums2, colTabulates, colVarDiffs, colVars, colWeightedMads,\n",
            "    colWeightedMeans, colWeightedMedians, colWeightedSds,\n",
            "    colWeightedVars, rowAlls, rowAnyNAs, rowAnys, rowAvgsPerColSet,\n",
            "    rowCollapse, rowCounts, rowCummaxs, rowCummins, rowCumprods,\n",
            "    rowCumsums, rowDiffs, rowIQRDiffs, rowIQRs, rowLogSumExps,\n",
            "    rowMadDiffs, rowMads, rowMaxs, rowMeans2, rowMedians, rowMins,\n",
            "    rowOrderStats, rowProds, rowQuantiles, rowRanges, rowRanks,\n",
            "    rowSdDiffs, rowSds, rowSums2, rowTabulates, rowVarDiffs, rowVars,\n",
            "    rowWeightedMads, rowWeightedMeans, rowWeightedMedians,\n",
            "    rowWeightedSds, rowWeightedVars\n",
            "\n",
            "\n",
            "Loading required package: GenomicRanges\n",
            "\n",
            "Loading required package: stats4\n",
            "\n",
            "Loading required package: BiocGenerics\n",
            "\n",
            "\n",
            "Attaching package: ‘BiocGenerics’\n",
            "\n",
            "\n",
            "The following objects are masked from ‘package:stats’:\n",
            "\n",
            "    IQR, mad, sd, var, xtabs\n",
            "\n",
            "\n",
            "The following objects are masked from ‘package:base’:\n",
            "\n",
            "    anyDuplicated, aperm, append, as.data.frame, basename, cbind,\n",
            "    colnames, dirname, do.call, duplicated, eval, evalq, Filter, Find,\n",
            "    get, grep, grepl, intersect, is.unsorted, lapply, Map, mapply,\n",
            "    match, mget, order, paste, pmax, pmax.int, pmin, pmin.int,\n",
            "    Position, rank, rbind, Reduce, rownames, sapply, saveRDS, setdiff,\n",
            "    table, tapply, union, unique, unsplit, which.max, which.min\n",
            "\n",
            "\n",
            "Loading required package: S4Vectors\n",
            "\n",
            "\n",
            "Attaching package: ‘S4Vectors’\n",
            "\n",
            "\n",
            "The following object is masked from ‘package:utils’:\n",
            "\n",
            "    findMatches\n",
            "\n",
            "\n",
            "The following objects are masked from ‘package:base’:\n",
            "\n",
            "    expand.grid, I, unname\n",
            "\n",
            "\n",
            "Loading required package: IRanges\n",
            "\n",
            "Loading required package: GenomeInfoDb\n",
            "\n",
            "Loading required package: Biobase\n",
            "\n",
            "Welcome to Bioconductor\n",
            "\n",
            "    Vignettes contain introductory material; view with\n",
            "    'browseVignettes()'. To cite Bioconductor, see\n",
            "    'citation(\"Biobase\")', and for packages 'citation(\"pkgname\")'.\n",
            "\n",
            "\n",
            "\n",
            "Attaching package: ‘Biobase’\n",
            "\n",
            "\n",
            "The following object is masked from ‘package:MatrixGenerics’:\n",
            "\n",
            "    rowMedians\n",
            "\n",
            "\n",
            "The following objects are masked from ‘package:matrixStats’:\n",
            "\n",
            "    anyMissing, rowMedians\n",
            "\n",
            "\n"
          ]
        }
      ]
    },
    {
      "cell_type": "code",
      "source": [
        "library(SummarizedExperiment)"
      ],
      "metadata": {
        "id": "kpDOV65pa8Id"
      },
      "execution_count": 17,
      "outputs": []
    },
    {
      "cell_type": "code",
      "source": [
        "library(TCGAbiolinks)"
      ],
      "metadata": {
        "id": "_L30pBthMC1p"
      },
      "execution_count": 3,
      "outputs": []
    },
    {
      "cell_type": "code",
      "source": [
        "clinical_data <- GDCquery_clinic(project = \"TCGA-TGCT\", type = \"clinical\")"
      ],
      "metadata": {
        "id": "J-pNiw9jd3uS"
      },
      "execution_count": 4,
      "outputs": []
    },
    {
      "cell_type": "code",
      "source": [
        "teratoma_submitter_ids <- clinical_data$submitter_id[clinical_data$primary_diagnosis == \"Teratoma, benign\"]\n",
        "teratoma_submitter_ids <- teratoma_submitter_ids[!is.na(teratoma_submitter_ids)]\n",
        "\n",
        "# View the result\n",
        "teratoma_submitter_ids"
      ],
      "metadata": {
        "colab": {
          "base_uri": "https://localhost:8080/",
          "height": 34
        },
        "id": "WHpwllvZeFXU",
        "outputId": "bed4fa6c-3b61-4f80-a386-f38665fe49bb"
      },
      "execution_count": 5,
      "outputs": [
        {
          "output_type": "display_data",
          "data": {
            "text/html": [
              "<style>\n",
              ".list-inline {list-style: none; margin:0; padding: 0}\n",
              ".list-inline>li {display: inline-block}\n",
              ".list-inline>li:not(:last-child)::after {content: \"\\00b7\"; padding: 0 .5ex}\n",
              "</style>\n",
              "<ol class=list-inline><li>'TCGA-2G-AAG5'</li><li>'TCGA-2G-AAG6'</li><li>'TCGA-2G-AAGY'</li><li>'TCGA-2G-AAGV'</li><li>'TCGA-2G-AAGX'</li></ol>\n"
            ],
            "text/markdown": "1. 'TCGA-2G-AAG5'\n2. 'TCGA-2G-AAG6'\n3. 'TCGA-2G-AAGY'\n4. 'TCGA-2G-AAGV'\n5. 'TCGA-2G-AAGX'\n\n\n",
            "text/latex": "\\begin{enumerate*}\n\\item 'TCGA-2G-AAG5'\n\\item 'TCGA-2G-AAG6'\n\\item 'TCGA-2G-AAGY'\n\\item 'TCGA-2G-AAGV'\n\\item 'TCGA-2G-AAGX'\n\\end{enumerate*}\n",
            "text/plain": [
              "[1] \"TCGA-2G-AAG5\" \"TCGA-2G-AAG6\" \"TCGA-2G-AAGY\" \"TCGA-2G-AAGV\" \"TCGA-2G-AAGX\""
            ]
          },
          "metadata": {}
        }
      ]
    },
    {
      "cell_type": "code",
      "execution_count": 6,
      "metadata": {
        "id": "NPa3zhTFZtod",
        "colab": {
          "base_uri": "https://localhost:8080/"
        },
        "outputId": "00119d82-aa67-4e27-9519-fb2a24fa30d0"
      },
      "outputs": [
        {
          "output_type": "stream",
          "name": "stderr",
          "text": [
            "--------------------------------------\n",
            "\n",
            "o GDCquery: Searching in GDC database\n",
            "\n",
            "--------------------------------------\n",
            "\n",
            "Genome of reference: hg38\n",
            "\n",
            "--------------------------------------------\n",
            "\n",
            "oo Accessing GDC. This might take a while...\n",
            "\n",
            "--------------------------------------------\n",
            "\n",
            "ooo Project: TCGA-TGCT\n",
            "\n",
            "--------------------\n",
            "\n",
            "oo Filtering results\n",
            "\n",
            "--------------------\n",
            "\n",
            "ooo By data.type\n",
            "\n",
            "ooo By barcode\n",
            "\n",
            "----------------\n",
            "\n",
            "oo Checking data\n",
            "\n",
            "----------------\n",
            "\n",
            "ooo Checking if there are duplicated cases\n",
            "\n",
            "ooo Checking if there are results for the query\n",
            "\n",
            "-------------------\n",
            "\n",
            "o Preparing output\n",
            "\n",
            "-------------------\n",
            "\n"
          ]
        }
      ],
      "source": [
        "query_RNA_profiles_1 <- GDCquery(\n",
        "  project = \"TCGA-TGCT\",\n",
        "  data.category = \"Transcriptome Profiling\",\n",
        "  data.type = \"Gene Expression Quantification\",\n",
        "  barcode = teratoma_submitter_ids\n",
        ")"
      ]
    },
    {
      "cell_type": "code",
      "source": [
        "GDCdownload(query_RNA_profiles_1)\n",
        "\n",
        "# Prepare the data for analysis\n"
      ],
      "metadata": {
        "id": "jlPR6gIlf55q",
        "colab": {
          "base_uri": "https://localhost:8080/"
        },
        "outputId": "d67bd456-2aa6-4db6-d055-623b112e4234"
      },
      "execution_count": 8,
      "outputs": [
        {
          "output_type": "stream",
          "name": "stderr",
          "text": [
            "Downloading data for project TCGA-TGCT\n",
            "\n",
            "GDCdownload will download 6 files. A total of 25.469907 MB\n",
            "\n",
            "Downloading as: Mon_Jan_20_11_06_09_2025.tar.gz\n",
            "\n"
          ]
        },
        {
          "output_type": "stream",
          "name": "stdout",
          "text": [
            "Downloading: 6.4 MB     "
          ]
        }
      ]
    },
    {
      "cell_type": "code",
      "source": [
        "data_teratoma <- GDCprepare(query_RNA_profiles_1)"
      ],
      "metadata": {
        "id": "FlMhs61YgCkM",
        "colab": {
          "base_uri": "https://localhost:8080/"
        },
        "outputId": "1595a600-f3d3-43b0-8b06-17856dc44803"
      },
      "execution_count": 9,
      "outputs": [
        {
          "output_type": "stream",
          "name": "stdout",
          "text": [
            "|====================================================|100%                      Completed after 0 s \n"
          ]
        },
        {
          "output_type": "stream",
          "name": "stderr",
          "text": [
            "Starting to add information to samples\n",
            "\n",
            " => Add clinical information to samples\n",
            "\n",
            " => Adding TCGA molecular information from marker papers\n",
            "\n",
            " => Information will have prefix 'paper_' \n",
            "\n",
            "Available assays in SummarizedExperiment : \n",
            "  => unstranded\n",
            "  => stranded_first\n",
            "  => stranded_second\n",
            "  => tpm_unstrand\n",
            "  => fpkm_unstrand\n",
            "  => fpkm_uq_unstrand\n",
            "\n"
          ]
        }
      ]
    },
    {
      "cell_type": "code",
      "source": [
        "gene_annotations <- as.data.frame(rowData(data_teratoma))"
      ],
      "metadata": {
        "id": "Sxdmknu9hCxg"
      },
      "execution_count": 32,
      "outputs": []
    },
    {
      "cell_type": "code",
      "source": [
        "nrow(gene_annotations)"
      ],
      "metadata": {
        "colab": {
          "base_uri": "https://localhost:8080/",
          "height": 34
        },
        "id": "LLF-pqr5hGZL",
        "outputId": "1a1e9d35-9891-451f-f581-7590d68c013f"
      },
      "execution_count": 45,
      "outputs": [
        {
          "output_type": "display_data",
          "data": {
            "text/html": [
              "60660"
            ],
            "text/markdown": "60660",
            "text/latex": "60660",
            "text/plain": [
              "[1] 60660"
            ]
          },
          "metadata": {}
        }
      ]
    },
    {
      "cell_type": "code",
      "source": [
        "count_matrix_teratoma <- assay(data_teratoma, \"unstranded\")\n",
        "head(count_matrix_teratoma)"
      ],
      "metadata": {
        "colab": {
          "base_uri": "https://localhost:8080/",
          "height": 307
        },
        "id": "WkKUkFEacLsl",
        "outputId": "971cdffd-e311-40c3-92ef-60bbe61ac65d"
      },
      "execution_count": 42,
      "outputs": [
        {
          "output_type": "display_data",
          "data": {
            "text/html": [
              "<table class=\"dataframe\">\n",
              "<caption>A matrix: 6 × 6 of type int</caption>\n",
              "<thead>\n",
              "\t<tr><th></th><th scope=col>TCGA-2G-AAG5-01A-11R-A430-07</th><th scope=col>TCGA-2G-AAG6-01A-11R-A430-07</th><th scope=col>TCGA-2G-AAGY-01A-11R-A430-07</th><th scope=col>TCGA-2G-AAGY-05A-11R-A430-07</th><th scope=col>TCGA-2G-AAGV-01A-11R-A430-07</th><th scope=col>TCGA-2G-AAGX-01A-11R-A430-07</th></tr>\n",
              "</thead>\n",
              "<tbody>\n",
              "\t<tr><th scope=row>ENSG00000000003.15</th><td>3572</td><td>3187</td><td>5463</td><td>5037</td><td>1262</td><td>2704</td></tr>\n",
              "\t<tr><th scope=row>ENSG00000000005.6</th><td> 369</td><td>2156</td><td> 308</td><td>  13</td><td>  35</td><td> 288</td></tr>\n",
              "\t<tr><th scope=row>ENSG00000000419.13</th><td>1216</td><td> 859</td><td>1703</td><td>1161</td><td>1354</td><td>1412</td></tr>\n",
              "\t<tr><th scope=row>ENSG00000000457.14</th><td> 712</td><td> 561</td><td>1374</td><td> 527</td><td> 623</td><td> 837</td></tr>\n",
              "\t<tr><th scope=row>ENSG00000000460.17</th><td> 239</td><td> 209</td><td>1266</td><td> 826</td><td> 258</td><td> 561</td></tr>\n",
              "\t<tr><th scope=row>ENSG00000000938.13</th><td> 400</td><td> 303</td><td> 505</td><td> 226</td><td> 111</td><td> 145</td></tr>\n",
              "</tbody>\n",
              "</table>\n"
            ],
            "text/markdown": "\nA matrix: 6 × 6 of type int\n\n| <!--/--> | TCGA-2G-AAG5-01A-11R-A430-07 | TCGA-2G-AAG6-01A-11R-A430-07 | TCGA-2G-AAGY-01A-11R-A430-07 | TCGA-2G-AAGY-05A-11R-A430-07 | TCGA-2G-AAGV-01A-11R-A430-07 | TCGA-2G-AAGX-01A-11R-A430-07 |\n|---|---|---|---|---|---|---|\n| ENSG00000000003.15 | 3572 | 3187 | 5463 | 5037 | 1262 | 2704 |\n| ENSG00000000005.6 |  369 | 2156 |  308 |   13 |   35 |  288 |\n| ENSG00000000419.13 | 1216 |  859 | 1703 | 1161 | 1354 | 1412 |\n| ENSG00000000457.14 |  712 |  561 | 1374 |  527 |  623 |  837 |\n| ENSG00000000460.17 |  239 |  209 | 1266 |  826 |  258 |  561 |\n| ENSG00000000938.13 |  400 |  303 |  505 |  226 |  111 |  145 |\n\n",
            "text/latex": "A matrix: 6 × 6 of type int\n\\begin{tabular}{r|llllll}\n  & TCGA-2G-AAG5-01A-11R-A430-07 & TCGA-2G-AAG6-01A-11R-A430-07 & TCGA-2G-AAGY-01A-11R-A430-07 & TCGA-2G-AAGY-05A-11R-A430-07 & TCGA-2G-AAGV-01A-11R-A430-07 & TCGA-2G-AAGX-01A-11R-A430-07\\\\\n\\hline\n\tENSG00000000003.15 & 3572 & 3187 & 5463 & 5037 & 1262 & 2704\\\\\n\tENSG00000000005.6 &  369 & 2156 &  308 &   13 &   35 &  288\\\\\n\tENSG00000000419.13 & 1216 &  859 & 1703 & 1161 & 1354 & 1412\\\\\n\tENSG00000000457.14 &  712 &  561 & 1374 &  527 &  623 &  837\\\\\n\tENSG00000000460.17 &  239 &  209 & 1266 &  826 &  258 &  561\\\\\n\tENSG00000000938.13 &  400 &  303 &  505 &  226 &  111 &  145\\\\\n\\end{tabular}\n",
            "text/plain": [
              "                   TCGA-2G-AAG5-01A-11R-A430-07 TCGA-2G-AAG6-01A-11R-A430-07\n",
              "ENSG00000000003.15 3572                         3187                        \n",
              "ENSG00000000005.6   369                         2156                        \n",
              "ENSG00000000419.13 1216                          859                        \n",
              "ENSG00000000457.14  712                          561                        \n",
              "ENSG00000000460.17  239                          209                        \n",
              "ENSG00000000938.13  400                          303                        \n",
              "                   TCGA-2G-AAGY-01A-11R-A430-07 TCGA-2G-AAGY-05A-11R-A430-07\n",
              "ENSG00000000003.15 5463                         5037                        \n",
              "ENSG00000000005.6   308                           13                        \n",
              "ENSG00000000419.13 1703                         1161                        \n",
              "ENSG00000000457.14 1374                          527                        \n",
              "ENSG00000000460.17 1266                          826                        \n",
              "ENSG00000000938.13  505                          226                        \n",
              "                   TCGA-2G-AAGV-01A-11R-A430-07 TCGA-2G-AAGX-01A-11R-A430-07\n",
              "ENSG00000000003.15 1262                         2704                        \n",
              "ENSG00000000005.6    35                          288                        \n",
              "ENSG00000000419.13 1354                         1412                        \n",
              "ENSG00000000457.14  623                          837                        \n",
              "ENSG00000000460.17  258                          561                        \n",
              "ENSG00000000938.13  111                          145                        "
            ]
          },
          "metadata": {}
        }
      ]
    },
    {
      "cell_type": "code",
      "source": [
        "nrow(count_matrix_teratoma)"
      ],
      "metadata": {
        "colab": {
          "base_uri": "https://localhost:8080/",
          "height": 34
        },
        "id": "YX_iSsB_tNaT",
        "outputId": "85b5588d-38d8-4b23-eebc-f7603bc40e35"
      },
      "execution_count": 44,
      "outputs": [
        {
          "output_type": "display_data",
          "data": {
            "text/html": [
              "60660"
            ],
            "text/markdown": "60660",
            "text/latex": "60660",
            "text/plain": [
              "[1] 60660"
            ]
          },
          "metadata": {}
        }
      ]
    },
    {
      "cell_type": "code",
      "source": [
        "other_submitter_ids <- clinical_data$submitter_id[clinical_data$primary_diagnosis != \"Teratoma, benign\"]\n",
        "other_submitter_ids <- other_submitter_ids[!is.na(other_submitter_ids)]\n",
        "\n",
        "# View the result\n",
        "#other_submitter_ids"
      ],
      "metadata": {
        "id": "JEuuPDm0iCK5"
      },
      "execution_count": 46,
      "outputs": []
    },
    {
      "cell_type": "code",
      "source": [
        "query_RNA_profiles_2 <- GDCquery(\n",
        "  project = \"TCGA-TGCT\",\n",
        "  data.category = \"Transcriptome Profiling\",\n",
        "  data.type = \"Gene Expression Quantification\",\n",
        "  barcode = other_submitter_ids\n",
        ")"
      ],
      "metadata": {
        "id": "X_ee_JW5ikga",
        "colab": {
          "base_uri": "https://localhost:8080/"
        },
        "outputId": "9c41d102-f69d-4e7a-b255-596542057cf0"
      },
      "execution_count": 47,
      "outputs": [
        {
          "output_type": "stream",
          "name": "stderr",
          "text": [
            "--------------------------------------\n",
            "\n",
            "o GDCquery: Searching in GDC database\n",
            "\n",
            "--------------------------------------\n",
            "\n",
            "Genome of reference: hg38\n",
            "\n",
            "--------------------------------------------\n",
            "\n",
            "oo Accessing GDC. This might take a while...\n",
            "\n",
            "--------------------------------------------\n",
            "\n",
            "ooo Project: TCGA-TGCT\n",
            "\n",
            "--------------------\n",
            "\n",
            "oo Filtering results\n",
            "\n",
            "--------------------\n",
            "\n",
            "ooo By data.type\n",
            "\n",
            "ooo By barcode\n",
            "\n",
            "----------------\n",
            "\n",
            "oo Checking data\n",
            "\n",
            "----------------\n",
            "\n",
            "ooo Checking if there are duplicated cases\n",
            "\n",
            "ooo Checking if there are results for the query\n",
            "\n",
            "-------------------\n",
            "\n",
            "o Preparing output\n",
            "\n",
            "-------------------\n",
            "\n"
          ]
        }
      ]
    },
    {
      "cell_type": "code",
      "source": [
        "GDCdownload(query_RNA_profiles_2)\n"
      ],
      "metadata": {
        "id": "Cl5YDEHPix3Q",
        "colab": {
          "base_uri": "https://localhost:8080/"
        },
        "outputId": "0a0d1674-aa1c-4fb2-c1f1-b76ac26f2e31"
      },
      "execution_count": 48,
      "outputs": [
        {
          "output_type": "stream",
          "name": "stderr",
          "text": [
            "Downloading data for project TCGA-TGCT\n",
            "\n",
            "GDCdownload will download 133 files. A total of 563.959127 MB\n",
            "\n",
            "Downloading as: Mon_Jan_20_12_36_32_2025.tar.gz\n",
            "\n"
          ]
        },
        {
          "output_type": "stream",
          "name": "stdout",
          "text": [
            "Downloading: 140 MB     "
          ]
        }
      ]
    },
    {
      "cell_type": "code",
      "source": [
        "data_other <- GDCprepare(query_RNA_profiles_2)"
      ],
      "metadata": {
        "id": "ejtbf9n8i6in",
        "colab": {
          "base_uri": "https://localhost:8080/"
        },
        "outputId": "2b85c7af-9604-4f2f-b876-ba5017679bc8"
      },
      "execution_count": 49,
      "outputs": [
        {
          "output_type": "stream",
          "name": "stdout",
          "text": [
            "|====================================================|100%                      Completed after 9 s \n"
          ]
        },
        {
          "output_type": "stream",
          "name": "stderr",
          "text": [
            "Starting to add information to samples\n",
            "\n",
            " => Add clinical information to samples\n",
            "\n",
            " => Adding TCGA molecular information from marker papers\n",
            "\n",
            " => Information will have prefix 'paper_' \n",
            "\n",
            "Available assays in SummarizedExperiment : \n",
            "  => unstranded\n",
            "  => stranded_first\n",
            "  => stranded_second\n",
            "  => tpm_unstrand\n",
            "  => fpkm_unstrand\n",
            "  => fpkm_uq_unstrand\n",
            "\n"
          ]
        }
      ]
    },
    {
      "cell_type": "code",
      "source": [
        "count_matrix_other <- assay(data_other, \"unstranded\")"
      ],
      "metadata": {
        "id": "Ws_GQhaAtwJp"
      },
      "execution_count": 50,
      "outputs": []
    },
    {
      "cell_type": "code",
      "source": [
        "nrow(count_matrix_other)"
      ],
      "metadata": {
        "colab": {
          "base_uri": "https://localhost:8080/",
          "height": 34
        },
        "id": "q7R74RLdwiJg",
        "outputId": "0ed05a15-bc41-4c34-ef74-2fde2b5a8c22"
      },
      "execution_count": 51,
      "outputs": [
        {
          "output_type": "display_data",
          "data": {
            "text/html": [
              "60660"
            ],
            "text/markdown": "60660",
            "text/latex": "60660",
            "text/plain": [
              "[1] 60660"
            ]
          },
          "metadata": {}
        }
      ]
    },
    {
      "cell_type": "code",
      "source": [
        "counts_combined <- cbind(count_matrix_teratoma, count_matrix_other)\n",
        "expression_counts <- cbind(gene_annotations, counts_combined)"
      ],
      "metadata": {
        "id": "2JDuJLF6ws4Z"
      },
      "execution_count": 54,
      "outputs": []
    },
    {
      "cell_type": "code",
      "source": [
        "filtered_counts <- expression_counts[rowSums(counts_combined) >= 100, ]\n",
        "filtered_counts <- filtered_counts[filtered_counts['gene_type'] == 'protein_coding',]"
      ],
      "metadata": {
        "id": "cRMViq8Nx1JA"
      },
      "execution_count": 84,
      "outputs": []
    },
    {
      "cell_type": "code",
      "source": [
        "head(expression_counts)"
      ],
      "metadata": {
        "colab": {
          "base_uri": "https://localhost:8080/",
          "height": 358
        },
        "id": "aMqOOcpIyeSw",
        "outputId": "8ff084d6-045e-4b93-e551-a05feb09631d"
      },
      "execution_count": 74,
      "outputs": [
        {
          "output_type": "display_data",
          "data": {
            "text/html": [
              "<table class=\"dataframe\">\n",
              "<caption>A data.frame: 6 × 149</caption>\n",
              "<thead>\n",
              "\t<tr><th></th><th scope=col>source</th><th scope=col>type</th><th scope=col>score</th><th scope=col>phase</th><th scope=col>gene_id</th><th scope=col>gene_type</th><th scope=col>gene_name</th><th scope=col>level</th><th scope=col>hgnc_id</th><th scope=col>havana_gene</th><th scope=col>⋯</th><th scope=col>TCGA-WZ-A7V3-01A-11R-A431-07</th><th scope=col>TCGA-2G-AAH3-01A-11R-A430-07</th><th scope=col>TCGA-4K-AA1I-01A-11R-A430-07</th><th scope=col>TCGA-S6-A8JX-01A-11R-A430-07</th><th scope=col>TCGA-SO-A8JP-01A-11R-A431-07</th><th scope=col>TCGA-2G-AAFZ-01A-11R-A430-07</th><th scope=col>TCGA-XE-AANR-01A-11R-A431-07</th><th scope=col>TCGA-XE-AAOJ-01A-12R-A431-07</th><th scope=col>TCGA-2G-AAHG-01A-11R-A430-07</th><th scope=col>TCGA-2G-AAGP-01A-11R-A430-07</th></tr>\n",
              "\t<tr><th></th><th scope=col>&lt;fct&gt;</th><th scope=col>&lt;fct&gt;</th><th scope=col>&lt;dbl&gt;</th><th scope=col>&lt;int&gt;</th><th scope=col>&lt;chr&gt;</th><th scope=col>&lt;chr&gt;</th><th scope=col>&lt;chr&gt;</th><th scope=col>&lt;chr&gt;</th><th scope=col>&lt;chr&gt;</th><th scope=col>&lt;chr&gt;</th><th scope=col>⋯</th><th scope=col>&lt;int&gt;</th><th scope=col>&lt;int&gt;</th><th scope=col>&lt;int&gt;</th><th scope=col>&lt;int&gt;</th><th scope=col>&lt;int&gt;</th><th scope=col>&lt;int&gt;</th><th scope=col>&lt;int&gt;</th><th scope=col>&lt;int&gt;</th><th scope=col>&lt;int&gt;</th><th scope=col>&lt;int&gt;</th></tr>\n",
              "</thead>\n",
              "<tbody>\n",
              "\t<tr><th scope=row>ENSG00000000003.15</th><td>HAVANA</td><td>gene</td><td>NA</td><td>NA</td><td>ENSG00000000003.15</td><td>protein_coding</td><td>TSPAN6  </td><td>2</td><td>HGNC:11858</td><td>OTTHUMG00000022002.2</td><td>⋯</td><td>4610</td><td>9352</td><td>5262</td><td>3413</td><td>7318</td><td>5186</td><td>3046</td><td>5987</td><td>5280</td><td>4421</td></tr>\n",
              "\t<tr><th scope=row>ENSG00000000005.6</th><td>HAVANA</td><td>gene</td><td>NA</td><td>NA</td><td>ENSG00000000005.6 </td><td>protein_coding</td><td>TNMD    </td><td>2</td><td>HGNC:17757</td><td>OTTHUMG00000022001.2</td><td>⋯</td><td>   0</td><td>   3</td><td>   0</td><td>   2</td><td>   8</td><td>  18</td><td>   2</td><td>  20</td><td>   5</td><td> 179</td></tr>\n",
              "\t<tr><th scope=row>ENSG00000000419.13</th><td>HAVANA</td><td>gene</td><td>NA</td><td>NA</td><td>ENSG00000000419.13</td><td>protein_coding</td><td>DPM1    </td><td>2</td><td>HGNC:3005 </td><td>OTTHUMG00000032742.2</td><td>⋯</td><td>2069</td><td>1931</td><td>1367</td><td>2021</td><td>1625</td><td>1683</td><td> 705</td><td>1243</td><td>1941</td><td>1399</td></tr>\n",
              "\t<tr><th scope=row>ENSG00000000457.14</th><td>HAVANA</td><td>gene</td><td>NA</td><td>NA</td><td>ENSG00000000457.14</td><td>protein_coding</td><td>SCYL3   </td><td>2</td><td>HGNC:19285</td><td>OTTHUMG00000035941.6</td><td>⋯</td><td> 798</td><td>1113</td><td> 522</td><td> 976</td><td> 854</td><td> 605</td><td> 278</td><td> 411</td><td> 833</td><td> 612</td></tr>\n",
              "\t<tr><th scope=row>ENSG00000000460.17</th><td>HAVANA</td><td>gene</td><td>NA</td><td>NA</td><td>ENSG00000000460.17</td><td>protein_coding</td><td>C1orf112</td><td>2</td><td>HGNC:25565</td><td>OTTHUMG00000035821.9</td><td>⋯</td><td>1142</td><td>1308</td><td> 608</td><td>1185</td><td>1215</td><td> 569</td><td> 418</td><td> 313</td><td> 894</td><td> 566</td></tr>\n",
              "\t<tr><th scope=row>ENSG00000000938.13</th><td>HAVANA</td><td>gene</td><td>NA</td><td>NA</td><td>ENSG00000000938.13</td><td>protein_coding</td><td>FGR     </td><td>2</td><td>HGNC:3697 </td><td>OTTHUMG00000003516.3</td><td>⋯</td><td> 728</td><td>1056</td><td>2371</td><td> 119</td><td> 143</td><td> 153</td><td> 295</td><td> 158</td><td> 229</td><td>1284</td></tr>\n",
              "</tbody>\n",
              "</table>\n"
            ],
            "text/markdown": "\nA data.frame: 6 × 149\n\n| <!--/--> | source &lt;fct&gt; | type &lt;fct&gt; | score &lt;dbl&gt; | phase &lt;int&gt; | gene_id &lt;chr&gt; | gene_type &lt;chr&gt; | gene_name &lt;chr&gt; | level &lt;chr&gt; | hgnc_id &lt;chr&gt; | havana_gene &lt;chr&gt; | ⋯ ⋯ | TCGA-WZ-A7V3-01A-11R-A431-07 &lt;int&gt; | TCGA-2G-AAH3-01A-11R-A430-07 &lt;int&gt; | TCGA-4K-AA1I-01A-11R-A430-07 &lt;int&gt; | TCGA-S6-A8JX-01A-11R-A430-07 &lt;int&gt; | TCGA-SO-A8JP-01A-11R-A431-07 &lt;int&gt; | TCGA-2G-AAFZ-01A-11R-A430-07 &lt;int&gt; | TCGA-XE-AANR-01A-11R-A431-07 &lt;int&gt; | TCGA-XE-AAOJ-01A-12R-A431-07 &lt;int&gt; | TCGA-2G-AAHG-01A-11R-A430-07 &lt;int&gt; | TCGA-2G-AAGP-01A-11R-A430-07 &lt;int&gt; |\n|---|---|---|---|---|---|---|---|---|---|---|---|---|---|---|---|---|---|---|---|---|---|\n| ENSG00000000003.15 | HAVANA | gene | NA | NA | ENSG00000000003.15 | protein_coding | TSPAN6   | 2 | HGNC:11858 | OTTHUMG00000022002.2 | ⋯ | 4610 | 9352 | 5262 | 3413 | 7318 | 5186 | 3046 | 5987 | 5280 | 4421 |\n| ENSG00000000005.6 | HAVANA | gene | NA | NA | ENSG00000000005.6  | protein_coding | TNMD     | 2 | HGNC:17757 | OTTHUMG00000022001.2 | ⋯ |    0 |    3 |    0 |    2 |    8 |   18 |    2 |   20 |    5 |  179 |\n| ENSG00000000419.13 | HAVANA | gene | NA | NA | ENSG00000000419.13 | protein_coding | DPM1     | 2 | HGNC:3005  | OTTHUMG00000032742.2 | ⋯ | 2069 | 1931 | 1367 | 2021 | 1625 | 1683 |  705 | 1243 | 1941 | 1399 |\n| ENSG00000000457.14 | HAVANA | gene | NA | NA | ENSG00000000457.14 | protein_coding | SCYL3    | 2 | HGNC:19285 | OTTHUMG00000035941.6 | ⋯ |  798 | 1113 |  522 |  976 |  854 |  605 |  278 |  411 |  833 |  612 |\n| ENSG00000000460.17 | HAVANA | gene | NA | NA | ENSG00000000460.17 | protein_coding | C1orf112 | 2 | HGNC:25565 | OTTHUMG00000035821.9 | ⋯ | 1142 | 1308 |  608 | 1185 | 1215 |  569 |  418 |  313 |  894 |  566 |\n| ENSG00000000938.13 | HAVANA | gene | NA | NA | ENSG00000000938.13 | protein_coding | FGR      | 2 | HGNC:3697  | OTTHUMG00000003516.3 | ⋯ |  728 | 1056 | 2371 |  119 |  143 |  153 |  295 |  158 |  229 | 1284 |\n\n",
            "text/latex": "A data.frame: 6 × 149\n\\begin{tabular}{r|lllllllllllllllllllll}\n  & source & type & score & phase & gene\\_id & gene\\_type & gene\\_name & level & hgnc\\_id & havana\\_gene & ⋯ & TCGA-WZ-A7V3-01A-11R-A431-07 & TCGA-2G-AAH3-01A-11R-A430-07 & TCGA-4K-AA1I-01A-11R-A430-07 & TCGA-S6-A8JX-01A-11R-A430-07 & TCGA-SO-A8JP-01A-11R-A431-07 & TCGA-2G-AAFZ-01A-11R-A430-07 & TCGA-XE-AANR-01A-11R-A431-07 & TCGA-XE-AAOJ-01A-12R-A431-07 & TCGA-2G-AAHG-01A-11R-A430-07 & TCGA-2G-AAGP-01A-11R-A430-07\\\\\n  & <fct> & <fct> & <dbl> & <int> & <chr> & <chr> & <chr> & <chr> & <chr> & <chr> & ⋯ & <int> & <int> & <int> & <int> & <int> & <int> & <int> & <int> & <int> & <int>\\\\\n\\hline\n\tENSG00000000003.15 & HAVANA & gene & NA & NA & ENSG00000000003.15 & protein\\_coding & TSPAN6   & 2 & HGNC:11858 & OTTHUMG00000022002.2 & ⋯ & 4610 & 9352 & 5262 & 3413 & 7318 & 5186 & 3046 & 5987 & 5280 & 4421\\\\\n\tENSG00000000005.6 & HAVANA & gene & NA & NA & ENSG00000000005.6  & protein\\_coding & TNMD     & 2 & HGNC:17757 & OTTHUMG00000022001.2 & ⋯ &    0 &    3 &    0 &    2 &    8 &   18 &    2 &   20 &    5 &  179\\\\\n\tENSG00000000419.13 & HAVANA & gene & NA & NA & ENSG00000000419.13 & protein\\_coding & DPM1     & 2 & HGNC:3005  & OTTHUMG00000032742.2 & ⋯ & 2069 & 1931 & 1367 & 2021 & 1625 & 1683 &  705 & 1243 & 1941 & 1399\\\\\n\tENSG00000000457.14 & HAVANA & gene & NA & NA & ENSG00000000457.14 & protein\\_coding & SCYL3    & 2 & HGNC:19285 & OTTHUMG00000035941.6 & ⋯ &  798 & 1113 &  522 &  976 &  854 &  605 &  278 &  411 &  833 &  612\\\\\n\tENSG00000000460.17 & HAVANA & gene & NA & NA & ENSG00000000460.17 & protein\\_coding & C1orf112 & 2 & HGNC:25565 & OTTHUMG00000035821.9 & ⋯ & 1142 & 1308 &  608 & 1185 & 1215 &  569 &  418 &  313 &  894 &  566\\\\\n\tENSG00000000938.13 & HAVANA & gene & NA & NA & ENSG00000000938.13 & protein\\_coding & FGR      & 2 & HGNC:3697  & OTTHUMG00000003516.3 & ⋯ &  728 & 1056 & 2371 &  119 &  143 &  153 &  295 &  158 &  229 & 1284\\\\\n\\end{tabular}\n",
            "text/plain": [
              "                   source type score phase gene_id            gene_type     \n",
              "ENSG00000000003.15 HAVANA gene NA    NA    ENSG00000000003.15 protein_coding\n",
              "ENSG00000000005.6  HAVANA gene NA    NA    ENSG00000000005.6  protein_coding\n",
              "ENSG00000000419.13 HAVANA gene NA    NA    ENSG00000000419.13 protein_coding\n",
              "ENSG00000000457.14 HAVANA gene NA    NA    ENSG00000000457.14 protein_coding\n",
              "ENSG00000000460.17 HAVANA gene NA    NA    ENSG00000000460.17 protein_coding\n",
              "ENSG00000000938.13 HAVANA gene NA    NA    ENSG00000000938.13 protein_coding\n",
              "                   gene_name level hgnc_id    havana_gene          ⋯\n",
              "ENSG00000000003.15 TSPAN6    2     HGNC:11858 OTTHUMG00000022002.2 ⋯\n",
              "ENSG00000000005.6  TNMD      2     HGNC:17757 OTTHUMG00000022001.2 ⋯\n",
              "ENSG00000000419.13 DPM1      2     HGNC:3005  OTTHUMG00000032742.2 ⋯\n",
              "ENSG00000000457.14 SCYL3     2     HGNC:19285 OTTHUMG00000035941.6 ⋯\n",
              "ENSG00000000460.17 C1orf112  2     HGNC:25565 OTTHUMG00000035821.9 ⋯\n",
              "ENSG00000000938.13 FGR       2     HGNC:3697  OTTHUMG00000003516.3 ⋯\n",
              "                   TCGA-WZ-A7V3-01A-11R-A431-07 TCGA-2G-AAH3-01A-11R-A430-07\n",
              "ENSG00000000003.15 4610                         9352                        \n",
              "ENSG00000000005.6     0                            3                        \n",
              "ENSG00000000419.13 2069                         1931                        \n",
              "ENSG00000000457.14  798                         1113                        \n",
              "ENSG00000000460.17 1142                         1308                        \n",
              "ENSG00000000938.13  728                         1056                        \n",
              "                   TCGA-4K-AA1I-01A-11R-A430-07 TCGA-S6-A8JX-01A-11R-A430-07\n",
              "ENSG00000000003.15 5262                         3413                        \n",
              "ENSG00000000005.6     0                            2                        \n",
              "ENSG00000000419.13 1367                         2021                        \n",
              "ENSG00000000457.14  522                          976                        \n",
              "ENSG00000000460.17  608                         1185                        \n",
              "ENSG00000000938.13 2371                          119                        \n",
              "                   TCGA-SO-A8JP-01A-11R-A431-07 TCGA-2G-AAFZ-01A-11R-A430-07\n",
              "ENSG00000000003.15 7318                         5186                        \n",
              "ENSG00000000005.6     8                           18                        \n",
              "ENSG00000000419.13 1625                         1683                        \n",
              "ENSG00000000457.14  854                          605                        \n",
              "ENSG00000000460.17 1215                          569                        \n",
              "ENSG00000000938.13  143                          153                        \n",
              "                   TCGA-XE-AANR-01A-11R-A431-07 TCGA-XE-AAOJ-01A-12R-A431-07\n",
              "ENSG00000000003.15 3046                         5987                        \n",
              "ENSG00000000005.6     2                           20                        \n",
              "ENSG00000000419.13  705                         1243                        \n",
              "ENSG00000000457.14  278                          411                        \n",
              "ENSG00000000460.17  418                          313                        \n",
              "ENSG00000000938.13  295                          158                        \n",
              "                   TCGA-2G-AAHG-01A-11R-A430-07 TCGA-2G-AAGP-01A-11R-A430-07\n",
              "ENSG00000000003.15 5280                         4421                        \n",
              "ENSG00000000005.6     5                          179                        \n",
              "ENSG00000000419.13 1941                         1399                        \n",
              "ENSG00000000457.14  833                          612                        \n",
              "ENSG00000000460.17  894                          566                        \n",
              "ENSG00000000938.13  229                         1284                        "
            ]
          },
          "metadata": {}
        }
      ]
    },
    {
      "cell_type": "code",
      "source": [
        "#filtered_counts <- subset(filtered_counts, select = -grep(\"^(source|type|score|phase|level|hgnc_id|havana_gene)$\", colnames(filtered_counts)))"
      ],
      "metadata": {
        "id": "qmfmmbFL0vK4"
      },
      "execution_count": 78,
      "outputs": []
    },
    {
      "cell_type": "code",
      "source": [
        "ncol(count_matrix_teratoma)"
      ],
      "metadata": {
        "colab": {
          "base_uri": "https://localhost:8080/",
          "height": 34
        },
        "id": "nQy-Eghp2qjw",
        "outputId": "5d8ff151-bace-41ac-80fc-73eff04a371a"
      },
      "execution_count": 83,
      "outputs": [
        {
          "output_type": "display_data",
          "data": {
            "text/html": [
              "6"
            ],
            "text/markdown": "6",
            "text/latex": "6",
            "text/plain": [
              "[1] 6"
            ]
          },
          "metadata": {}
        }
      ]
    },
    {
      "cell_type": "code",
      "source": [
        "ncol(count_matrix_other)"
      ],
      "metadata": {
        "colab": {
          "base_uri": "https://localhost:8080/",
          "height": 34
        },
        "id": "4NV9zRbk2kG8",
        "outputId": "9d520874-6db2-4dff-da3d-995fa1df9224"
      },
      "execution_count": 82,
      "outputs": [
        {
          "output_type": "display_data",
          "data": {
            "text/html": [
              "133"
            ],
            "text/markdown": "133",
            "text/latex": "133",
            "text/plain": [
              "[1] 133"
            ]
          },
          "metadata": {}
        }
      ]
    },
    {
      "cell_type": "code",
      "source": [
        "ncol(filtered_counts)"
      ],
      "metadata": {
        "colab": {
          "base_uri": "https://localhost:8080/",
          "height": 34
        },
        "id": "PrgjiEnf2Yz0",
        "outputId": "527b0eaa-edf2-453e-c95c-2b3e0bd8ccd6"
      },
      "execution_count": 86,
      "outputs": [
        {
          "output_type": "display_data",
          "data": {
            "text/html": [
              "149"
            ],
            "text/markdown": "149",
            "text/latex": "149",
            "text/plain": [
              "[1] 149"
            ]
          },
          "metadata": {}
        }
      ]
    },
    {
      "cell_type": "code",
      "source": [
        "head(filtered_counts)"
      ],
      "metadata": {
        "colab": {
          "base_uri": "https://localhost:8080/",
          "height": 358
        },
        "id": "0TepwunA1Y63",
        "outputId": "6f03bdb5-5c14-4447-e1b4-3fab6b33216b"
      },
      "execution_count": 85,
      "outputs": [
        {
          "output_type": "display_data",
          "data": {
            "text/html": [
              "<table class=\"dataframe\">\n",
              "<caption>A data.frame: 6 × 149</caption>\n",
              "<thead>\n",
              "\t<tr><th></th><th scope=col>source</th><th scope=col>type</th><th scope=col>score</th><th scope=col>phase</th><th scope=col>gene_id</th><th scope=col>gene_type</th><th scope=col>gene_name</th><th scope=col>level</th><th scope=col>hgnc_id</th><th scope=col>havana_gene</th><th scope=col>⋯</th><th scope=col>TCGA-WZ-A7V3-01A-11R-A431-07</th><th scope=col>TCGA-2G-AAH3-01A-11R-A430-07</th><th scope=col>TCGA-4K-AA1I-01A-11R-A430-07</th><th scope=col>TCGA-S6-A8JX-01A-11R-A430-07</th><th scope=col>TCGA-SO-A8JP-01A-11R-A431-07</th><th scope=col>TCGA-2G-AAFZ-01A-11R-A430-07</th><th scope=col>TCGA-XE-AANR-01A-11R-A431-07</th><th scope=col>TCGA-XE-AAOJ-01A-12R-A431-07</th><th scope=col>TCGA-2G-AAHG-01A-11R-A430-07</th><th scope=col>TCGA-2G-AAGP-01A-11R-A430-07</th></tr>\n",
              "\t<tr><th></th><th scope=col>&lt;fct&gt;</th><th scope=col>&lt;fct&gt;</th><th scope=col>&lt;dbl&gt;</th><th scope=col>&lt;int&gt;</th><th scope=col>&lt;chr&gt;</th><th scope=col>&lt;chr&gt;</th><th scope=col>&lt;chr&gt;</th><th scope=col>&lt;chr&gt;</th><th scope=col>&lt;chr&gt;</th><th scope=col>&lt;chr&gt;</th><th scope=col>⋯</th><th scope=col>&lt;int&gt;</th><th scope=col>&lt;int&gt;</th><th scope=col>&lt;int&gt;</th><th scope=col>&lt;int&gt;</th><th scope=col>&lt;int&gt;</th><th scope=col>&lt;int&gt;</th><th scope=col>&lt;int&gt;</th><th scope=col>&lt;int&gt;</th><th scope=col>&lt;int&gt;</th><th scope=col>&lt;int&gt;</th></tr>\n",
              "</thead>\n",
              "<tbody>\n",
              "\t<tr><th scope=row>ENSG00000000003.15</th><td>HAVANA</td><td>gene</td><td>NA</td><td>NA</td><td>ENSG00000000003.15</td><td>protein_coding</td><td>TSPAN6  </td><td>2</td><td>HGNC:11858</td><td>OTTHUMG00000022002.2</td><td>⋯</td><td>4610</td><td>9352</td><td>5262</td><td>3413</td><td>7318</td><td>5186</td><td>3046</td><td>5987</td><td>5280</td><td>4421</td></tr>\n",
              "\t<tr><th scope=row>ENSG00000000005.6</th><td>HAVANA</td><td>gene</td><td>NA</td><td>NA</td><td>ENSG00000000005.6 </td><td>protein_coding</td><td>TNMD    </td><td>2</td><td>HGNC:17757</td><td>OTTHUMG00000022001.2</td><td>⋯</td><td>   0</td><td>   3</td><td>   0</td><td>   2</td><td>   8</td><td>  18</td><td>   2</td><td>  20</td><td>   5</td><td> 179</td></tr>\n",
              "\t<tr><th scope=row>ENSG00000000419.13</th><td>HAVANA</td><td>gene</td><td>NA</td><td>NA</td><td>ENSG00000000419.13</td><td>protein_coding</td><td>DPM1    </td><td>2</td><td>HGNC:3005 </td><td>OTTHUMG00000032742.2</td><td>⋯</td><td>2069</td><td>1931</td><td>1367</td><td>2021</td><td>1625</td><td>1683</td><td> 705</td><td>1243</td><td>1941</td><td>1399</td></tr>\n",
              "\t<tr><th scope=row>ENSG00000000457.14</th><td>HAVANA</td><td>gene</td><td>NA</td><td>NA</td><td>ENSG00000000457.14</td><td>protein_coding</td><td>SCYL3   </td><td>2</td><td>HGNC:19285</td><td>OTTHUMG00000035941.6</td><td>⋯</td><td> 798</td><td>1113</td><td> 522</td><td> 976</td><td> 854</td><td> 605</td><td> 278</td><td> 411</td><td> 833</td><td> 612</td></tr>\n",
              "\t<tr><th scope=row>ENSG00000000460.17</th><td>HAVANA</td><td>gene</td><td>NA</td><td>NA</td><td>ENSG00000000460.17</td><td>protein_coding</td><td>C1orf112</td><td>2</td><td>HGNC:25565</td><td>OTTHUMG00000035821.9</td><td>⋯</td><td>1142</td><td>1308</td><td> 608</td><td>1185</td><td>1215</td><td> 569</td><td> 418</td><td> 313</td><td> 894</td><td> 566</td></tr>\n",
              "\t<tr><th scope=row>ENSG00000000938.13</th><td>HAVANA</td><td>gene</td><td>NA</td><td>NA</td><td>ENSG00000000938.13</td><td>protein_coding</td><td>FGR     </td><td>2</td><td>HGNC:3697 </td><td>OTTHUMG00000003516.3</td><td>⋯</td><td> 728</td><td>1056</td><td>2371</td><td> 119</td><td> 143</td><td> 153</td><td> 295</td><td> 158</td><td> 229</td><td>1284</td></tr>\n",
              "</tbody>\n",
              "</table>\n"
            ],
            "text/markdown": "\nA data.frame: 6 × 149\n\n| <!--/--> | source &lt;fct&gt; | type &lt;fct&gt; | score &lt;dbl&gt; | phase &lt;int&gt; | gene_id &lt;chr&gt; | gene_type &lt;chr&gt; | gene_name &lt;chr&gt; | level &lt;chr&gt; | hgnc_id &lt;chr&gt; | havana_gene &lt;chr&gt; | ⋯ ⋯ | TCGA-WZ-A7V3-01A-11R-A431-07 &lt;int&gt; | TCGA-2G-AAH3-01A-11R-A430-07 &lt;int&gt; | TCGA-4K-AA1I-01A-11R-A430-07 &lt;int&gt; | TCGA-S6-A8JX-01A-11R-A430-07 &lt;int&gt; | TCGA-SO-A8JP-01A-11R-A431-07 &lt;int&gt; | TCGA-2G-AAFZ-01A-11R-A430-07 &lt;int&gt; | TCGA-XE-AANR-01A-11R-A431-07 &lt;int&gt; | TCGA-XE-AAOJ-01A-12R-A431-07 &lt;int&gt; | TCGA-2G-AAHG-01A-11R-A430-07 &lt;int&gt; | TCGA-2G-AAGP-01A-11R-A430-07 &lt;int&gt; |\n|---|---|---|---|---|---|---|---|---|---|---|---|---|---|---|---|---|---|---|---|---|---|\n| ENSG00000000003.15 | HAVANA | gene | NA | NA | ENSG00000000003.15 | protein_coding | TSPAN6   | 2 | HGNC:11858 | OTTHUMG00000022002.2 | ⋯ | 4610 | 9352 | 5262 | 3413 | 7318 | 5186 | 3046 | 5987 | 5280 | 4421 |\n| ENSG00000000005.6 | HAVANA | gene | NA | NA | ENSG00000000005.6  | protein_coding | TNMD     | 2 | HGNC:17757 | OTTHUMG00000022001.2 | ⋯ |    0 |    3 |    0 |    2 |    8 |   18 |    2 |   20 |    5 |  179 |\n| ENSG00000000419.13 | HAVANA | gene | NA | NA | ENSG00000000419.13 | protein_coding | DPM1     | 2 | HGNC:3005  | OTTHUMG00000032742.2 | ⋯ | 2069 | 1931 | 1367 | 2021 | 1625 | 1683 |  705 | 1243 | 1941 | 1399 |\n| ENSG00000000457.14 | HAVANA | gene | NA | NA | ENSG00000000457.14 | protein_coding | SCYL3    | 2 | HGNC:19285 | OTTHUMG00000035941.6 | ⋯ |  798 | 1113 |  522 |  976 |  854 |  605 |  278 |  411 |  833 |  612 |\n| ENSG00000000460.17 | HAVANA | gene | NA | NA | ENSG00000000460.17 | protein_coding | C1orf112 | 2 | HGNC:25565 | OTTHUMG00000035821.9 | ⋯ | 1142 | 1308 |  608 | 1185 | 1215 |  569 |  418 |  313 |  894 |  566 |\n| ENSG00000000938.13 | HAVANA | gene | NA | NA | ENSG00000000938.13 | protein_coding | FGR      | 2 | HGNC:3697  | OTTHUMG00000003516.3 | ⋯ |  728 | 1056 | 2371 |  119 |  143 |  153 |  295 |  158 |  229 | 1284 |\n\n",
            "text/latex": "A data.frame: 6 × 149\n\\begin{tabular}{r|lllllllllllllllllllll}\n  & source & type & score & phase & gene\\_id & gene\\_type & gene\\_name & level & hgnc\\_id & havana\\_gene & ⋯ & TCGA-WZ-A7V3-01A-11R-A431-07 & TCGA-2G-AAH3-01A-11R-A430-07 & TCGA-4K-AA1I-01A-11R-A430-07 & TCGA-S6-A8JX-01A-11R-A430-07 & TCGA-SO-A8JP-01A-11R-A431-07 & TCGA-2G-AAFZ-01A-11R-A430-07 & TCGA-XE-AANR-01A-11R-A431-07 & TCGA-XE-AAOJ-01A-12R-A431-07 & TCGA-2G-AAHG-01A-11R-A430-07 & TCGA-2G-AAGP-01A-11R-A430-07\\\\\n  & <fct> & <fct> & <dbl> & <int> & <chr> & <chr> & <chr> & <chr> & <chr> & <chr> & ⋯ & <int> & <int> & <int> & <int> & <int> & <int> & <int> & <int> & <int> & <int>\\\\\n\\hline\n\tENSG00000000003.15 & HAVANA & gene & NA & NA & ENSG00000000003.15 & protein\\_coding & TSPAN6   & 2 & HGNC:11858 & OTTHUMG00000022002.2 & ⋯ & 4610 & 9352 & 5262 & 3413 & 7318 & 5186 & 3046 & 5987 & 5280 & 4421\\\\\n\tENSG00000000005.6 & HAVANA & gene & NA & NA & ENSG00000000005.6  & protein\\_coding & TNMD     & 2 & HGNC:17757 & OTTHUMG00000022001.2 & ⋯ &    0 &    3 &    0 &    2 &    8 &   18 &    2 &   20 &    5 &  179\\\\\n\tENSG00000000419.13 & HAVANA & gene & NA & NA & ENSG00000000419.13 & protein\\_coding & DPM1     & 2 & HGNC:3005  & OTTHUMG00000032742.2 & ⋯ & 2069 & 1931 & 1367 & 2021 & 1625 & 1683 &  705 & 1243 & 1941 & 1399\\\\\n\tENSG00000000457.14 & HAVANA & gene & NA & NA & ENSG00000000457.14 & protein\\_coding & SCYL3    & 2 & HGNC:19285 & OTTHUMG00000035941.6 & ⋯ &  798 & 1113 &  522 &  976 &  854 &  605 &  278 &  411 &  833 &  612\\\\\n\tENSG00000000460.17 & HAVANA & gene & NA & NA & ENSG00000000460.17 & protein\\_coding & C1orf112 & 2 & HGNC:25565 & OTTHUMG00000035821.9 & ⋯ & 1142 & 1308 &  608 & 1185 & 1215 &  569 &  418 &  313 &  894 &  566\\\\\n\tENSG00000000938.13 & HAVANA & gene & NA & NA & ENSG00000000938.13 & protein\\_coding & FGR      & 2 & HGNC:3697  & OTTHUMG00000003516.3 & ⋯ &  728 & 1056 & 2371 &  119 &  143 &  153 &  295 &  158 &  229 & 1284\\\\\n\\end{tabular}\n",
            "text/plain": [
              "                   source type score phase gene_id            gene_type     \n",
              "ENSG00000000003.15 HAVANA gene NA    NA    ENSG00000000003.15 protein_coding\n",
              "ENSG00000000005.6  HAVANA gene NA    NA    ENSG00000000005.6  protein_coding\n",
              "ENSG00000000419.13 HAVANA gene NA    NA    ENSG00000000419.13 protein_coding\n",
              "ENSG00000000457.14 HAVANA gene NA    NA    ENSG00000000457.14 protein_coding\n",
              "ENSG00000000460.17 HAVANA gene NA    NA    ENSG00000000460.17 protein_coding\n",
              "ENSG00000000938.13 HAVANA gene NA    NA    ENSG00000000938.13 protein_coding\n",
              "                   gene_name level hgnc_id    havana_gene          ⋯\n",
              "ENSG00000000003.15 TSPAN6    2     HGNC:11858 OTTHUMG00000022002.2 ⋯\n",
              "ENSG00000000005.6  TNMD      2     HGNC:17757 OTTHUMG00000022001.2 ⋯\n",
              "ENSG00000000419.13 DPM1      2     HGNC:3005  OTTHUMG00000032742.2 ⋯\n",
              "ENSG00000000457.14 SCYL3     2     HGNC:19285 OTTHUMG00000035941.6 ⋯\n",
              "ENSG00000000460.17 C1orf112  2     HGNC:25565 OTTHUMG00000035821.9 ⋯\n",
              "ENSG00000000938.13 FGR       2     HGNC:3697  OTTHUMG00000003516.3 ⋯\n",
              "                   TCGA-WZ-A7V3-01A-11R-A431-07 TCGA-2G-AAH3-01A-11R-A430-07\n",
              "ENSG00000000003.15 4610                         9352                        \n",
              "ENSG00000000005.6     0                            3                        \n",
              "ENSG00000000419.13 2069                         1931                        \n",
              "ENSG00000000457.14  798                         1113                        \n",
              "ENSG00000000460.17 1142                         1308                        \n",
              "ENSG00000000938.13  728                         1056                        \n",
              "                   TCGA-4K-AA1I-01A-11R-A430-07 TCGA-S6-A8JX-01A-11R-A430-07\n",
              "ENSG00000000003.15 5262                         3413                        \n",
              "ENSG00000000005.6     0                            2                        \n",
              "ENSG00000000419.13 1367                         2021                        \n",
              "ENSG00000000457.14  522                          976                        \n",
              "ENSG00000000460.17  608                         1185                        \n",
              "ENSG00000000938.13 2371                          119                        \n",
              "                   TCGA-SO-A8JP-01A-11R-A431-07 TCGA-2G-AAFZ-01A-11R-A430-07\n",
              "ENSG00000000003.15 7318                         5186                        \n",
              "ENSG00000000005.6     8                           18                        \n",
              "ENSG00000000419.13 1625                         1683                        \n",
              "ENSG00000000457.14  854                          605                        \n",
              "ENSG00000000460.17 1215                          569                        \n",
              "ENSG00000000938.13  143                          153                        \n",
              "                   TCGA-XE-AANR-01A-11R-A431-07 TCGA-XE-AAOJ-01A-12R-A431-07\n",
              "ENSG00000000003.15 3046                         5987                        \n",
              "ENSG00000000005.6     2                           20                        \n",
              "ENSG00000000419.13  705                         1243                        \n",
              "ENSG00000000457.14  278                          411                        \n",
              "ENSG00000000460.17  418                          313                        \n",
              "ENSG00000000938.13  295                          158                        \n",
              "                   TCGA-2G-AAHG-01A-11R-A430-07 TCGA-2G-AAGP-01A-11R-A430-07\n",
              "ENSG00000000003.15 5280                         4421                        \n",
              "ENSG00000000005.6     5                          179                        \n",
              "ENSG00000000419.13 1941                         1399                        \n",
              "ENSG00000000457.14  833                          612                        \n",
              "ENSG00000000460.17  894                          566                        \n",
              "ENSG00000000938.13  229                         1284                        "
            ]
          },
          "metadata": {}
        }
      ]
    },
    {
      "cell_type": "code",
      "source": [
        "write.csv(filtered_counts, file = \"filtered_gene_expression_counts.csv\", row.names = FALSE)"
      ],
      "metadata": {
        "id": "fZMfRHaVlmTo"
      },
      "execution_count": 87,
      "outputs": []
    }
  ]
}