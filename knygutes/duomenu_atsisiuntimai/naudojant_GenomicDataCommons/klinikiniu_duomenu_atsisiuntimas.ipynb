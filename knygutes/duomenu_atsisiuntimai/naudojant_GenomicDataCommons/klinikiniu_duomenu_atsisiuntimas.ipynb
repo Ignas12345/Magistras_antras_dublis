{
  "nbformat": 4,
  "nbformat_minor": 0,
  "metadata": {
    "colab": {
      "provenance": [],
      "authorship_tag": "ABX9TyMKUTGYoC4UKFvY3DgpshpJ",
      "include_colab_link": true
    },
    "kernelspec": {
      "name": "ir",
      "display_name": "R"
    },
    "language_info": {
      "name": "R"
    }
  },
  "cells": [
    {
      "cell_type": "markdown",
      "metadata": {
        "id": "view-in-github",
        "colab_type": "text"
      },
      "source": [
        "<a href=\"https://colab.research.google.com/github/Ignas12345/Magistras_antras_dublis/blob/main/knygutes/duomenu_atsisiuntimai/naudojant_GenomicDataCommons/klinikiniu_duomenu_atsisiuntimas.ipynb\" target=\"_parent\"><img src=\"https://colab.research.google.com/assets/colab-badge.svg\" alt=\"Open In Colab\"/></a>"
      ]
    },
    {
      "cell_type": "markdown",
      "source": [
        "Šita knygute yra skirta įvairaus tipo duomenims atsisiųsti, nes ani bandymai pradėjo nelabai veikti (TCGAbiolinks kažkaip neveikia kai bandau atsiųsti klinikinius ir kitus duomenis...)"
      ],
      "metadata": {
        "id": "ABCi30jnuOB8"
      }
    },
    {
      "cell_type": "code",
      "source": [
        "## ----init, results='hide', echo=FALSE, warning=FALSE, message=FALSE-----------\n",
        "# Install BiocStyle if it's not already installed\n",
        "if (!requireNamespace(\"BiocStyle\", quietly = TRUE)) {\n",
        "    if (!requireNamespace(\"BiocManager\", quietly = TRUE))\n",
        "        install.packages(\"BiocManager\")\n",
        "    BiocManager::install(\"BiocStyle\")\n",
        "}\n",
        "\n",
        "library(knitr)\n",
        "opts_chunk$set(warning=FALSE, message=FALSE)\n",
        "library(BiocStyle)  # Load the package\n",
        "BiocStyle::markdown()\n",
        "\n",
        "## ----install_bioc, eval=FALSE-------------------------------------------------\n",
        "if (!require(\"BiocManager\"))\n",
        "    install.packages(\"BiocManager\")\n",
        "BiocManager::install('GenomicDataCommons')\n",
        "\n",
        "## ----libraries, message=FALSE-------------------------------------------------\n",
        "library(GenomicDataCommons)\n",
        "\n",
        "## ----statusQS-----------------------------------------------------------------\n",
        "GenomicDataCommons::status()\n",
        "\n",
        "## ----statusCheck--------------------------------------------------------------\n",
        "stopifnot(GenomicDataCommons::status()$status==\"OK\")\n",
        "\n",
        "## uztrunka apie 2 minutes"
      ],
      "metadata": {
        "collapsed": true,
        "id": "Nnv2dnttxyTX"
      },
      "execution_count": null,
      "outputs": []
    },
    {
      "cell_type": "code",
      "source": [
        "project_id <- 'TCGA-TGCT'"
      ],
      "metadata": {
        "id": "IYpfzEPvdhiO"
      },
      "execution_count": 2,
      "outputs": []
    },
    {
      "cell_type": "code",
      "source": [
        "case_ids = cases() |>\n",
        "    filter( project.project_id == project_id) |>\n",
        "    results_all() |>\n",
        "    ids()"
      ],
      "metadata": {
        "id": "jgUPAvWkvMkx"
      },
      "execution_count": 4,
      "outputs": []
    },
    {
      "cell_type": "code",
      "source": [
        "ge_manifest <- files() |>\n",
        "    filter( cases.project.project_id == project_id) |>\n",
        "    filter( type == 'gene_expression' ) |>\n",
        "    filter( analysis.workflow_type == 'STAR - Counts')  |>\n",
        "    manifest()\n",
        "head(ge_manifest)"
      ],
      "metadata": {
        "collapsed": true,
        "id": "oA0axF_BxO14"
      },
      "execution_count": null,
      "outputs": []
    },
    {
      "cell_type": "code",
      "source": [
        "clindat = gdc_clinical(case_ids)\n",
        "names(clindat)"
      ],
      "metadata": {
        "colab": {
          "base_uri": "https://localhost:8080/",
          "height": 34
        },
        "id": "x5hOdNTxzIyr",
        "outputId": "8ae207b8-4ed3-49e8-cade-0e5556b875aa"
      },
      "execution_count": 5,
      "outputs": [
        {
          "output_type": "display_data",
          "data": {
            "text/html": [
              "<style>\n",
              ".list-inline {list-style: none; margin:0; padding: 0}\n",
              ".list-inline>li {display: inline-block}\n",
              ".list-inline>li:not(:last-child)::after {content: \"\\00b7\"; padding: 0 .5ex}\n",
              "</style>\n",
              "<ol class=list-inline><li>'demographic'</li><li>'diagnoses'</li><li>'exposures'</li><li>'follow_ups'</li><li>'main'</li></ol>\n"
            ],
            "text/markdown": "1. 'demographic'\n2. 'diagnoses'\n3. 'exposures'\n4. 'follow_ups'\n5. 'main'\n\n\n",
            "text/latex": "\\begin{enumerate*}\n\\item 'demographic'\n\\item 'diagnoses'\n\\item 'exposures'\n\\item 'follow\\_ups'\n\\item 'main'\n\\end{enumerate*}\n",
            "text/plain": [
              "[1] \"demographic\" \"diagnoses\"   \"exposures\"   \"follow_ups\"  \"main\"       "
            ]
          },
          "metadata": {}
        }
      ]
    },
    {
      "cell_type": "code",
      "source": [
        "str(clindat$diagnoses)"
      ],
      "metadata": {
        "id": "NJqx86qu11XE"
      },
      "execution_count": null,
      "outputs": []
    },
    {
      "cell_type": "code",
      "source": [
        "str(clindat$diagnoses$submitter_id)\n",
        "str(clindat$diagnoses$diagnosis_is_primary_disease )\n",
        "indices <- which(clindat$diagnoses$diagnosis_is_primary_disease == TRUE)\n"
      ],
      "metadata": {
        "colab": {
          "base_uri": "https://localhost:8080/"
        },
        "id": "06I5N5G605_U",
        "outputId": "2b76374d-02cb-4a7a-be2f-4b643ca8312d"
      },
      "execution_count": null,
      "outputs": [
        {
          "output_type": "stream",
          "name": "stdout",
          "text": [
            " chr [1:338] \"TCGA-2G-AAFE_diagnosis\" \"TCGA-2G-AAFE_diagnosis3\" ...\n",
            " logi [1:338] TRUE FALSE FALSE FALSE TRUE TRUE ...\n"
          ]
        }
      ]
    },
    {
      "cell_type": "code",
      "source": [
        "clindat$diagnoses$submitter_id[indices]\n",
        "clindat$diagnoses$primary_diagnosis[indices]"
      ],
      "metadata": {
        "id": "CbdQPYIz3gEs"
      },
      "execution_count": null,
      "outputs": []
    },
    {
      "cell_type": "code",
      "source": [
        "indices <- which(clindat$diagnoses$diagnosis_is_primary_disease == TRUE)\n",
        "\n",
        "df = data.frame(rownames = \"Primary diagnosis\", #there are a few diagnoses for some of the patients\n",
        "    t(clindat$diagnoses$primary_diagnosis[indices])\n",
        ")\n",
        "\n",
        "\n",
        "colnames(df) = c(\"feature\", clindat$diagnoses$submitter_id[indices])\n",
        "\n",
        "# Print the result\n",
        "df\n"
      ],
      "metadata": {
        "colab": {
          "base_uri": "https://localhost:8080/",
          "height": 184
        },
        "id": "kn2OliJHfATq",
        "outputId": "91782421-8d20-4166-c4a4-1ad9bb1c3667"
      },
      "execution_count": 14,
      "outputs": [
        {
          "output_type": "display_data",
          "data": {
            "text/html": [
              "<table class=\"dataframe\">\n",
              "<caption>A data.frame: 1 × 264</caption>\n",
              "<thead>\n",
              "\t<tr><th scope=col>feature</th><th scope=col>TCGA-2G-AAFE_diagnosis</th><th scope=col>TCGA-2G-AAGA_diagnosis</th><th scope=col>TCGA-ZM-AA05_diagnosis</th><th scope=col>TCGA-2G-AAKD_diagnosis</th><th scope=col>TCGA-X3-A8G4_diagnosis</th><th scope=col>TCGA-2G-AAG7_diagnosis</th><th scope=col>TCGA-2G-AAG5_diagnosis</th><th scope=col>TCGA-XE-A8H1_diagnosis</th><th scope=col>TCGA-2G-AAF1_diagnosis</th><th scope=col>⋯</th><th scope=col>TCGA-YU-A94L_diagnosis</th><th scope=col>TCGA-2G-AAG1_diagnosis</th><th scope=col>TCGA-2G-AAHE_diagnosis</th><th scope=col>TCGA-XE-AAOI_diagnosis</th><th scope=col>TCGA-2G-AAI4_diagnosis</th><th scope=col>TCGA-2G-AAL8_diagnosis</th><th scope=col>TCGA-2G-AAIB_diagnosis</th><th scope=col>TCGA-YU-A94H_diagnosis</th><th scope=col>TCGA-2G-AAFU_diagnosis</th><th scope=col>TCGA-2G-AAI2_diagnosis</th></tr>\n",
              "\t<tr><th scope=col>&lt;chr&gt;</th><th scope=col>&lt;chr&gt;</th><th scope=col>&lt;chr&gt;</th><th scope=col>&lt;chr&gt;</th><th scope=col>&lt;chr&gt;</th><th scope=col>&lt;chr&gt;</th><th scope=col>&lt;chr&gt;</th><th scope=col>&lt;chr&gt;</th><th scope=col>&lt;chr&gt;</th><th scope=col>&lt;chr&gt;</th><th scope=col>⋯</th><th scope=col>&lt;chr&gt;</th><th scope=col>&lt;chr&gt;</th><th scope=col>&lt;chr&gt;</th><th scope=col>&lt;chr&gt;</th><th scope=col>&lt;chr&gt;</th><th scope=col>&lt;chr&gt;</th><th scope=col>&lt;chr&gt;</th><th scope=col>&lt;chr&gt;</th><th scope=col>&lt;chr&gt;</th><th scope=col>&lt;chr&gt;</th></tr>\n",
              "</thead>\n",
              "<tbody>\n",
              "\t<tr><td>Primary diagnosis</td><td>Seminoma, NOS</td><td>Embryonal carcinoma, NOS</td><td>Seminoma, NOS</td><td>Embryonal carcinoma, NOS</td><td>Mixed germ cell tumor</td><td>Mixed germ cell tumor</td><td>Teratoma, benign</td><td>Embryonal carcinoma, NOS</td><td>Seminoma, NOS</td><td>⋯</td><td>Seminoma, NOS</td><td>Mixed germ cell tumor</td><td>Seminoma, NOS</td><td>Seminoma, NOS</td><td>Seminoma, NOS</td><td>Mixed germ cell tumor</td><td>Seminoma, NOS</td><td>Seminoma, NOS</td><td>Seminoma, NOS</td><td>Seminoma, NOS</td></tr>\n",
              "</tbody>\n",
              "</table>\n"
            ],
            "text/markdown": "\nA data.frame: 1 × 264\n\n| feature &lt;chr&gt; | TCGA-2G-AAFE_diagnosis &lt;chr&gt; | TCGA-2G-AAGA_diagnosis &lt;chr&gt; | TCGA-ZM-AA05_diagnosis &lt;chr&gt; | TCGA-2G-AAKD_diagnosis &lt;chr&gt; | TCGA-X3-A8G4_diagnosis &lt;chr&gt; | TCGA-2G-AAG7_diagnosis &lt;chr&gt; | TCGA-2G-AAG5_diagnosis &lt;chr&gt; | TCGA-XE-A8H1_diagnosis &lt;chr&gt; | TCGA-2G-AAF1_diagnosis &lt;chr&gt; | ⋯ ⋯ | TCGA-YU-A94L_diagnosis &lt;chr&gt; | TCGA-2G-AAG1_diagnosis &lt;chr&gt; | TCGA-2G-AAHE_diagnosis &lt;chr&gt; | TCGA-XE-AAOI_diagnosis &lt;chr&gt; | TCGA-2G-AAI4_diagnosis &lt;chr&gt; | TCGA-2G-AAL8_diagnosis &lt;chr&gt; | TCGA-2G-AAIB_diagnosis &lt;chr&gt; | TCGA-YU-A94H_diagnosis &lt;chr&gt; | TCGA-2G-AAFU_diagnosis &lt;chr&gt; | TCGA-2G-AAI2_diagnosis &lt;chr&gt; |\n|---|---|---|---|---|---|---|---|---|---|---|---|---|---|---|---|---|---|---|---|---|\n| Primary diagnosis | Seminoma, NOS | Embryonal carcinoma, NOS | Seminoma, NOS | Embryonal carcinoma, NOS | Mixed germ cell tumor | Mixed germ cell tumor | Teratoma, benign | Embryonal carcinoma, NOS | Seminoma, NOS | ⋯ | Seminoma, NOS | Mixed germ cell tumor | Seminoma, NOS | Seminoma, NOS | Seminoma, NOS | Mixed germ cell tumor | Seminoma, NOS | Seminoma, NOS | Seminoma, NOS | Seminoma, NOS |\n\n",
            "text/latex": "A data.frame: 1 × 264\n\\begin{tabular}{lllllllllllllllllllll}\n feature & TCGA-2G-AAFE\\_diagnosis & TCGA-2G-AAGA\\_diagnosis & TCGA-ZM-AA05\\_diagnosis & TCGA-2G-AAKD\\_diagnosis & TCGA-X3-A8G4\\_diagnosis & TCGA-2G-AAG7\\_diagnosis & TCGA-2G-AAG5\\_diagnosis & TCGA-XE-A8H1\\_diagnosis & TCGA-2G-AAF1\\_diagnosis & ⋯ & TCGA-YU-A94L\\_diagnosis & TCGA-2G-AAG1\\_diagnosis & TCGA-2G-AAHE\\_diagnosis & TCGA-XE-AAOI\\_diagnosis & TCGA-2G-AAI4\\_diagnosis & TCGA-2G-AAL8\\_diagnosis & TCGA-2G-AAIB\\_diagnosis & TCGA-YU-A94H\\_diagnosis & TCGA-2G-AAFU\\_diagnosis & TCGA-2G-AAI2\\_diagnosis\\\\\n <chr> & <chr> & <chr> & <chr> & <chr> & <chr> & <chr> & <chr> & <chr> & <chr> & ⋯ & <chr> & <chr> & <chr> & <chr> & <chr> & <chr> & <chr> & <chr> & <chr> & <chr>\\\\\n\\hline\n\t Primary diagnosis & Seminoma, NOS & Embryonal carcinoma, NOS & Seminoma, NOS & Embryonal carcinoma, NOS & Mixed germ cell tumor & Mixed germ cell tumor & Teratoma, benign & Embryonal carcinoma, NOS & Seminoma, NOS & ⋯ & Seminoma, NOS & Mixed germ cell tumor & Seminoma, NOS & Seminoma, NOS & Seminoma, NOS & Mixed germ cell tumor & Seminoma, NOS & Seminoma, NOS & Seminoma, NOS & Seminoma, NOS\\\\\n\\end{tabular}\n",
            "text/plain": [
              "  feature           TCGA-2G-AAFE_diagnosis TCGA-2G-AAGA_diagnosis  \n",
              "1 Primary diagnosis Seminoma, NOS          Embryonal carcinoma, NOS\n",
              "  TCGA-ZM-AA05_diagnosis TCGA-2G-AAKD_diagnosis   TCGA-X3-A8G4_diagnosis\n",
              "1 Seminoma, NOS          Embryonal carcinoma, NOS Mixed germ cell tumor \n",
              "  TCGA-2G-AAG7_diagnosis TCGA-2G-AAG5_diagnosis TCGA-XE-A8H1_diagnosis  \n",
              "1 Mixed germ cell tumor  Teratoma, benign       Embryonal carcinoma, NOS\n",
              "  TCGA-2G-AAF1_diagnosis ⋯ TCGA-YU-A94L_diagnosis TCGA-2G-AAG1_diagnosis\n",
              "1 Seminoma, NOS          ⋯ Seminoma, NOS          Mixed germ cell tumor \n",
              "  TCGA-2G-AAHE_diagnosis TCGA-XE-AAOI_diagnosis TCGA-2G-AAI4_diagnosis\n",
              "1 Seminoma, NOS          Seminoma, NOS          Seminoma, NOS         \n",
              "  TCGA-2G-AAL8_diagnosis TCGA-2G-AAIB_diagnosis TCGA-YU-A94H_diagnosis\n",
              "1 Mixed germ cell tumor  Seminoma, NOS          Seminoma, NOS         \n",
              "  TCGA-2G-AAFU_diagnosis TCGA-2G-AAI2_diagnosis\n",
              "1 Seminoma, NOS          Seminoma, NOS         "
            ]
          },
          "metadata": {}
        }
      ]
    },
    {
      "cell_type": "code",
      "source": [
        "write.csv(df,\"primary_diagnoses\")"
      ],
      "metadata": {
        "id": "hdVPyMCug6nF"
      },
      "execution_count": 15,
      "outputs": []
    },
    {
      "cell_type": "code",
      "source": [
        "not_reported_indices = indices[clindat$diagnoses$primary_diagnosis[indices] == \"Not Reported\"]\n",
        "reported_indices = indices[clindat$diagnoses$primary_diagnosis[indices] != \"Not Reported\"]"
      ],
      "metadata": {
        "id": "EfhuKGP83v_I"
      },
      "execution_count": null,
      "outputs": []
    },
    {
      "cell_type": "code",
      "source": [
        "length(reported_indices)"
      ],
      "metadata": {
        "colab": {
          "base_uri": "https://localhost:8080/",
          "height": 34
        },
        "id": "Er7AM12O4tkI",
        "outputId": "6d4ac9e5-435f-4235-da6c-ab94dddb1172"
      },
      "execution_count": null,
      "outputs": [
        {
          "output_type": "display_data",
          "data": {
            "text/html": [
              "247"
            ],
            "text/markdown": "247",
            "text/latex": "247",
            "text/plain": [
              "[1] 247"
            ]
          },
          "metadata": {}
        }
      ]
    },
    {
      "cell_type": "code",
      "source": [
        "clindat$diagnoses$case_id"
      ],
      "metadata": {
        "id": "ly_pzBlm1pXk"
      },
      "execution_count": null,
      "outputs": []
    },
    {
      "cell_type": "code",
      "source": [
        "clindat_df = as_tibble(do.call(rbind, clindat))"
      ],
      "metadata": {
        "id": "IheUGnEi0r30"
      },
      "execution_count": null,
      "outputs": []
    }
  ]
}