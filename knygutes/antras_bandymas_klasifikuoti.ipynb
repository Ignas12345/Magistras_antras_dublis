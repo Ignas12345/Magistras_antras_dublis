{
  "nbformat": 4,
  "nbformat_minor": 0,
  "metadata": {
    "colab": {
      "provenance": [],
      "authorship_tag": "ABX9TyPfEDxFmMEGCupkyqZESPn6",
      "include_colab_link": true
    },
    "kernelspec": {
      "name": "python3",
      "display_name": "Python 3"
    },
    "language_info": {
      "name": "python"
    }
  },
  "cells": [
    {
      "cell_type": "markdown",
      "metadata": {
        "id": "view-in-github",
        "colab_type": "text"
      },
      "source": [
        "<a href=\"https://colab.research.google.com/github/Ignas12345/Magistro_projektas/blob/main/knygutes/antras_bandymas_klasifikuoti.ipynb\" target=\"_parent\"><img src=\"https://colab.research.google.com/assets/colab-badge.svg\" alt=\"Open In Colab\"/></a>"
      ]
    },
    {
      "cell_type": "code",
      "source": [
        "import numpy as np\n",
        "import pandas as pd\n",
        "import torch\n",
        "import torch.nn as nn\n",
        "import torch.nn.functional as F\n",
        "from torch.utils.data import DataLoader, TensorDataset\n",
        "from sklearn.utils.class_weight import compute_class_weight\n",
        "from sklearn.metrics import accuracy_score\n"
      ],
      "metadata": {
        "id": "cU_eBl0bbHUu"
      },
      "execution_count": 27,
      "outputs": []
    },
    {
      "cell_type": "code",
      "source": [
        "# uzkraunam neapdorotus duomenis\n",
        "url = 'https://raw.githubusercontent.com/Ignas12345/Magistro_projektas/refs/heads/main/counts_combined.csv'\n",
        "df = pd.read_csv(url)\n",
        "gene_names = df[\"miRNA_ID\"].to_numpy()\n",
        "df_trimmed = df.drop(df.columns[0], axis=1)\n",
        "full_data = (df_trimmed.to_numpy(dtype=np.int32)).T"
      ],
      "metadata": {
        "id": "dpCO4P51uln6"
      },
      "execution_count": 28,
      "outputs": []
    },
    {
      "cell_type": "code",
      "source": [
        "#arba uzkraunam isfiltruotus duomenis is praeitos knygutes\n",
        "url = 'https://raw.githubusercontent.com/Ignas12345/Magistro_projektas/refs/heads/main/filtruoti_duomenys/filtruoti_1_su_310_miRNR/'\n",
        "filtered_data = (pd.read_csv(url + 'further_filtered_data.csv').values).T\n",
        "gene_names = pd.read_csv(url + 'further_filtered_gene_names.csv', header = None).values.flatten()\n",
        "print(np.shape(filtered_data))\n",
        "print(np.shape(gene_names))"
      ],
      "metadata": {
        "id": "wBcDTeXCmwC1",
        "outputId": "9e0a4ba9-1a3c-4753-b9d2-086e7576cef5",
        "colab": {
          "base_uri": "https://localhost:8080/"
        }
      },
      "execution_count": 29,
      "outputs": [
        {
          "output_type": "stream",
          "name": "stdout",
          "text": [
            "(139, 310)\n",
            "(310,)\n"
          ]
        }
      ]
    },
    {
      "cell_type": "code",
      "source": [
        "X = filtered_data"
      ],
      "metadata": {
        "id": "-LKuHl9_h4_m"
      },
      "execution_count": 30,
      "outputs": []
    },
    {
      "cell_type": "code",
      "source": [
        "# Create labels: first 6 samples -> label 0, rest -> label 1\n",
        "num_samples = X.shape[0]\n",
        "labels = torch.zeros(num_samples, dtype=torch.float32)\n",
        "labels[6:] = 1  # Set the rest of the samples to label 1\n",
        "\n",
        "# Convert X to a PyTorch tensor\n",
        "features = torch.tensor(X, dtype=torch.float32)\n",
        "\n",
        "#netikri papildomi treniravimo duomenys\n",
        "benign_features = features[:6]  # First 6 samples are benign\n",
        "benign_labels = labels[:6]\n",
        "\n",
        "# Duplicate benign samples with slight noise\n",
        "augmented_features = benign_features + 0.01 * torch.randn_like(benign_features)\n",
        "features = torch.cat([features, augmented_features])\n",
        "labels = torch.cat([labels, benign_labels])\n",
        "\n",
        "mean = features.mean(dim=0)\n",
        "std = features.std(dim=0)\n",
        "features = (features - mean) / (std + 1e-8)\n",
        "\n",
        "# Combine features and labels into a dataset\n",
        "dataset = TensorDataset(features, labels)"
      ],
      "metadata": {
        "id": "4e0tFFYAcnle"
      },
      "execution_count": 31,
      "outputs": []
    },
    {
      "cell_type": "code",
      "source": [
        "# Create a DataLoader for batching\n",
        "batch_size = 1  # You can adjust this as needed\n",
        "data_loader = DataLoader(dataset, batch_size=batch_size, shuffle=True)\n",
        "\n",
        "# Example: Print the shape of a batch\n",
        "for batch_features, batch_labels in data_loader:\n",
        "    print(f\"Batch features shape: {batch_features.shape}\")\n",
        "    print(f\"Batch labels shape: {batch_labels.shape}\")\n",
        "    break"
      ],
      "metadata": {
        "id": "_hAWolYbu26q",
        "colab": {
          "base_uri": "https://localhost:8080/"
        },
        "outputId": "bab72b37-3d5e-476e-dc41-785681a6e93c"
      },
      "execution_count": 6,
      "outputs": [
        {
          "output_type": "stream",
          "name": "stdout",
          "text": [
            "Batch features shape: torch.Size([1, 310])\n",
            "Batch labels shape: torch.Size([1])\n"
          ]
        }
      ]
    },
    {
      "cell_type": "code",
      "source": [
        "print(features[0])"
      ],
      "metadata": {
        "id": "jg4dSYMSKPIB"
      },
      "execution_count": null,
      "outputs": []
    },
    {
      "cell_type": "code",
      "source": [
        "for batch_features, batch_labels in data_loader:\n",
        "    print(f\"Batch features shape: {batch_features}\")\n",
        "    print(f\"Batch labels shape: {batch_labels}\")\n",
        "    break"
      ],
      "metadata": {
        "colab": {
          "base_uri": "https://localhost:8080/"
        },
        "id": "h7MFlevNmseU",
        "outputId": "ae1b2f00-78d0-44e1-a51c-5b3778114936"
      },
      "execution_count": 32,
      "outputs": [
        {
          "output_type": "stream",
          "name": "stdout",
          "text": [
            "Batch features shape: tensor([[-0.4202, -0.4190, -0.4189, -0.5222, -0.4267, -0.4379, -0.5122, -0.3789,\n",
            "         -0.3905, -0.2518, -0.4331, -0.5286, -0.0767, -0.0914, -0.6333, -0.6347,\n",
            "          1.5937,  1.5757, -0.6209, -0.8597, -0.6032, -0.6093, -0.3402, -0.4592,\n",
            "         -0.3929, -0.7102, -0.5144, -0.5066, -0.5726, -0.2692,  0.1066,  0.2820,\n",
            "         -0.0914, -0.1206, -0.3672,  0.0884, -0.5307, -0.0728, -0.5520, -0.9523,\n",
            "         -0.4180, -0.5381, -0.2854, -0.7428, -0.3375, -0.3485, -0.3906, -0.4429,\n",
            "          0.4400, -0.2638, -0.6155, -0.2417,  0.1125, -0.5115,  1.0740, -0.2824,\n",
            "         -0.1617,  0.0269, -0.0662, -0.4925, -0.1999, -0.0687, -0.1604, -0.6651,\n",
            "          0.5691, -0.4192, -0.2966, -0.6920, -0.4501, -0.4978, -0.5041, -0.4984,\n",
            "         -0.3729, -0.4540, -0.0171,  0.3037, -0.3918, -0.3279, -0.5138, -0.3938,\n",
            "         -0.7908,  0.2592, -0.1739, -0.3517, -0.8469,  0.6807, -0.2942, -0.2999,\n",
            "         -0.1894, -0.5065, -0.4219,  0.1239, -0.5509, -0.5626, -0.5792, -0.7760,\n",
            "         -0.7778, -0.7352, -0.4436, -0.6664, -0.1566, -0.2345, -0.5040, -0.6940,\n",
            "         -0.5706, -0.6392, -0.8109, -0.8025, -0.5314, -0.1159, -0.4747, -0.4671,\n",
            "         -0.2141, -0.2603, -0.4641, -0.6771, -0.8157, -0.5612, -0.3123,  0.0997,\n",
            "         -0.4053, -0.4525, -0.7556, -0.7741,  0.0513, -0.5740, -0.5691, -0.6758,\n",
            "         -0.7209, -0.5685, -0.4447,  0.5546,  0.5947,  0.0762,  0.2973,  0.3048,\n",
            "          0.3975, -0.5703, -0.2561, -0.5718, -0.5757, -0.5634, -0.6349,  0.9037,\n",
            "         -0.1709, -0.6270, -0.6216, -0.4748, -0.4785,  0.2131, -1.0821, -0.5086,\n",
            "         -0.6715, -0.3013, -0.3363, -0.5062, -0.2876, -0.2461, -0.6040, -0.1712,\n",
            "         -0.5561, -0.3474, -0.5554, -0.7069, -0.2172, -0.3039, -0.3218,  0.1675,\n",
            "         -0.8244, -0.1903, -0.0920, -0.5249, -0.2310, -0.4635, -0.8034, -0.4989,\n",
            "         -0.3146, -0.2023, -0.3443, -0.5532, -0.4204, -0.1285, -0.0583,  0.0112,\n",
            "         -0.4753,  1.1101, -0.1134, -0.3198, -0.4855, -0.4132, -0.4759, -0.2580,\n",
            "          0.1137, -0.3048, -0.0120, -0.2007, -0.2108,  0.2255, -0.2116, -0.3816,\n",
            "         -0.3889, -0.2331, -0.3787, -0.4327, -0.8499, -0.6499, -0.8583, -0.4892,\n",
            "         -0.4789, -0.3823, -0.5602, -0.5769, -0.2559, -0.5231, -0.5412,  0.8898,\n",
            "         -0.5506,  0.1655,  0.6126, -0.2343, -0.1428, -0.6648, -0.6612, -0.3240,\n",
            "         -0.4457, -0.1961, -0.3573, -0.1083, -0.1301, -0.1542, -0.4278, -0.6900,\n",
            "         -0.4112, -0.7069, -0.6074, -0.5815, -0.1419, -0.1733, -0.1595, -0.2488,\n",
            "         -0.4412, -0.4491, -0.1692, -0.1715, -0.1789, -0.3917, -0.3903, -0.3099,\n",
            "         -0.3615, -0.4579, -0.4902, -0.4479, -0.3689, -0.3312, -0.4266, -0.4231,\n",
            "         -0.3436, -0.4502, -0.4796, -0.5848, -0.4155, -0.5558, -0.1678, -0.3940,\n",
            "         -0.4880, -0.7590, -0.5640, -0.0034,  0.0225, -0.6671, -0.2869, -0.1911,\n",
            "          0.9083,  1.0314,  1.7222,  0.2546, -0.1315, -0.2343, -0.1963, -0.0973,\n",
            "         -0.4770, -0.7579, -0.4451, -0.1871,  0.7354, -0.4309,  2.1058, -0.6266,\n",
            "         -0.5488, -0.0569, -0.5561,  2.0798, -0.4559,  0.4486, -0.5722, -0.3901,\n",
            "         -0.3315, -0.1521, -0.1522, -0.1515, -0.8883, -0.8798, -0.2778, -0.5054,\n",
            "         -0.4490,  0.3038,  0.2442, -0.4928, -0.4327, -0.6406]])\n",
            "Batch labels shape: tensor([1.])\n"
          ]
        }
      ]
    },
    {
      "cell_type": "code",
      "source": [
        "class SparseNN(nn.Module):\n",
        "    def __init__(self, input_dim, temperature = 1):\n",
        "        super(SparseNN, self).__init__()\n",
        "        self.input_dim = input_dim\n",
        "        self.temperature = temperature\n",
        "        self.output_weights = nn.Parameter(torch.randn(input_dim))  # Raw weights\n",
        "\n",
        "    def forward(self, x):\n",
        "        first_layer_output = torch.tanh(x)\n",
        "        weighted_output = first_layer_output * self.output_weights\n",
        "        pooled_output = weighted_output.sum(dim=1)\n",
        "\n",
        "        output = torch.sigmoid(pooled_output / self.temperature)\n",
        "\n",
        "        return output\n",
        "\n",
        "def l1_regularization(weight, lambda_l1=0.001):\n",
        "    return lambda_l1 * weight.abs().sum()\n",
        "\n"
      ],
      "metadata": {
        "id": "eM5yeyfSWIqo"
      },
      "execution_count": 35,
      "outputs": []
    },
    {
      "cell_type": "code",
      "source": [
        "#initialize the model\n",
        "input_dim = features.shape[1]\n",
        "model = SparseNN(input_dim, temperature = 1)\n",
        "\n",
        "# Define a loss function and optimizer\n",
        "criterion = nn.BCELoss()  # Binary Cross Entropy Loss for binary classification\n",
        "optimizer = torch.optim.Adam(model.parameters(), lr=0.001)  # L1 sparsity via weight_decay"
      ],
      "metadata": {
        "id": "dWKjCuxSlA19"
      },
      "execution_count": 52,
      "outputs": []
    },
    {
      "cell_type": "code",
      "execution_count": 50,
      "metadata": {
        "colab": {
          "base_uri": "https://localhost:8080/"
        },
        "collapsed": true,
        "id": "u0gHb8mXTh7C",
        "outputId": "a6dceb2e-492a-404f-9553-136a4058a481"
      },
      "outputs": [
        {
          "output_type": "stream",
          "name": "stdout",
          "text": [
            "Epoch [1/50], Loss: 4.2571\n",
            "Epoch [2/50], Loss: 3.3859\n",
            "Epoch [3/50], Loss: 3.1003\n",
            "Epoch [4/50], Loss: 2.9384\n",
            "Epoch [5/50], Loss: 2.8211\n",
            "Epoch [6/50], Loss: 2.7203\n",
            "Epoch [7/50], Loss: 2.6365\n",
            "Epoch [8/50], Loss: 2.5646\n",
            "Epoch [9/50], Loss: 2.4977\n",
            "Epoch [10/50], Loss: 2.4403\n",
            "Epoch [11/50], Loss: 2.3843\n",
            "Epoch [12/50], Loss: 2.3319\n",
            "Epoch [13/50], Loss: 2.2796\n",
            "Epoch [14/50], Loss: 2.2333\n",
            "Epoch [15/50], Loss: 2.1835\n",
            "Epoch [16/50], Loss: 2.1359\n",
            "Epoch [17/50], Loss: 2.0894\n",
            "Epoch [18/50], Loss: 2.0425\n",
            "Epoch [19/50], Loss: 1.9973\n",
            "Epoch [20/50], Loss: 1.9525\n",
            "Epoch [21/50], Loss: 1.9076\n",
            "Epoch [22/50], Loss: 1.8632\n",
            "Epoch [23/50], Loss: 1.8204\n",
            "Epoch [24/50], Loss: 1.7756\n",
            "Epoch [25/50], Loss: 1.7352\n",
            "Epoch [26/50], Loss: 1.6894\n",
            "Epoch [27/50], Loss: 1.6479\n",
            "Epoch [28/50], Loss: 1.6084\n",
            "Epoch [29/50], Loss: 1.5690\n",
            "Epoch [30/50], Loss: 1.5294\n",
            "Epoch [31/50], Loss: 1.4914\n",
            "Epoch [32/50], Loss: 1.4550\n",
            "Epoch [33/50], Loss: 1.4175\n",
            "Epoch [34/50], Loss: 1.3790\n",
            "Epoch [35/50], Loss: 1.3427\n",
            "Epoch [36/50], Loss: 1.3064\n",
            "Epoch [37/50], Loss: 1.2743\n",
            "Epoch [38/50], Loss: 1.2393\n",
            "Epoch [39/50], Loss: 1.2087\n",
            "Epoch [40/50], Loss: 1.1767\n",
            "Epoch [41/50], Loss: 1.1517\n",
            "Epoch [42/50], Loss: 1.1179\n",
            "Epoch [43/50], Loss: 1.0915\n",
            "Epoch [44/50], Loss: 1.0673\n",
            "Epoch [45/50], Loss: 1.0409\n",
            "Epoch [46/50], Loss: 1.0171\n",
            "Epoch [47/50], Loss: 0.9932\n",
            "Epoch [48/50], Loss: 0.9699\n",
            "Epoch [49/50], Loss: 0.9505\n",
            "Epoch [50/50], Loss: 0.9273\n",
            "Final Accuracy: 0.9586\n"
          ]
        }
      ],
      "source": [
        "# Training Loop\n",
        "num_epochs = 50  # Adjust based on dataset size and convergence\n",
        "lambda_l1 = 0.01  # Regularization strength\n",
        "\n",
        "for epoch in range(num_epochs):\n",
        "    model.train()\n",
        "    total_loss = 0.0\n",
        "\n",
        "    for batch_features, batch_labels in data_loader:\n",
        "        # Forward pass\n",
        "        outputs = model(batch_features)  # Ensure shape compatibility for BCELoss\n",
        "        # Compute binary cross-entropy loss\n",
        "        loss = criterion(outputs, batch_labels)\n",
        "\n",
        "        # Add L1 regularization for sparsity\n",
        "        loss += l1_regularization(model.output_weights, lambda_l1)\n",
        "\n",
        "        #make probabilities less extreme\n",
        "        penalty = (outputs * torch.log(outputs + 1e-8) + (1 - outputs) * torch.log(1 - outputs + 1e-8)).mean()\n",
        "        loss += 0.1 * penalty\n",
        "\n",
        "        # Backward pass and optimization\n",
        "        optimizer.zero_grad()\n",
        "        loss.backward()\n",
        "        optimizer.step()\n",
        "\n",
        "        total_loss += loss.item()\n",
        "\n",
        "    # Logging epoch statistics\n",
        "    print(f\"Epoch [{epoch + 1}/{num_epochs}], Loss: {total_loss / len(data_loader):.4f}\")\n",
        "\n",
        "# Evaluation (after training)\n",
        "model.eval()\n",
        "with torch.no_grad():\n",
        "    # Forward pass on the entire dataset\n",
        "    predictions = model(features)\n",
        "    predictions = (predictions > 0.5).float()  # Convert probabilities to binary predictions\n",
        "\n",
        "    # Compute accuracy\n",
        "    accuracy = accuracy_score(labels.numpy(), predictions.numpy())\n",
        "    print(f\"Final Accuracy: {accuracy:.4f}\")"
      ]
    },
    {
      "cell_type": "code",
      "source": [
        "\n",
        "probs = 100 * model(features).detach().numpy()\n",
        "formatted_probs = np.array([f\"{p:.2f}%\" for p in probs])\n",
        "print(formatted_probs)\n"
      ],
      "metadata": {
        "colab": {
          "base_uri": "https://localhost:8080/"
        },
        "id": "SxXeME3tiw6N",
        "outputId": "f6910abe-c943-4770-9df8-47ec2d5618d0"
      },
      "execution_count": 51,
      "outputs": [
        {
          "output_type": "stream",
          "name": "stdout",
          "text": [
            "['3.50%' '5.15%' '77.16%' '20.94%' '2.28%' '18.25%' '88.19%' '66.17%'\n",
            " '97.64%' '90.80%' '93.98%' '92.69%' '65.33%' '83.98%' '78.70%' '60.62%'\n",
            " '98.07%' '98.99%' '81.91%' '88.80%' '91.57%' '79.83%' '68.42%' '81.81%'\n",
            " '88.03%' '91.37%' '87.03%' '83.67%' '89.00%' '46.18%' '93.30%' '87.30%'\n",
            " '90.24%' '73.27%' '75.23%' '17.03%' '58.32%' '93.63%' '98.23%' '84.02%'\n",
            " '65.12%' '94.84%' '94.27%' '80.27%' '80.97%' '76.63%' '84.98%' '82.26%'\n",
            " '88.08%' '92.56%' '56.12%' '86.92%' '91.56%' '14.04%' '84.68%' '55.60%'\n",
            " '92.27%' '74.54%' '86.09%' '77.56%' '82.38%' '82.64%' '87.59%' '82.30%'\n",
            " '99.43%' '69.31%' '87.07%' '85.58%' '98.56%' '71.37%' '96.13%' '89.19%'\n",
            " '93.26%' '60.74%' '79.15%' '96.80%' '89.34%' '93.58%' '87.75%' '71.01%'\n",
            " '87.28%' '91.01%' '62.85%' '89.45%' '87.07%' '67.47%' '76.51%' '87.80%'\n",
            " '78.26%' '81.98%' '91.69%' '50.00%' '69.15%' '93.37%' '91.01%' '83.51%'\n",
            " '76.24%' '83.96%' '93.53%' '91.93%' '97.36%' '87.54%' '79.91%' '75.24%'\n",
            " '59.27%' '76.37%' '99.41%' '96.81%' '74.23%' '64.93%' '93.39%' '63.56%'\n",
            " '77.24%' '73.21%' '77.21%' '76.42%' '78.73%' '84.85%' '68.53%' '92.41%'\n",
            " '67.34%' '31.24%' '88.13%' '85.49%' '64.15%' '89.93%' '70.67%' '87.10%'\n",
            " '85.16%' '91.77%' '89.97%' '90.35%' '81.96%' '73.07%' '73.31%' '84.32%'\n",
            " '99.66%' '81.55%' '90.46%' '3.50%' '5.14%' '77.16%' '20.94%' '2.28%'\n",
            " '18.25%']\n"
          ]
        }
      ]
    },
    {
      "cell_type": "code",
      "source": [
        "#jeigu procentai sutampa su tikrove, issaugom svorius (ir jeigu jie naudingi...)\n",
        "\n",
        "torch.save(model.first_layer_weights.data, \"first_layer_weights.pt\")\n",
        "\n",
        "# Save the first layer's biases (if present)\n",
        "torch.save(model.first_layer_biases.data, \"first_layer_biases.pt\")\n",
        "\n",
        "# Save the second layer (sparse) weights\n",
        "torch.save(model.output_weights_raw.data, \"output_weights_raw.pt\")"
      ],
      "metadata": {
        "id": "5cwRWuziTODI"
      },
      "execution_count": null,
      "outputs": []
    },
    {
      "cell_type": "code",
      "source": [
        "# Svoriu analize is idejos turetu parodyti, kurie genai yra svarbiausi priimant sprendima\n",
        "output_weights = model.output_weights.data\n",
        "print(model.output_weights.data)\n"
      ],
      "metadata": {
        "colab": {
          "base_uri": "https://localhost:8080/"
        },
        "id": "KTqC-PIcXGej",
        "outputId": "745e10bd-93e9-4274-bbf9-9eda4b6ec50f"
      },
      "execution_count": 53,
      "outputs": [
        {
          "output_type": "stream",
          "name": "stdout",
          "text": [
            "tensor([-8.0371e-01, -1.9905e-01, -6.9083e-02, -8.4472e-01, -1.3725e+00,\n",
            "        -1.2039e+00,  2.4423e-01,  8.2587e-02,  2.9562e-01,  5.6423e-01,\n",
            "         1.1296e+00,  1.3189e+00, -1.0270e+00,  1.8009e-01,  6.7404e-01,\n",
            "        -1.6188e+00,  2.0592e-01,  1.6052e+00,  4.7599e-01,  8.4591e-01,\n",
            "         2.5805e-01,  2.6345e-01,  1.9229e+00,  9.7635e-01, -2.5098e+00,\n",
            "         1.2302e+00, -1.4879e+00,  3.7657e-01, -4.3982e-02, -1.0523e+00,\n",
            "        -2.1744e-01,  1.1730e+00, -5.2970e-01,  2.0544e+00, -2.0209e-01,\n",
            "        -9.3559e-01, -1.4347e-01,  8.2741e-01, -2.0529e-01, -1.6451e+00,\n",
            "        -4.2957e-01, -1.2683e+00,  1.8300e+00,  5.2238e-01, -8.8786e-02,\n",
            "         8.8914e-01,  1.7513e-01, -4.2077e-02, -4.1244e-01,  8.4879e-01,\n",
            "         4.3400e-01,  8.8089e-01,  1.3504e+00,  9.5448e-01, -9.4601e-01,\n",
            "         3.7017e-02,  5.0306e-01,  9.3641e-02,  1.5665e-01,  3.4711e-01,\n",
            "        -2.2121e-01,  9.0479e-01,  1.3822e+00,  5.3259e-01, -4.8295e-01,\n",
            "         9.7658e-01, -8.2628e-01, -7.8465e-01,  7.6057e-01, -5.5243e-01,\n",
            "         4.7104e-01, -5.6199e-01,  6.7010e-01, -1.8733e-01,  6.3862e-01,\n",
            "        -1.7635e+00, -4.2255e-02,  8.3468e-02,  1.4467e-02,  6.7682e-01,\n",
            "         1.1525e+00,  5.3412e-01,  5.3367e-01,  1.1203e+00,  4.3997e-01,\n",
            "        -3.0792e-01,  8.8143e-01,  7.7447e-01,  1.3111e+00,  1.0120e+00,\n",
            "        -1.5021e+00, -3.7501e-01, -1.7530e+00, -9.2820e-01,  1.6305e-01,\n",
            "        -8.5838e-02,  5.6863e-01,  1.0739e+00, -1.0114e+00, -9.0734e-01,\n",
            "        -3.4054e-02,  1.4492e+00, -1.9239e-01,  1.8648e-01, -9.1746e-01,\n",
            "        -1.0891e+00, -1.2712e+00,  1.9492e-01, -1.4741e+00, -1.4832e+00,\n",
            "         3.0717e-01, -6.2354e-01, -6.6657e-01, -2.8865e-01, -2.4444e-01,\n",
            "        -3.6810e-01, -1.9919e+00, -6.0367e-01, -1.4808e+00,  6.6774e-01,\n",
            "         1.2913e+00, -1.0144e+00, -2.1137e-01,  6.1402e-01, -5.2993e-01,\n",
            "         9.0890e-01, -9.1559e-01, -8.7189e-02,  3.7188e-01, -2.2526e-01,\n",
            "        -7.9588e-01,  1.4714e+00,  9.1082e-01,  9.8985e-01, -9.2179e-01,\n",
            "         1.4403e-01, -1.2944e+00,  1.0757e+00, -5.7605e-01, -6.7196e-01,\n",
            "         1.2730e+00, -4.7937e-01, -2.1777e-01, -9.2294e-01, -4.9687e-01,\n",
            "         1.0201e+00,  1.0800e+00,  4.5404e-01, -1.1986e+00, -1.1005e+00,\n",
            "        -3.2877e-01,  1.3973e+00, -1.2740e+00, -5.7179e-01,  1.1320e+00,\n",
            "        -4.6055e-01,  1.3857e+00, -2.2049e-04, -5.2921e-01, -4.1811e-01,\n",
            "        -3.5640e-01, -5.4777e-01,  1.3513e+00, -1.5091e+00,  3.1861e-01,\n",
            "         1.2966e+00, -5.9538e-01,  1.2002e+00, -1.0631e+00, -7.8902e-01,\n",
            "         1.1422e-01, -1.3565e+00, -1.2873e-01, -1.0299e+00, -1.8387e-01,\n",
            "         6.1722e-01, -1.9133e-02, -1.4665e+00, -5.0316e-01, -1.2630e-01,\n",
            "        -2.1656e+00, -7.9867e-02,  1.0185e+00,  7.4293e-01,  9.6820e-01,\n",
            "         3.0692e-02, -7.6930e-01,  1.4864e+00,  4.9140e-02,  1.1729e+00,\n",
            "         6.0014e-01,  1.2533e+00, -3.5324e-01, -7.0945e-02, -1.2298e+00,\n",
            "         5.8294e-01, -1.1425e+00, -1.5396e+00, -9.6258e-01,  6.2655e-01,\n",
            "        -8.5231e-01,  2.8023e-01,  2.4584e+00, -3.8701e-02, -1.4438e+00,\n",
            "         9.9892e-01,  8.8023e-01, -1.0404e+00, -8.0776e-01, -2.5087e-01,\n",
            "        -4.7606e-01, -1.0364e+00, -5.9626e-01, -4.1303e-02, -4.5115e-01,\n",
            "         1.7011e+00,  1.8584e-01,  1.9729e-01,  6.6392e-01,  4.9467e-01,\n",
            "        -5.7004e-01,  1.8247e+00,  5.5758e-01, -2.4271e-01,  9.5501e-01,\n",
            "         1.8349e+00, -1.3038e-02,  6.0144e-01, -1.0016e+00,  7.8755e-01,\n",
            "        -1.7435e-01, -9.9986e-01,  5.6846e-01, -8.7587e-01,  3.4745e-01,\n",
            "        -3.9780e-01,  1.2229e-01,  3.8028e-01,  1.4736e+00,  5.8888e-01,\n",
            "        -1.7006e+00,  8.3473e-01,  1.2401e+00, -3.7445e-01,  1.7185e+00,\n",
            "        -2.5130e-01,  1.2568e-02, -9.2034e-01,  6.0285e-01, -7.5514e-01,\n",
            "         1.5223e+00, -7.7021e-01,  1.6602e-02,  2.3865e-02,  3.0225e-01,\n",
            "        -6.2183e-01,  3.9592e-02, -1.2610e+00,  2.7127e+00,  8.9616e-01,\n",
            "        -4.0957e-01,  4.3385e-01,  6.1579e-01, -2.3727e-01,  2.6269e+00,\n",
            "         1.4959e+00, -1.9733e+00,  2.4948e-01,  1.7174e+00, -1.5275e+00,\n",
            "        -1.2687e+00, -5.0740e-01,  4.7821e-01, -2.8744e-01, -1.8187e-01,\n",
            "        -2.5522e-01,  5.0396e-01,  5.6404e-01, -1.5652e-01,  2.4241e-01,\n",
            "        -8.5928e-01, -3.4413e-02, -1.6783e+00,  4.2205e-01, -1.3249e+00,\n",
            "        -8.4894e-01, -6.7076e-01, -1.3460e-01, -9.5156e-02,  2.1328e+00,\n",
            "         7.5116e-01, -5.0734e-01, -2.9049e-01, -4.0931e-01, -2.3352e-02,\n",
            "        -9.1497e-02,  1.5793e-01, -4.4961e-01,  9.0646e-01, -7.1106e-01,\n",
            "         1.5936e+00,  5.3519e-01,  8.5909e-01, -3.1792e-02, -8.2460e-02,\n",
            "        -1.2269e-01, -8.1481e-01,  7.0294e-02,  1.9512e+00, -7.9042e-01])\n"
          ]
        }
      ]
    },
    {
      "cell_type": "code",
      "source": [
        "sorted_indices = torch.argsort(np.abs(output_weights), descending=True)\n",
        "values = output_weights[sorted_indices]\n",
        "genes = gene_names[sorted_indices]\n",
        "\n",
        "print(sorted_indices[:50])\n",
        "print(values[:50])\n",
        "print(gene_names[264])"
      ],
      "metadata": {
        "colab": {
          "base_uri": "https://localhost:8080/"
        },
        "id": "he-q2mrITtax",
        "outputId": "11a97608-fa05-4e2c-9ca1-397eaad1798a"
      },
      "execution_count": 56,
      "outputs": [
        {
          "output_type": "stream",
          "name": "stdout",
          "text": [
            "tensor([258, 264,  24, 202, 180, 289,  33, 116, 266, 308,  22, 225,  42, 221,\n",
            "         75,  92, 244, 268, 215, 240, 282,  39,  15,  17, 300, 197, 269, 250,\n",
            "        163,  90, 265,  26, 187, 109, 118, 108, 238, 131, 177, 101, 204, 151,\n",
            "        156,  62,   4, 171, 162,  52, 284,  11])\n",
            "tensor([ 2.7127,  2.6269, -2.5098,  2.4584, -2.1656,  2.1328,  2.0544, -1.9919,\n",
            "        -1.9733,  1.9512,  1.9229,  1.8349,  1.8300,  1.8247, -1.7635, -1.7530,\n",
            "         1.7185,  1.7174,  1.7011, -1.7006, -1.6783, -1.6451, -1.6188,  1.6052,\n",
            "         1.5936, -1.5396, -1.5275,  1.5223, -1.5091, -1.5021,  1.4959, -1.4879,\n",
            "         1.4864, -1.4832, -1.4808, -1.4741,  1.4736,  1.4714, -1.4665,  1.4492,\n",
            "        -1.4438,  1.3973,  1.3857,  1.3822, -1.3725, -1.3565,  1.3513,  1.3504,\n",
            "        -1.3249,  1.3189])\n",
            "hsa-mir-574\n"
          ]
        }
      ]
    },
    {
      "cell_type": "code",
      "source": [
        "model = SparseNN(input_dim, temperature = 5)\n",
        "\n",
        "loaded_first_layer_weights = torch.load(\"first_layer_weights.pt\")\n",
        "loaded_first_layer_biases = torch.load(\"first_layer_biases.pt\")\n",
        "loaded_otput_weights_raw = torch.load(\"output_weights_raw.pt\")\n",
        "\n",
        "# Assign the loaded values to the model\n",
        "model.first_layer_weights.data = loaded_first_layer_weights\n",
        "model.first_layer_biases.data = loaded_first_layer_biases\n",
        "model.output_weights_raw.data = loaded_otput_weights_raw\n",
        "\n",
        "probs = 100 * model(features).detach().numpy()\n",
        "formatted_probs = np.array([f\"{p:.2f}%\" for p in probs])\n",
        "print(formatted_probs)"
      ],
      "metadata": {
        "colab": {
          "base_uri": "https://localhost:8080/"
        },
        "id": "VSgbW5z_abWH",
        "outputId": "f70c6e5d-0405-4ee5-9a09-969fc846a0aa"
      },
      "execution_count": null,
      "outputs": [
        {
          "output_type": "stream",
          "name": "stdout",
          "text": [
            "['0.28%' '2.63%' '98.76%' '13.91%' '6.85%' '2.21%' '100.00%' '99.84%'\n",
            " '99.97%' '99.61%' '99.25%' '99.98%' '100.00%' '100.00%' '99.84%' '96.65%'\n",
            " '99.59%' '99.98%' '100.00%' '99.96%' '99.95%' '100.00%' '99.56%' '99.91%'\n",
            " '99.99%' '100.00%' '99.87%' '98.75%' '99.90%' '91.62%' '99.97%' '99.85%'\n",
            " '99.57%' '100.00%' '93.07%' '99.83%' '99.97%' '100.00%' '100.00%'\n",
            " '100.00%' '78.69%' '85.09%' '99.97%' '99.86%' '99.94%' '99.91%' '98.92%'\n",
            " '96.46%' '100.00%' '99.58%' '100.00%' '98.58%' '99.46%' '99.59%'\n",
            " '100.00%' '98.60%' '97.74%' '100.00%' '100.00%' '99.84%' '100.00%'\n",
            " '100.00%' '93.83%' '84.41%' '99.85%' '99.96%' '100.00%' '99.79%' '99.79%'\n",
            " '99.93%' '99.92%' '92.36%' '100.00%' '99.76%' '99.98%' '99.78%' '99.87%'\n",
            " '99.77%' '100.00%' '97.00%' '91.85%' '79.52%' '99.78%' '84.40%' '99.07%'\n",
            " '100.00%' '99.98%' '99.56%' '99.98%' '100.00%' '100.00%' '95.92%'\n",
            " '99.38%' '92.33%' '99.79%' '100.00%' '99.97%' '99.04%' '100.00%'\n",
            " '100.00%' '99.99%' '99.54%' '99.99%' '100.00%' '99.99%' '98.96%' '99.99%'\n",
            " '100.00%' '99.87%' '52.97%' '99.90%' '99.96%' '100.00%' '88.59%'\n",
            " '100.00%' '100.00%' '94.31%' '100.00%' '99.94%' '99.78%' '100.00%'\n",
            " '99.98%' '99.98%' '99.12%' '99.00%' '99.99%' '99.99%' '99.99%' '98.38%'\n",
            " '69.99%' '85.16%' '99.99%' '98.10%' '100.00%' '99.99%' '96.14%' '100.00%'\n",
            " '97.74%' '99.48%' '0.00%' '0.12%' '0.00%' '0.05%' '0.00%' '0.00%']\n"
          ]
        },
        {
          "output_type": "stream",
          "name": "stderr",
          "text": [
            "<ipython-input-84-6c24784f2594>:3: FutureWarning: You are using `torch.load` with `weights_only=False` (the current default value), which uses the default pickle module implicitly. It is possible to construct malicious pickle data which will execute arbitrary code during unpickling (See https://github.com/pytorch/pytorch/blob/main/SECURITY.md#untrusted-models for more details). In a future release, the default value for `weights_only` will be flipped to `True`. This limits the functions that could be executed during unpickling. Arbitrary objects will no longer be allowed to be loaded via this mode unless they are explicitly allowlisted by the user via `torch.serialization.add_safe_globals`. We recommend you start setting `weights_only=True` for any use case where you don't have full control of the loaded file. Please open an issue on GitHub for any issues related to this experimental feature.\n",
            "  loaded_first_layer_weights = torch.load(\"first_layer_weights.pt\")\n",
            "<ipython-input-84-6c24784f2594>:4: FutureWarning: You are using `torch.load` with `weights_only=False` (the current default value), which uses the default pickle module implicitly. It is possible to construct malicious pickle data which will execute arbitrary code during unpickling (See https://github.com/pytorch/pytorch/blob/main/SECURITY.md#untrusted-models for more details). In a future release, the default value for `weights_only` will be flipped to `True`. This limits the functions that could be executed during unpickling. Arbitrary objects will no longer be allowed to be loaded via this mode unless they are explicitly allowlisted by the user via `torch.serialization.add_safe_globals`. We recommend you start setting `weights_only=True` for any use case where you don't have full control of the loaded file. Please open an issue on GitHub for any issues related to this experimental feature.\n",
            "  loaded_first_layer_biases = torch.load(\"first_layer_biases.pt\")\n",
            "<ipython-input-84-6c24784f2594>:5: FutureWarning: You are using `torch.load` with `weights_only=False` (the current default value), which uses the default pickle module implicitly. It is possible to construct malicious pickle data which will execute arbitrary code during unpickling (See https://github.com/pytorch/pytorch/blob/main/SECURITY.md#untrusted-models for more details). In a future release, the default value for `weights_only` will be flipped to `True`. This limits the functions that could be executed during unpickling. Arbitrary objects will no longer be allowed to be loaded via this mode unless they are explicitly allowlisted by the user via `torch.serialization.add_safe_globals`. We recommend you start setting `weights_only=True` for any use case where you don't have full control of the loaded file. Please open an issue on GitHub for any issues related to this experimental feature.\n",
            "  loaded_otput_weights_raw = torch.load(\"output_weights_raw.pt\")\n"
          ]
        }
      ]
    }
  ]
}