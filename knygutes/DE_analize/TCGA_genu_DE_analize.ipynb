{
  "nbformat": 4,
  "nbformat_minor": 0,
  "metadata": {
    "colab": {
      "provenance": [],
      "include_colab_link": true
    },
    "kernelspec": {
      "name": "ir",
      "display_name": "R"
    },
    "language_info": {
      "name": "R"
    }
  },
  "cells": [
    {
      "cell_type": "markdown",
      "metadata": {
        "id": "view-in-github",
        "colab_type": "text"
      },
      "source": [
        "<a href=\"https://colab.research.google.com/github/Ignas12345/Magistro_projektas/blob/main/knygutes/TCGA_genu_raisku_analize.ipynb\" target=\"_parent\"><img src=\"https://colab.research.google.com/assets/colab-badge.svg\" alt=\"Open In Colab\"/></a>"
      ]
    },
    {
      "cell_type": "markdown",
      "source": [
        "Atsisiunčiam bibliotekas ir įsikeliam duomenis"
      ],
      "metadata": {
        "id": "ATDL-bgrQxLg"
      }
    },
    {
      "cell_type": "code",
      "source": [
        "if (!requireNamespace(\"BiocManager\", quietly = TRUE))\n",
        "    install.packages(\"BiocManager\")"
      ],
      "metadata": {
        "colab": {
          "base_uri": "https://localhost:8080/"
        },
        "id": "bJZY-YCg5mgn",
        "outputId": "849c138c-2018-4c0c-c676-e172f514d686"
      },
      "execution_count": 1,
      "outputs": [
        {
          "output_type": "stream",
          "name": "stderr",
          "text": [
            "Installing package into ‘/usr/local/lib/R/site-library’\n",
            "(as ‘lib’ is unspecified)\n",
            "\n"
          ]
        }
      ]
    },
    {
      "cell_type": "code",
      "source": [
        "# Install DESeq2 (if not already installed)\n",
        "if (!requireNamespace(\"DESeq2\", quietly = TRUE)) {\n",
        "  BiocManager::install(\"DESeq2\")\n",
        "}\n",
        "\n",
        "# Load the DESeq2 library\n",
        "library(DESeq2)"
      ],
      "metadata": {
        "id": "O4p0bnNmpwdO",
        "colab": {
          "base_uri": "https://localhost:8080/"
        },
        "collapsed": true,
        "outputId": "c3b27761-9948-4789-f0e4-4bf50fea396f"
      },
      "execution_count": 2,
      "outputs": [
        {
          "output_type": "stream",
          "name": "stderr",
          "text": [
            "'getOption(\"repos\")' replaces Bioconductor standard repositories, see\n",
            "'help(\"repositories\", package = \"BiocManager\")' for details.\n",
            "Replacement repositories:\n",
            "    CRAN: https://cran.rstudio.com\n",
            "\n",
            "Bioconductor version 3.20 (BiocManager 1.30.25), R 4.4.2 (2024-10-31)\n",
            "\n",
            "Installing package(s) 'BiocVersion', 'DESeq2'\n",
            "\n",
            "also installing the dependencies ‘formatR’, ‘UCSC.utils’, ‘GenomeInfoDbData’, ‘zlibbioc’, ‘abind’, ‘SparseArray’, ‘lambda.r’, ‘futile.options’, ‘GenomeInfoDb’, ‘XVector’, ‘S4Arrays’, ‘DelayedArray’, ‘futile.logger’, ‘snow’, ‘BH’, ‘S4Vectors’, ‘IRanges’, ‘GenomicRanges’, ‘SummarizedExperiment’, ‘BiocGenerics’, ‘Biobase’, ‘BiocParallel’, ‘matrixStats’, ‘locfit’, ‘MatrixGenerics’, ‘RcppArmadillo’\n",
            "\n",
            "\n",
            "Old packages: 'bit64', 'httr2', 'pkgbuild', 'rlang', 'systemfonts',\n",
            "  'textshaping'\n",
            "\n",
            "Loading required package: S4Vectors\n",
            "\n",
            "Loading required package: stats4\n",
            "\n",
            "Loading required package: BiocGenerics\n",
            "\n",
            "\n",
            "Attaching package: ‘BiocGenerics’\n",
            "\n",
            "\n",
            "The following objects are masked from ‘package:stats’:\n",
            "\n",
            "    IQR, mad, sd, var, xtabs\n",
            "\n",
            "\n",
            "The following objects are masked from ‘package:base’:\n",
            "\n",
            "    anyDuplicated, aperm, append, as.data.frame, basename, cbind,\n",
            "    colnames, dirname, do.call, duplicated, eval, evalq, Filter, Find,\n",
            "    get, grep, grepl, intersect, is.unsorted, lapply, Map, mapply,\n",
            "    match, mget, order, paste, pmax, pmax.int, pmin, pmin.int,\n",
            "    Position, rank, rbind, Reduce, rownames, sapply, saveRDS, setdiff,\n",
            "    table, tapply, union, unique, unsplit, which.max, which.min\n",
            "\n",
            "\n",
            "\n",
            "Attaching package: ‘S4Vectors’\n",
            "\n",
            "\n",
            "The following object is masked from ‘package:utils’:\n",
            "\n",
            "    findMatches\n",
            "\n",
            "\n",
            "The following objects are masked from ‘package:base’:\n",
            "\n",
            "    expand.grid, I, unname\n",
            "\n",
            "\n",
            "Loading required package: IRanges\n",
            "\n",
            "Loading required package: GenomicRanges\n",
            "\n",
            "Loading required package: GenomeInfoDb\n",
            "\n",
            "Loading required package: SummarizedExperiment\n",
            "\n",
            "Loading required package: MatrixGenerics\n",
            "\n",
            "Loading required package: matrixStats\n",
            "\n",
            "\n",
            "Attaching package: ‘MatrixGenerics’\n",
            "\n",
            "\n",
            "The following objects are masked from ‘package:matrixStats’:\n",
            "\n",
            "    colAlls, colAnyNAs, colAnys, colAvgsPerRowSet, colCollapse,\n",
            "    colCounts, colCummaxs, colCummins, colCumprods, colCumsums,\n",
            "    colDiffs, colIQRDiffs, colIQRs, colLogSumExps, colMadDiffs,\n",
            "    colMads, colMaxs, colMeans2, colMedians, colMins, colOrderStats,\n",
            "    colProds, colQuantiles, colRanges, colRanks, colSdDiffs, colSds,\n",
            "    colSums2, colTabulates, colVarDiffs, colVars, colWeightedMads,\n",
            "    colWeightedMeans, colWeightedMedians, colWeightedSds,\n",
            "    colWeightedVars, rowAlls, rowAnyNAs, rowAnys, rowAvgsPerColSet,\n",
            "    rowCollapse, rowCounts, rowCummaxs, rowCummins, rowCumprods,\n",
            "    rowCumsums, rowDiffs, rowIQRDiffs, rowIQRs, rowLogSumExps,\n",
            "    rowMadDiffs, rowMads, rowMaxs, rowMeans2, rowMedians, rowMins,\n",
            "    rowOrderStats, rowProds, rowQuantiles, rowRanges, rowRanks,\n",
            "    rowSdDiffs, rowSds, rowSums2, rowTabulates, rowVarDiffs, rowVars,\n",
            "    rowWeightedMads, rowWeightedMeans, rowWeightedMedians,\n",
            "    rowWeightedSds, rowWeightedVars\n",
            "\n",
            "\n",
            "Loading required package: Biobase\n",
            "\n",
            "Welcome to Bioconductor\n",
            "\n",
            "    Vignettes contain introductory material; view with\n",
            "    'browseVignettes()'. To cite Bioconductor, see\n",
            "    'citation(\"Biobase\")', and for packages 'citation(\"pkgname\")'.\n",
            "\n",
            "\n",
            "\n",
            "Attaching package: ‘Biobase’\n",
            "\n",
            "\n",
            "The following object is masked from ‘package:MatrixGenerics’:\n",
            "\n",
            "    rowMedians\n",
            "\n",
            "\n",
            "The following objects are masked from ‘package:matrixStats’:\n",
            "\n",
            "    anyMissing, rowMedians\n",
            "\n",
            "\n"
          ]
        }
      ]
    },
    {
      "cell_type": "code",
      "source": [
        "url = 'https://raw.githubusercontent.com/Ignas12345/Magistro_projektas/refs/heads/main/duomenys/filtered_gene_expression_counts.csv'\n",
        "gene_expression_counts = read.csv(url)\n",
        "head(gene_expression_counts)"
      ],
      "metadata": {
        "colab": {
          "base_uri": "https://localhost:8080/",
          "height": 306
        },
        "id": "Jyt-q3YLpp7X",
        "outputId": "8f278929-b64e-49f0-f237-f3cc6cb68a3d",
        "collapsed": true
      },
      "execution_count": 268,
      "outputs": [
        {
          "output_type": "display_data",
          "data": {
            "text/html": [
              "<table class=\"dataframe\">\n",
              "<caption>A data.frame: 6 × 149</caption>\n",
              "<thead>\n",
              "\t<tr><th></th><th scope=col>source</th><th scope=col>type</th><th scope=col>score</th><th scope=col>phase</th><th scope=col>gene_id</th><th scope=col>gene_type</th><th scope=col>gene_name</th><th scope=col>level</th><th scope=col>hgnc_id</th><th scope=col>havana_gene</th><th scope=col>⋯</th><th scope=col>TCGA.WZ.A7V3.01A.11R.A431.07</th><th scope=col>TCGA.2G.AAH3.01A.11R.A430.07</th><th scope=col>TCGA.4K.AA1I.01A.11R.A430.07</th><th scope=col>TCGA.S6.A8JX.01A.11R.A430.07</th><th scope=col>TCGA.SO.A8JP.01A.11R.A431.07</th><th scope=col>TCGA.2G.AAFZ.01A.11R.A430.07</th><th scope=col>TCGA.XE.AANR.01A.11R.A431.07</th><th scope=col>TCGA.XE.AAOJ.01A.12R.A431.07</th><th scope=col>TCGA.2G.AAHG.01A.11R.A430.07</th><th scope=col>TCGA.2G.AAGP.01A.11R.A430.07</th></tr>\n",
              "\t<tr><th></th><th scope=col>&lt;chr&gt;</th><th scope=col>&lt;chr&gt;</th><th scope=col>&lt;lgl&gt;</th><th scope=col>&lt;lgl&gt;</th><th scope=col>&lt;chr&gt;</th><th scope=col>&lt;chr&gt;</th><th scope=col>&lt;chr&gt;</th><th scope=col>&lt;int&gt;</th><th scope=col>&lt;chr&gt;</th><th scope=col>&lt;chr&gt;</th><th scope=col>⋯</th><th scope=col>&lt;int&gt;</th><th scope=col>&lt;int&gt;</th><th scope=col>&lt;int&gt;</th><th scope=col>&lt;int&gt;</th><th scope=col>&lt;int&gt;</th><th scope=col>&lt;int&gt;</th><th scope=col>&lt;int&gt;</th><th scope=col>&lt;int&gt;</th><th scope=col>&lt;int&gt;</th><th scope=col>&lt;int&gt;</th></tr>\n",
              "</thead>\n",
              "<tbody>\n",
              "\t<tr><th scope=row>1</th><td>HAVANA</td><td>gene</td><td>NA</td><td>NA</td><td>ENSG00000000003.15</td><td>protein_coding</td><td>TSPAN6  </td><td>2</td><td>HGNC:11858</td><td>OTTHUMG00000022002.2</td><td>⋯</td><td>4610</td><td>9352</td><td>5262</td><td>3413</td><td>7318</td><td>5186</td><td>3046</td><td>5987</td><td>5280</td><td>4421</td></tr>\n",
              "\t<tr><th scope=row>2</th><td>HAVANA</td><td>gene</td><td>NA</td><td>NA</td><td>ENSG00000000005.6 </td><td>protein_coding</td><td>TNMD    </td><td>2</td><td>HGNC:17757</td><td>OTTHUMG00000022001.2</td><td>⋯</td><td>   0</td><td>   3</td><td>   0</td><td>   2</td><td>   8</td><td>  18</td><td>   2</td><td>  20</td><td>   5</td><td> 179</td></tr>\n",
              "\t<tr><th scope=row>3</th><td>HAVANA</td><td>gene</td><td>NA</td><td>NA</td><td>ENSG00000000419.13</td><td>protein_coding</td><td>DPM1    </td><td>2</td><td>HGNC:3005 </td><td>OTTHUMG00000032742.2</td><td>⋯</td><td>2069</td><td>1931</td><td>1367</td><td>2021</td><td>1625</td><td>1683</td><td> 705</td><td>1243</td><td>1941</td><td>1399</td></tr>\n",
              "\t<tr><th scope=row>4</th><td>HAVANA</td><td>gene</td><td>NA</td><td>NA</td><td>ENSG00000000457.14</td><td>protein_coding</td><td>SCYL3   </td><td>2</td><td>HGNC:19285</td><td>OTTHUMG00000035941.6</td><td>⋯</td><td> 798</td><td>1113</td><td> 522</td><td> 976</td><td> 854</td><td> 605</td><td> 278</td><td> 411</td><td> 833</td><td> 612</td></tr>\n",
              "\t<tr><th scope=row>5</th><td>HAVANA</td><td>gene</td><td>NA</td><td>NA</td><td>ENSG00000000460.17</td><td>protein_coding</td><td>C1orf112</td><td>2</td><td>HGNC:25565</td><td>OTTHUMG00000035821.9</td><td>⋯</td><td>1142</td><td>1308</td><td> 608</td><td>1185</td><td>1215</td><td> 569</td><td> 418</td><td> 313</td><td> 894</td><td> 566</td></tr>\n",
              "\t<tr><th scope=row>6</th><td>HAVANA</td><td>gene</td><td>NA</td><td>NA</td><td>ENSG00000000938.13</td><td>protein_coding</td><td>FGR     </td><td>2</td><td>HGNC:3697 </td><td>OTTHUMG00000003516.3</td><td>⋯</td><td> 728</td><td>1056</td><td>2371</td><td> 119</td><td> 143</td><td> 153</td><td> 295</td><td> 158</td><td> 229</td><td>1284</td></tr>\n",
              "</tbody>\n",
              "</table>\n"
            ],
            "text/markdown": "\nA data.frame: 6 × 149\n\n| <!--/--> | source &lt;chr&gt; | type &lt;chr&gt; | score &lt;lgl&gt; | phase &lt;lgl&gt; | gene_id &lt;chr&gt; | gene_type &lt;chr&gt; | gene_name &lt;chr&gt; | level &lt;int&gt; | hgnc_id &lt;chr&gt; | havana_gene &lt;chr&gt; | ⋯ ⋯ | TCGA.WZ.A7V3.01A.11R.A431.07 &lt;int&gt; | TCGA.2G.AAH3.01A.11R.A430.07 &lt;int&gt; | TCGA.4K.AA1I.01A.11R.A430.07 &lt;int&gt; | TCGA.S6.A8JX.01A.11R.A430.07 &lt;int&gt; | TCGA.SO.A8JP.01A.11R.A431.07 &lt;int&gt; | TCGA.2G.AAFZ.01A.11R.A430.07 &lt;int&gt; | TCGA.XE.AANR.01A.11R.A431.07 &lt;int&gt; | TCGA.XE.AAOJ.01A.12R.A431.07 &lt;int&gt; | TCGA.2G.AAHG.01A.11R.A430.07 &lt;int&gt; | TCGA.2G.AAGP.01A.11R.A430.07 &lt;int&gt; |\n|---|---|---|---|---|---|---|---|---|---|---|---|---|---|---|---|---|---|---|---|---|---|\n| 1 | HAVANA | gene | NA | NA | ENSG00000000003.15 | protein_coding | TSPAN6   | 2 | HGNC:11858 | OTTHUMG00000022002.2 | ⋯ | 4610 | 9352 | 5262 | 3413 | 7318 | 5186 | 3046 | 5987 | 5280 | 4421 |\n| 2 | HAVANA | gene | NA | NA | ENSG00000000005.6  | protein_coding | TNMD     | 2 | HGNC:17757 | OTTHUMG00000022001.2 | ⋯ |    0 |    3 |    0 |    2 |    8 |   18 |    2 |   20 |    5 |  179 |\n| 3 | HAVANA | gene | NA | NA | ENSG00000000419.13 | protein_coding | DPM1     | 2 | HGNC:3005  | OTTHUMG00000032742.2 | ⋯ | 2069 | 1931 | 1367 | 2021 | 1625 | 1683 |  705 | 1243 | 1941 | 1399 |\n| 4 | HAVANA | gene | NA | NA | ENSG00000000457.14 | protein_coding | SCYL3    | 2 | HGNC:19285 | OTTHUMG00000035941.6 | ⋯ |  798 | 1113 |  522 |  976 |  854 |  605 |  278 |  411 |  833 |  612 |\n| 5 | HAVANA | gene | NA | NA | ENSG00000000460.17 | protein_coding | C1orf112 | 2 | HGNC:25565 | OTTHUMG00000035821.9 | ⋯ | 1142 | 1308 |  608 | 1185 | 1215 |  569 |  418 |  313 |  894 |  566 |\n| 6 | HAVANA | gene | NA | NA | ENSG00000000938.13 | protein_coding | FGR      | 2 | HGNC:3697  | OTTHUMG00000003516.3 | ⋯ |  728 | 1056 | 2371 |  119 |  143 |  153 |  295 |  158 |  229 | 1284 |\n\n",
            "text/latex": "A data.frame: 6 × 149\n\\begin{tabular}{r|lllllllllllllllllllll}\n  & source & type & score & phase & gene\\_id & gene\\_type & gene\\_name & level & hgnc\\_id & havana\\_gene & ⋯ & TCGA.WZ.A7V3.01A.11R.A431.07 & TCGA.2G.AAH3.01A.11R.A430.07 & TCGA.4K.AA1I.01A.11R.A430.07 & TCGA.S6.A8JX.01A.11R.A430.07 & TCGA.SO.A8JP.01A.11R.A431.07 & TCGA.2G.AAFZ.01A.11R.A430.07 & TCGA.XE.AANR.01A.11R.A431.07 & TCGA.XE.AAOJ.01A.12R.A431.07 & TCGA.2G.AAHG.01A.11R.A430.07 & TCGA.2G.AAGP.01A.11R.A430.07\\\\\n  & <chr> & <chr> & <lgl> & <lgl> & <chr> & <chr> & <chr> & <int> & <chr> & <chr> & ⋯ & <int> & <int> & <int> & <int> & <int> & <int> & <int> & <int> & <int> & <int>\\\\\n\\hline\n\t1 & HAVANA & gene & NA & NA & ENSG00000000003.15 & protein\\_coding & TSPAN6   & 2 & HGNC:11858 & OTTHUMG00000022002.2 & ⋯ & 4610 & 9352 & 5262 & 3413 & 7318 & 5186 & 3046 & 5987 & 5280 & 4421\\\\\n\t2 & HAVANA & gene & NA & NA & ENSG00000000005.6  & protein\\_coding & TNMD     & 2 & HGNC:17757 & OTTHUMG00000022001.2 & ⋯ &    0 &    3 &    0 &    2 &    8 &   18 &    2 &   20 &    5 &  179\\\\\n\t3 & HAVANA & gene & NA & NA & ENSG00000000419.13 & protein\\_coding & DPM1     & 2 & HGNC:3005  & OTTHUMG00000032742.2 & ⋯ & 2069 & 1931 & 1367 & 2021 & 1625 & 1683 &  705 & 1243 & 1941 & 1399\\\\\n\t4 & HAVANA & gene & NA & NA & ENSG00000000457.14 & protein\\_coding & SCYL3    & 2 & HGNC:19285 & OTTHUMG00000035941.6 & ⋯ &  798 & 1113 &  522 &  976 &  854 &  605 &  278 &  411 &  833 &  612\\\\\n\t5 & HAVANA & gene & NA & NA & ENSG00000000460.17 & protein\\_coding & C1orf112 & 2 & HGNC:25565 & OTTHUMG00000035821.9 & ⋯ & 1142 & 1308 &  608 & 1185 & 1215 &  569 &  418 &  313 &  894 &  566\\\\\n\t6 & HAVANA & gene & NA & NA & ENSG00000000938.13 & protein\\_coding & FGR      & 2 & HGNC:3697  & OTTHUMG00000003516.3 & ⋯ &  728 & 1056 & 2371 &  119 &  143 &  153 &  295 &  158 &  229 & 1284\\\\\n\\end{tabular}\n",
            "text/plain": [
              "  source type score phase gene_id            gene_type      gene_name level\n",
              "1 HAVANA gene NA    NA    ENSG00000000003.15 protein_coding TSPAN6    2    \n",
              "2 HAVANA gene NA    NA    ENSG00000000005.6  protein_coding TNMD      2    \n",
              "3 HAVANA gene NA    NA    ENSG00000000419.13 protein_coding DPM1      2    \n",
              "4 HAVANA gene NA    NA    ENSG00000000457.14 protein_coding SCYL3     2    \n",
              "5 HAVANA gene NA    NA    ENSG00000000460.17 protein_coding C1orf112  2    \n",
              "6 HAVANA gene NA    NA    ENSG00000000938.13 protein_coding FGR       2    \n",
              "  hgnc_id    havana_gene          ⋯ TCGA.WZ.A7V3.01A.11R.A431.07\n",
              "1 HGNC:11858 OTTHUMG00000022002.2 ⋯ 4610                        \n",
              "2 HGNC:17757 OTTHUMG00000022001.2 ⋯    0                        \n",
              "3 HGNC:3005  OTTHUMG00000032742.2 ⋯ 2069                        \n",
              "4 HGNC:19285 OTTHUMG00000035941.6 ⋯  798                        \n",
              "5 HGNC:25565 OTTHUMG00000035821.9 ⋯ 1142                        \n",
              "6 HGNC:3697  OTTHUMG00000003516.3 ⋯  728                        \n",
              "  TCGA.2G.AAH3.01A.11R.A430.07 TCGA.4K.AA1I.01A.11R.A430.07\n",
              "1 9352                         5262                        \n",
              "2    3                            0                        \n",
              "3 1931                         1367                        \n",
              "4 1113                          522                        \n",
              "5 1308                          608                        \n",
              "6 1056                         2371                        \n",
              "  TCGA.S6.A8JX.01A.11R.A430.07 TCGA.SO.A8JP.01A.11R.A431.07\n",
              "1 3413                         7318                        \n",
              "2    2                            8                        \n",
              "3 2021                         1625                        \n",
              "4  976                          854                        \n",
              "5 1185                         1215                        \n",
              "6  119                          143                        \n",
              "  TCGA.2G.AAFZ.01A.11R.A430.07 TCGA.XE.AANR.01A.11R.A431.07\n",
              "1 5186                         3046                        \n",
              "2   18                            2                        \n",
              "3 1683                          705                        \n",
              "4  605                          278                        \n",
              "5  569                          418                        \n",
              "6  153                          295                        \n",
              "  TCGA.XE.AAOJ.01A.12R.A431.07 TCGA.2G.AAHG.01A.11R.A430.07\n",
              "1 5987                         5280                        \n",
              "2   20                            5                        \n",
              "3 1243                         1941                        \n",
              "4  411                          833                        \n",
              "5  313                          894                        \n",
              "6  158                          229                        \n",
              "  TCGA.2G.AAGP.01A.11R.A430.07\n",
              "1 4421                        \n",
              "2  179                        \n",
              "3 1399                        \n",
              "4  612                        \n",
              "5  566                        \n",
              "6 1284                        "
            ]
          },
          "metadata": {}
        }
      ]
    },
    {
      "cell_type": "markdown",
      "source": [
        "Susikuriam dvi grupes ir išfiltruojam išsiskiriantį elementą"
      ],
      "metadata": {
        "id": "3NiHo8P9Q5Tc"
      }
    },
    {
      "cell_type": "code",
      "source": [
        "rownames(gene_expression_counts) <- gene_expression_counts$gene_id"
      ],
      "metadata": {
        "id": "MKlce5xyAT3l"
      },
      "execution_count": 269,
      "outputs": []
    },
    {
      "cell_type": "code",
      "source": [
        "#Isfiltruojam arba ne outlieri\n",
        "raw_counts <- subset(gene_expression_counts, select = -grep(\"^(source|type|gene_id|gene_type|gene_name|score|phase|level|hgnc_id|havana_gene|TCGA.2G.AAGY.05A.11R.A430.07)$\", colnames(gene_expression_counts)))\n",
        "#raw_counts <- subset(gene_expression_counts, select = -grep(\"^(source|type|gene_id|gene_type|gene_name|score|phase|level|hgnc_id|havana_gene)$\", colnames(gene_expression_counts)))"
      ],
      "metadata": {
        "id": "2lCBgucfprqW"
      },
      "execution_count": 270,
      "outputs": []
    },
    {
      "cell_type": "markdown",
      "source": [
        "Čia 6 teratoma benign mėginiai, jeigu neišfiltruotas outlieris ir į jeigu išfiltruotas"
      ],
      "metadata": {
        "id": "sLLrbL3qbP9d"
      }
    },
    {
      "cell_type": "code",
      "source": [
        "#pavogta, kaip ir beveik visas kitas kodas, is ChatGPT...\n",
        "\n",
        "# Create a vector of sample names (assuming 12 samples)\n",
        "samples <- colnames(raw_counts)\n",
        "\n",
        "condition <- c(rep(\"teratoma_benign\", 5), rep(\"other\", length(samples) - 5))\n",
        "\n",
        "# Create a data frame for sample metadata (colData)\n",
        "col_data <- data.frame(\n",
        "  condition = factor(condition),  # make sure condition is a factor\n",
        "  row.names = samples\n",
        ")\n",
        "\n",
        "# Check the col_data to confirm it looks correct\n",
        "head(col_data, n = 7)"
      ],
      "metadata": {
        "colab": {
          "base_uri": "https://localhost:8080/",
          "height": 317
        },
        "id": "ihahbFiuCOMg",
        "outputId": "47611552-4570-4e58-f36b-15dacd1d0111"
      },
      "execution_count": 271,
      "outputs": [
        {
          "output_type": "display_data",
          "data": {
            "text/html": [
              "<table class=\"dataframe\">\n",
              "<caption>A data.frame: 7 × 1</caption>\n",
              "<thead>\n",
              "\t<tr><th></th><th scope=col>condition</th></tr>\n",
              "\t<tr><th></th><th scope=col>&lt;fct&gt;</th></tr>\n",
              "</thead>\n",
              "<tbody>\n",
              "\t<tr><th scope=row>TCGA.2G.AAG5.01A.11R.A430.07</th><td>teratoma_benign</td></tr>\n",
              "\t<tr><th scope=row>TCGA.2G.AAG6.01A.11R.A430.07</th><td>teratoma_benign</td></tr>\n",
              "\t<tr><th scope=row>TCGA.2G.AAGY.01A.11R.A430.07</th><td>teratoma_benign</td></tr>\n",
              "\t<tr><th scope=row>TCGA.2G.AAGV.01A.11R.A430.07</th><td>teratoma_benign</td></tr>\n",
              "\t<tr><th scope=row>TCGA.2G.AAGX.01A.11R.A430.07</th><td>teratoma_benign</td></tr>\n",
              "\t<tr><th scope=row>TCGA.2G.AAFE.01A.11R.A430.07</th><td>other          </td></tr>\n",
              "\t<tr><th scope=row>TCGA.2G.AAGA.01A.11R.A430.07</th><td>other          </td></tr>\n",
              "</tbody>\n",
              "</table>\n"
            ],
            "text/markdown": "\nA data.frame: 7 × 1\n\n| <!--/--> | condition &lt;fct&gt; |\n|---|---|\n| TCGA.2G.AAG5.01A.11R.A430.07 | teratoma_benign |\n| TCGA.2G.AAG6.01A.11R.A430.07 | teratoma_benign |\n| TCGA.2G.AAGY.01A.11R.A430.07 | teratoma_benign |\n| TCGA.2G.AAGV.01A.11R.A430.07 | teratoma_benign |\n| TCGA.2G.AAGX.01A.11R.A430.07 | teratoma_benign |\n| TCGA.2G.AAFE.01A.11R.A430.07 | other           |\n| TCGA.2G.AAGA.01A.11R.A430.07 | other           |\n\n",
            "text/latex": "A data.frame: 7 × 1\n\\begin{tabular}{r|l}\n  & condition\\\\\n  & <fct>\\\\\n\\hline\n\tTCGA.2G.AAG5.01A.11R.A430.07 & teratoma\\_benign\\\\\n\tTCGA.2G.AAG6.01A.11R.A430.07 & teratoma\\_benign\\\\\n\tTCGA.2G.AAGY.01A.11R.A430.07 & teratoma\\_benign\\\\\n\tTCGA.2G.AAGV.01A.11R.A430.07 & teratoma\\_benign\\\\\n\tTCGA.2G.AAGX.01A.11R.A430.07 & teratoma\\_benign\\\\\n\tTCGA.2G.AAFE.01A.11R.A430.07 & other          \\\\\n\tTCGA.2G.AAGA.01A.11R.A430.07 & other          \\\\\n\\end{tabular}\n",
            "text/plain": [
              "                             condition      \n",
              "TCGA.2G.AAG5.01A.11R.A430.07 teratoma_benign\n",
              "TCGA.2G.AAG6.01A.11R.A430.07 teratoma_benign\n",
              "TCGA.2G.AAGY.01A.11R.A430.07 teratoma_benign\n",
              "TCGA.2G.AAGV.01A.11R.A430.07 teratoma_benign\n",
              "TCGA.2G.AAGX.01A.11R.A430.07 teratoma_benign\n",
              "TCGA.2G.AAFE.01A.11R.A430.07 other          \n",
              "TCGA.2G.AAGA.01A.11R.A430.07 other          "
            ]
          },
          "metadata": {}
        }
      ]
    },
    {
      "cell_type": "markdown",
      "source": [
        "Šičia dar prieš analizę galima pasižiūrėti pavienių genų raišką"
      ],
      "metadata": {
        "id": "JCKs6RSeRhZS"
      }
    },
    {
      "cell_type": "code",
      "source": [
        "library(ggplot2)"
      ],
      "metadata": {
        "id": "H328G8xt-3Vi"
      },
      "execution_count": 272,
      "outputs": []
    },
    {
      "cell_type": "code",
      "source": [
        "transposed_raw_counts <- as.data.frame(t(raw_counts))\n",
        "transposed_raw_counts$condition <- factor(condition)\n",
        "transposed_raw_counts$jitter <- jitter(rep(0, length(samples), amount = 1))\n",
        "#isfiltruojam outlier'i\n",
        "#transposed_raw_counts <- transposed_raw_counts[rownames(transposed_raw_counts) != 'TCGA.2G.AAGY.05A.11R.A430.07', ]"
      ],
      "metadata": {
        "id": "2WkMC9qJ7HmX"
      },
      "execution_count": 273,
      "outputs": []
    },
    {
      "cell_type": "code",
      "source": [
        "  gene_id <- gene_expression_counts$gene_id[gene_expression_counts$gene_name == 'SALL4']\n",
        "  gene_id"
      ],
      "metadata": {
        "colab": {
          "base_uri": "https://localhost:8080/",
          "height": 34
        },
        "id": "LX-i565LFWd0",
        "outputId": "e51dd558-3b28-4fd0-8477-a6cf670c38ea"
      },
      "execution_count": 274,
      "outputs": [
        {
          "output_type": "display_data",
          "data": {
            "text/html": [
              "'ENSG00000101115.13'"
            ],
            "text/markdown": "'ENSG00000101115.13'",
            "text/latex": "'ENSG00000101115.13'",
            "text/plain": [
              "[1] \"ENSG00000101115.13\""
            ]
          },
          "metadata": {}
        }
      ]
    },
    {
      "cell_type": "code",
      "source": [
        "gene_name <- gene_expression_counts$gene_name[gene_expression_counts$gene_id == 'ENSG00000132906.18']\n",
        "gene_name"
      ],
      "metadata": {
        "colab": {
          "base_uri": "https://localhost:8080/",
          "height": 34
        },
        "id": "17nNCu2LsdkB",
        "outputId": "5a16a9aa-aa6d-420f-dafb-4f8bfa796111"
      },
      "execution_count": 275,
      "outputs": [
        {
          "output_type": "display_data",
          "data": {
            "text/html": [
              "'CASP9'"
            ],
            "text/markdown": "'CASP9'",
            "text/latex": "'CASP9'",
            "text/plain": [
              "[1] \"CASP9\""
            ]
          },
          "metadata": {}
        }
      ]
    },
    {
      "cell_type": "code",
      "source": [
        "ggplot(transposed_raw_counts) +\n",
        "     geom_point(aes(x= jitter, y = ENSG00000198488.10, color = condition)) + xlim(-0.1, 0.1)"
      ],
      "metadata": {
        "colab": {
          "base_uri": "https://localhost:8080/",
          "height": 437
        },
        "id": "wngYV6ze_D0s",
        "outputId": "47d2f02d-53f1-45f8-9d33-4024bfbf3f51"
      },
      "execution_count": 292,
      "outputs": [
        {
          "output_type": "display_data",
          "data": {
            "text/plain": [
              "plot without title"
            ],
            "image/png": "[encoded data removed]"
          },
          "metadata": {
            "image/png": {
              "width": 420,
              "height": 420
            }
          }
        }
      ]
    },
    {
      "cell_type": "markdown",
      "source": [
        "Diferencialinė analizė"
      ],
      "metadata": {
        "id": "T4NxFVF9S5Ov"
      }
    },
    {
      "cell_type": "code",
      "source": [
        "# Create DESeqDataSet object from count matrix and sample information\n",
        "dds <- DESeqDataSetFromMatrix(countData = raw_counts, colData = col_data, design = ~ condition)\n"
      ],
      "metadata": {
        "id": "AR4XatZATJrA"
      },
      "execution_count": 277,
      "outputs": []
    },
    {
      "cell_type": "code",
      "source": [
        "# Run DESeq2 analysis\n",
        "dds <- DESeq(dds)"
      ],
      "metadata": {
        "colab": {
          "base_uri": "https://localhost:8080/"
        },
        "id": "wv9QK24mTjgT",
        "outputId": "790974cf-2726-4e7f-9701-74d7b3d5eb26"
      },
      "execution_count": 278,
      "outputs": [
        {
          "output_type": "stream",
          "name": "stderr",
          "text": [
            "estimating size factors\n",
            "\n",
            "estimating dispersions\n",
            "\n",
            "gene-wise dispersion estimates\n",
            "\n",
            "mean-dispersion relationship\n",
            "\n",
            "final dispersion estimates\n",
            "\n",
            "fitting model and testing\n",
            "\n",
            "-- replacing outliers and refitting for 1043 genes\n",
            "-- DESeq argument 'minReplicatesForReplace' = 7 \n",
            "-- original counts are preserved in counts(dds)\n",
            "\n",
            "estimating dispersions\n",
            "\n",
            "fitting model and testing\n",
            "\n"
          ]
        }
      ]
    },
    {
      "cell_type": "code",
      "source": [
        "# Get results (comparison of 'control' vs. 'treatment')\n",
        "res <- results(dds)\n",
        "\n",
        "# View results\n",
        "head(res, n = 10)\n"
      ],
      "metadata": {
        "colab": {
          "base_uri": "https://localhost:8080/",
          "height": 496
        },
        "id": "NCQWg6vnTzBq",
        "outputId": "4829089f-3f80-484a-c074-cf0f27ee71e0"
      },
      "execution_count": 279,
      "outputs": [
        {
          "output_type": "display_data",
          "data": {
            "text/plain": [
              "log2 fold change (MLE): condition teratoma benign vs other \n",
              "Wald test p-value: condition teratoma benign vs other \n",
              "DataFrame with 10 rows and 6 columns\n",
              "                    baseMean log2FoldChange     lfcSE      stat      pvalue\n",
              "                   <numeric>      <numeric> <numeric> <numeric>   <numeric>\n",
              "ENSG00000000003.15 3930.2223     -0.4314724  0.260234 -1.658015 9.73144e-02\n",
              "ENSG00000000005.6    52.1511      4.8387346  0.900671  5.372368 7.77094e-08\n",
              "ENSG00000000419.13 1657.0442     -0.4377217  0.252607 -1.732814 8.31287e-02\n",
              "ENSG00000000457.14  582.5080      0.3626797  0.206010  1.760494 7.83241e-02\n",
              "ENSG00000000460.17  727.9203     -0.8629980  0.298831 -2.887914 3.87806e-03\n",
              "ENSG00000000938.13 1248.1954     -2.2699972  0.670952 -3.383248 7.16340e-04\n",
              "ENSG00000000971.16 1484.1912      1.3026437  0.519193  2.508980 1.21080e-02\n",
              "ENSG00000001036.14 1315.9234      0.2225644  0.365347  0.609186 5.42401e-01\n",
              "ENSG00000001084.13 1297.9924      0.2411315  0.218473  1.103715 2.69717e-01\n",
              "ENSG00000001167.14 2198.2209     -0.0646554  0.182576 -0.354129 7.23242e-01\n",
              "                          padj\n",
              "                     <numeric>\n",
              "ENSG00000000003.15 1.67057e-01\n",
              "ENSG00000000005.6  1.80551e-06\n",
              "ENSG00000000419.13 1.47359e-01\n",
              "ENSG00000000457.14 1.40727e-01\n",
              "ENSG00000000460.17 1.26264e-02\n",
              "ENSG00000000938.13 3.25789e-03\n",
              "ENSG00000000971.16 3.16651e-02\n",
              "ENSG00000001036.14 6.46440e-01\n",
              "ENSG00000001084.13 3.78453e-01\n",
              "ENSG00000001167.14 7.97913e-01"
            ]
          },
          "metadata": {}
        }
      ]
    },
    {
      "cell_type": "code",
      "source": [
        "summary(res)"
      ],
      "metadata": {
        "colab": {
          "base_uri": "https://localhost:8080/"
        },
        "id": "vY5y1uYuU2te",
        "outputId": "aa3d9654-ff8f-4531-cd00-629f29d109f3"
      },
      "execution_count": 280,
      "outputs": [
        {
          "output_type": "stream",
          "name": "stdout",
          "text": [
            "\n",
            "out of 18490 with nonzero total read count\n",
            "adjusted p-value < 0.1\n",
            "LFC > 0 (up)       : 4133, 22%\n",
            "LFC < 0 (down)     : 5206, 28%\n",
            "outliers [1]       : 228, 1.2%\n",
            "low counts [2]     : 0, 0%\n",
            "(mean count < 0)\n",
            "[1] see 'cooksCutoff' argument of ?results\n",
            "[2] see 'independentFiltering' argument of ?results\n",
            "\n"
          ]
        }
      ]
    },
    {
      "cell_type": "code",
      "source": [
        "ordering <- order(res$padj, decreasing = FALSE)\n",
        "res <- res[ordering,]\n",
        "head(res)"
      ],
      "metadata": {
        "colab": {
          "base_uri": "https://localhost:8080/",
          "height": 354
        },
        "id": "qVxvK9zKVc6n",
        "outputId": "41f8a37d-1976-417c-defe-2bc67d61209f"
      },
      "execution_count": 281,
      "outputs": [
        {
          "output_type": "display_data",
          "data": {
            "text/plain": [
              "log2 fold change (MLE): condition teratoma benign vs other \n",
              "Wald test p-value: condition teratoma benign vs other \n",
              "DataFrame with 6 rows and 6 columns\n",
              "                    baseMean log2FoldChange     lfcSE      stat      pvalue\n",
              "                   <numeric>      <numeric> <numeric> <numeric>   <numeric>\n",
              "ENSG00000075073.15   33.4595        5.98183  0.452297   13.2255 6.25586e-40\n",
              "ENSG00000167676.4   214.9257        5.06627  0.386299   13.1149 2.70485e-39\n",
              "ENSG00000181856.15  163.3900        4.04582  0.308832   13.1004 3.27523e-39\n",
              "ENSG00000077157.22 2445.4345        4.21261  0.336196   12.5302 5.10132e-36\n",
              "ENSG00000172403.11 1265.5652        5.11979  0.411363   12.4459 1.47162e-35\n",
              "ENSG00000130176.8  1760.3863        5.77666  0.532393   10.8504 1.98623e-27\n",
              "                          padj\n",
              "                     <numeric>\n",
              "ENSG00000075073.15 1.14244e-35\n",
              "ENSG00000167676.4  1.99374e-35\n",
              "ENSG00000181856.15 1.99374e-35\n",
              "ENSG00000077157.22 2.32901e-32\n",
              "ENSG00000172403.11 5.37493e-32\n",
              "ENSG00000130176.8  6.04542e-24"
            ]
          },
          "metadata": {}
        }
      ]
    },
    {
      "cell_type": "code",
      "source": [
        "top_gene_ids <- row.names(res)[1:100]\n",
        "top_gene_ids\n",
        "#top_genes <- gene_expression_counts[gene_expression_counts$gene_id %in% top_gene_ids, c('gene_id', 'gene_name')]\n",
        "top_genes <- gene_expression_counts[ordering, c('gene_id', 'gene_name')]\n",
        "top_genes$padj <- res$padj\n",
        "top_genes"
      ],
      "metadata": {
        "colab": {
          "base_uri": "https://localhost:8080/",
          "height": 1000
        },
        "id": "FS7HC4apo9Tk",
        "outputId": "dab833ac-9007-4eaf-9ad5-594d8f0596d5"
      },
      "execution_count": 291,
      "outputs": [
        {
          "output_type": "display_data",
          "data": {
            "text/html": [
              "<style>\n",
              ".list-inline {list-style: none; margin:0; padding: 0}\n",
              ".list-inline>li {display: inline-block}\n",
              ".list-inline>li:not(:last-child)::after {content: \"\\00b7\"; padding: 0 .5ex}\n",
              "</style>\n",
              "<ol class=list-inline><li>'ENSG00000075073.15'</li><li>'ENSG00000167676.4'</li><li>'ENSG00000181856.15'</li><li>'ENSG00000077157.22'</li><li>'ENSG00000172403.11'</li><li>'ENSG00000130176.8'</li><li>'ENSG00000065534.19'</li><li>'ENSG00000197361.8'</li><li>'ENSG00000162614.19'</li><li>'ENSG00000182253.15'</li><li>'ENSG00000101115.13'</li><li>'ENSG00000137948.18'</li><li>'ENSG00000091436.17'</li><li>'ENSG00000095637.22'</li><li>'ENSG00000148200.17'</li><li>'ENSG00000183963.19'</li><li>'ENSG00000121577.14'</li><li>'ENSG00000156804.7'</li><li>'ENSG00000133392.18'</li><li>'ENSG00000134323.12'</li><li>'ENSG00000163431.13'</li><li>'ENSG00000035403.18'</li><li>'ENSG00000149591.17'</li><li>'ENSG00000058668.15'</li><li>'ENSG00000072163.20'</li><li>'ENSG00000167634.12'</li><li>'ENSG00000140416.23'</li><li>'ENSG00000101057.16'</li><li>'ENSG00000170627.11'</li><li>'ENSG00000131142.13'</li><li>'ENSG00000159176.14'</li><li>'ENSG00000145012.13'</li><li>'ENSG00000107796.13'</li><li>'ENSG00000136872.20'</li><li>'ENSG00000145936.9'</li><li>'ENSG00000283567.1'</li><li>'ENSG00000135355.4'</li><li>'ENSG00000152642.11'</li><li>'ENSG00000213889.10'</li><li>'ENSG00000077152.11'</li><li>'ENSG00000100490.9'</li><li>'ENSG00000168497.5'</li><li>'ENSG00000285868.1'</li><li>'ENSG00000095303.17'</li><li>'ENSG00000154678.18'</li><li>'ENSG00000135842.17'</li><li>'ENSG00000162551.14'</li><li>'ENSG00000157551.19'</li><li>'ENSG00000163820.15'</li><li>'ENSG00000105641.4'</li><li>'ENSG00000162433.15'</li><li>'ENSG00000174099.12'</li><li>'ENSG00000139351.15'</li><li>'ENSG00000101335.10'</li><li>'ENSG00000163286.9'</li><li>'ENSG00000112273.7'</li><li>'ENSG00000050344.9'</li><li>'ENSG00000111704.11'</li><li>'ENSG00000115163.15'</li><li>'ENSG00000181026.15'</li><li>'ENSG00000180432.6'</li><li>'ENSG00000183696.14'</li><li>'ENSG00000079308.19'</li><li>'ENSG00000108106.14'</li><li>'ENSG00000102021.11'</li><li>'ENSG00000164045.12'</li><li>'ENSG00000130208.9'</li><li>'ENSG00000198467.16'</li><li>'ENSG00000258405.11'</li><li>'ENSG00000154839.10'</li><li>'ENSG00000151650.8'</li><li>'ENSG00000102096.9'</li><li>'ENSG00000196924.19'</li><li>'ENSG00000175832.13'</li><li>'ENSG00000058272.19'</li><li>'ENSG00000176979.14'</li><li>'ENSG00000169548.3'</li><li>'ENSG00000164744.13'</li><li>'ENSG00000131471.7'</li><li>'ENSG00000129116.19'</li><li>'ENSG00000183765.23'</li><li>'ENSG00000177398.18'</li><li>'ENSG00000119938.9'</li><li>'ENSG00000214107.8'</li><li>'ENSG00000159055.4'</li><li>'ENSG00000082196.21'</li><li>'ENSG00000140682.19'</li><li>'ENSG00000146839.19'</li><li>'ENSG00000130203.10'</li><li>'ENSG00000158683.9'</li><li>'ENSG00000170684.9'</li><li>'ENSG00000141255.13'</li><li>'ENSG00000127423.11'</li><li>'ENSG00000105141.6'</li><li>'ENSG00000163297.17'</li><li>'ENSG00000111540.16'</li><li>'ENSG00000146670.10'</li><li>'ENSG00000174282.12'</li><li>'ENSG00000178445.10'</li><li>'ENSG00000122786.20'</li></ol>\n"
            ],
            "text/markdown": "1. 'ENSG00000075073.15'\n2. 'ENSG00000167676.4'\n3. 'ENSG00000181856.15'\n4. 'ENSG00000077157.22'\n5. 'ENSG00000172403.11'\n6. 'ENSG00000130176.8'\n7. 'ENSG00000065534.19'\n8. 'ENSG00000197361.8'\n9. 'ENSG00000162614.19'\n10. 'ENSG00000182253.15'\n11. 'ENSG00000101115.13'\n12. 'ENSG00000137948.18'\n13. 'ENSG00000091436.17'\n14. 'ENSG00000095637.22'\n15. 'ENSG00000148200.17'\n16. 'ENSG00000183963.19'\n17. 'ENSG00000121577.14'\n18. 'ENSG00000156804.7'\n19. 'ENSG00000133392.18'\n20. 'ENSG00000134323.12'\n21. 'ENSG00000163431.13'\n22. 'ENSG00000035403.18'\n23. 'ENSG00000149591.17'\n24. 'ENSG00000058668.15'\n25. 'ENSG00000072163.20'\n26. 'ENSG00000167634.12'\n27. 'ENSG00000140416.23'\n28. 'ENSG00000101057.16'\n29. 'ENSG00000170627.11'\n30. 'ENSG00000131142.13'\n31. 'ENSG00000159176.14'\n32. 'ENSG00000145012.13'\n33. 'ENSG00000107796.13'\n34. 'ENSG00000136872.20'\n35. 'ENSG00000145936.9'\n36. 'ENSG00000283567.1'\n37. 'ENSG00000135355.4'\n38. 'ENSG00000152642.11'\n39. 'ENSG00000213889.10'\n40. 'ENSG00000077152.11'\n41. 'ENSG00000100490.9'\n42. 'ENSG00000168497.5'\n43. 'ENSG00000285868.1'\n44. 'ENSG00000095303.17'\n45. 'ENSG00000154678.18'\n46. 'ENSG00000135842.17'\n47. 'ENSG00000162551.14'\n48. 'ENSG00000157551.19'\n49. 'ENSG00000163820.15'\n50. 'ENSG00000105641.4'\n51. 'ENSG00000162433.15'\n52. 'ENSG00000174099.12'\n53. 'ENSG00000139351.15'\n54. 'ENSG00000101335.10'\n55. 'ENSG00000163286.9'\n56. 'ENSG00000112273.7'\n57. 'ENSG00000050344.9'\n58. 'ENSG00000111704.11'\n59. 'ENSG00000115163.15'\n60. 'ENSG00000181026.15'\n61. 'ENSG00000180432.6'\n62. 'ENSG00000183696.14'\n63. 'ENSG00000079308.19'\n64. 'ENSG00000108106.14'\n65. 'ENSG00000102021.11'\n66. 'ENSG00000164045.12'\n67. 'ENSG00000130208.9'\n68. 'ENSG00000198467.16'\n69. 'ENSG00000258405.11'\n70. 'ENSG00000154839.10'\n71. 'ENSG00000151650.8'\n72. 'ENSG00000102096.9'\n73. 'ENSG00000196924.19'\n74. 'ENSG00000175832.13'\n75. 'ENSG00000058272.19'\n76. 'ENSG00000176979.14'\n77. 'ENSG00000169548.3'\n78. 'ENSG00000164744.13'\n79. 'ENSG00000131471.7'\n80. 'ENSG00000129116.19'\n81. 'ENSG00000183765.23'\n82. 'ENSG00000177398.18'\n83. 'ENSG00000119938.9'\n84. 'ENSG00000214107.8'\n85. 'ENSG00000159055.4'\n86. 'ENSG00000082196.21'\n87. 'ENSG00000140682.19'\n88. 'ENSG00000146839.19'\n89. 'ENSG00000130203.10'\n90. 'ENSG00000158683.9'\n91. 'ENSG00000170684.9'\n92. 'ENSG00000141255.13'\n93. 'ENSG00000127423.11'\n94. 'ENSG00000105141.6'\n95. 'ENSG00000163297.17'\n96. 'ENSG00000111540.16'\n97. 'ENSG00000146670.10'\n98. 'ENSG00000174282.12'\n99. 'ENSG00000178445.10'\n100. 'ENSG00000122786.20'\n\n\n",
            "text/latex": "\\begin{enumerate*}\n\\item 'ENSG00000075073.15'\n\\item 'ENSG00000167676.4'\n\\item 'ENSG00000181856.15'\n\\item 'ENSG00000077157.22'\n\\item 'ENSG00000172403.11'\n\\item 'ENSG00000130176.8'\n\\item 'ENSG00000065534.19'\n\\item 'ENSG00000197361.8'\n\\item 'ENSG00000162614.19'\n\\item 'ENSG00000182253.15'\n\\item 'ENSG00000101115.13'\n\\item 'ENSG00000137948.18'\n\\item 'ENSG00000091436.17'\n\\item 'ENSG00000095637.22'\n\\item 'ENSG00000148200.17'\n\\item 'ENSG00000183963.19'\n\\item 'ENSG00000121577.14'\n\\item 'ENSG00000156804.7'\n\\item 'ENSG00000133392.18'\n\\item 'ENSG00000134323.12'\n\\item 'ENSG00000163431.13'\n\\item 'ENSG00000035403.18'\n\\item 'ENSG00000149591.17'\n\\item 'ENSG00000058668.15'\n\\item 'ENSG00000072163.20'\n\\item 'ENSG00000167634.12'\n\\item 'ENSG00000140416.23'\n\\item 'ENSG00000101057.16'\n\\item 'ENSG00000170627.11'\n\\item 'ENSG00000131142.13'\n\\item 'ENSG00000159176.14'\n\\item 'ENSG00000145012.13'\n\\item 'ENSG00000107796.13'\n\\item 'ENSG00000136872.20'\n\\item 'ENSG00000145936.9'\n\\item 'ENSG00000283567.1'\n\\item 'ENSG00000135355.4'\n\\item 'ENSG00000152642.11'\n\\item 'ENSG00000213889.10'\n\\item 'ENSG00000077152.11'\n\\item 'ENSG00000100490.9'\n\\item 'ENSG00000168497.5'\n\\item 'ENSG00000285868.1'\n\\item 'ENSG00000095303.17'\n\\item 'ENSG00000154678.18'\n\\item 'ENSG00000135842.17'\n\\item 'ENSG00000162551.14'\n\\item 'ENSG00000157551.19'\n\\item 'ENSG00000163820.15'\n\\item 'ENSG00000105641.4'\n\\item 'ENSG00000162433.15'\n\\item 'ENSG00000174099.12'\n\\item 'ENSG00000139351.15'\n\\item 'ENSG00000101335.10'\n\\item 'ENSG00000163286.9'\n\\item 'ENSG00000112273.7'\n\\item 'ENSG00000050344.9'\n\\item 'ENSG00000111704.11'\n\\item 'ENSG00000115163.15'\n\\item 'ENSG00000181026.15'\n\\item 'ENSG00000180432.6'\n\\item 'ENSG00000183696.14'\n\\item 'ENSG00000079308.19'\n\\item 'ENSG00000108106.14'\n\\item 'ENSG00000102021.11'\n\\item 'ENSG00000164045.12'\n\\item 'ENSG00000130208.9'\n\\item 'ENSG00000198467.16'\n\\item 'ENSG00000258405.11'\n\\item 'ENSG00000154839.10'\n\\item 'ENSG00000151650.8'\n\\item 'ENSG00000102096.9'\n\\item 'ENSG00000196924.19'\n\\item 'ENSG00000175832.13'\n\\item 'ENSG00000058272.19'\n\\item 'ENSG00000176979.14'\n\\item 'ENSG00000169548.3'\n\\item 'ENSG00000164744.13'\n\\item 'ENSG00000131471.7'\n\\item 'ENSG00000129116.19'\n\\item 'ENSG00000183765.23'\n\\item 'ENSG00000177398.18'\n\\item 'ENSG00000119938.9'\n\\item 'ENSG00000214107.8'\n\\item 'ENSG00000159055.4'\n\\item 'ENSG00000082196.21'\n\\item 'ENSG00000140682.19'\n\\item 'ENSG00000146839.19'\n\\item 'ENSG00000130203.10'\n\\item 'ENSG00000158683.9'\n\\item 'ENSG00000170684.9'\n\\item 'ENSG00000141255.13'\n\\item 'ENSG00000127423.11'\n\\item 'ENSG00000105141.6'\n\\item 'ENSG00000163297.17'\n\\item 'ENSG00000111540.16'\n\\item 'ENSG00000146670.10'\n\\item 'ENSG00000174282.12'\n\\item 'ENSG00000178445.10'\n\\item 'ENSG00000122786.20'\n\\end{enumerate*}\n",
            "text/plain": [
              "  [1] \"ENSG00000075073.15\" \"ENSG00000167676.4\"  \"ENSG00000181856.15\"\n",
              "  [4] \"ENSG00000077157.22\" \"ENSG00000172403.11\" \"ENSG00000130176.8\" \n",
              "  [7] \"ENSG00000065534.19\" \"ENSG00000197361.8\"  \"ENSG00000162614.19\"\n",
              " [10] \"ENSG00000182253.15\" \"ENSG00000101115.13\" \"ENSG00000137948.18\"\n",
              " [13] \"ENSG00000091436.17\" \"ENSG00000095637.22\" \"ENSG00000148200.17\"\n",
              " [16] \"ENSG00000183963.19\" \"ENSG00000121577.14\" \"ENSG00000156804.7\" \n",
              " [19] \"ENSG00000133392.18\" \"ENSG00000134323.12\" \"ENSG00000163431.13\"\n",
              " [22] \"ENSG00000035403.18\" \"ENSG00000149591.17\" \"ENSG00000058668.15\"\n",
              " [25] \"ENSG00000072163.20\" \"ENSG00000167634.12\" \"ENSG00000140416.23\"\n",
              " [28] \"ENSG00000101057.16\" \"ENSG00000170627.11\" \"ENSG00000131142.13\"\n",
              " [31] \"ENSG00000159176.14\" \"ENSG00000145012.13\" \"ENSG00000107796.13\"\n",
              " [34] \"ENSG00000136872.20\" \"ENSG00000145936.9\"  \"ENSG00000283567.1\" \n",
              " [37] \"ENSG00000135355.4\"  \"ENSG00000152642.11\" \"ENSG00000213889.10\"\n",
              " [40] \"ENSG00000077152.11\" \"ENSG00000100490.9\"  \"ENSG00000168497.5\" \n",
              " [43] \"ENSG00000285868.1\"  \"ENSG00000095303.17\" \"ENSG00000154678.18\"\n",
              " [46] \"ENSG00000135842.17\" \"ENSG00000162551.14\" \"ENSG00000157551.19\"\n",
              " [49] \"ENSG00000163820.15\" \"ENSG00000105641.4\"  \"ENSG00000162433.15\"\n",
              " [52] \"ENSG00000174099.12\" \"ENSG00000139351.15\" \"ENSG00000101335.10\"\n",
              " [55] \"ENSG00000163286.9\"  \"ENSG00000112273.7\"  \"ENSG00000050344.9\" \n",
              " [58] \"ENSG00000111704.11\" \"ENSG00000115163.15\" \"ENSG00000181026.15\"\n",
              " [61] \"ENSG00000180432.6\"  \"ENSG00000183696.14\" \"ENSG00000079308.19\"\n",
              " [64] \"ENSG00000108106.14\" \"ENSG00000102021.11\" \"ENSG00000164045.12\"\n",
              " [67] \"ENSG00000130208.9\"  \"ENSG00000198467.16\" \"ENSG00000258405.11\"\n",
              " [70] \"ENSG00000154839.10\" \"ENSG00000151650.8\"  \"ENSG00000102096.9\" \n",
              " [73] \"ENSG00000196924.19\" \"ENSG00000175832.13\" \"ENSG00000058272.19\"\n",
              " [76] \"ENSG00000176979.14\" \"ENSG00000169548.3\"  \"ENSG00000164744.13\"\n",
              " [79] \"ENSG00000131471.7\"  \"ENSG00000129116.19\" \"ENSG00000183765.23\"\n",
              " [82] \"ENSG00000177398.18\" \"ENSG00000119938.9\"  \"ENSG00000214107.8\" \n",
              " [85] \"ENSG00000159055.4\"  \"ENSG00000082196.21\" \"ENSG00000140682.19\"\n",
              " [88] \"ENSG00000146839.19\" \"ENSG00000130203.10\" \"ENSG00000158683.9\" \n",
              " [91] \"ENSG00000170684.9\"  \"ENSG00000141255.13\" \"ENSG00000127423.11\"\n",
              " [94] \"ENSG00000105141.6\"  \"ENSG00000163297.17\" \"ENSG00000111540.16\"\n",
              " [97] \"ENSG00000146670.10\" \"ENSG00000174282.12\" \"ENSG00000178445.10\"\n",
              "[100] \"ENSG00000122786.20\""
            ]
          },
          "metadata": {}
        },
        {
          "output_type": "display_data",
          "data": {
            "text/html": [
              "<table class=\"dataframe\">\n",
              "<caption>A data.frame: 18490 × 3</caption>\n",
              "<thead>\n",
              "\t<tr><th></th><th scope=col>gene_id</th><th scope=col>gene_name</th><th scope=col>padj</th></tr>\n",
              "\t<tr><th></th><th scope=col>&lt;chr&gt;</th><th scope=col>&lt;chr&gt;</th><th scope=col>&lt;dbl&gt;</th></tr>\n",
              "</thead>\n",
              "<tbody>\n",
              "\t<tr><th scope=row>ENSG00000075073.15</th><td>ENSG00000075073.15</td><td>TACR2   </td><td>1.142444e-35</td></tr>\n",
              "\t<tr><th scope=row>ENSG00000167676.4</th><td>ENSG00000167676.4 </td><td>PLIN4   </td><td>1.993739e-35</td></tr>\n",
              "\t<tr><th scope=row>ENSG00000181856.15</th><td>ENSG00000181856.15</td><td>SLC2A4  </td><td>1.993739e-35</td></tr>\n",
              "\t<tr><th scope=row>ENSG00000077157.22</th><td>ENSG00000077157.22</td><td>PPP1R12B</td><td>2.329008e-32</td></tr>\n",
              "\t<tr><th scope=row>ENSG00000172403.11</th><td>ENSG00000172403.11</td><td>SYNPO2  </td><td>5.374929e-32</td></tr>\n",
              "\t<tr><th scope=row>ENSG00000130176.8</th><td>ENSG00000130176.8 </td><td>CNN1    </td><td>6.045421e-24</td></tr>\n",
              "\t<tr><th scope=row>ENSG00000065534.19</th><td>ENSG00000065534.19</td><td>MYLK    </td><td>5.457569e-22</td></tr>\n",
              "\t<tr><th scope=row>ENSG00000197361.8</th><td>ENSG00000197361.8 </td><td>FBXL22  </td><td>5.947898e-22</td></tr>\n",
              "\t<tr><th scope=row>ENSG00000162614.19</th><td>ENSG00000162614.19</td><td>NEXN    </td><td>7.938739e-22</td></tr>\n",
              "\t<tr><th scope=row>ENSG00000182253.15</th><td>ENSG00000182253.15</td><td>SYNM    </td><td>8.873636e-21</td></tr>\n",
              "\t<tr><th scope=row>ENSG00000101115.13</th><td>ENSG00000101115.13</td><td>SALL4   </td><td>1.740285e-20</td></tr>\n",
              "\t<tr><th scope=row>ENSG00000137948.18</th><td>ENSG00000137948.18</td><td>BRDT    </td><td>1.872181e-20</td></tr>\n",
              "\t<tr><th scope=row>ENSG00000091436.17</th><td>ENSG00000091436.17</td><td>MAP3K20 </td><td>2.128014e-20</td></tr>\n",
              "\t<tr><th scope=row>ENSG00000095637.22</th><td>ENSG00000095637.22</td><td>SORBS1  </td><td>2.908802e-20</td></tr>\n",
              "\t<tr><th scope=row>ENSG00000148200.17</th><td>ENSG00000148200.17</td><td>NR6A1   </td><td>3.896091e-20</td></tr>\n",
              "\t<tr><th scope=row>ENSG00000183963.19</th><td>ENSG00000183963.19</td><td>SMTN    </td><td>4.780617e-20</td></tr>\n",
              "\t<tr><th scope=row>ENSG00000121577.14</th><td>ENSG00000121577.14</td><td>POPDC2  </td><td>7.441135e-20</td></tr>\n",
              "\t<tr><th scope=row>ENSG00000156804.7</th><td>ENSG00000156804.7 </td><td>FBXO32  </td><td>1.153255e-19</td></tr>\n",
              "\t<tr><th scope=row>ENSG00000133392.18</th><td>ENSG00000133392.18</td><td>MYH11   </td><td>1.243188e-18</td></tr>\n",
              "\t<tr><th scope=row>ENSG00000134323.12</th><td>ENSG00000134323.12</td><td>MYCN    </td><td>2.711818e-18</td></tr>\n",
              "\t<tr><th scope=row>ENSG00000163431.13</th><td>ENSG00000163431.13</td><td>LMOD1   </td><td>2.711818e-18</td></tr>\n",
              "\t<tr><th scope=row>ENSG00000035403.18</th><td>ENSG00000035403.18</td><td>VCL     </td><td>8.598667e-18</td></tr>\n",
              "\t<tr><th scope=row>ENSG00000149591.17</th><td>ENSG00000149591.17</td><td>TAGLN   </td><td>1.927871e-17</td></tr>\n",
              "\t<tr><th scope=row>ENSG00000058668.15</th><td>ENSG00000058668.15</td><td>ATP2B4  </td><td>3.664964e-17</td></tr>\n",
              "\t<tr><th scope=row>ENSG00000072163.20</th><td>ENSG00000072163.20</td><td>LIMS2   </td><td>7.991569e-17</td></tr>\n",
              "\t<tr><th scope=row>ENSG00000167634.12</th><td>ENSG00000167634.12</td><td>NLRP7   </td><td>9.467426e-17</td></tr>\n",
              "\t<tr><th scope=row>ENSG00000140416.23</th><td>ENSG00000140416.23</td><td>TPM1    </td><td>1.155571e-16</td></tr>\n",
              "\t<tr><th scope=row>ENSG00000101057.16</th><td>ENSG00000101057.16</td><td>MYBL2   </td><td>1.495209e-16</td></tr>\n",
              "\t<tr><th scope=row>ENSG00000170627.11</th><td>ENSG00000170627.11</td><td>GTSF1   </td><td>1.601571e-16</td></tr>\n",
              "\t<tr><th scope=row>ENSG00000131142.13</th><td>ENSG00000131142.13</td><td>CCL25   </td><td>1.725274e-16</td></tr>\n",
              "\t<tr><th scope=row>⋮</th><td>⋮</td><td>⋮</td><td>⋮</td></tr>\n",
              "\t<tr><th scope=row>ENSG00000198488.10</th><td>ENSG00000198488.10</td><td>B3GNT6   </td><td>NA</td></tr>\n",
              "\t<tr><th scope=row>ENSG00000198822.10</th><td>ENSG00000198822.10</td><td>GRM3     </td><td>NA</td></tr>\n",
              "\t<tr><th scope=row>ENSG00000198930.13</th><td>ENSG00000198930.13</td><td>CSAG1    </td><td>NA</td></tr>\n",
              "\t<tr><th scope=row>ENSG00000203756.8</th><td>ENSG00000203756.8 </td><td>TMEM244  </td><td>NA</td></tr>\n",
              "\t<tr><th scope=row>ENSG00000203859.10</th><td>ENSG00000203859.10</td><td>HSD3B2   </td><td>NA</td></tr>\n",
              "\t<tr><th scope=row>ENSG00000204421.3</th><td>ENSG00000204421.3 </td><td>LY6G6C   </td><td>NA</td></tr>\n",
              "\t<tr><th scope=row>ENSG00000204983.14</th><td>ENSG00000204983.14</td><td>PRSS1    </td><td>NA</td></tr>\n",
              "\t<tr><th scope=row>ENSG00000205076.4</th><td>ENSG00000205076.4 </td><td>LGALS7   </td><td>NA</td></tr>\n",
              "\t<tr><th scope=row>ENSG00000205420.11</th><td>ENSG00000205420.11</td><td>KRT6A    </td><td>NA</td></tr>\n",
              "\t<tr><th scope=row>ENSG00000205927.5</th><td>ENSG00000205927.5 </td><td>OLIG2    </td><td>NA</td></tr>\n",
              "\t<tr><th scope=row>ENSG00000206013.2</th><td>ENSG00000206013.2 </td><td>IFITM5   </td><td>NA</td></tr>\n",
              "\t<tr><th scope=row>ENSG00000213822.6</th><td>ENSG00000213822.6 </td><td>CEACAM18 </td><td>NA</td></tr>\n",
              "\t<tr><th scope=row>ENSG00000214688.6</th><td>ENSG00000214688.6 </td><td>C10orf105</td><td>NA</td></tr>\n",
              "\t<tr><th scope=row>ENSG00000215186.6</th><td>ENSG00000215186.6 </td><td>GOLGA6B  </td><td>NA</td></tr>\n",
              "\t<tr><th scope=row>ENSG00000215397.4</th><td>ENSG00000215397.4 </td><td>SCRT2    </td><td>NA</td></tr>\n",
              "\t<tr><th scope=row>ENSG00000215853.3</th><td>ENSG00000215853.3 </td><td>RPTN     </td><td>NA</td></tr>\n",
              "\t<tr><th scope=row>ENSG00000223609.11</th><td>ENSG00000223609.11</td><td>HBD      </td><td>NA</td></tr>\n",
              "\t<tr><th scope=row>ENSG00000225110.3</th><td>ENSG00000225110.3 </td><td>PNMA6F   </td><td>NA</td></tr>\n",
              "\t<tr><th scope=row>ENSG00000241794.2</th><td>ENSG00000241794.2 </td><td>SPRR2A   </td><td>NA</td></tr>\n",
              "\t<tr><th scope=row>ENSG00000244734.4</th><td>ENSG00000244734.4 </td><td>HBB      </td><td>NA</td></tr>\n",
              "\t<tr><th scope=row>ENSG00000248099.4</th><td>ENSG00000248099.4 </td><td>INSL3    </td><td>NA</td></tr>\n",
              "\t<tr><th scope=row>ENSG00000253457.3</th><td>ENSG00000253457.3 </td><td>SMIM18   </td><td>NA</td></tr>\n",
              "\t<tr><th scope=row>ENSG00000253831.3</th><td>ENSG00000253831.3 </td><td>ETV3L    </td><td>NA</td></tr>\n",
              "\t<tr><th scope=row>ENSG00000255501.3</th><td>ENSG00000255501.3 </td><td>CARD18   </td><td>NA</td></tr>\n",
              "\t<tr><th scope=row>ENSG00000259823.6</th><td>ENSG00000259823.6 </td><td>LYPD8    </td><td>NA</td></tr>\n",
              "\t<tr><th scope=row>ENSG00000261272.1</th><td>ENSG00000261272.1 </td><td>MUC22    </td><td>NA</td></tr>\n",
              "\t<tr><th scope=row>ENSG00000267909.3</th><td>ENSG00000267909.3 </td><td>CCDC177  </td><td>NA</td></tr>\n",
              "\t<tr><th scope=row>ENSG00000268940.5</th><td>ENSG00000268940.5 </td><td>CT45A1   </td><td>NA</td></tr>\n",
              "\t<tr><th scope=row>ENSG00000274736.5</th><td>ENSG00000274736.5 </td><td>CCL23    </td><td>NA</td></tr>\n",
              "\t<tr><th scope=row>ENSG00000283526.1</th><td>ENSG00000283526.1 </td><td>PRRT1B   </td><td>NA</td></tr>\n",
              "</tbody>\n",
              "</table>\n"
            ],
            "text/markdown": "\nA data.frame: 18490 × 3\n\n| <!--/--> | gene_id &lt;chr&gt; | gene_name &lt;chr&gt; | padj &lt;dbl&gt; |\n|---|---|---|---|\n| ENSG00000075073.15 | ENSG00000075073.15 | TACR2    | 1.142444e-35 |\n| ENSG00000167676.4 | ENSG00000167676.4  | PLIN4    | 1.993739e-35 |\n| ENSG00000181856.15 | ENSG00000181856.15 | SLC2A4   | 1.993739e-35 |\n| ENSG00000077157.22 | ENSG00000077157.22 | PPP1R12B | 2.329008e-32 |\n| ENSG00000172403.11 | ENSG00000172403.11 | SYNPO2   | 5.374929e-32 |\n| ENSG00000130176.8 | ENSG00000130176.8  | CNN1     | 6.045421e-24 |\n| ENSG00000065534.19 | ENSG00000065534.19 | MYLK     | 5.457569e-22 |\n| ENSG00000197361.8 | ENSG00000197361.8  | FBXL22   | 5.947898e-22 |\n| ENSG00000162614.19 | ENSG00000162614.19 | NEXN     | 7.938739e-22 |\n| ENSG00000182253.15 | ENSG00000182253.15 | SYNM     | 8.873636e-21 |\n| ENSG00000101115.13 | ENSG00000101115.13 | SALL4    | 1.740285e-20 |\n| ENSG00000137948.18 | ENSG00000137948.18 | BRDT     | 1.872181e-20 |\n| ENSG00000091436.17 | ENSG00000091436.17 | MAP3K20  | 2.128014e-20 |\n| ENSG00000095637.22 | ENSG00000095637.22 | SORBS1   | 2.908802e-20 |\n| ENSG00000148200.17 | ENSG00000148200.17 | NR6A1    | 3.896091e-20 |\n| ENSG00000183963.19 | ENSG00000183963.19 | SMTN     | 4.780617e-20 |\n| ENSG00000121577.14 | ENSG00000121577.14 | POPDC2   | 7.441135e-20 |\n| ENSG00000156804.7 | ENSG00000156804.7  | FBXO32   | 1.153255e-19 |\n| ENSG00000133392.18 | ENSG00000133392.18 | MYH11    | 1.243188e-18 |\n| ENSG00000134323.12 | ENSG00000134323.12 | MYCN     | 2.711818e-18 |\n| ENSG00000163431.13 | ENSG00000163431.13 | LMOD1    | 2.711818e-18 |\n| ENSG00000035403.18 | ENSG00000035403.18 | VCL      | 8.598667e-18 |\n| ENSG00000149591.17 | ENSG00000149591.17 | TAGLN    | 1.927871e-17 |\n| ENSG00000058668.15 | ENSG00000058668.15 | ATP2B4   | 3.664964e-17 |\n| ENSG00000072163.20 | ENSG00000072163.20 | LIMS2    | 7.991569e-17 |\n| ENSG00000167634.12 | ENSG00000167634.12 | NLRP7    | 9.467426e-17 |\n| ENSG00000140416.23 | ENSG00000140416.23 | TPM1     | 1.155571e-16 |\n| ENSG00000101057.16 | ENSG00000101057.16 | MYBL2    | 1.495209e-16 |\n| ENSG00000170627.11 | ENSG00000170627.11 | GTSF1    | 1.601571e-16 |\n| ENSG00000131142.13 | ENSG00000131142.13 | CCL25    | 1.725274e-16 |\n| ⋮ | ⋮ | ⋮ | ⋮ |\n| ENSG00000198488.10 | ENSG00000198488.10 | B3GNT6    | NA |\n| ENSG00000198822.10 | ENSG00000198822.10 | GRM3      | NA |\n| ENSG00000198930.13 | ENSG00000198930.13 | CSAG1     | NA |\n| ENSG00000203756.8 | ENSG00000203756.8  | TMEM244   | NA |\n| ENSG00000203859.10 | ENSG00000203859.10 | HSD3B2    | NA |\n| ENSG00000204421.3 | ENSG00000204421.3  | LY6G6C    | NA |\n| ENSG00000204983.14 | ENSG00000204983.14 | PRSS1     | NA |\n| ENSG00000205076.4 | ENSG00000205076.4  | LGALS7    | NA |\n| ENSG00000205420.11 | ENSG00000205420.11 | KRT6A     | NA |\n| ENSG00000205927.5 | ENSG00000205927.5  | OLIG2     | NA |\n| ENSG00000206013.2 | ENSG00000206013.2  | IFITM5    | NA |\n| ENSG00000213822.6 | ENSG00000213822.6  | CEACAM18  | NA |\n| ENSG00000214688.6 | ENSG00000214688.6  | C10orf105 | NA |\n| ENSG00000215186.6 | ENSG00000215186.6  | GOLGA6B   | NA |\n| ENSG00000215397.4 | ENSG00000215397.4  | SCRT2     | NA |\n| ENSG00000215853.3 | ENSG00000215853.3  | RPTN      | NA |\n| ENSG00000223609.11 | ENSG00000223609.11 | HBD       | NA |\n| ENSG00000225110.3 | ENSG00000225110.3  | PNMA6F    | NA |\n| ENSG00000241794.2 | ENSG00000241794.2  | SPRR2A    | NA |\n| ENSG00000244734.4 | ENSG00000244734.4  | HBB       | NA |\n| ENSG00000248099.4 | ENSG00000248099.4  | INSL3     | NA |\n| ENSG00000253457.3 | ENSG00000253457.3  | SMIM18    | NA |\n| ENSG00000253831.3 | ENSG00000253831.3  | ETV3L     | NA |\n| ENSG00000255501.3 | ENSG00000255501.3  | CARD18    | NA |\n| ENSG00000259823.6 | ENSG00000259823.6  | LYPD8     | NA |\n| ENSG00000261272.1 | ENSG00000261272.1  | MUC22     | NA |\n| ENSG00000267909.3 | ENSG00000267909.3  | CCDC177   | NA |\n| ENSG00000268940.5 | ENSG00000268940.5  | CT45A1    | NA |\n| ENSG00000274736.5 | ENSG00000274736.5  | CCL23     | NA |\n| ENSG00000283526.1 | ENSG00000283526.1  | PRRT1B    | NA |\n\n",
            "text/latex": "A data.frame: 18490 × 3\n\\begin{tabular}{r|lll}\n  & gene\\_id & gene\\_name & padj\\\\\n  & <chr> & <chr> & <dbl>\\\\\n\\hline\n\tENSG00000075073.15 & ENSG00000075073.15 & TACR2    & 1.142444e-35\\\\\n\tENSG00000167676.4 & ENSG00000167676.4  & PLIN4    & 1.993739e-35\\\\\n\tENSG00000181856.15 & ENSG00000181856.15 & SLC2A4   & 1.993739e-35\\\\\n\tENSG00000077157.22 & ENSG00000077157.22 & PPP1R12B & 2.329008e-32\\\\\n\tENSG00000172403.11 & ENSG00000172403.11 & SYNPO2   & 5.374929e-32\\\\\n\tENSG00000130176.8 & ENSG00000130176.8  & CNN1     & 6.045421e-24\\\\\n\tENSG00000065534.19 & ENSG00000065534.19 & MYLK     & 5.457569e-22\\\\\n\tENSG00000197361.8 & ENSG00000197361.8  & FBXL22   & 5.947898e-22\\\\\n\tENSG00000162614.19 & ENSG00000162614.19 & NEXN     & 7.938739e-22\\\\\n\tENSG00000182253.15 & ENSG00000182253.15 & SYNM     & 8.873636e-21\\\\\n\tENSG00000101115.13 & ENSG00000101115.13 & SALL4    & 1.740285e-20\\\\\n\tENSG00000137948.18 & ENSG00000137948.18 & BRDT     & 1.872181e-20\\\\\n\tENSG00000091436.17 & ENSG00000091436.17 & MAP3K20  & 2.128014e-20\\\\\n\tENSG00000095637.22 & ENSG00000095637.22 & SORBS1   & 2.908802e-20\\\\\n\tENSG00000148200.17 & ENSG00000148200.17 & NR6A1    & 3.896091e-20\\\\\n\tENSG00000183963.19 & ENSG00000183963.19 & SMTN     & 4.780617e-20\\\\\n\tENSG00000121577.14 & ENSG00000121577.14 & POPDC2   & 7.441135e-20\\\\\n\tENSG00000156804.7 & ENSG00000156804.7  & FBXO32   & 1.153255e-19\\\\\n\tENSG00000133392.18 & ENSG00000133392.18 & MYH11    & 1.243188e-18\\\\\n\tENSG00000134323.12 & ENSG00000134323.12 & MYCN     & 2.711818e-18\\\\\n\tENSG00000163431.13 & ENSG00000163431.13 & LMOD1    & 2.711818e-18\\\\\n\tENSG00000035403.18 & ENSG00000035403.18 & VCL      & 8.598667e-18\\\\\n\tENSG00000149591.17 & ENSG00000149591.17 & TAGLN    & 1.927871e-17\\\\\n\tENSG00000058668.15 & ENSG00000058668.15 & ATP2B4   & 3.664964e-17\\\\\n\tENSG00000072163.20 & ENSG00000072163.20 & LIMS2    & 7.991569e-17\\\\\n\tENSG00000167634.12 & ENSG00000167634.12 & NLRP7    & 9.467426e-17\\\\\n\tENSG00000140416.23 & ENSG00000140416.23 & TPM1     & 1.155571e-16\\\\\n\tENSG00000101057.16 & ENSG00000101057.16 & MYBL2    & 1.495209e-16\\\\\n\tENSG00000170627.11 & ENSG00000170627.11 & GTSF1    & 1.601571e-16\\\\\n\tENSG00000131142.13 & ENSG00000131142.13 & CCL25    & 1.725274e-16\\\\\n\t⋮ & ⋮ & ⋮ & ⋮\\\\\n\tENSG00000198488.10 & ENSG00000198488.10 & B3GNT6    & NA\\\\\n\tENSG00000198822.10 & ENSG00000198822.10 & GRM3      & NA\\\\\n\tENSG00000198930.13 & ENSG00000198930.13 & CSAG1     & NA\\\\\n\tENSG00000203756.8 & ENSG00000203756.8  & TMEM244   & NA\\\\\n\tENSG00000203859.10 & ENSG00000203859.10 & HSD3B2    & NA\\\\\n\tENSG00000204421.3 & ENSG00000204421.3  & LY6G6C    & NA\\\\\n\tENSG00000204983.14 & ENSG00000204983.14 & PRSS1     & NA\\\\\n\tENSG00000205076.4 & ENSG00000205076.4  & LGALS7    & NA\\\\\n\tENSG00000205420.11 & ENSG00000205420.11 & KRT6A     & NA\\\\\n\tENSG00000205927.5 & ENSG00000205927.5  & OLIG2     & NA\\\\\n\tENSG00000206013.2 & ENSG00000206013.2  & IFITM5    & NA\\\\\n\tENSG00000213822.6 & ENSG00000213822.6  & CEACAM18  & NA\\\\\n\tENSG00000214688.6 & ENSG00000214688.6  & C10orf105 & NA\\\\\n\tENSG00000215186.6 & ENSG00000215186.6  & GOLGA6B   & NA\\\\\n\tENSG00000215397.4 & ENSG00000215397.4  & SCRT2     & NA\\\\\n\tENSG00000215853.3 & ENSG00000215853.3  & RPTN      & NA\\\\\n\tENSG00000223609.11 & ENSG00000223609.11 & HBD       & NA\\\\\n\tENSG00000225110.3 & ENSG00000225110.3  & PNMA6F    & NA\\\\\n\tENSG00000241794.2 & ENSG00000241794.2  & SPRR2A    & NA\\\\\n\tENSG00000244734.4 & ENSG00000244734.4  & HBB       & NA\\\\\n\tENSG00000248099.4 & ENSG00000248099.4  & INSL3     & NA\\\\\n\tENSG00000253457.3 & ENSG00000253457.3  & SMIM18    & NA\\\\\n\tENSG00000253831.3 & ENSG00000253831.3  & ETV3L     & NA\\\\\n\tENSG00000255501.3 & ENSG00000255501.3  & CARD18    & NA\\\\\n\tENSG00000259823.6 & ENSG00000259823.6  & LYPD8     & NA\\\\\n\tENSG00000261272.1 & ENSG00000261272.1  & MUC22     & NA\\\\\n\tENSG00000267909.3 & ENSG00000267909.3  & CCDC177   & NA\\\\\n\tENSG00000268940.5 & ENSG00000268940.5  & CT45A1    & NA\\\\\n\tENSG00000274736.5 & ENSG00000274736.5  & CCL23     & NA\\\\\n\tENSG00000283526.1 & ENSG00000283526.1  & PRRT1B    & NA\\\\\n\\end{tabular}\n",
            "text/plain": [
              "                   gene_id            gene_name padj        \n",
              "ENSG00000075073.15 ENSG00000075073.15 TACR2     1.142444e-35\n",
              "ENSG00000167676.4  ENSG00000167676.4  PLIN4     1.993739e-35\n",
              "ENSG00000181856.15 ENSG00000181856.15 SLC2A4    1.993739e-35\n",
              "ENSG00000077157.22 ENSG00000077157.22 PPP1R12B  2.329008e-32\n",
              "ENSG00000172403.11 ENSG00000172403.11 SYNPO2    5.374929e-32\n",
              "ENSG00000130176.8  ENSG00000130176.8  CNN1      6.045421e-24\n",
              "ENSG00000065534.19 ENSG00000065534.19 MYLK      5.457569e-22\n",
              "ENSG00000197361.8  ENSG00000197361.8  FBXL22    5.947898e-22\n",
              "ENSG00000162614.19 ENSG00000162614.19 NEXN      7.938739e-22\n",
              "ENSG00000182253.15 ENSG00000182253.15 SYNM      8.873636e-21\n",
              "ENSG00000101115.13 ENSG00000101115.13 SALL4     1.740285e-20\n",
              "ENSG00000137948.18 ENSG00000137948.18 BRDT      1.872181e-20\n",
              "ENSG00000091436.17 ENSG00000091436.17 MAP3K20   2.128014e-20\n",
              "ENSG00000095637.22 ENSG00000095637.22 SORBS1    2.908802e-20\n",
              "ENSG00000148200.17 ENSG00000148200.17 NR6A1     3.896091e-20\n",
              "ENSG00000183963.19 ENSG00000183963.19 SMTN      4.780617e-20\n",
              "ENSG00000121577.14 ENSG00000121577.14 POPDC2    7.441135e-20\n",
              "ENSG00000156804.7  ENSG00000156804.7  FBXO32    1.153255e-19\n",
              "ENSG00000133392.18 ENSG00000133392.18 MYH11     1.243188e-18\n",
              "ENSG00000134323.12 ENSG00000134323.12 MYCN      2.711818e-18\n",
              "ENSG00000163431.13 ENSG00000163431.13 LMOD1     2.711818e-18\n",
              "ENSG00000035403.18 ENSG00000035403.18 VCL       8.598667e-18\n",
              "ENSG00000149591.17 ENSG00000149591.17 TAGLN     1.927871e-17\n",
              "ENSG00000058668.15 ENSG00000058668.15 ATP2B4    3.664964e-17\n",
              "ENSG00000072163.20 ENSG00000072163.20 LIMS2     7.991569e-17\n",
              "ENSG00000167634.12 ENSG00000167634.12 NLRP7     9.467426e-17\n",
              "ENSG00000140416.23 ENSG00000140416.23 TPM1      1.155571e-16\n",
              "ENSG00000101057.16 ENSG00000101057.16 MYBL2     1.495209e-16\n",
              "ENSG00000170627.11 ENSG00000170627.11 GTSF1     1.601571e-16\n",
              "ENSG00000131142.13 ENSG00000131142.13 CCL25     1.725274e-16\n",
              "⋮                  ⋮                  ⋮         ⋮           \n",
              "ENSG00000198488.10 ENSG00000198488.10 B3GNT6    NA          \n",
              "ENSG00000198822.10 ENSG00000198822.10 GRM3      NA          \n",
              "ENSG00000198930.13 ENSG00000198930.13 CSAG1     NA          \n",
              "ENSG00000203756.8  ENSG00000203756.8  TMEM244   NA          \n",
              "ENSG00000203859.10 ENSG00000203859.10 HSD3B2    NA          \n",
              "ENSG00000204421.3  ENSG00000204421.3  LY6G6C    NA          \n",
              "ENSG00000204983.14 ENSG00000204983.14 PRSS1     NA          \n",
              "ENSG00000205076.4  ENSG00000205076.4  LGALS7    NA          \n",
              "ENSG00000205420.11 ENSG00000205420.11 KRT6A     NA          \n",
              "ENSG00000205927.5  ENSG00000205927.5  OLIG2     NA          \n",
              "ENSG00000206013.2  ENSG00000206013.2  IFITM5    NA          \n",
              "ENSG00000213822.6  ENSG00000213822.6  CEACAM18  NA          \n",
              "ENSG00000214688.6  ENSG00000214688.6  C10orf105 NA          \n",
              "ENSG00000215186.6  ENSG00000215186.6  GOLGA6B   NA          \n",
              "ENSG00000215397.4  ENSG00000215397.4  SCRT2     NA          \n",
              "ENSG00000215853.3  ENSG00000215853.3  RPTN      NA          \n",
              "ENSG00000223609.11 ENSG00000223609.11 HBD       NA          \n",
              "ENSG00000225110.3  ENSG00000225110.3  PNMA6F    NA          \n",
              "ENSG00000241794.2  ENSG00000241794.2  SPRR2A    NA          \n",
              "ENSG00000244734.4  ENSG00000244734.4  HBB       NA          \n",
              "ENSG00000248099.4  ENSG00000248099.4  INSL3     NA          \n",
              "ENSG00000253457.3  ENSG00000253457.3  SMIM18    NA          \n",
              "ENSG00000253831.3  ENSG00000253831.3  ETV3L     NA          \n",
              "ENSG00000255501.3  ENSG00000255501.3  CARD18    NA          \n",
              "ENSG00000259823.6  ENSG00000259823.6  LYPD8     NA          \n",
              "ENSG00000261272.1  ENSG00000261272.1  MUC22     NA          \n",
              "ENSG00000267909.3  ENSG00000267909.3  CCDC177   NA          \n",
              "ENSG00000268940.5  ENSG00000268940.5  CT45A1    NA          \n",
              "ENSG00000274736.5  ENSG00000274736.5  CCL23     NA          \n",
              "ENSG00000283526.1  ENSG00000283526.1  PRRT1B    NA          "
            ]
          },
          "metadata": {}
        }
      ]
    },
    {
      "cell_type": "code",
      "source": [
        "'SALL4' %in% top_genes$gene_name"
      ],
      "metadata": {
        "colab": {
          "base_uri": "https://localhost:8080/",
          "height": 34
        },
        "id": "zWLv2gAaw77x",
        "outputId": "7d2b689b-3d7b-4a4d-9615-f6f3bd3fa16d"
      },
      "execution_count": 283,
      "outputs": [
        {
          "output_type": "display_data",
          "data": {
            "text/html": [
              "TRUE"
            ],
            "text/markdown": "TRUE",
            "text/latex": "TRUE",
            "text/plain": [
              "[1] TRUE"
            ]
          },
          "metadata": {}
        }
      ]
    },
    {
      "cell_type": "code",
      "source": [
        "top_genes$gene_name"
      ],
      "metadata": {
        "colab": {
          "base_uri": "https://localhost:8080/",
          "height": 451
        },
        "id": "daeA-jjwwde0",
        "outputId": "1de71f87-e796-4c25-be5c-6f5ed83f4123"
      },
      "execution_count": 284,
      "outputs": [
        {
          "output_type": "display_data",
          "data": {
            "text/html": [
              "<style>\n",
              ".list-inline {list-style: none; margin:0; padding: 0}\n",
              ".list-inline>li {display: inline-block}\n",
              ".list-inline>li:not(:last-child)::after {content: \"\\00b7\"; padding: 0 .5ex}\n",
              "</style>\n",
              "<ol class=list-inline><li>'TACR2'</li><li>'PLIN4'</li><li>'SLC2A4'</li><li>'PPP1R12B'</li><li>'SYNPO2'</li><li>'CNN1'</li><li>'MYLK'</li><li>'FBXL22'</li><li>'NEXN'</li><li>'SYNM'</li><li>'SALL4'</li><li>'BRDT'</li><li>'MAP3K20'</li><li>'SORBS1'</li><li>'NR6A1'</li><li>'SMTN'</li><li>'POPDC2'</li><li>'FBXO32'</li><li>'MYH11'</li><li>'MYCN'</li><li>'LMOD1'</li><li>'VCL'</li><li>'TAGLN'</li><li>'ATP2B4'</li><li>'LIMS2'</li><li>'NLRP7'</li><li>'TPM1'</li><li>'MYBL2'</li><li>'GTSF1'</li><li>'CCL25'</li><li>'CSRP1'</li><li>'LPP'</li><li>'ACTA2'</li><li>'ALDOB'</li><li>'KCNMB1'</li><li>'C19orf85'</li><li>'GJA10'</li><li>'GPD1L'</li><li>'PPM1N'</li><li>'UBE2T'</li><li>'CDKL1'</li><li>'CAVIN2'</li><li>'AC008676.3'</li><li>'PTGS1'</li><li>'PDE1C'</li><li>'NIBAN1'</li><li>'ALPL'</li><li>'KCNJ15'</li><li>'FYCO1'</li><li>'SLC5A5'</li><li>'AK4'</li><li>'MSRB3'</li><li>'SYCP3'</li><li>'MYL9'</li><li>'ALPG'</li><li>'HDGFL1'</li><li>'NFE2L3'</li><li>'NANOG'</li><li>'CENPA'</li><li>'AEN'</li><li>'CYP8B1'</li><li>'UPP1'</li><li>'TNS1'</li><li>'UBE2S'</li><li>'LUZP4'</li><li>'CDC25A'</li><li>'APOC1'</li><li>'TPM2'</li><li>'ZNF578'</li><li>'SKA1'</li><li>'VENTX'</li><li>'PIM2'</li><li>'FLNA'</li><li>'ETV4'</li><li>'PPP1R12A'</li><li>'TRIM60'</li><li>'ZNF280A'</li><li>'SUN3'</li><li>'AOC3'</li><li>'PALLD'</li><li>'CHEK2'</li><li>'UMODL1'</li><li>'PPP1R3C'</li><li>'MAGEB1'</li><li>'MIS18A'</li><li>'C1QTNF3'</li><li>'TGFB1I1'</li><li>'ZAN'</li><li>'APOE'</li><li>'PKD1L1'</li><li>'ZNF296'</li><li>'SPATA22'</li><li>'AUNIP'</li><li>'CASP14'</li><li>'ANTXR2'</li><li>'RAB5B'</li><li>'CDCA5'</li><li>'ZBTB4'</li><li>'GLDC'</li><li>'CALD1'</li><li>'NANOGP8'</li><li>'HCN2'</li><li>'POLR1G'</li><li>'ACSM2A'</li><li>'ERCC6L'</li><li>'KLRG2'</li><li>'SPEG'</li><li>'TENT5B'</li><li>'DES'</li><li>'SYNGR3'</li><li>'WDR62'</li><li>'AIRE'</li><li>'NLRP2'</li><li>'CPAMD8'</li><li>'L1TD1'</li><li>'FRAT2'</li><li>'TSTD3'</li><li>'HIC2'</li><li>'TBPL2'</li><li>'ZYG11A'</li><li>'ARHGEF25'</li><li>'TOMM40'</li><li>'RASL12'</li><li>'FOXR1'</li><li>'ZNF587B'</li><li>'HORMAD1'</li><li>'FHL1'</li><li>'PSD'</li><li>'AEBP1'</li><li>'PRKCA'</li><li>'RAB15'</li><li>'CDC42EP3'</li><li>'NLRP9'</li><li>'ALPP'</li><li>'SLC25A33'</li><li>'SPOP'</li><li>'ZNF101'</li><li>'ABCC12'</li><li>'ERVW-1'</li><li>'SUSD2'</li><li>'LIM2'</li><li>'CASZ1'</li><li>'KANK2'</li><li>'PCED1B'</li><li>'BSND'</li><li>'EPOP'</li><li>'TEAD4'</li><li>'PLXNA4'</li><li>'CYP2S1'</li><li>'PDCL2'</li><li>'TNNI3'</li><li>'OIP5'</li><li>'FANCD2'</li><li>'PSORS1C2'</li><li>'MYOM1'</li><li>'TSPAN2'</li><li>'SH2B2'</li><li>'POLRMT'</li><li>'UNG'</li><li>'PDCD2L'</li><li>'RRP9'</li><li>'TULP2'</li><li>'OR7E24'</li><li>'MAP4K1'</li><li>'EXOSC5'</li><li>'ADD1'</li><li>'NFE2'</li><li>'TCL1B'</li><li>'ATF7'</li><li>'SSC5D'</li><li>'POU5F1'</li><li>'SOWAHD'</li><li>'BEND3'</li><li>'ANKRD55'</li><li>'PANX3'</li><li>'MSH2'</li><li>'KCND3'</li><li>'DLGAP3'</li><li>'ZNF682'</li><li>'RNF17'</li><li>'PRSS41'</li><li>'MFAP5'</li><li>'TACC1'</li><li>'SRSF2'</li><li>'AC005833.1'</li><li>'RBMXL2'</li><li>'BCL2L12'</li><li>'CALCOCO1'</li><li>'WDHD1'</li><li>'RAD51'</li><li>'PLN'</li><li>'PRKAG2'</li><li>'GREM1'</li><li>'NCR1'</li><li>'RNF125'</li><li>'JPH2'</li><li>'FAM71F1'</li><li>'THRA'</li><li>'ITIH5'</li><li>'RGS2'</li><li>⋯</li><li>'CPED1'</li><li>'IGFL2'</li><li>'CEP126'</li><li>'C1orf21'</li><li>'XYLT1'</li><li>'PLAA'</li><li>'MRS2'</li><li>'GMIP'</li><li>'TBC1D7'</li><li>'SNTN'</li><li>'RAET1E'</li><li>'CLPTM1L'</li><li>'DAP'</li><li>'TRABD'</li><li>'BTF3L4'</li><li>'FBXL17'</li><li>'UTP4'</li><li>'PFAS'</li><li>'PHLDA3'</li><li>'RPL7A'</li><li>'RNF19B'</li><li>'DKK3'</li><li>'DCAF8L1'</li><li>'PDPN'</li><li>'PCIF1'</li><li>'TEX13A'</li><li>'PAGE2'</li><li>'SMC6'</li><li>'PIM3'</li><li>'DNAJC2'</li><li>'UQCRH'</li><li>'KXD1'</li><li>'CD53'</li><li>'TMEM69'</li><li>'RAI14'</li><li>'MLANA'</li><li>'NAE1'</li><li>'NMNAT3'</li><li>'TEX13B'</li><li>'PSPC1'</li><li>'RSPO1'</li><li>'DLGAP4'</li><li>'NCAM1'</li><li>'TWSG1'</li><li>'TREH'</li><li>'PDLIM4'</li><li>'GINS3'</li><li>'PIEZO1'</li><li>'UCHL3'</li><li>'BFAR'</li><li>'AFF3'</li><li>'CNOT3'</li><li>'SEMA4D'</li><li>'SCRN3'</li><li>'CNTN1'</li><li>'GDF7'</li><li>'ABCE1'</li><li>'EIF1AX'</li><li>'KHDRBS3'</li><li>'TRMT1L'</li><li>'GZMA'</li><li>'SPINK2'</li><li>'SLC25A38'</li><li>'NET1'</li><li>'SYMPK'</li><li>'FAM221A'</li><li>'ARPC3'</li><li>'BAZ2B'</li><li>'PBX1'</li><li>'SUMO1'</li><li>'OR3A3'</li><li>'PSME3'</li><li>'POLR3C'</li><li>'RNPEP'</li><li>'RPRML'</li><li>'PAFAH1B3'</li><li>'AMACR'</li><li>'POFUT1'</li><li>'CD80'</li><li>'EXOSC8'</li><li>'SEC31A'</li><li>'E2F3'</li><li>'CCDC137'</li><li>'RPGRIP1'</li><li>'POLR3A'</li><li>'PPP3CA'</li><li>'SELENOS'</li><li>'RDH10'</li><li>'ORC1'</li><li>'GNL2'</li><li>'LRRC59'</li><li>'FOXN3'</li><li>'RDM1'</li><li>'EBNA1BP2'</li><li>'ALDH1L2'</li><li>'ZFX'</li><li>'ADM5'</li><li>'ARID1B'</li><li>'TIMM23'</li><li>'ANGPTL7'</li><li>'DNAH5'</li><li>'EBP'</li><li>'KCTD1'</li><li>'SLC3A2'</li><li>'CERS1'</li><li>'SLC4A8'</li><li>'MECOM'</li><li>'TIAM1'</li><li>'ZNRF2'</li><li>'NPAS2'</li><li>'ZCCHC10'</li><li>'PLXNB2'</li><li>'MCM10'</li><li>'STOM'</li><li>'COPZ2'</li><li>'AMD1'</li><li>'IGSF10'</li><li>'NBEA'</li><li>'ARL1'</li><li>'KRT77'</li><li>'ZBTB2'</li><li>'INPP1'</li><li>'CYRIB'</li><li>'FAM120B'</li><li>'REXO1'</li><li>'RBM11'</li><li>'RECK'</li><li>'AVIL'</li><li>'TAF5'</li><li>'TRIM75P'</li><li>'ATP1B1'</li><li>'SLC25A13'</li><li>'LILRA5'</li><li>'PROZ'</li><li>'ZNF250'</li><li>'PRDM6'</li><li>'LONP2'</li><li>'MCM8'</li><li>'KLHL17'</li><li>'KCTD11'</li><li>'TLCD2'</li><li>'PSMA8'</li><li>'BARD1'</li><li>'MTF2'</li><li>'RPN1'</li><li>'XAB2'</li><li>'NRIP3'</li><li>'TMEM263'</li><li>'HTRA1'</li><li>'ZNF232'</li><li>'GCNT1'</li><li>'ASB5'</li><li>'LPCAT4'</li><li>'POLR3K'</li><li>'ATP4A'</li><li>'LAMA4'</li><li>'MINDY1'</li><li>'UBR7'</li><li>'FCRL3'</li><li>'AMPH'</li><li>'MMP12'</li><li>'XBP1'</li><li>'RPL18'</li><li>'SLC25A18'</li><li>'TMPRSS11D'</li><li>'ASNSD1'</li><li>'UBE2F'</li><li>'RNF144A'</li><li>'EFTUD2'</li><li>'MDN1'</li><li>'URB2'</li><li>'SLC27A4'</li><li>'SAT1'</li><li>'TNF'</li><li>'DOHH'</li><li>'HGSNAT'</li><li>'BACE1'</li><li>'SH3BP1'</li><li>'CTLA4'</li><li>'MT1F'</li><li>'DMAC2'</li><li>'TKT'</li><li>'PKD2'</li><li>'EHBP1'</li><li>'ARHGAP45'</li><li>'PDK1'</li><li>'EBPL'</li><li>'PLA2G7'</li><li>'ZNF267'</li><li>'AFAP1L2'</li><li>'ZNF385B'</li><li>'DHTKD1'</li><li>'PRIM1'</li><li>'TBX21'</li><li>'PQBP1'</li><li>'ZNF827'</li><li>'RAB7B'</li><li>'MRPS2'</li><li>'ROBO1'</li><li>'SSNA1'</li></ol>\n"
            ],
            "text/markdown": "1. 'TACR2'\n2. 'PLIN4'\n3. 'SLC2A4'\n4. 'PPP1R12B'\n5. 'SYNPO2'\n6. 'CNN1'\n7. 'MYLK'\n8. 'FBXL22'\n9. 'NEXN'\n10. 'SYNM'\n11. 'SALL4'\n12. 'BRDT'\n13. 'MAP3K20'\n14. 'SORBS1'\n15. 'NR6A1'\n16. 'SMTN'\n17. 'POPDC2'\n18. 'FBXO32'\n19. 'MYH11'\n20. 'MYCN'\n21. 'LMOD1'\n22. 'VCL'\n23. 'TAGLN'\n24. 'ATP2B4'\n25. 'LIMS2'\n26. 'NLRP7'\n27. 'TPM1'\n28. 'MYBL2'\n29. 'GTSF1'\n30. 'CCL25'\n31. 'CSRP1'\n32. 'LPP'\n33. 'ACTA2'\n34. 'ALDOB'\n35. 'KCNMB1'\n36. 'C19orf85'\n37. 'GJA10'\n38. 'GPD1L'\n39. 'PPM1N'\n40. 'UBE2T'\n41. 'CDKL1'\n42. 'CAVIN2'\n43. 'AC008676.3'\n44. 'PTGS1'\n45. 'PDE1C'\n46. 'NIBAN1'\n47. 'ALPL'\n48. 'KCNJ15'\n49. 'FYCO1'\n50. 'SLC5A5'\n51. 'AK4'\n52. 'MSRB3'\n53. 'SYCP3'\n54. 'MYL9'\n55. 'ALPG'\n56. 'HDGFL1'\n57. 'NFE2L3'\n58. 'NANOG'\n59. 'CENPA'\n60. 'AEN'\n61. 'CYP8B1'\n62. 'UPP1'\n63. 'TNS1'\n64. 'UBE2S'\n65. 'LUZP4'\n66. 'CDC25A'\n67. 'APOC1'\n68. 'TPM2'\n69. 'ZNF578'\n70. 'SKA1'\n71. 'VENTX'\n72. 'PIM2'\n73. 'FLNA'\n74. 'ETV4'\n75. 'PPP1R12A'\n76. 'TRIM60'\n77. 'ZNF280A'\n78. 'SUN3'\n79. 'AOC3'\n80. 'PALLD'\n81. 'CHEK2'\n82. 'UMODL1'\n83. 'PPP1R3C'\n84. 'MAGEB1'\n85. 'MIS18A'\n86. 'C1QTNF3'\n87. 'TGFB1I1'\n88. 'ZAN'\n89. 'APOE'\n90. 'PKD1L1'\n91. 'ZNF296'\n92. 'SPATA22'\n93. 'AUNIP'\n94. 'CASP14'\n95. 'ANTXR2'\n96. 'RAB5B'\n97. 'CDCA5'\n98. 'ZBTB4'\n99. 'GLDC'\n100. 'CALD1'\n101. 'NANOGP8'\n102. 'HCN2'\n103. 'POLR1G'\n104. 'ACSM2A'\n105. 'ERCC6L'\n106. 'KLRG2'\n107. 'SPEG'\n108. 'TENT5B'\n109. 'DES'\n110. 'SYNGR3'\n111. 'WDR62'\n112. 'AIRE'\n113. 'NLRP2'\n114. 'CPAMD8'\n115. 'L1TD1'\n116. 'FRAT2'\n117. 'TSTD3'\n118. 'HIC2'\n119. 'TBPL2'\n120. 'ZYG11A'\n121. 'ARHGEF25'\n122. 'TOMM40'\n123. 'RASL12'\n124. 'FOXR1'\n125. 'ZNF587B'\n126. 'HORMAD1'\n127. 'FHL1'\n128. 'PSD'\n129. 'AEBP1'\n130. 'PRKCA'\n131. 'RAB15'\n132. 'CDC42EP3'\n133. 'NLRP9'\n134. 'ALPP'\n135. 'SLC25A33'\n136. 'SPOP'\n137. 'ZNF101'\n138. 'ABCC12'\n139. 'ERVW-1'\n140. 'SUSD2'\n141. 'LIM2'\n142. 'CASZ1'\n143. 'KANK2'\n144. 'PCED1B'\n145. 'BSND'\n146. 'EPOP'\n147. 'TEAD4'\n148. 'PLXNA4'\n149. 'CYP2S1'\n150. 'PDCL2'\n151. 'TNNI3'\n152. 'OIP5'\n153. 'FANCD2'\n154. 'PSORS1C2'\n155. 'MYOM1'\n156. 'TSPAN2'\n157. 'SH2B2'\n158. 'POLRMT'\n159. 'UNG'\n160. 'PDCD2L'\n161. 'RRP9'\n162. 'TULP2'\n163. 'OR7E24'\n164. 'MAP4K1'\n165. 'EXOSC5'\n166. 'ADD1'\n167. 'NFE2'\n168. 'TCL1B'\n169. 'ATF7'\n170. 'SSC5D'\n171. 'POU5F1'\n172. 'SOWAHD'\n173. 'BEND3'\n174. 'ANKRD55'\n175. 'PANX3'\n176. 'MSH2'\n177. 'KCND3'\n178. 'DLGAP3'\n179. 'ZNF682'\n180. 'RNF17'\n181. 'PRSS41'\n182. 'MFAP5'\n183. 'TACC1'\n184. 'SRSF2'\n185. 'AC005833.1'\n186. 'RBMXL2'\n187. 'BCL2L12'\n188. 'CALCOCO1'\n189. 'WDHD1'\n190. 'RAD51'\n191. 'PLN'\n192. 'PRKAG2'\n193. 'GREM1'\n194. 'NCR1'\n195. 'RNF125'\n196. 'JPH2'\n197. 'FAM71F1'\n198. 'THRA'\n199. 'ITIH5'\n200. 'RGS2'\n201. ⋯\n202. 'CPED1'\n203. 'IGFL2'\n204. 'CEP126'\n205. 'C1orf21'\n206. 'XYLT1'\n207. 'PLAA'\n208. 'MRS2'\n209. 'GMIP'\n210. 'TBC1D7'\n211. 'SNTN'\n212. 'RAET1E'\n213. 'CLPTM1L'\n214. 'DAP'\n215. 'TRABD'\n216. 'BTF3L4'\n217. 'FBXL17'\n218. 'UTP4'\n219. 'PFAS'\n220. 'PHLDA3'\n221. 'RPL7A'\n222. 'RNF19B'\n223. 'DKK3'\n224. 'DCAF8L1'\n225. 'PDPN'\n226. 'PCIF1'\n227. 'TEX13A'\n228. 'PAGE2'\n229. 'SMC6'\n230. 'PIM3'\n231. 'DNAJC2'\n232. 'UQCRH'\n233. 'KXD1'\n234. 'CD53'\n235. 'TMEM69'\n236. 'RAI14'\n237. 'MLANA'\n238. 'NAE1'\n239. 'NMNAT3'\n240. 'TEX13B'\n241. 'PSPC1'\n242. 'RSPO1'\n243. 'DLGAP4'\n244. 'NCAM1'\n245. 'TWSG1'\n246. 'TREH'\n247. 'PDLIM4'\n248. 'GINS3'\n249. 'PIEZO1'\n250. 'UCHL3'\n251. 'BFAR'\n252. 'AFF3'\n253. 'CNOT3'\n254. 'SEMA4D'\n255. 'SCRN3'\n256. 'CNTN1'\n257. 'GDF7'\n258. 'ABCE1'\n259. 'EIF1AX'\n260. 'KHDRBS3'\n261. 'TRMT1L'\n262. 'GZMA'\n263. 'SPINK2'\n264. 'SLC25A38'\n265. 'NET1'\n266. 'SYMPK'\n267. 'FAM221A'\n268. 'ARPC3'\n269. 'BAZ2B'\n270. 'PBX1'\n271. 'SUMO1'\n272. 'OR3A3'\n273. 'PSME3'\n274. 'POLR3C'\n275. 'RNPEP'\n276. 'RPRML'\n277. 'PAFAH1B3'\n278. 'AMACR'\n279. 'POFUT1'\n280. 'CD80'\n281. 'EXOSC8'\n282. 'SEC31A'\n283. 'E2F3'\n284. 'CCDC137'\n285. 'RPGRIP1'\n286. 'POLR3A'\n287. 'PPP3CA'\n288. 'SELENOS'\n289. 'RDH10'\n290. 'ORC1'\n291. 'GNL2'\n292. 'LRRC59'\n293. 'FOXN3'\n294. 'RDM1'\n295. 'EBNA1BP2'\n296. 'ALDH1L2'\n297. 'ZFX'\n298. 'ADM5'\n299. 'ARID1B'\n300. 'TIMM23'\n301. 'ANGPTL7'\n302. 'DNAH5'\n303. 'EBP'\n304. 'KCTD1'\n305. 'SLC3A2'\n306. 'CERS1'\n307. 'SLC4A8'\n308. 'MECOM'\n309. 'TIAM1'\n310. 'ZNRF2'\n311. 'NPAS2'\n312. 'ZCCHC10'\n313. 'PLXNB2'\n314. 'MCM10'\n315. 'STOM'\n316. 'COPZ2'\n317. 'AMD1'\n318. 'IGSF10'\n319. 'NBEA'\n320. 'ARL1'\n321. 'KRT77'\n322. 'ZBTB2'\n323. 'INPP1'\n324. 'CYRIB'\n325. 'FAM120B'\n326. 'REXO1'\n327. 'RBM11'\n328. 'RECK'\n329. 'AVIL'\n330. 'TAF5'\n331. 'TRIM75P'\n332. 'ATP1B1'\n333. 'SLC25A13'\n334. 'LILRA5'\n335. 'PROZ'\n336. 'ZNF250'\n337. 'PRDM6'\n338. 'LONP2'\n339. 'MCM8'\n340. 'KLHL17'\n341. 'KCTD11'\n342. 'TLCD2'\n343. 'PSMA8'\n344. 'BARD1'\n345. 'MTF2'\n346. 'RPN1'\n347. 'XAB2'\n348. 'NRIP3'\n349. 'TMEM263'\n350. 'HTRA1'\n351. 'ZNF232'\n352. 'GCNT1'\n353. 'ASB5'\n354. 'LPCAT4'\n355. 'POLR3K'\n356. 'ATP4A'\n357. 'LAMA4'\n358. 'MINDY1'\n359. 'UBR7'\n360. 'FCRL3'\n361. 'AMPH'\n362. 'MMP12'\n363. 'XBP1'\n364. 'RPL18'\n365. 'SLC25A18'\n366. 'TMPRSS11D'\n367. 'ASNSD1'\n368. 'UBE2F'\n369. 'RNF144A'\n370. 'EFTUD2'\n371. 'MDN1'\n372. 'URB2'\n373. 'SLC27A4'\n374. 'SAT1'\n375. 'TNF'\n376. 'DOHH'\n377. 'HGSNAT'\n378. 'BACE1'\n379. 'SH3BP1'\n380. 'CTLA4'\n381. 'MT1F'\n382. 'DMAC2'\n383. 'TKT'\n384. 'PKD2'\n385. 'EHBP1'\n386. 'ARHGAP45'\n387. 'PDK1'\n388. 'EBPL'\n389. 'PLA2G7'\n390. 'ZNF267'\n391. 'AFAP1L2'\n392. 'ZNF385B'\n393. 'DHTKD1'\n394. 'PRIM1'\n395. 'TBX21'\n396. 'PQBP1'\n397. 'ZNF827'\n398. 'RAB7B'\n399. 'MRPS2'\n400. 'ROBO1'\n401. 'SSNA1'\n\n\n",
            "text/latex": "\\begin{enumerate*}\n\\item 'TACR2'\n\\item 'PLIN4'\n\\item 'SLC2A4'\n\\item 'PPP1R12B'\n\\item 'SYNPO2'\n\\item 'CNN1'\n\\item 'MYLK'\n\\item 'FBXL22'\n\\item 'NEXN'\n\\item 'SYNM'\n\\item 'SALL4'\n\\item 'BRDT'\n\\item 'MAP3K20'\n\\item 'SORBS1'\n\\item 'NR6A1'\n\\item 'SMTN'\n\\item 'POPDC2'\n\\item 'FBXO32'\n\\item 'MYH11'\n\\item 'MYCN'\n\\item 'LMOD1'\n\\item 'VCL'\n\\item 'TAGLN'\n\\item 'ATP2B4'\n\\item 'LIMS2'\n\\item 'NLRP7'\n\\item 'TPM1'\n\\item 'MYBL2'\n\\item 'GTSF1'\n\\item 'CCL25'\n\\item 'CSRP1'\n\\item 'LPP'\n\\item 'ACTA2'\n\\item 'ALDOB'\n\\item 'KCNMB1'\n\\item 'C19orf85'\n\\item 'GJA10'\n\\item 'GPD1L'\n\\item 'PPM1N'\n\\item 'UBE2T'\n\\item 'CDKL1'\n\\item 'CAVIN2'\n\\item 'AC008676.3'\n\\item 'PTGS1'\n\\item 'PDE1C'\n\\item 'NIBAN1'\n\\item 'ALPL'\n\\item 'KCNJ15'\n\\item 'FYCO1'\n\\item 'SLC5A5'\n\\item 'AK4'\n\\item 'MSRB3'\n\\item 'SYCP3'\n\\item 'MYL9'\n\\item 'ALPG'\n\\item 'HDGFL1'\n\\item 'NFE2L3'\n\\item 'NANOG'\n\\item 'CENPA'\n\\item 'AEN'\n\\item 'CYP8B1'\n\\item 'UPP1'\n\\item 'TNS1'\n\\item 'UBE2S'\n\\item 'LUZP4'\n\\item 'CDC25A'\n\\item 'APOC1'\n\\item 'TPM2'\n\\item 'ZNF578'\n\\item 'SKA1'\n\\item 'VENTX'\n\\item 'PIM2'\n\\item 'FLNA'\n\\item 'ETV4'\n\\item 'PPP1R12A'\n\\item 'TRIM60'\n\\item 'ZNF280A'\n\\item 'SUN3'\n\\item 'AOC3'\n\\item 'PALLD'\n\\item 'CHEK2'\n\\item 'UMODL1'\n\\item 'PPP1R3C'\n\\item 'MAGEB1'\n\\item 'MIS18A'\n\\item 'C1QTNF3'\n\\item 'TGFB1I1'\n\\item 'ZAN'\n\\item 'APOE'\n\\item 'PKD1L1'\n\\item 'ZNF296'\n\\item 'SPATA22'\n\\item 'AUNIP'\n\\item 'CASP14'\n\\item 'ANTXR2'\n\\item 'RAB5B'\n\\item 'CDCA5'\n\\item 'ZBTB4'\n\\item 'GLDC'\n\\item 'CALD1'\n\\item 'NANOGP8'\n\\item 'HCN2'\n\\item 'POLR1G'\n\\item 'ACSM2A'\n\\item 'ERCC6L'\n\\item 'KLRG2'\n\\item 'SPEG'\n\\item 'TENT5B'\n\\item 'DES'\n\\item 'SYNGR3'\n\\item 'WDR62'\n\\item 'AIRE'\n\\item 'NLRP2'\n\\item 'CPAMD8'\n\\item 'L1TD1'\n\\item 'FRAT2'\n\\item 'TSTD3'\n\\item 'HIC2'\n\\item 'TBPL2'\n\\item 'ZYG11A'\n\\item 'ARHGEF25'\n\\item 'TOMM40'\n\\item 'RASL12'\n\\item 'FOXR1'\n\\item 'ZNF587B'\n\\item 'HORMAD1'\n\\item 'FHL1'\n\\item 'PSD'\n\\item 'AEBP1'\n\\item 'PRKCA'\n\\item 'RAB15'\n\\item 'CDC42EP3'\n\\item 'NLRP9'\n\\item 'ALPP'\n\\item 'SLC25A33'\n\\item 'SPOP'\n\\item 'ZNF101'\n\\item 'ABCC12'\n\\item 'ERVW-1'\n\\item 'SUSD2'\n\\item 'LIM2'\n\\item 'CASZ1'\n\\item 'KANK2'\n\\item 'PCED1B'\n\\item 'BSND'\n\\item 'EPOP'\n\\item 'TEAD4'\n\\item 'PLXNA4'\n\\item 'CYP2S1'\n\\item 'PDCL2'\n\\item 'TNNI3'\n\\item 'OIP5'\n\\item 'FANCD2'\n\\item 'PSORS1C2'\n\\item 'MYOM1'\n\\item 'TSPAN2'\n\\item 'SH2B2'\n\\item 'POLRMT'\n\\item 'UNG'\n\\item 'PDCD2L'\n\\item 'RRP9'\n\\item 'TULP2'\n\\item 'OR7E24'\n\\item 'MAP4K1'\n\\item 'EXOSC5'\n\\item 'ADD1'\n\\item 'NFE2'\n\\item 'TCL1B'\n\\item 'ATF7'\n\\item 'SSC5D'\n\\item 'POU5F1'\n\\item 'SOWAHD'\n\\item 'BEND3'\n\\item 'ANKRD55'\n\\item 'PANX3'\n\\item 'MSH2'\n\\item 'KCND3'\n\\item 'DLGAP3'\n\\item 'ZNF682'\n\\item 'RNF17'\n\\item 'PRSS41'\n\\item 'MFAP5'\n\\item 'TACC1'\n\\item 'SRSF2'\n\\item 'AC005833.1'\n\\item 'RBMXL2'\n\\item 'BCL2L12'\n\\item 'CALCOCO1'\n\\item 'WDHD1'\n\\item 'RAD51'\n\\item 'PLN'\n\\item 'PRKAG2'\n\\item 'GREM1'\n\\item 'NCR1'\n\\item 'RNF125'\n\\item 'JPH2'\n\\item 'FAM71F1'\n\\item 'THRA'\n\\item 'ITIH5'\n\\item 'RGS2'\n\\item ⋯\n\\item 'CPED1'\n\\item 'IGFL2'\n\\item 'CEP126'\n\\item 'C1orf21'\n\\item 'XYLT1'\n\\item 'PLAA'\n\\item 'MRS2'\n\\item 'GMIP'\n\\item 'TBC1D7'\n\\item 'SNTN'\n\\item 'RAET1E'\n\\item 'CLPTM1L'\n\\item 'DAP'\n\\item 'TRABD'\n\\item 'BTF3L4'\n\\item 'FBXL17'\n\\item 'UTP4'\n\\item 'PFAS'\n\\item 'PHLDA3'\n\\item 'RPL7A'\n\\item 'RNF19B'\n\\item 'DKK3'\n\\item 'DCAF8L1'\n\\item 'PDPN'\n\\item 'PCIF1'\n\\item 'TEX13A'\n\\item 'PAGE2'\n\\item 'SMC6'\n\\item 'PIM3'\n\\item 'DNAJC2'\n\\item 'UQCRH'\n\\item 'KXD1'\n\\item 'CD53'\n\\item 'TMEM69'\n\\item 'RAI14'\n\\item 'MLANA'\n\\item 'NAE1'\n\\item 'NMNAT3'\n\\item 'TEX13B'\n\\item 'PSPC1'\n\\item 'RSPO1'\n\\item 'DLGAP4'\n\\item 'NCAM1'\n\\item 'TWSG1'\n\\item 'TREH'\n\\item 'PDLIM4'\n\\item 'GINS3'\n\\item 'PIEZO1'\n\\item 'UCHL3'\n\\item 'BFAR'\n\\item 'AFF3'\n\\item 'CNOT3'\n\\item 'SEMA4D'\n\\item 'SCRN3'\n\\item 'CNTN1'\n\\item 'GDF7'\n\\item 'ABCE1'\n\\item 'EIF1AX'\n\\item 'KHDRBS3'\n\\item 'TRMT1L'\n\\item 'GZMA'\n\\item 'SPINK2'\n\\item 'SLC25A38'\n\\item 'NET1'\n\\item 'SYMPK'\n\\item 'FAM221A'\n\\item 'ARPC3'\n\\item 'BAZ2B'\n\\item 'PBX1'\n\\item 'SUMO1'\n\\item 'OR3A3'\n\\item 'PSME3'\n\\item 'POLR3C'\n\\item 'RNPEP'\n\\item 'RPRML'\n\\item 'PAFAH1B3'\n\\item 'AMACR'\n\\item 'POFUT1'\n\\item 'CD80'\n\\item 'EXOSC8'\n\\item 'SEC31A'\n\\item 'E2F3'\n\\item 'CCDC137'\n\\item 'RPGRIP1'\n\\item 'POLR3A'\n\\item 'PPP3CA'\n\\item 'SELENOS'\n\\item 'RDH10'\n\\item 'ORC1'\n\\item 'GNL2'\n\\item 'LRRC59'\n\\item 'FOXN3'\n\\item 'RDM1'\n\\item 'EBNA1BP2'\n\\item 'ALDH1L2'\n\\item 'ZFX'\n\\item 'ADM5'\n\\item 'ARID1B'\n\\item 'TIMM23'\n\\item 'ANGPTL7'\n\\item 'DNAH5'\n\\item 'EBP'\n\\item 'KCTD1'\n\\item 'SLC3A2'\n\\item 'CERS1'\n\\item 'SLC4A8'\n\\item 'MECOM'\n\\item 'TIAM1'\n\\item 'ZNRF2'\n\\item 'NPAS2'\n\\item 'ZCCHC10'\n\\item 'PLXNB2'\n\\item 'MCM10'\n\\item 'STOM'\n\\item 'COPZ2'\n\\item 'AMD1'\n\\item 'IGSF10'\n\\item 'NBEA'\n\\item 'ARL1'\n\\item 'KRT77'\n\\item 'ZBTB2'\n\\item 'INPP1'\n\\item 'CYRIB'\n\\item 'FAM120B'\n\\item 'REXO1'\n\\item 'RBM11'\n\\item 'RECK'\n\\item 'AVIL'\n\\item 'TAF5'\n\\item 'TRIM75P'\n\\item 'ATP1B1'\n\\item 'SLC25A13'\n\\item 'LILRA5'\n\\item 'PROZ'\n\\item 'ZNF250'\n\\item 'PRDM6'\n\\item 'LONP2'\n\\item 'MCM8'\n\\item 'KLHL17'\n\\item 'KCTD11'\n\\item 'TLCD2'\n\\item 'PSMA8'\n\\item 'BARD1'\n\\item 'MTF2'\n\\item 'RPN1'\n\\item 'XAB2'\n\\item 'NRIP3'\n\\item 'TMEM263'\n\\item 'HTRA1'\n\\item 'ZNF232'\n\\item 'GCNT1'\n\\item 'ASB5'\n\\item 'LPCAT4'\n\\item 'POLR3K'\n\\item 'ATP4A'\n\\item 'LAMA4'\n\\item 'MINDY1'\n\\item 'UBR7'\n\\item 'FCRL3'\n\\item 'AMPH'\n\\item 'MMP12'\n\\item 'XBP1'\n\\item 'RPL18'\n\\item 'SLC25A18'\n\\item 'TMPRSS11D'\n\\item 'ASNSD1'\n\\item 'UBE2F'\n\\item 'RNF144A'\n\\item 'EFTUD2'\n\\item 'MDN1'\n\\item 'URB2'\n\\item 'SLC27A4'\n\\item 'SAT1'\n\\item 'TNF'\n\\item 'DOHH'\n\\item 'HGSNAT'\n\\item 'BACE1'\n\\item 'SH3BP1'\n\\item 'CTLA4'\n\\item 'MT1F'\n\\item 'DMAC2'\n\\item 'TKT'\n\\item 'PKD2'\n\\item 'EHBP1'\n\\item 'ARHGAP45'\n\\item 'PDK1'\n\\item 'EBPL'\n\\item 'PLA2G7'\n\\item 'ZNF267'\n\\item 'AFAP1L2'\n\\item 'ZNF385B'\n\\item 'DHTKD1'\n\\item 'PRIM1'\n\\item 'TBX21'\n\\item 'PQBP1'\n\\item 'ZNF827'\n\\item 'RAB7B'\n\\item 'MRPS2'\n\\item 'ROBO1'\n\\item 'SSNA1'\n\\end{enumerate*}\n",
            "text/plain": [
              "   [1] \"TACR2\"      \"PLIN4\"      \"SLC2A4\"     \"PPP1R12B\"   \"SYNPO2\"    \n",
              "   [6] \"CNN1\"       \"MYLK\"       \"FBXL22\"     \"NEXN\"       \"SYNM\"      \n",
              "  [11] \"SALL4\"      \"BRDT\"       \"MAP3K20\"    \"SORBS1\"     \"NR6A1\"     \n",
              "  [16] \"SMTN\"       \"POPDC2\"     \"FBXO32\"     \"MYH11\"      \"MYCN\"      \n",
              "  [21] \"LMOD1\"      \"VCL\"        \"TAGLN\"      \"ATP2B4\"     \"LIMS2\"     \n",
              "  [26] \"NLRP7\"      \"TPM1\"       \"MYBL2\"      \"GTSF1\"      \"CCL25\"     \n",
              "  [31] \"CSRP1\"      \"LPP\"        \"ACTA2\"      \"ALDOB\"      \"KCNMB1\"    \n",
              "  [36] \"C19orf85\"   \"GJA10\"      \"GPD1L\"      \"PPM1N\"      \"UBE2T\"     \n",
              "  [41] \"CDKL1\"      \"CAVIN2\"     \"AC008676.3\" \"PTGS1\"      \"PDE1C\"     \n",
              "  [46] \"NIBAN1\"     \"ALPL\"       \"KCNJ15\"     \"FYCO1\"      \"SLC5A5\"    \n",
              "  [51] \"AK4\"        \"MSRB3\"      \"SYCP3\"      \"MYL9\"       \"ALPG\"      \n",
              "  [56] \"HDGFL1\"     \"NFE2L3\"     \"NANOG\"      \"CENPA\"      \"AEN\"       \n",
              "  [61] \"CYP8B1\"     \"UPP1\"       \"TNS1\"       \"UBE2S\"      \"LUZP4\"     \n",
              "  [66] \"CDC25A\"     \"APOC1\"      \"TPM2\"       \"ZNF578\"     \"SKA1\"      \n",
              "  [71] \"VENTX\"      \"PIM2\"       \"FLNA\"       \"ETV4\"       \"PPP1R12A\"  \n",
              "  [76] \"TRIM60\"     \"ZNF280A\"    \"SUN3\"       \"AOC3\"       \"PALLD\"     \n",
              "  [81] \"CHEK2\"      \"UMODL1\"     \"PPP1R3C\"    \"MAGEB1\"     \"MIS18A\"    \n",
              "  [86] \"C1QTNF3\"    \"TGFB1I1\"    \"ZAN\"        \"APOE\"       \"PKD1L1\"    \n",
              "  [91] \"ZNF296\"     \"SPATA22\"    \"AUNIP\"      \"CASP14\"     \"ANTXR2\"    \n",
              "  [96] \"RAB5B\"      \"CDCA5\"      \"ZBTB4\"      \"GLDC\"       \"CALD1\"     \n",
              " [101] \"NANOGP8\"    \"HCN2\"       \"POLR1G\"     \"ACSM2A\"     \"ERCC6L\"    \n",
              " [106] \"KLRG2\"      \"SPEG\"       \"TENT5B\"     \"DES\"        \"SYNGR3\"    \n",
              " [111] \"WDR62\"      \"AIRE\"       \"NLRP2\"      \"CPAMD8\"     \"L1TD1\"     \n",
              " [116] \"FRAT2\"      \"TSTD3\"      \"HIC2\"       \"TBPL2\"      \"ZYG11A\"    \n",
              " [121] \"ARHGEF25\"   \"TOMM40\"     \"RASL12\"     \"FOXR1\"      \"ZNF587B\"   \n",
              " [126] \"HORMAD1\"    \"FHL1\"       \"PSD\"        \"AEBP1\"      \"PRKCA\"     \n",
              " [131] \"RAB15\"      \"CDC42EP3\"   \"NLRP9\"      \"ALPP\"       \"SLC25A33\"  \n",
              " [136] \"SPOP\"       \"ZNF101\"     \"ABCC12\"     \"ERVW-1\"     \"SUSD2\"     \n",
              " [141] \"LIM2\"       \"CASZ1\"      \"KANK2\"      \"PCED1B\"     \"BSND\"      \n",
              " [146] \"EPOP\"       \"TEAD4\"      \"PLXNA4\"     \"CYP2S1\"     \"PDCL2\"     \n",
              " [151] \"TNNI3\"      \"OIP5\"       \"FANCD2\"     \"PSORS1C2\"   \"MYOM1\"     \n",
              " [156] \"TSPAN2\"     \"SH2B2\"      \"POLRMT\"     \"UNG\"        \"PDCD2L\"    \n",
              " [161] \"RRP9\"       \"TULP2\"      \"OR7E24\"     \"MAP4K1\"     \"EXOSC5\"    \n",
              " [166] \"ADD1\"       \"NFE2\"       \"TCL1B\"      \"ATF7\"       \"SSC5D\"     \n",
              " [171] \"POU5F1\"     \"SOWAHD\"     \"BEND3\"      \"ANKRD55\"    \"PANX3\"     \n",
              " [176] \"MSH2\"       \"KCND3\"      \"DLGAP3\"     \"ZNF682\"     \"RNF17\"     \n",
              " [181] \"PRSS41\"     \"MFAP5\"      \"TACC1\"      \"SRSF2\"      \"AC005833.1\"\n",
              " [186] \"RBMXL2\"     \"BCL2L12\"    \"CALCOCO1\"   \"WDHD1\"      \"RAD51\"     \n",
              " [191] \"PLN\"        \"PRKAG2\"     \"GREM1\"      \"NCR1\"       \"RNF125\"    \n",
              " [196] \"JPH2\"       \"FAM71F1\"    \"THRA\"       \"ITIH5\"      \"RGS2\"      \n",
              " [201] \"MYOCD\"      \"GNG12\"      \"RASGEF1A\"   \"CCT8\"       \"HSPB7\"     \n",
              " [206] \"PPM1G\"      \"MAGEB2\"     \"ABCB1\"      \"ARID3B\"     \"VRTN\"      \n",
              " [211] \"PTPRQ\"      \"TRIM28\"     \"LPAR2\"      \"KCNAB1\"     \"IL6\"       \n",
              " [216] \"ORC6\"       \"TRIM71\"     \"YRDC\"       \"TINAGL1\"    \"ACTG2\"     \n",
              " [221] \"NOP56\"      \"ZNF681\"     \"CPNE6\"      \"CHRNB3\"     \"DBF4\"      \n",
              " [226] \"SPDYC\"      \"BFSP2\"      \"MBD5\"       \"UTF1\"       \"SLC2A14\"   \n",
              " [231] \"DLL3\"       \"FEN1\"       \"MPV17L2\"    \"CARMIL2\"    \"PDLIM7\"    \n",
              " [236] \"RNF138\"     \"HELLS\"      \"KASH5\"      \"RRP12\"      \"DDX43\"     \n",
              " [241] \"ZNF93\"      \"HJURP\"      \"PRR20G\"     \"NACC1\"      \"EZHIP\"     \n",
              " [246] \"ZNF215\"     \"C19orf84\"   \"CCT6A\"      \"SLC5A6\"     \"PLCL1\"     \n",
              " [251] \"RABGAP1\"    \"THSD4\"      \"ATIC\"       \"SPZ1\"       \"NUDT1\"     \n",
              " [256] \"DCAF4L2\"    \"EEF2K\"      \"MMP15\"      \"RMND1\"      \"CHEK1\"     \n",
              " [261] \"DPPA5\"      \"PYGM\"       \"SLC8A1\"     \"RHCG\"       \"MIIP\"      \n",
              " [266] \"PRAME\"      \"NLRP12\"     \"PDE5A\"      \"NGEF\"       \"CKS2\"      \n",
              " [271] \"CFL2\"       \"RAB3B\"      \"KPNA2\"      \"OOEP\"       \"PSMG1\"     \n",
              " [276] \"TBRG4\"      \"CLEC4D\"     \"RESF1\"      \"C1GALT1\"    \"TDRD15\"    \n",
              " [281] \"ARMC6\"      \"SH2D5\"      \"TPM3\"       \"RANBP3L\"    \"ZNF256\"    \n",
              " [286] \"TSEN54\"     \"G3BP1\"      \"PPY\"        \"ZMYND19\"    \"PITPNM3\"   \n",
              " [291] \"TMC7\"       \"ARSJ\"       \"GPR17\"      \"SNX10\"      \"DDX39A\"    \n",
              " [296] \"HROB\"       \"CDC45\"      \"TDRD1\"      \"DDX4\"       \"SLC66A3\"   \n",
              " [301] \"PARM1\"      \"RNF44\"      \"GOLM2\"      \"MCM5\"       \"RNF150\"    \n",
              " [306] \"TTLL4\"      \"DMRT1\"      \"OXNAD1\"     \"C5orf58\"    \"SLC24A3\"   \n",
              " [311] \"CBX6\"       \"TRIML2\"     \"PUS1\"       \"CASQ2\"      \"KLF16\"     \n",
              " [316] \"SVIL\"       \"PGM5\"       \"GCH1\"       \"STEAP1B\"    \"NFIC\"      \n",
              " [321] \"PDLIM3\"     \"PNLDC1\"     \"HDHD5\"      \"C12orf40\"   \"HERC5\"     \n",
              " [326] \"TCL1A\"      \"ZNF483\"     \"PNPT1\"      \"HUS1\"       \"SNRPB\"     \n",
              " [331] \"LSM4\"       \"CNR2\"       \"TAF4B\"      \"PHF5A\"      \"RHEBL1\"    \n",
              " [336] \"CSE1L\"      \"RTP3\"       \"EMP2\"       \"CACNA1C\"    \"SOX15\"     \n",
              " [341] \"FLG2\"       \"TMC1\"       \"SEPTIN14\"   \"INKA2\"      \"CAVIN1\"    \n",
              " [346] \"C9orf40\"    \"ARG1\"       \"TRIM61\"     \"CPSF3\"      \"LCP1\"      \n",
              " [351] \"TSACC\"      \"VAV3\"       \"ADARB1\"     \"ZFP42\"      \"ART5\"      \n",
              " [356] \"NDUFAB1\"    \"GREM2\"      \"NEURL1B\"    \"SRSF7\"      \"KCNMA1\"    \n",
              " [361] \"PLA2G12A\"   \"ZDHHC23\"    \"HCAR1\"      \"RPP40\"      \"GRAMD1A\"   \n",
              " [366] \"IGF2BP1\"    \"FILIP1L\"    \"KY\"         \"SPARCL1\"    \"CECR2\"     \n",
              " [371] \"STON1\"      \"FAM162B\"    \"LAS1L\"      \"ZNF492\"     \"BHMG1\"     \n",
              " [376] \"HENMT1\"     \"UGCG\"       \"KRTDAP\"     \"KBTBD8\"     \"TMEM38B\"   \n",
              " [381] \"ZNF695\"     \"PMAIP1\"     \"SNRPE\"      \"CLDN6\"      \"TPTE2\"     \n",
              " [386] \"DDIAS\"      \"GPRC5D\"     \"HSPE1\"      \"RBM46\"      \"FGD4\"      \n",
              " [391] \"HSPB8\"      \"BAX\"        \"SGO1\"       \"NUTM1\"      \"LDB3\"      \n",
              " [396] \"NPTN\"       \"TDRD12\"     \"ASB2\"       \"CYP3A4\"     \"APOO\"      \n",
              " [401] \"MYO1C\"      \"SYN3\"       \"CACNB4\"     \"RANGAP1\"    \"SLC25A16\"  \n",
              " [406] \"PPP4R3C\"    \"ASB8\"       \"ARGFX\"      \"ELOVL3\"     \"MAGEC2\"    \n",
              " [411] \"NLRP6\"      \"EEF1AKMT4\"  \"WDR5\"       \"HOXB1\"      \"OXT\"       \n",
              " [416] \"PRDX1\"      \"ASRGL1\"     \"A2M\"        \"WFDC1\"      \"GPX2\"      \n",
              " [421] \"CCNF\"       \"PDE6G\"      \"SUSD3\"      \"YIF1B\"      \"GATAD2A\"   \n",
              " [426] \"FRAT1\"      \"TRMT6\"      \"CHD3\"       \"LRIF1\"      \"TIMM50\"    \n",
              " [431] \"ACTC1\"      \"FOXI3\"      \"ZNF722P\"    \"KRT14\"      \"C1QL1\"     \n",
              " [436] \"PTPN2\"      \"MTMR14\"     \"RIMS1\"      \"RPA3\"       \"DPH2\"      \n",
              " [441] \"RECQL4\"     \"NANOS3\"     \"FLVCR2\"     \"TGM2\"       \"HSPA4\"     \n",
              " [446] \"AURKA\"      \"TLN1\"       \"RPUSD3\"     \"VRK1\"       \"B3GNT4\"    \n",
              " [451] \"PPP1R2C\"    \"VSIG10\"     \"RPS10\"      \"OLFML2A\"    \"C3orf56\"   \n",
              " [456] \"ZNF600\"     \"FAM222B\"    \"PIWIL1\"     \"CENPH\"      \"MAP7D2\"    \n",
              " [461] \"PHKG1\"      \"KTI12\"      \"MIXL1\"      \"TMTC2\"      \"ANKRD50\"   \n",
              " [466] \"PKMYT1\"     \"PTBP1\"      \"ORC5\"       \"RPS17\"      \"EXTL1\"     \n",
              " [471] \"CLP1\"       \"DNMT3L\"     \"CCT3\"       \"BUB1\"       \"PTBP3\"     \n",
              " [476] \"SPIC\"       \"NIF3L1\"     \"CHRDL1\"     \"SYN2\"       \"DCAF15\"    \n",
              " [481] \"TDRKH\"      \"FBXL7\"      \"GFY\"        \"TRPS1\"      \"TUBB4A\"    \n",
              " [486] \"NEFH\"       \"PLBD1\"      \"DCT\"        \"TIMM17B\"    \"ZNF525\"    \n",
              " [491] \"IFITM1\"     \"SRM\"        \"RBM15\"      \"ALDH16A1\"   \"NCLN\"      \n",
              " [496] \"ZMYND11\"    \"MACROD2\"    \"ZNF121\"     \"CES1\"       \"PLA2G4A\"   \n",
              " [501] \"RPP25\"      \"XRCC2\"      \"SPAG5\"      \"FOXO3\"      \"CHRDL2\"    \n",
              " [506] \"OLAH\"       \"CCNB1\"      \"NAA11\"      \"RUVBL1\"     \"RCC2\"      \n",
              " [511] \"DRG1\"       \"TXNDC9\"     \"HAUS1\"      \"CAMP\"       \"TDP1\"      \n",
              " [516] \"SETD7\"      \"ZNF586\"     \"UTP18\"      \"MAGEC1\"     \"FAM180A\"   \n",
              " [521] \"ADAM22\"     \"RBFOX2\"     \"ITGA1\"      \"PTPN12\"     \"KHDC3L\"    \n",
              " [526] \"LARGE2\"     \"STK35\"      \"PASK\"       \"CCDC63\"     \"NAP1L4\"    \n",
              " [531] \"RAB23\"      \"AHCY\"       \"DLG3\"       \"SNRPD1\"     \"CCBE1\"     \n",
              " [536] \"GINM1\"      \"FAM13A\"     \"ERMAP\"      \"TEX37\"      \"RASL10A\"   \n",
              " [541] \"IL17B\"      \"FASTKD1\"    \"ITPR1\"      \"NKX6-3\"     \"ARHGEF37\"  \n",
              " [546] \"TSKS\"       \"ZNF701\"     \"DLGAP5\"     \"RAMP1\"      \"NPAS1\"     \n",
              " [551] \"MTFR2\"      \"TAF1L\"      \"TCF15\"      \"LBP\"        \"TRMT1\"     \n",
              " [556] \"SAMD4A\"     \"SGMS2\"      \"PRODH\"      \"CCNB2\"      \"GDPD4\"     \n",
              " [561] \"PKD1\"       \"MEGF11\"     \"ACACB\"      \"TIMP2\"      \"BYSL\"      \n",
              " [566] \"ENTR1\"      \"HMGB3\"      \"SHKBP1\"     \"C1QTNF7\"    \"SLC45A4\"   \n",
              " [571] \"BHLHA9\"     \"MCM7\"       \"EIF3B\"      \"OR2B6\"      \"VARS1\"     \n",
              " [576] \"H1-2\"       \"TMEM191C\"   \"SLC25A39\"   \"EHD2\"       \"STK31\"     \n",
              " [581] \"SYNE1\"      \"SAAL1\"      \"CDT1\"       \"ELOVL6\"     \"UBE2O\"     \n",
              " [586] \"NOC4L\"      \"CLEC9A\"     \"MYCBP\"      \"TMEM258\"    \"LRWD1\"     \n",
              " [591] \"RFWD3\"      \"CIDEA\"      \"FOXJ2\"      \"RPSA\"       \"MTSS2\"     \n",
              " [596] \"LORICRIN\"   \"C18orf54\"   \"PREB\"       \"TRPC5\"      \"RPL10L\"    \n",
              " [601] \"FBL\"        \"PPP2R1B\"    \"SLMAP\"      \"ZNF490\"     \"USP6\"      \n",
              " [606] \"ENTPD6\"     \"CCNE1\"      \"HSD17B13\"   \"MPC1L\"      \"PDE4D\"     \n",
              " [611] \"M1AP\"       \"DNAJB5\"     \"DARS2\"      \"RHOB\"       \"HK2\"       \n",
              " [616] \"CSTF2\"      \"SLC4A11\"    \"AQP1\"       \"DUSP5\"      \"CCL3\"      \n",
              " [621] \"INA\"        \"ADRM1\"      \"PBLD\"       \"BSPRY\"      \"CYCS\"      \n",
              " [626] \"ACTR5\"      \"RPS7\"       \"RASD1\"      \"TPST2\"      \"TAF1B\"     \n",
              " [631] \"RNF126\"     \"RYR1\"       \"PNO1\"       \"FBXO36\"     \"HAUS8\"     \n",
              " [636] \"TEC\"        \"GBX2\"       \"MEFV\"       \"CYP2E1\"     \"SMOC2\"     \n",
              " [641] \"CTAG2\"      \"PTGER3\"     \"FTHL17\"     \"ANO6\"       \"VPS33A\"    \n",
              " [646] \"RPL17\"      \"FAM114A1\"   \"RASSF9\"     \"REEP3\"      \"ATP11C\"    \n",
              " [651] \"PSKH2\"      \"TEDC1\"      \"DCP2\"       \"RANBP1\"     \"HRG\"       \n",
              " [656] \"TOMM22\"     \"POLD1\"      \"FARSA\"      \"POLR3G\"     \"ZBTB47\"    \n",
              " [661] \"PIF1\"       \"SCD\"        \"TAF9\"       \"CCDC9B\"     \"WDR87\"     \n",
              " [666] \"TMEM147\"    \"MTHFD2\"     \"CSGALNACT1\" \"ZNF534\"     \"IFNG\"      \n",
              " [671] \"IL6R\"       \"CAMKK2\"     \"CCL4\"       \"TNNT1\"      \"RASGRP4\"   \n",
              " [676] \"CCL26\"      \"MKRN1\"      \"HSPD1\"      \"FZD5\"       \"SPC25\"     \n",
              " [681] \"TEDC2\"      \"CBX3\"       \"CAPNS2\"     \"CPQ\"        \"ZNF552\"    \n",
              " [686] \"IRAG1\"      \"DPPA4\"      \"TEX13D\"     \"SERINC1\"    \"SGCE\"      \n",
              " [691] \"TMEM170A\"   \"KPTN\"       \"RBM14\"      \"NCALD\"      \"ACVR2B\"    \n",
              " [696] \"TUBB8B\"     \"SLC13A1\"    \"C2CD4C\"     \"GRK6\"       \"ARPC1B\"    \n",
              " [701] \"PYM1\"       \"TEX13C\"     \"EGFR\"       \"PTGFRN\"     \"ATAD3B\"    \n",
              " [706] \"RSPH3\"      \"WDR55\"      \"ZNF470\"     \"MLNR\"       \"LAMB2\"     \n",
              " [711] \"OR51B5\"     \"NCKIPSD\"    \"CIAO2A\"     \"TRIO\"       \"SH2D2A\"    \n",
              " [716] \"DHX34\"      \"PLCD4\"      \"KCNK13\"     \"MFSD13A\"    \"CCDC146\"   \n",
              " [721] \"ESRP1\"      \"RAB9B\"      \"DDX31\"      \"ALDH1B1\"    \"PLA2G2D\"   \n",
              " [726] \"NKRF\"       \"RPS21\"      \"WNT8A\"      \"FSD1\"       \"USP25\"     \n",
              " [731] \"TDRD9\"      \"CXCL10\"     \"RNASE10\"    \"TIMM13\"     \"PUDP\"      \n",
              " [736] \"ANO1\"       \"GLIS2\"      \"CABYR\"      \"H2BC11\"     \"TMEM160\"   \n",
              " [741] \"SSBP1\"      \"RNF2\"       \"MRPL44\"     \"SNRPG\"      \"C2CD6\"     \n",
              " [746] \"SGCB\"       \"KCNS1\"      \"BLM\"        \"ABRACL\"     \"RERG\"      \n",
              " [751] \"DAZAP1\"     \"COX8C\"      \"ZNF100\"     \"LYNX1\"      \"FCHO1\"     \n",
              " [756] \"TAF13\"      \"WDR75\"      \"ZNF560\"     \"PPM1L\"      \"TMEM266\"   \n",
              " [761] \"HPSE2\"      \"BCCIP\"      \"WDR12\"      \"DHX37\"      \"ADCY5\"     \n",
              " [766] \"NTNG1\"      \"RTL4\"       \"NOP58\"      \"DSCC1\"      \"PSMA3\"     \n",
              " [771] \"SH3D21\"     \"ZC3H7A\"     \"PMEPA1\"     \"RPRD1B\"     \"TOM1L2\"    \n",
              " [776] \"MEF2A\"      \"MICB\"       \"TEX11\"      \"LONP1\"      \"S100A2\"    \n",
              " [781] \"NFKBIB\"     \"XPO5\"       \"SLC25A19\"   \"SLC25A44\"   \"PNMA5\"     \n",
              " [786] \"TNMD\"       \"CUEDC1\"     \"HDAC4\"      \"VPS37C\"     \"H2AC14\"    \n",
              " [791] \"LRRC61\"     \"PARD3B\"     \"NODAL\"      \"NUDT15\"     \"SOCS4\"     \n",
              " [796] \"LDLRAP1\"    \"NDC80\"      \"OXR1\"       \"INPP5A\"     \"OTUD6A\"    \n",
              " [801] \"PINX1\"      \"IGFL3\"      \"ARHGAP6\"    \"REEP6\"      \"EML2\"      \n",
              " [806] \"LAG3\"       \"CHI3L2\"     \"BEND4\"      \"AGO3\"       \"SMAGP\"     \n",
              " [811] \"SCARB2\"     \"GPER1\"      \"AL031777.2\" \"TRMT10C\"    \"GTF3C2\"    \n",
              " [816] \"NASP\"       \"OSTN\"       \"TFAP2C\"     \"UBA2\"       \"TRNP1\"     \n",
              " [821] \"IL4I1\"      \"FKBP6\"      \"PIM1\"       \"PRIM2\"      \"NFIA\"      \n",
              " [826] \"ADCY10\"     \"PHKB\"       \"SKA3\"       \"ZDHHC19\"    \"UTP6\"      \n",
              " [831] \"VPS13B\"     \"SEC61G\"     \"PGD\"        \"SLC43A1\"    \"RPL38\"     \n",
              " [836] \"GALNT6\"     \"RAB39A\"     \"CAV1\"       \"CDK7\"       \"CRTC3\"     \n",
              " [841] \"ATG3\"       \"LDLRAD2\"    \"KCNB1\"      \"ESX1\"       \"AATF\"      \n",
              " [846] \"H3-2\"       \"HACL1\"      \"CDCA4\"      \"RPRM\"       \"NLRP4\"     \n",
              " [851] \"FKBP1B\"     \"PRR23B\"     \"DPPA3\"      \"AGTRAP\"     \"COQ9\"      \n",
              " [856] \"SNX24\"      \"PRR23A\"     \"MCL1\"       \"CERT1\"      \"NKD1\"      \n",
              " [861] \"TRIM6\"      \"RARG\"       \"ADAMTS2\"    \"USP30\"      \"FXYD4\"     \n",
              " [866] \"DSTN\"       \"CXCL11\"     \"POLR1C\"     \"ALYREF\"     \"GNPDA2\"    \n",
              " [871] \"ASH1L\"      \"RPS16\"      \"PSMD8\"      \"HMGA1\"      \"PES1\"      \n",
              " [876] \"EVC\"        \"NIP7\"       \"WDR74\"      \"PRICKLE2\"   \"PSMD12\"    \n",
              " [881] \"PPAN\"       \"ZBTB9\"      \"SDF2L1\"     \"ENHO\"       \"CENPS\"     \n",
              " [886] \"TEAD3\"      \"PSMD14\"     \"ALDOC\"      \"C3orf70\"    \"DGKZ\"      \n",
              " [891] \"CPA6\"       \"JPT1\"       \"PDK2\"       \"SCIN\"       \"SLIRP\"     \n",
              " [896] \"EMG1\"       \"DPPA2\"      \"ADAT3\"      \"GLIS1\"      \"EIF3D\"     \n",
              " [901] \"EIF2S3B\"    \"HSPB6\"      \"GLMN\"       \"FERMT2\"     \"CTF1\"      \n",
              " [906] \"GCGR\"       \"MARS1\"      \"DNTTIP2\"    \"INTS7\"      \"MRPL15\"    \n",
              " [911] \"UBAP2\"      \"TMEM191B\"   \"ATXN1\"      \"POLE2\"      \"YTHDF2\"    \n",
              " [916] \"S100A7\"     \"CCT2\"       \"ZNF486\"     \"SLC15A2\"    \"REEP4\"     \n",
              " [921] \"ARHGAP20\"   \"FAT1\"       \"TNXB\"       \"PPARA\"      \"ASB16\"     \n",
              " [926] \"PRPF19\"     \"FLAD1\"      \"BRIX1\"      \"GLB1L3\"     \"ABCF2\"     \n",
              " [931] \"MEIOB\"      \"DCHS2\"      \"MAMSTR\"     \"GTF2IRD2B\"  \"TYRP1\"     \n",
              " [936] \"MPP6\"       \"TOR1AIP1\"   \"ARHGAP10\"   \"PASD1\"      \"TTK\"       \n",
              " [941] \"TFDP3\"      \"GARS1\"      \"GSTZ1\"      \"MRGPRF\"     \"EPM2A\"     \n",
              " [946] \"DBF4B\"      \"TNFRSF11B\"  \"H2AC16\"     \"EEF1E1\"     \"KCTD20\"    \n",
              " [951] \"RPS3\"       \"HSPA14\"     \"ACSM2B\"     \"GMPR\"       \"ZNF99\"     \n",
              " [956] \"AURKAIP1\"   \"TCOF1\"      \"IMP4\"       \"ALDH8A1\"    \"NR0B1\"     \n",
              " [961] \"NPIPA2\"     \"RRS1\"       \"NANOGNB\"    \"MARVELD1\"   \"UTP15\"     \n",
              " [966] \"RRP1\"       \"FARSB\"      \"ESCO1\"      \"PCDHGA7\"    \"NOC2L\"     \n",
              " [971] \"TXN\"        \"BSG\"        \"PHF24\"      \"ATP6V1G1\"   \"LIG1\"      \n",
              " [976] \"ATP10D\"     \"FKBP9\"      \"PPCDC\"      \"BCAP31\"     \"GCAT\"      \n",
              " [981] \"SLC6A2\"     \"PER3\"       \"SEH1L\"      \"MRPL41\"     \"NOP16\"     \n",
              " [986] \"ABHD12B\"    \"NADK2\"      \"SLC52A2\"    \"CROT\"       \"RFPL4A\"    \n",
              " [991] \"DAAM2\"      \"MAGEB3\"     \"CTDSP2\"     \"PPM1B\"      \"SLF1\"      \n",
              " [996] \"SUOX\"       \"CDK19\"      \"TMEM43\"     \"MAGEB6\"     \"BDH2\"      \n",
              "[1001] \"COX5A\"      \"BCHE\"       \"DPF1\"       \"HYAL4\"      \"CTSV\"      \n",
              "[1006] \"IGBP1P2\"    \"TDRD6\"      \"TUBA1C\"     \"SGCA\"       \"ACTR3B\"    \n",
              "[1011] \"MXRA7\"      \"MMP25\"      \"PPA1\"       \"PARVA\"      \"HCFC2\"     \n",
              "[1016] \"MTIF2\"      \"ANGPT1\"     \"ATP13A1\"    \"DEFB123\"    \"MRPL17\"    \n",
              "[1021] \"CD38\"       \"FOXP2\"      \"GSDMC\"      \"ACTN1\"      \"ZNF485\"    \n",
              "[1026] \"KCNK12\"     \"DCAF4\"      \"FNDC10\"     \"LY6D\"       \"KRT79\"     \n",
              "[1031] \"NSMAF\"      \"PIK3CD\"     \"HLF\"        \"COL4A2\"     \"DAZL\"      \n",
              "[1036] \"SLC38A9\"    \"KATNIP\"     \"VEZF1\"      \"TMEM26\"     \"CACYBP\"    \n",
              "[1041] \"SNRPA\"      \"MSTO1\"      \"WNT3\"       \"MKX\"        \"CRISPLD2\"  \n",
              "[1046] \"NFKB2\"      \"LATS1\"      \"ATP12A\"     \"MAMDC2\"     \"PDCL3\"     \n",
              "[1051] \"PHKA1\"      \"TES\"        \"CHCHD4\"     \"H2BC4\"      \"CPEB1\"     \n",
              "[1056] \"NXPH3\"      \"NIFK\"       \"GDF3\"       \"PDSS1\"      \"TRAIP\"     \n",
              "[1061] \"LARP1B\"     \"CDH16\"      \"PYGL\"       \"FAM72D\"     \"ST6GALNAC5\"\n",
              "[1066] \"RPS19\"      \"COX7A2L\"    \"ZNF765\"     \"PNLIPRP3\"   \"NPM3\"      \n",
              "[1071] \"HMBS\"       \"GRWD1\"      \"POLR2I\"     \"PUM3\"       \"SYT2\"      \n",
              "[1076] \"KCNE4\"      \"FOXA3\"      \"TICRR\"      \"PRR19\"      \"NR3C2\"     \n",
              "[1081] \"S100Z\"      \"LAMB4\"      \"NEGR1\"      \"CD5L\"       \"DCAF4L1\"   \n",
              "[1086] \"HNRNPAB\"    \"USP39\"      \"UGT3A2\"     \"LINC00514\"  \"PLEKHB2\"   \n",
              "[1091] \"GRPEL2\"     \"CCDC18\"     \"TMEM199\"    \"CTH\"        \"TBCB\"      \n",
              "[1096] \"CASTOR2\"    \"CLPB\"       \"CHSY3\"      \"METTL5\"     \"ADCY9\"     \n",
              "[1101] \"ADAD1\"      \"HECTD2\"     \"LDHB\"       \"ZNF785\"     \"SNX8\"      \n",
              "[1106] \"GPS1\"       \"SMYD5\"      \"WDR77\"      \"PTGES2\"     \"HTR1D\"     \n",
              "[1111] \"EIF3K\"      \"STRADB\"     \"EXO1\"       \"ASPH\"       \"DIXDC1\"    \n",
              "[1116] \"RYR3\"       \"KLHL18\"     \"ZNF808\"     \"TIMM10\"     \"VSTM4\"     \n",
              "[1121] \"SAE1\"       \"ZDHHC12\"    \"CDC7\"       \"FTO\"        \"SPDEF\"     \n",
              "[1126] \"C19orf67\"   \"LSR\"        \"S100A8\"     \"GCKR\"       \"HCN4\"      \n",
              "[1131] \"CACNA1H\"    \"SPRYD3\"     \"CEP112\"     \"PRR23C\"     \"KLK13\"     \n",
              "[1136] \"TP53AIP1\"   \"RAD21L1\"    \"WARS1\"      \"ZNF138\"     \"MBTPS1\"    \n",
              "[1141] \"UBE2N\"      \"TOR3A\"      \"LRP10\"      \"ZNF85\"      \"IGSF21\"    \n",
              "[1146] \"CRYAB\"      \"LEPROT\"     \"ZNF253\"     \"SNX5\"       \"KCNJ10\"    \n",
              "[1151] \"CHMP3\"      \"PRMT1\"      \"H2BW1\"      \"LIN28B\"     \"PRL\"       \n",
              "[1156] \"CLEC2L\"     \"MRM1\"       \"FO681492.1\" \"GJC2\"       \"CUX1\"      \n",
              "[1161] \"ZNF589\"     \"NOTCH2\"     \"RPUSD2\"     \"ADRA2C\"     \"RASD2\"     \n",
              "[1166] \"FOXH1\"      \"PRDM8\"      \"DRP2\"       \"DMRTB1\"     \"H2AC8\"     \n",
              "[1171] \"LDLRAD4\"    \"FBXO9\"      \"IL12B\"      \"PRDM14\"     \"PRDM13\"    \n",
              "[1176] \"ZNF257\"     \"FASTKD5\"    \"POP7\"       \"GARNL3\"     \"CARS1\"     \n",
              "[1181] \"PDE7B\"      \"VMA21\"      \"TM9SF4\"     \"KL\"         \"SIGIRR\"    \n",
              "[1186] \"ZBED6CL\"    \"NDUFAF4\"    \"IQCF1\"      \"MAP4K2\"     \"SYTL2\"     \n",
              "[1191] \"C6orf62\"    \"CDK5RAP1\"   \"SMARCC2\"    \"CHRM1\"      \"FCER1A\"    \n",
              "[1196] \"PGP\"        \"ZNF607\"     \"ARRDC2\"     \"MBNL2\"      \"MAST4\"     \n",
              "[1201] \"ORAI1\"      \"C22orf23\"   \"BICC1\"      \"SLCO1A2\"    \"FBXO3\"     \n",
              "[1206] \"ACOT2\"      \"HAO2\"       \"ADRA1A\"     \"MARS2\"      \"LRR1\"      \n",
              "[1211] \"TMEM130\"    \"PRDM1\"      \"RHOJ\"       \"RCE1\"       \"CACNA2D2\"  \n",
              "[1216] \"NCS1\"       \"G6PD\"       \"CCDC86\"     \"KLF3\"       \"PRKG1\"     \n",
              "[1221] \"AKT3\"       \"PER2\"       \"MTFR1\"      \"SWSAP1\"     \"NEK3\"      \n",
              "[1226] \"ADAMTSL1\"   \"MAGEB16\"    \"ATG4D\"      \"BRWD3\"      \"H4C4\"      \n",
              "[1231] \"XRCC6\"      \"PCDHGA3\"    \"CCT7\"       \"NOL7\"       \"SMARCA4\"   \n",
              "[1236] \"PHOX2A\"     \"KIF17\"      \"PALM3\"      \"CCN4\"       \"TRIM11\"    \n",
              "[1241] \"ELOC\"       \"TTC27\"      \"EPHA7\"      \"WSCD2\"      \"COX7B2\"    \n",
              "[1246] \"ARNT\"       \"CLSPN\"      \"STK17A\"     \"PCCB\"       \"RAN\"       \n",
              "[1251] \"GPX1\"       \"SARS2\"      \"RILPL1\"     \"ZNF92\"      \"ACOT4\"     \n",
              "[1256] \"TMEM252\"    \"ARPC5L\"     \"TUBA3D\"     \"ITGB1BP2\"   \"ZCCHC24\"   \n",
              "[1261] \"C1QBP\"      \"ARHGEF12\"   \"ZNF581\"     \"SLC30A8\"    \"FANCB\"     \n",
              "[1266] \"CTDP1\"      \"TOGARAM1\"   \"AHNAK\"      \"FADS3\"      \"ZFHX3\"     \n",
              "[1271] \"SPARC\"      \"TSPYL6\"     \"RXRB\"       \"CXCL9\"      \"TBC1D19\"   \n",
              "[1276] \"PET117\"     \"DOC2B\"      \"NOTO\"       \"CASR\"       \"GSC2\"      \n",
              "[1281] \"RFPL4AL1\"   \"GABRQ\"      \"EEF1B2\"     \"TARBP2\"     \"CHIT1\"     \n",
              "[1286] \"ZNF676\"     \"HSD17B10\"   \"SRR\"        \"CDCA2\"      \"BNIP3\"     \n",
              "[1291] \"BOP1\"       \"UBA52\"      \"SCAMP5\"     \"RFPL2\"      \"TRIM58\"    \n",
              "[1296] \"IL10\"       \"GTPBP8\"     \"WDR46\"      \"PLEKHA8\"    \"RDH5\"      \n",
              "[1301] \"FZD6\"       \"SOX13\"      \"LAGE3\"      \"DPY30\"      \"CACNA1B\"   \n",
              "[1306] \"PUS7\"       \"POC5\"       \"TIMP3\"      \"TSBP1\"      \"ZNF200\"    \n",
              "[1311] \"PDZRN3\"     \"TCERG1L\"    \"PDGFRL\"     \"NDUFS3\"     \"FAM71E1\"   \n",
              "[1316] \"PACC1\"      \"ITGA10\"     \"DNAJC15\"    \"ENOX1\"      \"RPS14\"     \n",
              "[1321] \"RAD54B\"     \"DYNC1LI1\"   \"TNIP2\"      \"FAM174C\"    \"RFC3\"      \n",
              "[1326] \"CHRM2\"      \"PEAK1\"      \"ZNF273\"     \"ARHGEF9\"    \"FAT2\"      \n",
              "[1331] \"TBCD\"       \"THEMIS2\"    \"TRIOBP\"     \"FSTL1\"      \"USP28\"     \n",
              "[1336] \"RNF114\"     \"TMX1\"       \"JMJD8\"      \"PGAM5\"      \"AGTPBP1\"   \n",
              "[1341] \"IMP3\"       \"SHPK\"       \"EIF3M\"      \"ITGBL1\"     \"BRMS1\"     \n",
              "[1346] \"MRPL12\"     \"POPDC3\"     \"SPATA31A1\"  \"SPNS2\"      \"PCNA\"      \n",
              "[1351] \"CWF19L1\"    \"SEM1\"       \"CATSPERG\"   \"GPR3\"       \"C6orf89\"   \n",
              "[1356] \"NKG7\"       \"LARP4\"      \"ACKR4\"      \"NUMA1\"      \"ZNF25\"     \n",
              "[1361] \"TKTL1\"      \"E2F1\"       \"VAV2\"       \"NUP50\"      \"LRP4\"      \n",
              "[1366] \"SLC2A6\"     \"ERN2\"       \"CPVL\"       \"ATP6V0B\"    \"SMARCE1\"   \n",
              "[1371] \"FAXDC2\"     \"LYPLA1\"     \"CACNB2\"     \"CYP1A1\"     \"MAP3K9\"    \n",
              "[1376] \"MRPL20\"     \"LRP1\"       \"GATA4\"      \"NIPSNAP2\"   \"PHLDB1\"    \n",
              "[1381] \"CAPS2\"      \"SETBP1\"     \"RPL26\"      \"SNRPC\"      \"POMC\"      \n",
              "[1386] \"CCNQ\"       \"TOP1MT\"     \"HTRA4\"      \"NAT10\"      \"CCDC172\"   \n",
              "[1391] \"SAFB\"       \"HEG1\"       \"MALSU1\"     \"ACVR2A\"     \"PSMC6\"     \n",
              "[1396] \"CD320\"      \"H2BC17\"     \"SCMH1\"      \"PTH2\"       \"SCGB3A1\"   \n",
              "[1401] \"AOPEP\"      \"TDRD10\"     \"SOX17\"      \"PSTK\"       \"SSU72\"     \n",
              "[1406] \"PIK3R1\"     \"NR2C2AP\"    \"GPT\"        \"YDJC\"       \"PRKCG\"     \n",
              "[1411] \"ZNF675\"     \"DIP2C\"      \"CYB561D2\"   \"LIX1L\"      \"GTF2E1\"    \n",
              "[1416] \"LOXL1\"      \"ZNF469\"     \"PSMC4\"      \"HSP90AA1\"   \"KDM7A\"     \n",
              "[1421] \"LONRF2\"     \"MASTL\"      \"FAM8A1\"     \"GALNT10\"    \"FPR2\"      \n",
              "[1426] \"GPHA2\"      \"DTNB\"       \"ZKSCAN1\"    \"SURF2\"      \"DPH6\"      \n",
              "[1431] \"ZAR1L\"      \"THOC5\"      \"ERVV-1\"     \"EIF1AD\"     \"HEPH\"      \n",
              "[1436] \"OASL\"       \"MX1\"        \"P2RX5\"      \"SLAMF7\"     \"CC2D2A\"    \n",
              "[1441] \"LRRN2\"      \"NDC1\"       \"ZEB1\"       \"CELA1\"      \"DKC1\"      \n",
              "[1446] \"HNRNPC\"     \"CCL8\"       \"KIF18A\"     \"IGSF1\"      \"SPSB2\"     \n",
              "[1451] \"GTF2IRD2\"   \"WDR43\"      \"GRM2\"       \"CIP2A\"      \"HNRNPA1P48\"\n",
              "[1456] \"PI15\"       \"SOD1\"       \"HOXA1\"      \"RPS13\"      \"ZNF735\"    \n",
              "[1461] \"MYH13\"      \"CHP1\"       \"ANKRD2\"     \"FBN1\"       \"RPS18\"     \n",
              "[1466] \"TSHZ1\"      \"PTCD3\"      \"SIAH1\"      \"NCR3\"       \"ATG4C\"     \n",
              "[1471] \"IDO1\"       \"FAM83C\"     \"BATF3\"      \"H4C9\"       \"BCL2L2\"    \n",
              "[1476] \"PDGFC\"      \"PPP1R3E\"    \"METTL24\"    \"COL6A3\"     \"PSMD6\"     \n",
              "[1481] \"BTLA\"       \"BCO2\"       \"MEF2C\"      \"ZNF761\"     \"RBMXL3\"    \n",
              "[1486] \"TSGA10IP\"   \"MRPS12\"     \"AHNAK2\"     \"PPM1J\"      \"TUBG1\"     \n",
              "[1491] \"FGF7\"       \"ZNF614\"     \"CLEC6A\"     \"ZNF217\"     \"ZNF408\"    \n",
              "[1496] \"LAPTM4B\"    \"AK9\"        \"SSPN\"       \"USP36\"      \"ATG9B\"     \n",
              "[1501] \"DCDC2B\"     \"SERTAD4\"    \"DOK3\"       \"TBXT\"       \"FOXN2\"     \n",
              "[1506] \"ZNF845\"     \"GBP5\"       \"H3C3\"       \"RGL1\"       \"XRCC5\"     \n",
              "[1511] \"NXT2\"       \"WRAP73\"     \"LTBR\"       \"PPM1H\"      \"TMEM247\"   \n",
              "[1516] \"TSC22D1\"    \"CUBN\"       \"ZNF564\"     \"BOLA2B\"     \"TIMM8A\"    \n",
              "[1521] \"ZNF774\"     \"DNA2\"       \"LTBP3\"      \"C8orf76\"    \"ENTPD1\"    \n",
              "[1526] \"CGB8\"       \"ADAM8\"      \"DAP3\"       \"RNF217\"     \"LHFPL4\"    \n",
              "[1531] \"MYO1G\"      \"MAGEA10\"    \"SNAPC1\"     \"FNDC1\"      \"PVR\"       \n",
              "[1536] \"XRCC3\"      \"ITGA11\"     \"REXO4\"      \"CX3CR1\"     \"BLOC1S6\"   \n",
              "[1541] \"ADA2\"       \"PIK3R5\"     \"SLC35A5\"    \"MRPS23\"     \"ERI1\"      \n",
              "[1546] \"NFATC4\"     \"ORC2\"       \"TRIM63\"     \"REC114\"     \"ZBED3\"     \n",
              "[1551] \"SBSPON\"     \"IMPG2\"      \"C13orf42\"   \"FSCN2\"      \"FAM9C\"     \n",
              "[1556] \"ZNF124\"     \"TRAF5\"      \"OR51E2\"     \"ERP29\"      \"CCT4\"      \n",
              "[1561] \"ING4\"       \"UBXN8\"      \"BAK1\"       \"AHDC1\"      \"PSMG2\"     \n",
              "[1566] \"MRPL32\"     \"ISG15\"      \"TIPIN\"      \"EIF3G\"      \"ZNF875\"    \n",
              "[1571] \"ADAM9\"      \"KIAA1614\"   \"IZUMO2\"     \"TMEM41B\"    \"ANTXR1\"    \n",
              "[1576] \"SOBP\"       \"NUFIP1\"     \"LILRB4\"     \"TSPY2\"      \"ATP6V0A4\"  \n",
              "[1581] \"DDR2\"       \"SULT4A1\"    \"KAT7\"       \"SLC17A1\"    \"LPCAT1\"    \n",
              "[1586] \"ZNF41\"      \"ARHGEF28\"   \"SEMA3C\"     \"B3GNT9\"     \"CYP2C9\"    \n",
              "[1591] \"AGL\"        \"BNC1\"       \"WDR33\"      \"C2orf69\"    \"MTDH\"      \n",
              "[1596] \"GDF5\"       \"HRK\"        \"CMSS1\"      \"ZNF185\"     \"MAEL\"      \n",
              "[1601] \"SORBS2\"     \"WWC3\"       \"RPP30\"      \"CCDC149\"    \"FKBP7\"     \n",
              "[1606] \"IRF7\"       \"RAD54L\"     \"WDR4\"       \"NUP93\"      \"ALG3\"      \n",
              "[1611] \"PTGIS\"      \"SELENBP1\"   \"SLC35G3\"    \"RTN4\"       \"NT5DC4\"    \n",
              "[1616] \"HSPH1\"      \"RNF34\"      \"MATN2\"      \"RAB40B\"     \"CALML5\"    \n",
              "[1621] \"OGFRL1\"     \"POLR3F\"     \"TNS2\"       \"MFSD2B\"     \"BUD23\"     \n",
              "[1626] \"CDC6\"       \"MPL\"        \"PLEKHH2\"    \"CMTM1\"      \"ABHD12\"    \n",
              "[1631] \"H1-3\"       \"MCM6\"       \"ZBTB20\"     \"POMP\"       \"HSPG2\"     \n",
              "[1636] \"MAP11\"      \"PRF1\"       \"ZNF613\"     \"MSL1\"       \"SELENOM\"   \n",
              "[1641] \"FAM149A\"    \"TMEM106C\"   \"OSBPL3\"     \"CDKN2AIPNL\" \"CNPY4\"     \n",
              "[1646] \"AXL\"        \"SH3D19\"     \"DSE\"        \"STXBP2\"     \"APOBEC3A\"  \n",
              "[1651] \"BICD1\"      \"DTL\"        \"MPP7\"       \"NRROS\"      \"DDX25\"     \n",
              "[1656] \"ERVH48-1\"   \"SLC38A7\"    \"RPL35\"      \"TRIP13\"     \"PAGE5\"     \n",
              "[1661] \"IER5\"       \"MTOR\"       \"ARPIN\"      \"RAB11FIP4\"  \"DSN1\"      \n",
              "[1666] \"RNFT2\"      \"INSYN2A\"    \"DHX33\"      \"TET1\"       \"HNRNPA1\"   \n",
              "[1671] \"ZNF610\"     \"ITGA7\"      \"ARPC1A\"     \"NLE1\"       \"GTPBP4\"    \n",
              "[1676] \"RARS1\"      \"EXD1\"       \"PTTG1\"      \"CCDC150\"    \"MFN1\"      \n",
              "[1681] \"ADRB1\"      \"FAM155B\"    \"ANAPC10\"    \"TMX2\"       \"COPE\"      \n",
              "[1686] \"SPEGNB\"     \"DCAF13\"     \"KCNG3\"      \"UBAP1L\"     \"MRGPRX3\"   \n",
              "[1691] \"LMBRD1\"     \"IL18RAP\"    \"SATB1\"      \"EPAS1\"      \"TBX18\"     \n",
              "[1696] \"INPP5D\"     \"LRPPRC\"     \"PRRG4\"      \"RELL2\"      \"DAZAP2\"    \n",
              "[1701] \"PID1\"       \"CLIC6\"      \"CYBRD1\"     \"ZNF394\"     \"ALKAL1\"    \n",
              "[1706] \"GZMB\"       \"BUB3\"       \"CCDC163\"    \"COX5B\"      \"FAM72A\"    \n",
              "[1711] \"KIF22\"      \"ATP5F1A\"    \"APOLD1\"     \"BIRC5\"      \"APOBEC3H\"  \n",
              "[1716] \"NAALADL2\"   \"COMMD4\"     \"TCEA3\"      \"AP3B2\"      \"KIF2C\"     \n",
              "[1721] \"MRTO4\"      \"RBM43\"      \"PRSS21\"     \"AKIRIN2\"    \"SPESP1\"    \n",
              "[1726] \"RPA4\"       \"SPATA31D1\"  \"NME1\"       \"PDCL\"       \"C3orf80\"   \n",
              "[1731] \"CAP2\"       \"RTRAF\"      \"SLC35B3\"    \"DAGLB\"      \"PSMD4\"     \n",
              "[1736] \"LHB\"        \"IRX4\"       \"USP40\"      \"MRPS5\"      \"NDN\"       \n",
              "[1741] \"RINL\"       \"C1orf198\"   \"PMP22\"      \"AZGP1\"      \"MAGEC3\"    \n",
              "[1746] \"SHISAL2A\"   \"TOB1\"       \"GMNN\"       \"ILRUN\"      \"LTBP2\"     \n",
              "[1751] \"CAPN2\"      \"ETFDH\"      \"REST\"       \"ZDHHC18\"    \"DIAPH2\"    \n",
              "[1756] \"ATL1\"       \"MT4\"        \"LMCD1\"      \"HTRA3\"      \"BOLA3\"     \n",
              "[1761] \"IGFBP5\"     \"KLHL8\"      \"H2BC12\"     \"WDR53\"      \"CMC2\"      \n",
              "[1766] \"ENPP3\"      \"GSTM2\"      \"STK3\"       \"NFIX\"       \"PIAS4\"     \n",
              "[1771] \"TRIM14\"     \"BARX2\"      \"COL1A2\"     \"ABT1\"       \"AHSA1\"     \n",
              "[1776] \"GALNT11\"    \"SOX7\"       \"RABIF\"      \"TACC3\"      \"MAP1LC3C\"  \n",
              "[1781] \"COL6A2\"     \"PDCD1\"      \"NSUN5\"      \"BMP1\"       \"TAPT1\"     \n",
              "[1786] \"MAPK12\"     \"ZNF544\"     \"SNRPD2\"     \"MAOB\"       \"SNTB2\"     \n",
              "[1791] \"KPNB1\"      \"TRAF2\"      \"ZNF98\"      \"IFI27\"      \"ACMSD\"     \n",
              "[1796] \"BIN2\"       \"STAG3\"      \"GNL3\"       \"ALKBH1\"     \"MAOA\"      \n",
              "[1801] \"CPED1\"      \"IGFL2\"      \"CEP126\"     \"C1orf21\"    \"XYLT1\"     \n",
              "[1806] \"PLAA\"       \"MRS2\"       \"GMIP\"       \"TBC1D7\"     \"SNTN\"      \n",
              "[1811] \"RAET1E\"     \"CLPTM1L\"    \"DAP\"        \"TRABD\"      \"BTF3L4\"    \n",
              "[1816] \"FBXL17\"     \"UTP4\"       \"PFAS\"       \"PHLDA3\"     \"RPL7A\"     \n",
              "[1821] \"RNF19B\"     \"DKK3\"       \"DCAF8L1\"    \"PDPN\"       \"PCIF1\"     \n",
              "[1826] \"TEX13A\"     \"PAGE2\"      \"SMC6\"       \"PIM3\"       \"DNAJC2\"    \n",
              "[1831] \"UQCRH\"      \"KXD1\"       \"CD53\"       \"TMEM69\"     \"RAI14\"     \n",
              "[1836] \"MLANA\"      \"NAE1\"       \"NMNAT3\"     \"TEX13B\"     \"PSPC1\"     \n",
              "[1841] \"RSPO1\"      \"DLGAP4\"     \"NCAM1\"      \"TWSG1\"      \"TREH\"      \n",
              "[1846] \"PDLIM4\"     \"GINS3\"      \"PIEZO1\"     \"UCHL3\"      \"BFAR\"      \n",
              "[1851] \"AFF3\"       \"CNOT3\"      \"SEMA4D\"     \"SCRN3\"      \"CNTN1\"     \n",
              "[1856] \"GDF7\"       \"ABCE1\"      \"EIF1AX\"     \"KHDRBS3\"    \"TRMT1L\"    \n",
              "[1861] \"GZMA\"       \"SPINK2\"     \"SLC25A38\"   \"NET1\"       \"SYMPK\"     \n",
              "[1866] \"FAM221A\"    \"ARPC3\"      \"BAZ2B\"      \"PBX1\"       \"SUMO1\"     \n",
              "[1871] \"OR3A3\"      \"PSME3\"      \"POLR3C\"     \"RNPEP\"      \"RPRML\"     \n",
              "[1876] \"PAFAH1B3\"   \"AMACR\"      \"POFUT1\"     \"CD80\"       \"EXOSC8\"    \n",
              "[1881] \"SEC31A\"     \"E2F3\"       \"CCDC137\"    \"RPGRIP1\"    \"POLR3A\"    \n",
              "[1886] \"PPP3CA\"     \"SELENOS\"    \"RDH10\"      \"ORC1\"       \"GNL2\"      \n",
              "[1891] \"LRRC59\"     \"FOXN3\"      \"RDM1\"       \"EBNA1BP2\"   \"ALDH1L2\"   \n",
              "[1896] \"ZFX\"        \"ADM5\"       \"ARID1B\"     \"TIMM23\"     \"ANGPTL7\"   \n",
              "[1901] \"DNAH5\"      \"EBP\"        \"KCTD1\"      \"SLC3A2\"     \"CERS1\"     \n",
              "[1906] \"SLC4A8\"     \"MECOM\"      \"TIAM1\"      \"ZNRF2\"      \"NPAS2\"     \n",
              "[1911] \"ZCCHC10\"    \"PLXNB2\"     \"MCM10\"      \"STOM\"       \"COPZ2\"     \n",
              "[1916] \"AMD1\"       \"IGSF10\"     \"NBEA\"       \"ARL1\"       \"KRT77\"     \n",
              "[1921] \"ZBTB2\"      \"INPP1\"      \"CYRIB\"      \"FAM120B\"    \"REXO1\"     \n",
              "[1926] \"RBM11\"      \"RECK\"       \"AVIL\"       \"TAF5\"       \"TRIM75P\"   \n",
              "[1931] \"ATP1B1\"     \"SLC25A13\"   \"LILRA5\"     \"PROZ\"       \"ZNF250\"    \n",
              "[1936] \"PRDM6\"      \"LONP2\"      \"MCM8\"       \"KLHL17\"     \"KCTD11\"    \n",
              "[1941] \"TLCD2\"      \"PSMA8\"      \"BARD1\"      \"MTF2\"       \"RPN1\"      \n",
              "[1946] \"XAB2\"       \"NRIP3\"      \"TMEM263\"    \"HTRA1\"      \"ZNF232\"    \n",
              "[1951] \"GCNT1\"      \"ASB5\"       \"LPCAT4\"     \"POLR3K\"     \"ATP4A\"     \n",
              "[1956] \"LAMA4\"      \"MINDY1\"     \"UBR7\"       \"FCRL3\"      \"AMPH\"      \n",
              "[1961] \"MMP12\"      \"XBP1\"       \"RPL18\"      \"SLC25A18\"   \"TMPRSS11D\" \n",
              "[1966] \"ASNSD1\"     \"UBE2F\"      \"RNF144A\"    \"EFTUD2\"     \"MDN1\"      \n",
              "[1971] \"URB2\"       \"SLC27A4\"    \"SAT1\"       \"TNF\"        \"DOHH\"      \n",
              "[1976] \"HGSNAT\"     \"BACE1\"      \"SH3BP1\"     \"CTLA4\"      \"MT1F\"      \n",
              "[1981] \"DMAC2\"      \"TKT\"        \"PKD2\"       \"EHBP1\"      \"ARHGAP45\"  \n",
              "[1986] \"PDK1\"       \"EBPL\"       \"PLA2G7\"     \"ZNF267\"     \"AFAP1L2\"   \n",
              "[1991] \"ZNF385B\"    \"DHTKD1\"     \"PRIM1\"      \"TBX21\"      \"PQBP1\"     \n",
              "[1996] \"ZNF827\"     \"RAB7B\"      \"MRPS2\"      \"ROBO1\"      \"SSNA1\"     "
            ]
          },
          "metadata": {}
        }
      ]
    },
    {
      "cell_type": "code",
      "source": [
        "par(mfrow=c(2,3))\n",
        "\n",
        "plotCounts(dds, gene=\"ENSG00000075073.15\", intgroup=\"condition\")\n",
        "plotCounts(dds, gene=\"ENSG00000167676.4\", intgroup=\"condition\")\n",
        "plotCounts(dds, gene=\"ENSG00000181856.15\", intgroup=\"condition\")\n",
        "plotCounts(dds, gene=\"ENSG00000077157.22\", intgroup=\"condition\")\n",
        "plotCounts(dds, gene=\"ENSG00000172403.11\", intgroup=\"condition\")\n",
        "plotCounts(dds, gene=\"ENSG00000130176.8\", intgroup=\"condition\")"
      ],
      "metadata": {
        "colab": {
          "base_uri": "https://localhost:8080/",
          "height": 437
        },
        "id": "t_LJCK2NV6__",
        "outputId": "12571b90-bb97-42af-d8ae-2b1aec7220e6"
      },
      "execution_count": 285,
      "outputs": [
        {
          "output_type": "display_data",
          "data": {
            "text/plain": [
              "Plot with title “ENSG00000130176.8”"
            ],
            "image/png": "[encoded data removed]"
          },
          "metadata": {
            "image/png": {
              "width": 420,
              "height": 420
            }
          }
        }
      ]
    },
    {
      "cell_type": "code",
      "source": [
        "vsdata <- vst(dds, blind=FALSE)\n",
        "plotPCA(vsdata, intgroup=\"condition\") #using the DESEQ2 plotPCA fxn we can"
      ],
      "metadata": {
        "colab": {
          "base_uri": "https://localhost:8080/",
          "height": 473
        },
        "id": "VMZZDS3gaHO7",
        "outputId": "73389b89-7f06-4c60-f860-62777e9785de"
      },
      "execution_count": 286,
      "outputs": [
        {
          "output_type": "stream",
          "name": "stderr",
          "text": [
            "using ntop=500 top features by variance\n",
            "\n"
          ]
        },
        {
          "output_type": "display_data",
          "data": {
            "text/plain": [
              "plot without title"
            ],
            "image/png": "[encoded data removed]"
          },
          "metadata": {
            "image/png": {
              "width": 420,
              "height": 420
            }
          }
        }
      ]
    },
    {
      "cell_type": "code",
      "source": [
        "write.csv(top_genes,\"all_ordered_genes.csv\", row.names = FALSE)"
      ],
      "metadata": {
        "id": "XkZFzr0O0Zh3"
      },
      "execution_count": 293,
      "outputs": []
    }
  ]
}
