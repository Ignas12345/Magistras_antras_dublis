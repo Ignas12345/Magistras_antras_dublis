{
  "nbformat": 4,
  "nbformat_minor": 0,
  "metadata": {
    "colab": {
      "provenance": [],
      "authorship_tag": "ABX9TyPVcJFPbT+18vFYEfjnvHIt",
      "include_colab_link": true
    },
    "kernelspec": {
      "name": "python3",
      "display_name": "Python 3"
    },
    "language_info": {
      "name": "python"
    }
  },
  "cells": [
    {
      "cell_type": "markdown",
      "metadata": {
        "id": "view-in-github",
        "colab_type": "text"
      },
      "source": [
        "<a href=\"https://colab.research.google.com/github/Ignas12345/Magistro_projektas/blob/main/knygutes/trecias_bandymas_klasifikuoti.ipynb\" target=\"_parent\"><img src=\"https://colab.research.google.com/assets/colab-badge.svg\" alt=\"Open In Colab\"/></a>"
      ]
    },
    {
      "cell_type": "code",
      "source": [
        "import numpy as np\n",
        "import pandas as pd\n",
        "import torch\n",
        "import torch.nn as nn\n",
        "import torch.nn.functional as F\n",
        "from torch.utils.data import DataLoader, TensorDataset\n",
        "from sklearn.utils.class_weight import compute_class_weight\n",
        "from sklearn.metrics import accuracy_score\n"
      ],
      "metadata": {
        "id": "cU_eBl0bbHUu"
      },
      "execution_count": 2,
      "outputs": []
    },
    {
      "cell_type": "code",
      "source": [
        "# uzkraunam neapdorotus duomenis\n",
        "url = 'https://raw.githubusercontent.com/Ignas12345/Magistro_projektas/refs/heads/main/counts_combined.csv'\n",
        "df = pd.read_csv(url)\n",
        "gene_names = df[\"miRNA_ID\"].to_numpy()\n",
        "df_trimmed = df.drop(df.columns[0], axis=1)\n",
        "full_data = (df_trimmed.to_numpy(dtype=np.int32)).T"
      ],
      "metadata": {
        "id": "dpCO4P51uln6"
      },
      "execution_count": null,
      "outputs": []
    },
    {
      "cell_type": "code",
      "source": [
        "#arba uzkraunam isfiltruotus duomenis is praeitos knygutes\n",
        "url = 'https://raw.githubusercontent.com/Ignas12345/Magistro_projektas/refs/heads/main/filtruoti_duomenys/filtruoti_1_su_310_miRNR/'\n",
        "filtered_data = (pd.read_csv(url + 'further_filtered_data.csv').values).T\n",
        "gene_names = pd.read_csv(url + 'further_filtered_gene_names.csv', header = None).values.flatten()\n",
        "print(np.shape(filtered_data))\n",
        "print(np.shape(gene_names))"
      ],
      "metadata": {
        "id": "wBcDTeXCmwC1",
        "outputId": "e2ab03b7-eaa5-4aaa-8b77-b4bebe0639da",
        "colab": {
          "base_uri": "https://localhost:8080/"
        }
      },
      "execution_count": 3,
      "outputs": [
        {
          "output_type": "stream",
          "name": "stdout",
          "text": [
            "(139, 310)\n",
            "(310,)\n"
          ]
        }
      ]
    },
    {
      "cell_type": "code",
      "source": [
        "X = filtered_data"
      ],
      "metadata": {
        "id": "-LKuHl9_h4_m"
      },
      "execution_count": 4,
      "outputs": []
    },
    {
      "cell_type": "code",
      "source": [
        "# Create labels: first 6 samples -> label 0, rest -> label 1\n",
        "num_samples = X.shape[0]\n",
        "labels = torch.zeros(num_samples, dtype=torch.float32)\n",
        "labels[6:] = 1  # Set the rest of the samples to label 1\n",
        "\n",
        "# Convert X to a PyTorch tensor\n",
        "features = torch.tensor(X, dtype=torch.float32)\n",
        "\n",
        "#netikri papildomi treniravimo duomenys\n",
        "benign_features = features[:6]  # First 6 samples are benign\n",
        "benign_labels = labels[:6]\n",
        "\n",
        "# Duplicate benign samples with slight noise\n",
        "augmented_features = benign_features + 0.01 * torch.randn_like(benign_features)\n",
        "features = torch.cat([features, augmented_features])\n",
        "labels = torch.cat([labels, benign_labels])\n",
        "\n",
        "mean = features.mean(dim=0)\n",
        "std = features.std(dim=0)\n",
        "features = (features - mean) / (std + 1e-8)\n",
        "\n",
        "# Combine features and labels into a dataset\n",
        "dataset = TensorDataset(features, labels)"
      ],
      "metadata": {
        "id": "4e0tFFYAcnle"
      },
      "execution_count": 5,
      "outputs": []
    },
    {
      "cell_type": "code",
      "source": [
        "# Create a DataLoader for batching\n",
        "batch_size = 1  # You can adjust this as needed\n",
        "data_loader = DataLoader(dataset, batch_size=batch_size, shuffle=True)\n",
        "\n",
        "# Example: Print the shape of a batch\n",
        "for batch_features, batch_labels in data_loader:\n",
        "    print(f\"Batch features shape: {batch_features.shape}\")\n",
        "    print(f\"Batch labels shape: {batch_labels.shape}\")\n",
        "    break"
      ],
      "metadata": {
        "id": "_hAWolYbu26q",
        "colab": {
          "base_uri": "https://localhost:8080/"
        },
        "outputId": "dbf794cc-3825-4263-e699-317bd4521321"
      },
      "execution_count": 9,
      "outputs": [
        {
          "output_type": "stream",
          "name": "stdout",
          "text": [
            "Batch features shape: torch.Size([1, 310])\n",
            "Batch labels shape: torch.Size([1])\n"
          ]
        }
      ]
    },
    {
      "cell_type": "code",
      "source": [
        "print(features[0])"
      ],
      "metadata": {
        "id": "jg4dSYMSKPIB"
      },
      "execution_count": null,
      "outputs": []
    },
    {
      "cell_type": "code",
      "source": [
        "for batch_features, batch_labels in data_loader:\n",
        "    print(f\"Batch features shape: {batch_features}\")\n",
        "    print(f\"Batch labels shape: {batch_labels}\")\n",
        "    break"
      ],
      "metadata": {
        "colab": {
          "base_uri": "https://localhost:8080/"
        },
        "id": "h7MFlevNmseU",
        "outputId": "ae1b2f00-78d0-44e1-a51c-5b3778114936"
      },
      "execution_count": null,
      "outputs": [
        {
          "output_type": "stream",
          "name": "stdout",
          "text": [
            "Batch features shape: tensor([[-0.4202, -0.4190, -0.4189, -0.5222, -0.4267, -0.4379, -0.5122, -0.3789,\n",
            "         -0.3905, -0.2518, -0.4331, -0.5286, -0.0767, -0.0914, -0.6333, -0.6347,\n",
            "          1.5937,  1.5757, -0.6209, -0.8597, -0.6032, -0.6093, -0.3402, -0.4592,\n",
            "         -0.3929, -0.7102, -0.5144, -0.5066, -0.5726, -0.2692,  0.1066,  0.2820,\n",
            "         -0.0914, -0.1206, -0.3672,  0.0884, -0.5307, -0.0728, -0.5520, -0.9523,\n",
            "         -0.4180, -0.5381, -0.2854, -0.7428, -0.3375, -0.3485, -0.3906, -0.4429,\n",
            "          0.4400, -0.2638, -0.6155, -0.2417,  0.1125, -0.5115,  1.0740, -0.2824,\n",
            "         -0.1617,  0.0269, -0.0662, -0.4925, -0.1999, -0.0687, -0.1604, -0.6651,\n",
            "          0.5691, -0.4192, -0.2966, -0.6920, -0.4501, -0.4978, -0.5041, -0.4984,\n",
            "         -0.3729, -0.4540, -0.0171,  0.3037, -0.3918, -0.3279, -0.5138, -0.3938,\n",
            "         -0.7908,  0.2592, -0.1739, -0.3517, -0.8469,  0.6807, -0.2942, -0.2999,\n",
            "         -0.1894, -0.5065, -0.4219,  0.1239, -0.5509, -0.5626, -0.5792, -0.7760,\n",
            "         -0.7778, -0.7352, -0.4436, -0.6664, -0.1566, -0.2345, -0.5040, -0.6940,\n",
            "         -0.5706, -0.6392, -0.8109, -0.8025, -0.5314, -0.1159, -0.4747, -0.4671,\n",
            "         -0.2141, -0.2603, -0.4641, -0.6771, -0.8157, -0.5612, -0.3123,  0.0997,\n",
            "         -0.4053, -0.4525, -0.7556, -0.7741,  0.0513, -0.5740, -0.5691, -0.6758,\n",
            "         -0.7209, -0.5685, -0.4447,  0.5546,  0.5947,  0.0762,  0.2973,  0.3048,\n",
            "          0.3975, -0.5703, -0.2561, -0.5718, -0.5757, -0.5634, -0.6349,  0.9037,\n",
            "         -0.1709, -0.6270, -0.6216, -0.4748, -0.4785,  0.2131, -1.0821, -0.5086,\n",
            "         -0.6715, -0.3013, -0.3363, -0.5062, -0.2876, -0.2461, -0.6040, -0.1712,\n",
            "         -0.5561, -0.3474, -0.5554, -0.7069, -0.2172, -0.3039, -0.3218,  0.1675,\n",
            "         -0.8244, -0.1903, -0.0920, -0.5249, -0.2310, -0.4635, -0.8034, -0.4989,\n",
            "         -0.3146, -0.2023, -0.3443, -0.5532, -0.4204, -0.1285, -0.0583,  0.0112,\n",
            "         -0.4753,  1.1101, -0.1134, -0.3198, -0.4855, -0.4132, -0.4759, -0.2580,\n",
            "          0.1137, -0.3048, -0.0120, -0.2007, -0.2108,  0.2255, -0.2116, -0.3816,\n",
            "         -0.3889, -0.2331, -0.3787, -0.4327, -0.8499, -0.6499, -0.8583, -0.4892,\n",
            "         -0.4789, -0.3823, -0.5602, -0.5769, -0.2559, -0.5231, -0.5412,  0.8898,\n",
            "         -0.5506,  0.1655,  0.6126, -0.2343, -0.1428, -0.6648, -0.6612, -0.3240,\n",
            "         -0.4457, -0.1961, -0.3573, -0.1083, -0.1301, -0.1542, -0.4278, -0.6900,\n",
            "         -0.4112, -0.7069, -0.6074, -0.5815, -0.1419, -0.1733, -0.1595, -0.2488,\n",
            "         -0.4412, -0.4491, -0.1692, -0.1715, -0.1789, -0.3917, -0.3903, -0.3099,\n",
            "         -0.3615, -0.4579, -0.4902, -0.4479, -0.3689, -0.3312, -0.4266, -0.4231,\n",
            "         -0.3436, -0.4502, -0.4796, -0.5848, -0.4155, -0.5558, -0.1678, -0.3940,\n",
            "         -0.4880, -0.7590, -0.5640, -0.0034,  0.0225, -0.6671, -0.2869, -0.1911,\n",
            "          0.9083,  1.0314,  1.7222,  0.2546, -0.1315, -0.2343, -0.1963, -0.0973,\n",
            "         -0.4770, -0.7579, -0.4451, -0.1871,  0.7354, -0.4309,  2.1058, -0.6266,\n",
            "         -0.5488, -0.0569, -0.5561,  2.0798, -0.4559,  0.4486, -0.5722, -0.3901,\n",
            "         -0.3315, -0.1521, -0.1522, -0.1515, -0.8883, -0.8798, -0.2778, -0.5054,\n",
            "         -0.4490,  0.3038,  0.2442, -0.4928, -0.4327, -0.6406]])\n",
            "Batch labels shape: tensor([1.])\n"
          ]
        }
      ]
    },
    {
      "cell_type": "code",
      "source": [
        "class SparseNN(nn.Module):\n",
        "    def __init__(self, input_dim, temperature = 1):\n",
        "        super(SparseNN, self).__init__()\n",
        "        self.input_dim = input_dim\n",
        "        self.temperature = temperature\n",
        "        self.first_layer_weights = nn.Parameter(torch.randn(input_dim))  # 1D tensor for scaling\n",
        "        self.first_layer_biases = nn.Parameter(torch.randn(input_dim))\n",
        "        self.output_weights = nn.Parameter(torch.randn(input_dim))  # Raw weights\n",
        "\n",
        "    def forward(self, x):\n",
        "        first_weights = torch.sigmoid(self.first_layer_weights)\n",
        "\n",
        "        first_layer_output = torch.tanh((x * first_weights + self.first_layer_biases) * 100)\n",
        "        weighted_output = first_layer_output * self.output_weights\n",
        "        pooled_output = weighted_output.sum(dim=1)\n",
        "\n",
        "        output = torch.sigmoid(pooled_output / self.temperature)\n",
        "\n",
        "        return output\n",
        "\n",
        "def l1_regularization(weight, lambda_l1=0.001):\n",
        "    return lambda_l1 * weight.abs().sum()\n",
        "\n"
      ],
      "metadata": {
        "id": "eM5yeyfSWIqo"
      },
      "execution_count": 6,
      "outputs": []
    },
    {
      "cell_type": "code",
      "source": [
        "#initialize the model\n",
        "input_dim = features.shape[1]\n",
        "model = SparseNN(input_dim, temperature = 2)\n",
        "lambda_l1 = 0.01\n",
        "\n",
        "# Define a loss function and optimizer\n",
        "criterion = nn.BCELoss()  # Binary Cross Entropy Loss for binary classification\n",
        "optimizer = torch.optim.Adam(model.parameters(), lr=0.001)  # L1 sparsity via weight_decay"
      ],
      "metadata": {
        "id": "dWKjCuxSlA19"
      },
      "execution_count": 15,
      "outputs": []
    },
    {
      "cell_type": "code",
      "execution_count": 16,
      "metadata": {
        "colab": {
          "base_uri": "https://localhost:8080/"
        },
        "collapsed": true,
        "id": "u0gHb8mXTh7C",
        "outputId": "0c9ee3a7-107e-4a3d-da82-80e62bd6d86a"
      },
      "outputs": [
        {
          "output_type": "stream",
          "name": "stdout",
          "text": [
            "Epoch [1/40], Loss: 3.0852\n",
            "Epoch [2/40], Loss: 2.9150\n",
            "Epoch [3/40], Loss: 2.7641\n",
            "Epoch [4/40], Loss: 2.6711\n",
            "Epoch [5/40], Loss: 2.6111\n",
            "Epoch [6/40], Loss: 2.5616\n",
            "Epoch [7/40], Loss: 2.5109\n",
            "Epoch [8/40], Loss: 2.4614\n",
            "Epoch [9/40], Loss: 2.4107\n",
            "Epoch [10/40], Loss: 2.3553\n",
            "Epoch [11/40], Loss: 2.3010\n",
            "Epoch [12/40], Loss: 2.2394\n",
            "Epoch [13/40], Loss: 2.1782\n",
            "Epoch [14/40], Loss: 2.1152\n",
            "Epoch [15/40], Loss: 2.0503\n",
            "Epoch [16/40], Loss: 1.9823\n",
            "Epoch [17/40], Loss: 1.9168\n",
            "Epoch [18/40], Loss: 1.8495\n",
            "Epoch [19/40], Loss: 1.7789\n",
            "Epoch [20/40], Loss: 1.7084\n",
            "Epoch [21/40], Loss: 1.6402\n",
            "Epoch [22/40], Loss: 1.5722\n",
            "Epoch [23/40], Loss: 1.5057\n",
            "Epoch [24/40], Loss: 1.4386\n",
            "Epoch [25/40], Loss: 1.3703\n",
            "Epoch [26/40], Loss: 1.3106\n",
            "Epoch [27/40], Loss: 1.2428\n",
            "Epoch [28/40], Loss: 1.1858\n",
            "Epoch [29/40], Loss: 1.1251\n",
            "Epoch [30/40], Loss: 1.0713\n",
            "Epoch [31/40], Loss: 1.0193\n",
            "Epoch [32/40], Loss: 0.9703\n",
            "Epoch [33/40], Loss: 0.9261\n",
            "Epoch [34/40], Loss: 0.8818\n",
            "Epoch [35/40], Loss: 0.8377\n",
            "Epoch [36/40], Loss: 0.7970\n",
            "Epoch [37/40], Loss: 0.7631\n",
            "Epoch [38/40], Loss: 0.7259\n",
            "Epoch [39/40], Loss: 0.6905\n",
            "Epoch [40/40], Loss: 0.6605\n",
            "Final Accuracy: 1.0000\n"
          ]
        }
      ],
      "source": [
        "# Training Loop\n",
        "num_epochs = 40  # Adjust based on dataset size and convergence\n",
        "\n",
        "for epoch in range(num_epochs):\n",
        "    model.train()\n",
        "    total_loss = 0.0\n",
        "\n",
        "    for batch_features, batch_labels in data_loader:\n",
        "        # Forward pass\n",
        "        outputs = model(batch_features)  # Ensure shape compatibility for BCELoss\n",
        "        # Compute binary cross-entropy loss\n",
        "        loss = criterion(outputs, batch_labels)\n",
        "\n",
        "        # Add L1 regularization for sparsity\n",
        "        loss += l1_regularization(model.output_weights, lambda_l1)\n",
        "\n",
        "        #make probabilities less extreme\n",
        "        penalty = (outputs * torch.log(outputs + 1e-8) + (1 - outputs) * torch.log(1 - outputs + 1e-8)).mean()\n",
        "        loss += 0.1 * penalty\n",
        "\n",
        "        # Backward pass and optimization\n",
        "        optimizer.zero_grad()\n",
        "        loss.backward()\n",
        "        optimizer.step()\n",
        "\n",
        "        total_loss += loss.item()\n",
        "\n",
        "    # Logging epoch statistics\n",
        "    print(f\"Epoch [{epoch + 1}/{num_epochs}], Loss: {total_loss / len(data_loader):.4f}\")\n",
        "\n",
        "# Evaluation (after training)\n",
        "model.eval()\n",
        "with torch.no_grad():\n",
        "    # Forward pass on the entire dataset\n",
        "    predictions = model(features)\n",
        "    predictions = (predictions > 0.5).float()  # Convert probabilities to binary predictions\n",
        "\n",
        "    # Compute accuracy\n",
        "    accuracy = accuracy_score(labels.numpy(), predictions.numpy())\n",
        "    print(f\"Final Accuracy: {accuracy:.4f}\")"
      ]
    },
    {
      "cell_type": "code",
      "source": [
        "\n",
        "probs = 100 * model(features).detach().numpy()\n",
        "formatted_probs = np.array([f\"{p:.2f}%\" for p in probs])\n",
        "print(formatted_probs)\n"
      ],
      "metadata": {
        "colab": {
          "base_uri": "https://localhost:8080/"
        },
        "id": "SxXeME3tiw6N",
        "outputId": "5e4865e1-297e-4cba-c087-739ca397aacc"
      },
      "execution_count": 17,
      "outputs": [
        {
          "output_type": "stream",
          "name": "stdout",
          "text": [
            "['3.05%' '13.94%' '48.85%' '22.51%' '12.41%' '33.99%' '95.17%' '98.54%'\n",
            " '98.00%' '99.28%' '99.94%' '96.49%' '99.69%' '99.59%' '98.18%' '98.35%'\n",
            " '99.19%' '98.72%' '99.87%' '97.06%' '99.21%' '83.70%' '92.77%' '98.65%'\n",
            " '99.51%' '98.98%' '97.74%' '96.90%' '97.98%' '91.10%' '97.56%' '97.41%'\n",
            " '99.60%' '99.48%' '99.76%' '87.38%' '99.70%' '99.64%' '99.89%' '99.81%'\n",
            " '70.30%' '99.24%' '98.54%' '98.99%' '96.59%' '98.52%' '99.34%' '92.80%'\n",
            " '96.54%' '97.77%' '99.60%' '97.35%' '99.66%' '94.40%' '83.89%' '99.75%'\n",
            " '99.90%' '99.92%' '99.04%' '98.92%' '99.52%' '99.76%' '97.44%' '99.72%'\n",
            " '99.42%' '99.65%' '88.54%' '99.81%' '96.45%' '97.63%' '97.13%' '87.13%'\n",
            " '80.85%' '99.77%' '99.32%' '97.52%' '94.62%' '96.66%' '99.08%' '95.07%'\n",
            " '84.82%' '98.45%' '99.73%' '97.11%' '99.09%' '99.58%' '98.53%' '95.60%'\n",
            " '99.66%' '97.76%' '99.85%' '99.04%' '93.48%' '99.43%' '99.80%' '98.98%'\n",
            " '98.87%' '99.90%' '99.63%' '98.33%' '99.78%' '99.70%' '89.66%' '99.42%'\n",
            " '95.42%' '99.13%' '99.87%' '99.83%' '99.07%' '70.40%' '98.97%' '99.91%'\n",
            " '99.51%' '87.31%' '98.32%' '99.64%' '78.71%' '99.66%' '99.20%' '98.79%'\n",
            " '97.83%' '97.82%' '99.41%' '99.16%' '99.27%' '99.06%' '96.47%' '98.78%'\n",
            " '99.60%' '95.51%' '99.83%' '99.13%' '89.13%' '99.67%' '97.99%' '98.96%'\n",
            " '95.69%' '98.49%' '96.92%' '3.05%' '13.94%' '48.86%' '22.51%' '12.41%'\n",
            " '33.99%']\n"
          ]
        }
      ]
    },
    {
      "cell_type": "code",
      "source": [
        "#jeigu procentai sutampa su tikrove, issaugom svorius (ir jeigu jie naudingi...)\n",
        "\n",
        "torch.save(model.first_layer_weights.data, \"first_layer_weights.pt\")\n",
        "\n",
        "# Save the first layer's biases (if present)\n",
        "torch.save(model.first_layer_biases.data, \"first_layer_biases.pt\")\n",
        "\n",
        "# Save the second layer (sparse) weights\n",
        "torch.save(model.output_weights_raw.data, \"output_weights_raw.pt\")"
      ],
      "metadata": {
        "id": "5cwRWuziTODI"
      },
      "execution_count": null,
      "outputs": []
    },
    {
      "cell_type": "code",
      "source": [
        "# Svoriu analize is idejos turetu parodyti, kurie genai yra svarbiausi priimant sprendima\n",
        "output_weights = model.output_weights.data\n",
        "print(model.output_weights.data)\n"
      ],
      "metadata": {
        "colab": {
          "base_uri": "https://localhost:8080/"
        },
        "id": "KTqC-PIcXGej",
        "outputId": "652ea32c-b598-4ce0-ba82-07c022228851"
      },
      "execution_count": 18,
      "outputs": [
        {
          "output_type": "stream",
          "name": "stdout",
          "text": [
            "tensor([-2.5330e-03, -1.2592e+00,  3.1983e-04, -2.1926e-03,  3.7992e-04,\n",
            "        -3.3820e-04, -4.5530e-01, -3.7946e-04,  3.0042e-04, -2.9972e-04,\n",
            "         1.4058e-04,  1.3845e-04, -1.3908e-02,  2.0122e-04,  2.7481e-04,\n",
            "         1.5958e-04,  5.9291e-04,  9.2438e-01, -1.6107e-01,  7.3743e-01,\n",
            "         2.9973e-04, -1.3522e-03, -3.7082e-04, -1.1151e-03, -1.4761e-01,\n",
            "        -7.5591e-01, -4.3986e-04, -5.6375e-03,  3.1244e-04, -9.5029e-03,\n",
            "        -5.5138e-04,  8.8996e-01,  5.1193e-01, -3.3815e-01,  2.6450e-04,\n",
            "        -3.2485e-01,  2.4615e-04,  2.4104e-04, -6.2923e-01,  1.0488e+00,\n",
            "         4.6793e-04,  2.5583e-01, -2.0701e-01,  2.5893e-03, -2.0408e-01,\n",
            "         2.9645e-04,  1.6083e-04, -1.8986e-04, -2.5654e-01, -1.0167e-02,\n",
            "         5.0028e-01,  2.9206e-04, -3.0392e-04, -2.1084e-01, -5.3479e-01,\n",
            "        -5.0211e-03, -8.6039e-01,  2.5391e-04, -2.0971e-03, -2.9152e-04,\n",
            "         3.1914e-04,  4.4486e-04, -8.0783e-01, -1.9709e-03,  4.6935e-04,\n",
            "        -5.2079e-03,  2.4506e-04,  2.9990e-04, -9.9300e-03,  3.3908e-04,\n",
            "         1.7648e+00, -8.0966e-03,  3.2691e-04,  2.6779e-04,  4.6857e-04,\n",
            "         3.5012e-03, -1.1371e+00,  3.0848e-01, -2.7663e-01,  1.0609e-02,\n",
            "        -4.2695e-02, -3.0915e-01,  2.5460e-04, -9.6168e-01, -4.3867e-03,\n",
            "        -1.1141e+00,  6.9482e-05,  2.7821e-04, -1.7157e-04, -9.5126e-04,\n",
            "        -4.2751e-01, -7.0847e-01,  1.0382e+00, -9.0269e-01,  3.1552e-01,\n",
            "         9.6038e-05, -8.6085e-04,  1.7125e-03, -1.8593e-03,  1.7081e-04,\n",
            "        -9.1300e-01,  3.7941e-04, -2.3494e-04,  2.5185e-02,  2.8828e-04,\n",
            "        -1.7129e-01, -8.7605e-02,  9.4394e-02,  7.1147e-01,  1.6529e-03,\n",
            "        -5.9076e-03,  2.7164e-04,  3.7442e-04, -5.8957e-04, -3.6845e-03,\n",
            "         3.8372e-01,  1.8758e-01,  2.6741e-03,  4.3761e-04, -4.6057e-04,\n",
            "        -2.3383e-03,  3.7043e-04,  7.1954e-05, -9.6287e-01,  2.6620e-04,\n",
            "         1.5862e+00,  1.1014e-05,  2.4811e-04, -4.5142e-01, -1.1882e-01,\n",
            "        -6.2192e-01, -1.4632e-03,  7.2042e-01,  9.7315e-04,  9.3493e-04,\n",
            "         9.0314e-01,  1.3324e-01,  1.5040e-03, -3.3969e-01,  3.7502e-01,\n",
            "         7.8405e-05, -2.9137e-04,  3.2314e-03, -3.2049e-01,  2.6339e-01,\n",
            "        -7.0390e-04, -3.3243e-04, -4.4867e-03, -2.6316e-03, -9.1227e-03,\n",
            "        -8.7294e-01, -2.0052e-04,  1.6279e-04, -4.5125e-03,  1.7362e-01,\n",
            "         2.2961e-03, -5.0287e-04,  1.5622e-04, -1.2285e-04,  1.5550e-03,\n",
            "        -5.3398e-01, -1.1009e-02, -8.7138e-03,  4.0888e-04,  6.2330e-04,\n",
            "        -4.3615e-03,  3.6164e-04,  1.4448e-03,  1.0997e+00, -3.0988e-04,\n",
            "         1.4806e-01,  6.9292e-01,  3.1123e-04,  3.3264e-01,  2.1617e-04,\n",
            "        -9.4870e-02,  2.7256e-04, -4.5314e-01,  3.3588e-04,  5.0438e-05,\n",
            "         3.3379e-04, -4.6154e-03,  3.1292e-04,  3.2983e-03,  1.3011e-04,\n",
            "         7.1099e-03,  2.5655e-03,  2.4317e-02, -4.8867e-03,  1.8900e-03,\n",
            "        -2.5583e-01, -4.2121e-03, -1.8994e-03,  4.7334e-04,  2.6316e-01,\n",
            "        -5.9508e-03,  2.1372e-03, -7.5795e-01,  7.0834e-05,  4.4612e-01,\n",
            "         1.2458e-04,  3.3724e-04, -6.0954e-01,  2.3694e-01, -8.4165e-04,\n",
            "        -6.1768e-03, -1.0027e-03, -4.8435e-03,  3.0844e-04, -3.9689e-03,\n",
            "         3.4163e-04, -2.0914e-03,  3.1730e-04,  6.3810e-04,  6.1209e-02,\n",
            "         3.0975e-04,  9.8570e-01,  2.3511e-01,  4.6959e-04, -4.5280e-01,\n",
            "         3.7130e-04, -5.8883e-02,  1.3388e-04,  5.3390e-02,  4.6156e-04,\n",
            "        -5.0730e-03, -9.5256e-02, -2.5041e-01,  5.9395e-01, -5.4190e-06,\n",
            "         1.8246e-04,  3.3222e-04, -2.4323e-04,  7.8118e-02, -3.8206e-01,\n",
            "        -1.5357e-01, -3.5313e-04, -4.7091e-04,  3.0301e-04, -6.3571e-01,\n",
            "        -6.3348e-01, -3.7191e-04,  1.3384e-03,  1.7522e-03, -7.5658e-01,\n",
            "         7.8316e-01, -3.9662e-04,  1.6737e-01, -1.0907e-04,  1.0975e-04,\n",
            "        -6.6090e-01,  5.2492e-01, -3.1942e-04,  1.2306e-02,  1.3491e-04,\n",
            "        -8.8450e-02,  7.9936e-01, -7.1966e-04, -6.0190e-01,  3.4213e-01,\n",
            "        -9.0049e-03, -3.6870e-04,  1.7049e-04,  1.5305e+00,  6.9409e-01,\n",
            "        -3.0877e-03,  3.2629e-01,  2.4904e-04, -2.5598e-04,  1.5726e-01,\n",
            "        -1.7043e-01,  3.4815e-04,  3.1821e-04,  3.6872e-04,  1.4939e-04,\n",
            "         3.1410e-01,  4.5380e-04,  2.4984e-01,  1.1648e-04, -5.1280e-03,\n",
            "        -2.0122e+00,  5.0099e-01, -1.7061e-03,  3.4229e-04, -1.1321e-01,\n",
            "        -1.0876e+00,  3.0457e-01, -2.2200e+00,  3.4189e-04, -1.3271e-04,\n",
            "         2.6064e-04,  2.3147e-04, -2.8452e-03,  2.0189e-03,  1.9573e-04,\n",
            "        -5.8761e-01, -2.8647e-04,  3.3474e-02,  3.3194e-04,  4.3450e-01,\n",
            "        -2.3304e-03,  7.5222e-01,  2.9551e-04,  1.8949e-01,  3.4785e-04,\n",
            "         4.7913e-04, -1.3627e-01, -2.8228e-03, -2.1643e-04,  8.2751e-01])\n"
          ]
        }
      ]
    },
    {
      "cell_type": "code",
      "source": [
        "sorted_indices = torch.argsort(np.abs(output_weights), descending=True)\n",
        "values = output_weights[sorted_indices]\n",
        "genes = gene_names[sorted_indices]\n",
        "\n",
        "print(sorted_indices[:10])\n",
        "print(values[:10])\n",
        "print(gene_names[280])"
      ],
      "metadata": {
        "colab": {
          "base_uri": "https://localhost:8080/"
        },
        "id": "he-q2mrITtax",
        "outputId": "ff0a3d55-58fc-4a89-b519-d65d2fce62cc"
      },
      "execution_count": 24,
      "outputs": [
        {
          "output_type": "stream",
          "name": "stdout",
          "text": [
            "tensor([287, 280,  70, 125, 263,   1,  76,  85, 168, 285])\n",
            "tensor([-2.2200, -2.0122,  1.7648,  1.5862,  1.5305, -1.2592, -1.1371, -1.1141,\n",
            "         1.0997, -1.0876])\n",
            "hsa-mir-656\n"
          ]
        }
      ]
    },
    {
      "cell_type": "code",
      "source": [
        "model = SparseNN(input_dim, temperature = 5)\n",
        "\n",
        "loaded_first_layer_weights = torch.load(\"first_layer_weights.pt\")\n",
        "loaded_first_layer_biases = torch.load(\"first_layer_biases.pt\")\n",
        "loaded_otput_weights_raw = torch.load(\"output_weights_raw.pt\")\n",
        "\n",
        "# Assign the loaded values to the model\n",
        "model.first_layer_weights.data = loaded_first_layer_weights\n",
        "model.first_layer_biases.data = loaded_first_layer_biases\n",
        "model.output_weights_raw.data = loaded_otput_weights_raw\n",
        "\n",
        "probs = 100 * model(features).detach().numpy()\n",
        "formatted_probs = np.array([f\"{p:.2f}%\" for p in probs])\n",
        "print(formatted_probs)"
      ],
      "metadata": {
        "colab": {
          "base_uri": "https://localhost:8080/"
        },
        "id": "VSgbW5z_abWH",
        "outputId": "f70c6e5d-0405-4ee5-9a09-969fc846a0aa"
      },
      "execution_count": null,
      "outputs": [
        {
          "output_type": "stream",
          "name": "stdout",
          "text": [
            "['0.28%' '2.63%' '98.76%' '13.91%' '6.85%' '2.21%' '100.00%' '99.84%'\n",
            " '99.97%' '99.61%' '99.25%' '99.98%' '100.00%' '100.00%' '99.84%' '96.65%'\n",
            " '99.59%' '99.98%' '100.00%' '99.96%' '99.95%' '100.00%' '99.56%' '99.91%'\n",
            " '99.99%' '100.00%' '99.87%' '98.75%' '99.90%' '91.62%' '99.97%' '99.85%'\n",
            " '99.57%' '100.00%' '93.07%' '99.83%' '99.97%' '100.00%' '100.00%'\n",
            " '100.00%' '78.69%' '85.09%' '99.97%' '99.86%' '99.94%' '99.91%' '98.92%'\n",
            " '96.46%' '100.00%' '99.58%' '100.00%' '98.58%' '99.46%' '99.59%'\n",
            " '100.00%' '98.60%' '97.74%' '100.00%' '100.00%' '99.84%' '100.00%'\n",
            " '100.00%' '93.83%' '84.41%' '99.85%' '99.96%' '100.00%' '99.79%' '99.79%'\n",
            " '99.93%' '99.92%' '92.36%' '100.00%' '99.76%' '99.98%' '99.78%' '99.87%'\n",
            " '99.77%' '100.00%' '97.00%' '91.85%' '79.52%' '99.78%' '84.40%' '99.07%'\n",
            " '100.00%' '99.98%' '99.56%' '99.98%' '100.00%' '100.00%' '95.92%'\n",
            " '99.38%' '92.33%' '99.79%' '100.00%' '99.97%' '99.04%' '100.00%'\n",
            " '100.00%' '99.99%' '99.54%' '99.99%' '100.00%' '99.99%' '98.96%' '99.99%'\n",
            " '100.00%' '99.87%' '52.97%' '99.90%' '99.96%' '100.00%' '88.59%'\n",
            " '100.00%' '100.00%' '94.31%' '100.00%' '99.94%' '99.78%' '100.00%'\n",
            " '99.98%' '99.98%' '99.12%' '99.00%' '99.99%' '99.99%' '99.99%' '98.38%'\n",
            " '69.99%' '85.16%' '99.99%' '98.10%' '100.00%' '99.99%' '96.14%' '100.00%'\n",
            " '97.74%' '99.48%' '0.00%' '0.12%' '0.00%' '0.05%' '0.00%' '0.00%']\n"
          ]
        },
        {
          "output_type": "stream",
          "name": "stderr",
          "text": [
            "<ipython-input-84-6c24784f2594>:3: FutureWarning: You are using `torch.load` with `weights_only=False` (the current default value), which uses the default pickle module implicitly. It is possible to construct malicious pickle data which will execute arbitrary code during unpickling (See https://github.com/pytorch/pytorch/blob/main/SECURITY.md#untrusted-models for more details). In a future release, the default value for `weights_only` will be flipped to `True`. This limits the functions that could be executed during unpickling. Arbitrary objects will no longer be allowed to be loaded via this mode unless they are explicitly allowlisted by the user via `torch.serialization.add_safe_globals`. We recommend you start setting `weights_only=True` for any use case where you don't have full control of the loaded file. Please open an issue on GitHub for any issues related to this experimental feature.\n",
            "  loaded_first_layer_weights = torch.load(\"first_layer_weights.pt\")\n",
            "<ipython-input-84-6c24784f2594>:4: FutureWarning: You are using `torch.load` with `weights_only=False` (the current default value), which uses the default pickle module implicitly. It is possible to construct malicious pickle data which will execute arbitrary code during unpickling (See https://github.com/pytorch/pytorch/blob/main/SECURITY.md#untrusted-models for more details). In a future release, the default value for `weights_only` will be flipped to `True`. This limits the functions that could be executed during unpickling. Arbitrary objects will no longer be allowed to be loaded via this mode unless they are explicitly allowlisted by the user via `torch.serialization.add_safe_globals`. We recommend you start setting `weights_only=True` for any use case where you don't have full control of the loaded file. Please open an issue on GitHub for any issues related to this experimental feature.\n",
            "  loaded_first_layer_biases = torch.load(\"first_layer_biases.pt\")\n",
            "<ipython-input-84-6c24784f2594>:5: FutureWarning: You are using `torch.load` with `weights_only=False` (the current default value), which uses the default pickle module implicitly. It is possible to construct malicious pickle data which will execute arbitrary code during unpickling (See https://github.com/pytorch/pytorch/blob/main/SECURITY.md#untrusted-models for more details). In a future release, the default value for `weights_only` will be flipped to `True`. This limits the functions that could be executed during unpickling. Arbitrary objects will no longer be allowed to be loaded via this mode unless they are explicitly allowlisted by the user via `torch.serialization.add_safe_globals`. We recommend you start setting `weights_only=True` for any use case where you don't have full control of the loaded file. Please open an issue on GitHub for any issues related to this experimental feature.\n",
            "  loaded_otput_weights_raw = torch.load(\"output_weights_raw.pt\")\n"
          ]
        }
      ]
    }
  ]
}