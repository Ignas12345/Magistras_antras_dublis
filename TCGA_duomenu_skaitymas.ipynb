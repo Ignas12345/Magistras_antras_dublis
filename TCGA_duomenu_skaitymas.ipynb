{
  "nbformat": 4,
  "nbformat_minor": 0,
  "metadata": {
    "colab": {
      "provenance": [],
      "authorship_tag": "ABX9TyNBPU5fmFw0mSVGNbmd08j2",
      "include_colab_link": true
    },
    "kernelspec": {
      "name": "ir",
      "display_name": "R"
    },
    "language_info": {
      "name": "R"
    }
  },
  "cells": [
    {
      "cell_type": "markdown",
      "metadata": {
        "id": "view-in-github",
        "colab_type": "text"
      },
      "source": [
        "<a href=\"https://colab.research.google.com/github/Ignas12345/Magistro_projektas/blob/main/TCGA_duomenu_skaitymas.ipynb\" target=\"_parent\"><img src=\"https://colab.research.google.com/assets/colab-badge.svg\" alt=\"Open In Colab\"/></a>"
      ]
    },
    {
      "cell_type": "code",
      "source": [
        "if (!requireNamespace(\"BiocManager\", quietly = TRUE))\n",
        "    install.packages(\"BiocManager\")\n",
        "\n"
      ],
      "metadata": {
        "id": "MYApbw0KaQAn"
      },
      "execution_count": null,
      "outputs": []
    },
    {
      "cell_type": "code",
      "source": [
        "BiocManager::install(\"TCGAbiolinks\", ask = FALSE, verbose = TRUE)"
      ],
      "metadata": {
        "id": "W6AbVh8AcT6t"
      },
      "execution_count": null,
      "outputs": []
    },
    {
      "cell_type": "code",
      "source": [
        "clinical_data <- GDCquery_clinic(project = \"TCGA-TGCT\", type = \"clinical\")"
      ],
      "metadata": {
        "id": "J-pNiw9jd3uS"
      },
      "execution_count": null,
      "outputs": []
    },
    {
      "cell_type": "code",
      "source": [
        "teratoma_submitter_ids <- clinical_data$submitter_id[clinical_data$primary_diagnosis == \"Teratoma, benign\"]\n",
        "teratoma_submitter_ids <- teratoma_submitter_ids[!is.na(teratoma_submitter_ids)]\n",
        "\n",
        "# View the result\n",
        "teratoma_submitter_ids"
      ],
      "metadata": {
        "colab": {
          "base_uri": "https://localhost:8080/",
          "height": 34
        },
        "id": "WHpwllvZeFXU",
        "outputId": "ef52506d-5a1d-4822-8832-74fc4bd1d698"
      },
      "execution_count": 29,
      "outputs": [
        {
          "output_type": "display_data",
          "data": {
            "text/html": [
              "<style>\n",
              ".list-inline {list-style: none; margin:0; padding: 0}\n",
              ".list-inline>li {display: inline-block}\n",
              ".list-inline>li:not(:last-child)::after {content: \"\\00b7\"; padding: 0 .5ex}\n",
              "</style>\n",
              "<ol class=list-inline><li>'TCGA-2G-AAG5'</li><li>'TCGA-2G-AAG6'</li><li>'TCGA-2G-AAGY'</li><li>'TCGA-2G-AAGV'</li><li>'TCGA-2G-AAGX'</li></ol>\n"
            ],
            "text/markdown": "1. 'TCGA-2G-AAG5'\n2. 'TCGA-2G-AAG6'\n3. 'TCGA-2G-AAGY'\n4. 'TCGA-2G-AAGV'\n5. 'TCGA-2G-AAGX'\n\n\n",
            "text/latex": "\\begin{enumerate*}\n\\item 'TCGA-2G-AAG5'\n\\item 'TCGA-2G-AAG6'\n\\item 'TCGA-2G-AAGY'\n\\item 'TCGA-2G-AAGV'\n\\item 'TCGA-2G-AAGX'\n\\end{enumerate*}\n",
            "text/plain": [
              "[1] \"TCGA-2G-AAG5\" \"TCGA-2G-AAG6\" \"TCGA-2G-AAGY\" \"TCGA-2G-AAGV\" \"TCGA-2G-AAGX\""
            ]
          },
          "metadata": {}
        }
      ]
    },
    {
      "cell_type": "code",
      "execution_count": null,
      "metadata": {
        "id": "NPa3zhTFZtod"
      },
      "outputs": [],
      "source": [
        "library(TCGAbiolinks)\n",
        "\n",
        "# Query miRNA expression data\n",
        "query_miRNA_1 <- GDCquery(\n",
        "  project = \"TCGA-TGCT\",\n",
        "  data.category = \"Transcriptome Profiling\",\n",
        "  data.type = \"miRNA Expression Quantification\",\n",
        "  barcode = teratoma_submitter_ids\n",
        ")"
      ]
    },
    {
      "cell_type": "code",
      "source": [
        "GDCdownload(query_miRNA_1)\n",
        "\n",
        "# Prepare the data for analysis\n"
      ],
      "metadata": {
        "id": "jlPR6gIlf55q"
      },
      "execution_count": null,
      "outputs": []
    },
    {
      "cell_type": "code",
      "source": [
        "data_teratoma <- GDCprepare(query_miRNA_1)"
      ],
      "metadata": {
        "id": "FlMhs61YgCkM"
      },
      "execution_count": null,
      "outputs": []
    },
    {
      "cell_type": "code",
      "source": [
        "read_counts_teratoma <- data[, grepl(\"read_count\", colnames(data_teratoma))| colnames(data_teratoma) == \"miRNA_ID\"]\n",
        "\n",
        "# View the first few rows to verify the result\n",
        "head(read_counts_teratoma)"
      ],
      "metadata": {
        "colab": {
          "base_uri": "https://localhost:8080/",
          "height": 393
        },
        "id": "S4fsrmSCg9Xu",
        "outputId": "65ad3adf-0ab3-4147-d153-be7df7744ab1"
      },
      "execution_count": 41,
      "outputs": [
        {
          "output_type": "display_data",
          "data": {
            "text/html": [
              "<table class=\"dataframe\">\n",
              "<caption>A data.frame: 6 × 7</caption>\n",
              "<thead>\n",
              "\t<tr><th></th><th scope=col>miRNA_ID</th><th scope=col>read_count_TCGA-2G-AAG5-01A-11R-A439-13</th><th scope=col>read_count_TCGA-2G-AAG6-01A-11R-A439-13</th><th scope=col>read_count_TCGA-2G-AAGY-05A-11R-A439-13</th><th scope=col>read_count_TCGA-2G-AAGY-01A-11R-A439-13</th><th scope=col>read_count_TCGA-2G-AAGV-01A-11R-A439-13</th><th scope=col>read_count_TCGA-2G-AAGX-01A-11R-A439-13</th></tr>\n",
              "\t<tr><th></th><th scope=col>&lt;chr&gt;</th><th scope=col>&lt;int&gt;</th><th scope=col>&lt;int&gt;</th><th scope=col>&lt;int&gt;</th><th scope=col>&lt;int&gt;</th><th scope=col>&lt;int&gt;</th><th scope=col>&lt;int&gt;</th></tr>\n",
              "</thead>\n",
              "<tbody>\n",
              "\t<tr><th scope=row>1</th><td>hsa-let-7a-1</td><td> 98880</td><td>199771</td><td>14494</td><td>39072</td><td>127522</td><td>151508</td></tr>\n",
              "\t<tr><th scope=row>2</th><td>hsa-let-7a-2</td><td> 98726</td><td>199757</td><td>14791</td><td>38979</td><td>126858</td><td>152317</td></tr>\n",
              "\t<tr><th scope=row>3</th><td>hsa-let-7a-3</td><td> 99331</td><td>202322</td><td>14662</td><td>39183</td><td>128460</td><td>152572</td></tr>\n",
              "\t<tr><th scope=row>4</th><td>hsa-let-7b  </td><td>144954</td><td>257771</td><td>15110</td><td>41688</td><td>108708</td><td>185933</td></tr>\n",
              "\t<tr><th scope=row>5</th><td>hsa-let-7c  </td><td>107229</td><td>326967</td><td> 2614</td><td>59663</td><td>479042</td><td>366449</td></tr>\n",
              "\t<tr><th scope=row>6</th><td>hsa-let-7d  </td><td>  8058</td><td> 11806</td><td>  534</td><td> 2772</td><td>  3419</td><td>  8887</td></tr>\n",
              "</tbody>\n",
              "</table>\n"
            ],
            "text/markdown": "\nA data.frame: 6 × 7\n\n| <!--/--> | miRNA_ID &lt;chr&gt; | read_count_TCGA-2G-AAG5-01A-11R-A439-13 &lt;int&gt; | read_count_TCGA-2G-AAG6-01A-11R-A439-13 &lt;int&gt; | read_count_TCGA-2G-AAGY-05A-11R-A439-13 &lt;int&gt; | read_count_TCGA-2G-AAGY-01A-11R-A439-13 &lt;int&gt; | read_count_TCGA-2G-AAGV-01A-11R-A439-13 &lt;int&gt; | read_count_TCGA-2G-AAGX-01A-11R-A439-13 &lt;int&gt; |\n|---|---|---|---|---|---|---|---|\n| 1 | hsa-let-7a-1 |  98880 | 199771 | 14494 | 39072 | 127522 | 151508 |\n| 2 | hsa-let-7a-2 |  98726 | 199757 | 14791 | 38979 | 126858 | 152317 |\n| 3 | hsa-let-7a-3 |  99331 | 202322 | 14662 | 39183 | 128460 | 152572 |\n| 4 | hsa-let-7b   | 144954 | 257771 | 15110 | 41688 | 108708 | 185933 |\n| 5 | hsa-let-7c   | 107229 | 326967 |  2614 | 59663 | 479042 | 366449 |\n| 6 | hsa-let-7d   |   8058 |  11806 |   534 |  2772 |   3419 |   8887 |\n\n",
            "text/latex": "A data.frame: 6 × 7\n\\begin{tabular}{r|lllllll}\n  & miRNA\\_ID & read\\_count\\_TCGA-2G-AAG5-01A-11R-A439-13 & read\\_count\\_TCGA-2G-AAG6-01A-11R-A439-13 & read\\_count\\_TCGA-2G-AAGY-05A-11R-A439-13 & read\\_count\\_TCGA-2G-AAGY-01A-11R-A439-13 & read\\_count\\_TCGA-2G-AAGV-01A-11R-A439-13 & read\\_count\\_TCGA-2G-AAGX-01A-11R-A439-13\\\\\n  & <chr> & <int> & <int> & <int> & <int> & <int> & <int>\\\\\n\\hline\n\t1 & hsa-let-7a-1 &  98880 & 199771 & 14494 & 39072 & 127522 & 151508\\\\\n\t2 & hsa-let-7a-2 &  98726 & 199757 & 14791 & 38979 & 126858 & 152317\\\\\n\t3 & hsa-let-7a-3 &  99331 & 202322 & 14662 & 39183 & 128460 & 152572\\\\\n\t4 & hsa-let-7b   & 144954 & 257771 & 15110 & 41688 & 108708 & 185933\\\\\n\t5 & hsa-let-7c   & 107229 & 326967 &  2614 & 59663 & 479042 & 366449\\\\\n\t6 & hsa-let-7d   &   8058 &  11806 &   534 &  2772 &   3419 &   8887\\\\\n\\end{tabular}\n",
            "text/plain": [
              "  miRNA_ID     read_count_TCGA-2G-AAG5-01A-11R-A439-13\n",
              "1 hsa-let-7a-1  98880                                 \n",
              "2 hsa-let-7a-2  98726                                 \n",
              "3 hsa-let-7a-3  99331                                 \n",
              "4 hsa-let-7b   144954                                 \n",
              "5 hsa-let-7c   107229                                 \n",
              "6 hsa-let-7d     8058                                 \n",
              "  read_count_TCGA-2G-AAG6-01A-11R-A439-13\n",
              "1 199771                                 \n",
              "2 199757                                 \n",
              "3 202322                                 \n",
              "4 257771                                 \n",
              "5 326967                                 \n",
              "6  11806                                 \n",
              "  read_count_TCGA-2G-AAGY-05A-11R-A439-13\n",
              "1 14494                                  \n",
              "2 14791                                  \n",
              "3 14662                                  \n",
              "4 15110                                  \n",
              "5  2614                                  \n",
              "6   534                                  \n",
              "  read_count_TCGA-2G-AAGY-01A-11R-A439-13\n",
              "1 39072                                  \n",
              "2 38979                                  \n",
              "3 39183                                  \n",
              "4 41688                                  \n",
              "5 59663                                  \n",
              "6  2772                                  \n",
              "  read_count_TCGA-2G-AAGV-01A-11R-A439-13\n",
              "1 127522                                 \n",
              "2 126858                                 \n",
              "3 128460                                 \n",
              "4 108708                                 \n",
              "5 479042                                 \n",
              "6   3419                                 \n",
              "  read_count_TCGA-2G-AAGX-01A-11R-A439-13\n",
              "1 151508                                 \n",
              "2 152317                                 \n",
              "3 152572                                 \n",
              "4 185933                                 \n",
              "5 366449                                 \n",
              "6   8887                                 "
            ]
          },
          "metadata": {}
        }
      ]
    },
    {
      "cell_type": "code",
      "source": [
        "other_submitter_ids <- clinical_data$submitter_id[clinical_data$primary_diagnosis != \"Teratoma, benign\"]\n",
        "other_submitter_ids <- other_submitter_ids[!is.na(other_submitter_ids)]\n",
        "\n",
        "# View the result\n",
        "other_submitter_ids"
      ],
      "metadata": {
        "id": "JEuuPDm0iCK5"
      },
      "execution_count": null,
      "outputs": []
    },
    {
      "cell_type": "code",
      "source": [
        "query_miRNA_2 <- GDCquery(\n",
        "  project = \"TCGA-TGCT\",\n",
        "  data.category = \"Transcriptome Profiling\",\n",
        "  data.type = \"miRNA Expression Quantification\",\n",
        "  barcode = other_submitter_ids\n",
        ")"
      ],
      "metadata": {
        "id": "X_ee_JW5ikga"
      },
      "execution_count": null,
      "outputs": []
    },
    {
      "cell_type": "code",
      "source": [
        "GDCdownload(query_miRNA_2)\n"
      ],
      "metadata": {
        "id": "Cl5YDEHPix3Q"
      },
      "execution_count": null,
      "outputs": []
    },
    {
      "cell_type": "code",
      "source": [
        "data_other <- GDCprepare(query_miRNA_2)"
      ],
      "metadata": {
        "id": "ejtbf9n8i6in"
      },
      "execution_count": null,
      "outputs": []
    },
    {
      "cell_type": "code",
      "source": [
        "read_counts_other <- data_other[, grepl(\"read_count\", colnames(data_other))| colnames(data_other) == \"miRNA_ID\"]\n",
        "\n",
        "# View the first few rows to verify the result\n",
        "head(read_counts_other)"
      ],
      "metadata": {
        "colab": {
          "base_uri": "https://localhost:8080/",
          "height": 393
        },
        "id": "zyFVZRThjAK3",
        "outputId": "49ea70fe-cd30-4ab0-af58-75abdc5348b3"
      },
      "execution_count": 40,
      "outputs": [
        {
          "output_type": "display_data",
          "data": {
            "text/html": [
              "<table class=\"dataframe\">\n",
              "<caption>A data.frame: 6 × 134</caption>\n",
              "<thead>\n",
              "\t<tr><th></th><th scope=col>miRNA_ID</th><th scope=col>read_count_TCGA-2G-AAFE-01A-11R-A439-13</th><th scope=col>read_count_TCGA-2G-AAGA-01A-11R-A439-13</th><th scope=col>read_count_TCGA-ZM-AA05-01A-12R-A43A-13</th><th scope=col>read_count_TCGA-2G-AAKD-01A-31R-A439-13</th><th scope=col>read_count_TCGA-X3-A8G4-01A-11R-A43A-13</th><th scope=col>read_count_TCGA-2G-AAG7-01A-11R-A439-13</th><th scope=col>read_count_TCGA-XE-A8H1-01A-11R-A43A-13</th><th scope=col>read_count_TCGA-2G-AAF1-01A-11R-A439-13</th><th scope=col>read_count_TCGA-2G-AAFL-01A-21R-A439-13</th><th scope=col>⋯</th><th scope=col>read_count_TCGA-WZ-A7V3-01A-11R-A43A-13</th><th scope=col>read_count_TCGA-2G-AAH3-01A-11R-A439-13</th><th scope=col>read_count_TCGA-4K-AA1I-01A-11R-A439-13</th><th scope=col>read_count_TCGA-S6-A8JX-01A-11R-A439-13</th><th scope=col>read_count_TCGA-SO-A8JP-01A-11R-A43A-13</th><th scope=col>read_count_TCGA-2G-AAFZ-01A-11R-A439-13</th><th scope=col>read_count_TCGA-XE-AANR-01A-11R-A43A-13</th><th scope=col>read_count_TCGA-XE-AAOJ-01A-12R-A43A-13</th><th scope=col>read_count_TCGA-2G-AAHG-01A-11R-A439-13</th><th scope=col>read_count_TCGA-2G-AAGP-01A-11R-A439-13</th></tr>\n",
              "\t<tr><th></th><th scope=col>&lt;chr&gt;</th><th scope=col>&lt;int&gt;</th><th scope=col>&lt;int&gt;</th><th scope=col>&lt;int&gt;</th><th scope=col>&lt;int&gt;</th><th scope=col>&lt;int&gt;</th><th scope=col>&lt;int&gt;</th><th scope=col>&lt;int&gt;</th><th scope=col>&lt;int&gt;</th><th scope=col>&lt;int&gt;</th><th scope=col>⋯</th><th scope=col>&lt;int&gt;</th><th scope=col>&lt;int&gt;</th><th scope=col>&lt;int&gt;</th><th scope=col>&lt;int&gt;</th><th scope=col>&lt;int&gt;</th><th scope=col>&lt;int&gt;</th><th scope=col>&lt;int&gt;</th><th scope=col>&lt;int&gt;</th><th scope=col>&lt;int&gt;</th><th scope=col>&lt;int&gt;</th></tr>\n",
              "</thead>\n",
              "<tbody>\n",
              "\t<tr><th scope=row>1</th><td>hsa-let-7a-1</td><td>40018</td><td>36309</td><td>62307</td><td>14423</td><td>20372</td><td>15431</td><td>43886</td><td>50689</td><td>64579</td><td>⋯</td><td>7584</td><td>30863</td><td>21545</td><td> 7863</td><td>19993</td><td>60411</td><td>35383</td><td>33557</td><td>10810</td><td>70818</td></tr>\n",
              "\t<tr><th scope=row>2</th><td>hsa-let-7a-2</td><td>39735</td><td>36097</td><td>61796</td><td>14231</td><td>20223</td><td>15586</td><td>43645</td><td>50494</td><td>63864</td><td>⋯</td><td>7509</td><td>30875</td><td>21129</td><td> 8188</td><td>20023</td><td>60324</td><td>35142</td><td>33459</td><td>10725</td><td>70561</td></tr>\n",
              "\t<tr><th scope=row>3</th><td>hsa-let-7a-3</td><td>40299</td><td>36326</td><td>62537</td><td>14475</td><td>20420</td><td>15782</td><td>44098</td><td>50469</td><td>64609</td><td>⋯</td><td>7638</td><td>30853</td><td>21440</td><td> 8142</td><td>20107</td><td>60271</td><td>35164</td><td>33762</td><td>10830</td><td>71303</td></tr>\n",
              "\t<tr><th scope=row>4</th><td>hsa-let-7b  </td><td>41846</td><td>44154</td><td>49137</td><td>30478</td><td>18761</td><td>15663</td><td>49978</td><td>62219</td><td>77716</td><td>⋯</td><td>7979</td><td>38504</td><td>24463</td><td>17472</td><td>30699</td><td>57144</td><td>77662</td><td>34885</td><td>15229</td><td>95517</td></tr>\n",
              "\t<tr><th scope=row>5</th><td>hsa-let-7c  </td><td> 6560</td><td>17224</td><td> 5367</td><td> 2779</td><td>11825</td><td>19955</td><td>10812</td><td> 6755</td><td>19718</td><td>⋯</td><td> 283</td><td> 6766</td><td> 4421</td><td> 3387</td><td> 4990</td><td>63271</td><td>29257</td><td>62214</td><td> 3600</td><td>52257</td></tr>\n",
              "\t<tr><th scope=row>6</th><td>hsa-let-7d  </td><td> 1881</td><td> 1117</td><td> 4915</td><td>  673</td><td> 1365</td><td> 2263</td><td> 1831</td><td> 1832</td><td> 2480</td><td>⋯</td><td> 621</td><td> 1345</td><td> 1168</td><td>  388</td><td>  942</td><td> 5426</td><td> 1547</td><td> 4240</td><td>  442</td><td> 4034</td></tr>\n",
              "</tbody>\n",
              "</table>\n"
            ],
            "text/markdown": "\nA data.frame: 6 × 134\n\n| <!--/--> | miRNA_ID &lt;chr&gt; | read_count_TCGA-2G-AAFE-01A-11R-A439-13 &lt;int&gt; | read_count_TCGA-2G-AAGA-01A-11R-A439-13 &lt;int&gt; | read_count_TCGA-ZM-AA05-01A-12R-A43A-13 &lt;int&gt; | read_count_TCGA-2G-AAKD-01A-31R-A439-13 &lt;int&gt; | read_count_TCGA-X3-A8G4-01A-11R-A43A-13 &lt;int&gt; | read_count_TCGA-2G-AAG7-01A-11R-A439-13 &lt;int&gt; | read_count_TCGA-XE-A8H1-01A-11R-A43A-13 &lt;int&gt; | read_count_TCGA-2G-AAF1-01A-11R-A439-13 &lt;int&gt; | read_count_TCGA-2G-AAFL-01A-21R-A439-13 &lt;int&gt; | ⋯ ⋯ | read_count_TCGA-WZ-A7V3-01A-11R-A43A-13 &lt;int&gt; | read_count_TCGA-2G-AAH3-01A-11R-A439-13 &lt;int&gt; | read_count_TCGA-4K-AA1I-01A-11R-A439-13 &lt;int&gt; | read_count_TCGA-S6-A8JX-01A-11R-A439-13 &lt;int&gt; | read_count_TCGA-SO-A8JP-01A-11R-A43A-13 &lt;int&gt; | read_count_TCGA-2G-AAFZ-01A-11R-A439-13 &lt;int&gt; | read_count_TCGA-XE-AANR-01A-11R-A43A-13 &lt;int&gt; | read_count_TCGA-XE-AAOJ-01A-12R-A43A-13 &lt;int&gt; | read_count_TCGA-2G-AAHG-01A-11R-A439-13 &lt;int&gt; | read_count_TCGA-2G-AAGP-01A-11R-A439-13 &lt;int&gt; |\n|---|---|---|---|---|---|---|---|---|---|---|---|---|---|---|---|---|---|---|---|---|---|\n| 1 | hsa-let-7a-1 | 40018 | 36309 | 62307 | 14423 | 20372 | 15431 | 43886 | 50689 | 64579 | ⋯ | 7584 | 30863 | 21545 |  7863 | 19993 | 60411 | 35383 | 33557 | 10810 | 70818 |\n| 2 | hsa-let-7a-2 | 39735 | 36097 | 61796 | 14231 | 20223 | 15586 | 43645 | 50494 | 63864 | ⋯ | 7509 | 30875 | 21129 |  8188 | 20023 | 60324 | 35142 | 33459 | 10725 | 70561 |\n| 3 | hsa-let-7a-3 | 40299 | 36326 | 62537 | 14475 | 20420 | 15782 | 44098 | 50469 | 64609 | ⋯ | 7638 | 30853 | 21440 |  8142 | 20107 | 60271 | 35164 | 33762 | 10830 | 71303 |\n| 4 | hsa-let-7b   | 41846 | 44154 | 49137 | 30478 | 18761 | 15663 | 49978 | 62219 | 77716 | ⋯ | 7979 | 38504 | 24463 | 17472 | 30699 | 57144 | 77662 | 34885 | 15229 | 95517 |\n| 5 | hsa-let-7c   |  6560 | 17224 |  5367 |  2779 | 11825 | 19955 | 10812 |  6755 | 19718 | ⋯ |  283 |  6766 |  4421 |  3387 |  4990 | 63271 | 29257 | 62214 |  3600 | 52257 |\n| 6 | hsa-let-7d   |  1881 |  1117 |  4915 |   673 |  1365 |  2263 |  1831 |  1832 |  2480 | ⋯ |  621 |  1345 |  1168 |   388 |   942 |  5426 |  1547 |  4240 |   442 |  4034 |\n\n",
            "text/latex": "A data.frame: 6 × 134\n\\begin{tabular}{r|lllllllllllllllllllll}\n  & miRNA\\_ID & read\\_count\\_TCGA-2G-AAFE-01A-11R-A439-13 & read\\_count\\_TCGA-2G-AAGA-01A-11R-A439-13 & read\\_count\\_TCGA-ZM-AA05-01A-12R-A43A-13 & read\\_count\\_TCGA-2G-AAKD-01A-31R-A439-13 & read\\_count\\_TCGA-X3-A8G4-01A-11R-A43A-13 & read\\_count\\_TCGA-2G-AAG7-01A-11R-A439-13 & read\\_count\\_TCGA-XE-A8H1-01A-11R-A43A-13 & read\\_count\\_TCGA-2G-AAF1-01A-11R-A439-13 & read\\_count\\_TCGA-2G-AAFL-01A-21R-A439-13 & ⋯ & read\\_count\\_TCGA-WZ-A7V3-01A-11R-A43A-13 & read\\_count\\_TCGA-2G-AAH3-01A-11R-A439-13 & read\\_count\\_TCGA-4K-AA1I-01A-11R-A439-13 & read\\_count\\_TCGA-S6-A8JX-01A-11R-A439-13 & read\\_count\\_TCGA-SO-A8JP-01A-11R-A43A-13 & read\\_count\\_TCGA-2G-AAFZ-01A-11R-A439-13 & read\\_count\\_TCGA-XE-AANR-01A-11R-A43A-13 & read\\_count\\_TCGA-XE-AAOJ-01A-12R-A43A-13 & read\\_count\\_TCGA-2G-AAHG-01A-11R-A439-13 & read\\_count\\_TCGA-2G-AAGP-01A-11R-A439-13\\\\\n  & <chr> & <int> & <int> & <int> & <int> & <int> & <int> & <int> & <int> & <int> & ⋯ & <int> & <int> & <int> & <int> & <int> & <int> & <int> & <int> & <int> & <int>\\\\\n\\hline\n\t1 & hsa-let-7a-1 & 40018 & 36309 & 62307 & 14423 & 20372 & 15431 & 43886 & 50689 & 64579 & ⋯ & 7584 & 30863 & 21545 &  7863 & 19993 & 60411 & 35383 & 33557 & 10810 & 70818\\\\\n\t2 & hsa-let-7a-2 & 39735 & 36097 & 61796 & 14231 & 20223 & 15586 & 43645 & 50494 & 63864 & ⋯ & 7509 & 30875 & 21129 &  8188 & 20023 & 60324 & 35142 & 33459 & 10725 & 70561\\\\\n\t3 & hsa-let-7a-3 & 40299 & 36326 & 62537 & 14475 & 20420 & 15782 & 44098 & 50469 & 64609 & ⋯ & 7638 & 30853 & 21440 &  8142 & 20107 & 60271 & 35164 & 33762 & 10830 & 71303\\\\\n\t4 & hsa-let-7b   & 41846 & 44154 & 49137 & 30478 & 18761 & 15663 & 49978 & 62219 & 77716 & ⋯ & 7979 & 38504 & 24463 & 17472 & 30699 & 57144 & 77662 & 34885 & 15229 & 95517\\\\\n\t5 & hsa-let-7c   &  6560 & 17224 &  5367 &  2779 & 11825 & 19955 & 10812 &  6755 & 19718 & ⋯ &  283 &  6766 &  4421 &  3387 &  4990 & 63271 & 29257 & 62214 &  3600 & 52257\\\\\n\t6 & hsa-let-7d   &  1881 &  1117 &  4915 &   673 &  1365 &  2263 &  1831 &  1832 &  2480 & ⋯ &  621 &  1345 &  1168 &   388 &   942 &  5426 &  1547 &  4240 &   442 &  4034\\\\\n\\end{tabular}\n",
            "text/plain": [
              "  miRNA_ID     read_count_TCGA-2G-AAFE-01A-11R-A439-13\n",
              "1 hsa-let-7a-1 40018                                  \n",
              "2 hsa-let-7a-2 39735                                  \n",
              "3 hsa-let-7a-3 40299                                  \n",
              "4 hsa-let-7b   41846                                  \n",
              "5 hsa-let-7c    6560                                  \n",
              "6 hsa-let-7d    1881                                  \n",
              "  read_count_TCGA-2G-AAGA-01A-11R-A439-13\n",
              "1 36309                                  \n",
              "2 36097                                  \n",
              "3 36326                                  \n",
              "4 44154                                  \n",
              "5 17224                                  \n",
              "6  1117                                  \n",
              "  read_count_TCGA-ZM-AA05-01A-12R-A43A-13\n",
              "1 62307                                  \n",
              "2 61796                                  \n",
              "3 62537                                  \n",
              "4 49137                                  \n",
              "5  5367                                  \n",
              "6  4915                                  \n",
              "  read_count_TCGA-2G-AAKD-01A-31R-A439-13\n",
              "1 14423                                  \n",
              "2 14231                                  \n",
              "3 14475                                  \n",
              "4 30478                                  \n",
              "5  2779                                  \n",
              "6   673                                  \n",
              "  read_count_TCGA-X3-A8G4-01A-11R-A43A-13\n",
              "1 20372                                  \n",
              "2 20223                                  \n",
              "3 20420                                  \n",
              "4 18761                                  \n",
              "5 11825                                  \n",
              "6  1365                                  \n",
              "  read_count_TCGA-2G-AAG7-01A-11R-A439-13\n",
              "1 15431                                  \n",
              "2 15586                                  \n",
              "3 15782                                  \n",
              "4 15663                                  \n",
              "5 19955                                  \n",
              "6  2263                                  \n",
              "  read_count_TCGA-XE-A8H1-01A-11R-A43A-13\n",
              "1 43886                                  \n",
              "2 43645                                  \n",
              "3 44098                                  \n",
              "4 49978                                  \n",
              "5 10812                                  \n",
              "6  1831                                  \n",
              "  read_count_TCGA-2G-AAF1-01A-11R-A439-13\n",
              "1 50689                                  \n",
              "2 50494                                  \n",
              "3 50469                                  \n",
              "4 62219                                  \n",
              "5  6755                                  \n",
              "6  1832                                  \n",
              "  read_count_TCGA-2G-AAFL-01A-21R-A439-13 ⋯\n",
              "1 64579                                   ⋯\n",
              "2 63864                                   ⋯\n",
              "3 64609                                   ⋯\n",
              "4 77716                                   ⋯\n",
              "5 19718                                   ⋯\n",
              "6  2480                                   ⋯\n",
              "  read_count_TCGA-WZ-A7V3-01A-11R-A43A-13\n",
              "1 7584                                   \n",
              "2 7509                                   \n",
              "3 7638                                   \n",
              "4 7979                                   \n",
              "5  283                                   \n",
              "6  621                                   \n",
              "  read_count_TCGA-2G-AAH3-01A-11R-A439-13\n",
              "1 30863                                  \n",
              "2 30875                                  \n",
              "3 30853                                  \n",
              "4 38504                                  \n",
              "5  6766                                  \n",
              "6  1345                                  \n",
              "  read_count_TCGA-4K-AA1I-01A-11R-A439-13\n",
              "1 21545                                  \n",
              "2 21129                                  \n",
              "3 21440                                  \n",
              "4 24463                                  \n",
              "5  4421                                  \n",
              "6  1168                                  \n",
              "  read_count_TCGA-S6-A8JX-01A-11R-A439-13\n",
              "1  7863                                  \n",
              "2  8188                                  \n",
              "3  8142                                  \n",
              "4 17472                                  \n",
              "5  3387                                  \n",
              "6   388                                  \n",
              "  read_count_TCGA-SO-A8JP-01A-11R-A43A-13\n",
              "1 19993                                  \n",
              "2 20023                                  \n",
              "3 20107                                  \n",
              "4 30699                                  \n",
              "5  4990                                  \n",
              "6   942                                  \n",
              "  read_count_TCGA-2G-AAFZ-01A-11R-A439-13\n",
              "1 60411                                  \n",
              "2 60324                                  \n",
              "3 60271                                  \n",
              "4 57144                                  \n",
              "5 63271                                  \n",
              "6  5426                                  \n",
              "  read_count_TCGA-XE-AANR-01A-11R-A43A-13\n",
              "1 35383                                  \n",
              "2 35142                                  \n",
              "3 35164                                  \n",
              "4 77662                                  \n",
              "5 29257                                  \n",
              "6  1547                                  \n",
              "  read_count_TCGA-XE-AAOJ-01A-12R-A43A-13\n",
              "1 33557                                  \n",
              "2 33459                                  \n",
              "3 33762                                  \n",
              "4 34885                                  \n",
              "5 62214                                  \n",
              "6  4240                                  \n",
              "  read_count_TCGA-2G-AAHG-01A-11R-A439-13\n",
              "1 10810                                  \n",
              "2 10725                                  \n",
              "3 10830                                  \n",
              "4 15229                                  \n",
              "5  3600                                  \n",
              "6   442                                  \n",
              "  read_count_TCGA-2G-AAGP-01A-11R-A439-13\n",
              "1 70818                                  \n",
              "2 70561                                  \n",
              "3 71303                                  \n",
              "4 95517                                  \n",
              "5 52257                                  \n",
              "6  4034                                  "
            ]
          },
          "metadata": {}
        }
      ]
    },
    {
      "cell_type": "code",
      "source": [
        "counts_combined <- merge(read_counts_teratoma, read_counts_other, by = \"miRNA_ID\")\n",
        "\n",
        "# View the first few rows to check the result\n",
        "head(counts_combined)"
      ],
      "metadata": {
        "colab": {
          "base_uri": "https://localhost:8080/",
          "height": 393
        },
        "id": "uHU2qslnkj4f",
        "outputId": "ba0ff853-a9d8-4558-be25-6d703541bdd2"
      },
      "execution_count": 44,
      "outputs": [
        {
          "output_type": "display_data",
          "data": {
            "text/html": [
              "<table class=\"dataframe\">\n",
              "<caption>A data.frame: 6 × 140</caption>\n",
              "<thead>\n",
              "\t<tr><th></th><th scope=col>miRNA_ID</th><th scope=col>read_count_TCGA-2G-AAG5-01A-11R-A439-13</th><th scope=col>read_count_TCGA-2G-AAG6-01A-11R-A439-13</th><th scope=col>read_count_TCGA-2G-AAGY-05A-11R-A439-13</th><th scope=col>read_count_TCGA-2G-AAGY-01A-11R-A439-13</th><th scope=col>read_count_TCGA-2G-AAGV-01A-11R-A439-13</th><th scope=col>read_count_TCGA-2G-AAGX-01A-11R-A439-13</th><th scope=col>read_count_TCGA-2G-AAFE-01A-11R-A439-13</th><th scope=col>read_count_TCGA-2G-AAGA-01A-11R-A439-13</th><th scope=col>read_count_TCGA-ZM-AA05-01A-12R-A43A-13</th><th scope=col>⋯</th><th scope=col>read_count_TCGA-WZ-A7V3-01A-11R-A43A-13</th><th scope=col>read_count_TCGA-2G-AAH3-01A-11R-A439-13</th><th scope=col>read_count_TCGA-4K-AA1I-01A-11R-A439-13</th><th scope=col>read_count_TCGA-S6-A8JX-01A-11R-A439-13</th><th scope=col>read_count_TCGA-SO-A8JP-01A-11R-A43A-13</th><th scope=col>read_count_TCGA-2G-AAFZ-01A-11R-A439-13</th><th scope=col>read_count_TCGA-XE-AANR-01A-11R-A43A-13</th><th scope=col>read_count_TCGA-XE-AAOJ-01A-12R-A43A-13</th><th scope=col>read_count_TCGA-2G-AAHG-01A-11R-A439-13</th><th scope=col>read_count_TCGA-2G-AAGP-01A-11R-A439-13</th></tr>\n",
              "\t<tr><th></th><th scope=col>&lt;chr&gt;</th><th scope=col>&lt;int&gt;</th><th scope=col>&lt;int&gt;</th><th scope=col>&lt;int&gt;</th><th scope=col>&lt;int&gt;</th><th scope=col>&lt;int&gt;</th><th scope=col>&lt;int&gt;</th><th scope=col>&lt;int&gt;</th><th scope=col>&lt;int&gt;</th><th scope=col>&lt;int&gt;</th><th scope=col>⋯</th><th scope=col>&lt;int&gt;</th><th scope=col>&lt;int&gt;</th><th scope=col>&lt;int&gt;</th><th scope=col>&lt;int&gt;</th><th scope=col>&lt;int&gt;</th><th scope=col>&lt;int&gt;</th><th scope=col>&lt;int&gt;</th><th scope=col>&lt;int&gt;</th><th scope=col>&lt;int&gt;</th><th scope=col>&lt;int&gt;</th></tr>\n",
              "</thead>\n",
              "<tbody>\n",
              "\t<tr><th scope=row>1</th><td>hsa-let-7a-1</td><td> 98880</td><td>199771</td><td>14494</td><td>39072</td><td>127522</td><td>151508</td><td>40018</td><td>36309</td><td>62307</td><td>⋯</td><td>7584</td><td>30863</td><td>21545</td><td> 7863</td><td>19993</td><td>60411</td><td>35383</td><td>33557</td><td>10810</td><td>70818</td></tr>\n",
              "\t<tr><th scope=row>2</th><td>hsa-let-7a-2</td><td> 98726</td><td>199757</td><td>14791</td><td>38979</td><td>126858</td><td>152317</td><td>39735</td><td>36097</td><td>61796</td><td>⋯</td><td>7509</td><td>30875</td><td>21129</td><td> 8188</td><td>20023</td><td>60324</td><td>35142</td><td>33459</td><td>10725</td><td>70561</td></tr>\n",
              "\t<tr><th scope=row>3</th><td>hsa-let-7a-3</td><td> 99331</td><td>202322</td><td>14662</td><td>39183</td><td>128460</td><td>152572</td><td>40299</td><td>36326</td><td>62537</td><td>⋯</td><td>7638</td><td>30853</td><td>21440</td><td> 8142</td><td>20107</td><td>60271</td><td>35164</td><td>33762</td><td>10830</td><td>71303</td></tr>\n",
              "\t<tr><th scope=row>4</th><td>hsa-let-7b  </td><td>144954</td><td>257771</td><td>15110</td><td>41688</td><td>108708</td><td>185933</td><td>41846</td><td>44154</td><td>49137</td><td>⋯</td><td>7979</td><td>38504</td><td>24463</td><td>17472</td><td>30699</td><td>57144</td><td>77662</td><td>34885</td><td>15229</td><td>95517</td></tr>\n",
              "\t<tr><th scope=row>5</th><td>hsa-let-7c  </td><td>107229</td><td>326967</td><td> 2614</td><td>59663</td><td>479042</td><td>366449</td><td> 6560</td><td>17224</td><td> 5367</td><td>⋯</td><td> 283</td><td> 6766</td><td> 4421</td><td> 3387</td><td> 4990</td><td>63271</td><td>29257</td><td>62214</td><td> 3600</td><td>52257</td></tr>\n",
              "\t<tr><th scope=row>6</th><td>hsa-let-7d  </td><td>  8058</td><td> 11806</td><td>  534</td><td> 2772</td><td>  3419</td><td>  8887</td><td> 1881</td><td> 1117</td><td> 4915</td><td>⋯</td><td> 621</td><td> 1345</td><td> 1168</td><td>  388</td><td>  942</td><td> 5426</td><td> 1547</td><td> 4240</td><td>  442</td><td> 4034</td></tr>\n",
              "</tbody>\n",
              "</table>\n"
            ],
            "text/markdown": "\nA data.frame: 6 × 140\n\n| <!--/--> | miRNA_ID &lt;chr&gt; | read_count_TCGA-2G-AAG5-01A-11R-A439-13 &lt;int&gt; | read_count_TCGA-2G-AAG6-01A-11R-A439-13 &lt;int&gt; | read_count_TCGA-2G-AAGY-05A-11R-A439-13 &lt;int&gt; | read_count_TCGA-2G-AAGY-01A-11R-A439-13 &lt;int&gt; | read_count_TCGA-2G-AAGV-01A-11R-A439-13 &lt;int&gt; | read_count_TCGA-2G-AAGX-01A-11R-A439-13 &lt;int&gt; | read_count_TCGA-2G-AAFE-01A-11R-A439-13 &lt;int&gt; | read_count_TCGA-2G-AAGA-01A-11R-A439-13 &lt;int&gt; | read_count_TCGA-ZM-AA05-01A-12R-A43A-13 &lt;int&gt; | ⋯ ⋯ | read_count_TCGA-WZ-A7V3-01A-11R-A43A-13 &lt;int&gt; | read_count_TCGA-2G-AAH3-01A-11R-A439-13 &lt;int&gt; | read_count_TCGA-4K-AA1I-01A-11R-A439-13 &lt;int&gt; | read_count_TCGA-S6-A8JX-01A-11R-A439-13 &lt;int&gt; | read_count_TCGA-SO-A8JP-01A-11R-A43A-13 &lt;int&gt; | read_count_TCGA-2G-AAFZ-01A-11R-A439-13 &lt;int&gt; | read_count_TCGA-XE-AANR-01A-11R-A43A-13 &lt;int&gt; | read_count_TCGA-XE-AAOJ-01A-12R-A43A-13 &lt;int&gt; | read_count_TCGA-2G-AAHG-01A-11R-A439-13 &lt;int&gt; | read_count_TCGA-2G-AAGP-01A-11R-A439-13 &lt;int&gt; |\n|---|---|---|---|---|---|---|---|---|---|---|---|---|---|---|---|---|---|---|---|---|---|\n| 1 | hsa-let-7a-1 |  98880 | 199771 | 14494 | 39072 | 127522 | 151508 | 40018 | 36309 | 62307 | ⋯ | 7584 | 30863 | 21545 |  7863 | 19993 | 60411 | 35383 | 33557 | 10810 | 70818 |\n| 2 | hsa-let-7a-2 |  98726 | 199757 | 14791 | 38979 | 126858 | 152317 | 39735 | 36097 | 61796 | ⋯ | 7509 | 30875 | 21129 |  8188 | 20023 | 60324 | 35142 | 33459 | 10725 | 70561 |\n| 3 | hsa-let-7a-3 |  99331 | 202322 | 14662 | 39183 | 128460 | 152572 | 40299 | 36326 | 62537 | ⋯ | 7638 | 30853 | 21440 |  8142 | 20107 | 60271 | 35164 | 33762 | 10830 | 71303 |\n| 4 | hsa-let-7b   | 144954 | 257771 | 15110 | 41688 | 108708 | 185933 | 41846 | 44154 | 49137 | ⋯ | 7979 | 38504 | 24463 | 17472 | 30699 | 57144 | 77662 | 34885 | 15229 | 95517 |\n| 5 | hsa-let-7c   | 107229 | 326967 |  2614 | 59663 | 479042 | 366449 |  6560 | 17224 |  5367 | ⋯ |  283 |  6766 |  4421 |  3387 |  4990 | 63271 | 29257 | 62214 |  3600 | 52257 |\n| 6 | hsa-let-7d   |   8058 |  11806 |   534 |  2772 |   3419 |   8887 |  1881 |  1117 |  4915 | ⋯ |  621 |  1345 |  1168 |   388 |   942 |  5426 |  1547 |  4240 |   442 |  4034 |\n\n",
            "text/latex": "A data.frame: 6 × 140\n\\begin{tabular}{r|lllllllllllllllllllll}\n  & miRNA\\_ID & read\\_count\\_TCGA-2G-AAG5-01A-11R-A439-13 & read\\_count\\_TCGA-2G-AAG6-01A-11R-A439-13 & read\\_count\\_TCGA-2G-AAGY-05A-11R-A439-13 & read\\_count\\_TCGA-2G-AAGY-01A-11R-A439-13 & read\\_count\\_TCGA-2G-AAGV-01A-11R-A439-13 & read\\_count\\_TCGA-2G-AAGX-01A-11R-A439-13 & read\\_count\\_TCGA-2G-AAFE-01A-11R-A439-13 & read\\_count\\_TCGA-2G-AAGA-01A-11R-A439-13 & read\\_count\\_TCGA-ZM-AA05-01A-12R-A43A-13 & ⋯ & read\\_count\\_TCGA-WZ-A7V3-01A-11R-A43A-13 & read\\_count\\_TCGA-2G-AAH3-01A-11R-A439-13 & read\\_count\\_TCGA-4K-AA1I-01A-11R-A439-13 & read\\_count\\_TCGA-S6-A8JX-01A-11R-A439-13 & read\\_count\\_TCGA-SO-A8JP-01A-11R-A43A-13 & read\\_count\\_TCGA-2G-AAFZ-01A-11R-A439-13 & read\\_count\\_TCGA-XE-AANR-01A-11R-A43A-13 & read\\_count\\_TCGA-XE-AAOJ-01A-12R-A43A-13 & read\\_count\\_TCGA-2G-AAHG-01A-11R-A439-13 & read\\_count\\_TCGA-2G-AAGP-01A-11R-A439-13\\\\\n  & <chr> & <int> & <int> & <int> & <int> & <int> & <int> & <int> & <int> & <int> & ⋯ & <int> & <int> & <int> & <int> & <int> & <int> & <int> & <int> & <int> & <int>\\\\\n\\hline\n\t1 & hsa-let-7a-1 &  98880 & 199771 & 14494 & 39072 & 127522 & 151508 & 40018 & 36309 & 62307 & ⋯ & 7584 & 30863 & 21545 &  7863 & 19993 & 60411 & 35383 & 33557 & 10810 & 70818\\\\\n\t2 & hsa-let-7a-2 &  98726 & 199757 & 14791 & 38979 & 126858 & 152317 & 39735 & 36097 & 61796 & ⋯ & 7509 & 30875 & 21129 &  8188 & 20023 & 60324 & 35142 & 33459 & 10725 & 70561\\\\\n\t3 & hsa-let-7a-3 &  99331 & 202322 & 14662 & 39183 & 128460 & 152572 & 40299 & 36326 & 62537 & ⋯ & 7638 & 30853 & 21440 &  8142 & 20107 & 60271 & 35164 & 33762 & 10830 & 71303\\\\\n\t4 & hsa-let-7b   & 144954 & 257771 & 15110 & 41688 & 108708 & 185933 & 41846 & 44154 & 49137 & ⋯ & 7979 & 38504 & 24463 & 17472 & 30699 & 57144 & 77662 & 34885 & 15229 & 95517\\\\\n\t5 & hsa-let-7c   & 107229 & 326967 &  2614 & 59663 & 479042 & 366449 &  6560 & 17224 &  5367 & ⋯ &  283 &  6766 &  4421 &  3387 &  4990 & 63271 & 29257 & 62214 &  3600 & 52257\\\\\n\t6 & hsa-let-7d   &   8058 &  11806 &   534 &  2772 &   3419 &   8887 &  1881 &  1117 &  4915 & ⋯ &  621 &  1345 &  1168 &   388 &   942 &  5426 &  1547 &  4240 &   442 &  4034\\\\\n\\end{tabular}\n",
            "text/plain": [
              "  miRNA_ID     read_count_TCGA-2G-AAG5-01A-11R-A439-13\n",
              "1 hsa-let-7a-1  98880                                 \n",
              "2 hsa-let-7a-2  98726                                 \n",
              "3 hsa-let-7a-3  99331                                 \n",
              "4 hsa-let-7b   144954                                 \n",
              "5 hsa-let-7c   107229                                 \n",
              "6 hsa-let-7d     8058                                 \n",
              "  read_count_TCGA-2G-AAG6-01A-11R-A439-13\n",
              "1 199771                                 \n",
              "2 199757                                 \n",
              "3 202322                                 \n",
              "4 257771                                 \n",
              "5 326967                                 \n",
              "6  11806                                 \n",
              "  read_count_TCGA-2G-AAGY-05A-11R-A439-13\n",
              "1 14494                                  \n",
              "2 14791                                  \n",
              "3 14662                                  \n",
              "4 15110                                  \n",
              "5  2614                                  \n",
              "6   534                                  \n",
              "  read_count_TCGA-2G-AAGY-01A-11R-A439-13\n",
              "1 39072                                  \n",
              "2 38979                                  \n",
              "3 39183                                  \n",
              "4 41688                                  \n",
              "5 59663                                  \n",
              "6  2772                                  \n",
              "  read_count_TCGA-2G-AAGV-01A-11R-A439-13\n",
              "1 127522                                 \n",
              "2 126858                                 \n",
              "3 128460                                 \n",
              "4 108708                                 \n",
              "5 479042                                 \n",
              "6   3419                                 \n",
              "  read_count_TCGA-2G-AAGX-01A-11R-A439-13\n",
              "1 151508                                 \n",
              "2 152317                                 \n",
              "3 152572                                 \n",
              "4 185933                                 \n",
              "5 366449                                 \n",
              "6   8887                                 \n",
              "  read_count_TCGA-2G-AAFE-01A-11R-A439-13\n",
              "1 40018                                  \n",
              "2 39735                                  \n",
              "3 40299                                  \n",
              "4 41846                                  \n",
              "5  6560                                  \n",
              "6  1881                                  \n",
              "  read_count_TCGA-2G-AAGA-01A-11R-A439-13\n",
              "1 36309                                  \n",
              "2 36097                                  \n",
              "3 36326                                  \n",
              "4 44154                                  \n",
              "5 17224                                  \n",
              "6  1117                                  \n",
              "  read_count_TCGA-ZM-AA05-01A-12R-A43A-13 ⋯\n",
              "1 62307                                   ⋯\n",
              "2 61796                                   ⋯\n",
              "3 62537                                   ⋯\n",
              "4 49137                                   ⋯\n",
              "5  5367                                   ⋯\n",
              "6  4915                                   ⋯\n",
              "  read_count_TCGA-WZ-A7V3-01A-11R-A43A-13\n",
              "1 7584                                   \n",
              "2 7509                                   \n",
              "3 7638                                   \n",
              "4 7979                                   \n",
              "5  283                                   \n",
              "6  621                                   \n",
              "  read_count_TCGA-2G-AAH3-01A-11R-A439-13\n",
              "1 30863                                  \n",
              "2 30875                                  \n",
              "3 30853                                  \n",
              "4 38504                                  \n",
              "5  6766                                  \n",
              "6  1345                                  \n",
              "  read_count_TCGA-4K-AA1I-01A-11R-A439-13\n",
              "1 21545                                  \n",
              "2 21129                                  \n",
              "3 21440                                  \n",
              "4 24463                                  \n",
              "5  4421                                  \n",
              "6  1168                                  \n",
              "  read_count_TCGA-S6-A8JX-01A-11R-A439-13\n",
              "1  7863                                  \n",
              "2  8188                                  \n",
              "3  8142                                  \n",
              "4 17472                                  \n",
              "5  3387                                  \n",
              "6   388                                  \n",
              "  read_count_TCGA-SO-A8JP-01A-11R-A43A-13\n",
              "1 19993                                  \n",
              "2 20023                                  \n",
              "3 20107                                  \n",
              "4 30699                                  \n",
              "5  4990                                  \n",
              "6   942                                  \n",
              "  read_count_TCGA-2G-AAFZ-01A-11R-A439-13\n",
              "1 60411                                  \n",
              "2 60324                                  \n",
              "3 60271                                  \n",
              "4 57144                                  \n",
              "5 63271                                  \n",
              "6  5426                                  \n",
              "  read_count_TCGA-XE-AANR-01A-11R-A43A-13\n",
              "1 35383                                  \n",
              "2 35142                                  \n",
              "3 35164                                  \n",
              "4 77662                                  \n",
              "5 29257                                  \n",
              "6  1547                                  \n",
              "  read_count_TCGA-XE-AAOJ-01A-12R-A43A-13\n",
              "1 33557                                  \n",
              "2 33459                                  \n",
              "3 33762                                  \n",
              "4 34885                                  \n",
              "5 62214                                  \n",
              "6  4240                                  \n",
              "  read_count_TCGA-2G-AAHG-01A-11R-A439-13\n",
              "1 10810                                  \n",
              "2 10725                                  \n",
              "3 10830                                  \n",
              "4 15229                                  \n",
              "5  3600                                  \n",
              "6   442                                  \n",
              "  read_count_TCGA-2G-AAGP-01A-11R-A439-13\n",
              "1 70818                                  \n",
              "2 70561                                  \n",
              "3 71303                                  \n",
              "4 95517                                  \n",
              "5 52257                                  \n",
              "6  4034                                  "
            ]
          },
          "metadata": {}
        }
      ]
    },
    {
      "cell_type": "code",
      "source": [
        "write.csv(counts_combined, file = \"counts_combined.csv\")"
      ],
      "metadata": {
        "id": "fZMfRHaVlmTo"
      },
      "execution_count": 45,
      "outputs": []
    }
  ]
}