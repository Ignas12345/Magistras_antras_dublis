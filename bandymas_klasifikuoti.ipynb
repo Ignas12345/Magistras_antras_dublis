{
  "nbformat": 4,
  "nbformat_minor": 0,
  "metadata": {
    "colab": {
      "provenance": [],
      "authorship_tag": "ABX9TyNDTc5gJlh7AGJv/xogXA90",
      "include_colab_link": true
    },
    "kernelspec": {
      "name": "python3",
      "display_name": "Python 3"
    },
    "language_info": {
      "name": "python"
    }
  },
  "cells": [
    {
      "cell_type": "markdown",
      "metadata": {
        "id": "view-in-github",
        "colab_type": "text"
      },
      "source": [
        "<a href=\"https://colab.research.google.com/github/Ignas12345/Magistro_projektas/blob/main/bandymas_klasifikuoti.ipynb\" target=\"_parent\"><img src=\"https://colab.research.google.com/assets/colab-badge.svg\" alt=\"Open In Colab\"/></a>"
      ]
    },
    {
      "cell_type": "code",
      "source": [
        "import numpy as np\n",
        "import pandas as pd\n",
        "import torch\n",
        "import torch.nn as nn\n",
        "import torch.nn.functional as F\n",
        "from torch.utils.data import DataLoader, TensorDataset\n",
        "from sklearn.metrics import accuracy_score"
      ],
      "metadata": {
        "id": "cU_eBl0bbHUu"
      },
      "execution_count": 26,
      "outputs": []
    },
    {
      "cell_type": "code",
      "source": [
        "# Load data\n",
        "url = 'https://raw.githubusercontent.com/Ignas12345/Magistro_projektas/refs/heads/main/counts_combined.csv'\n",
        "df = pd.read_csv(url)\n",
        "gene_names = df[\"miRNA_ID\"].to_numpy()\n",
        "df_trimmed = df.drop(df.columns[0], axis=1)\n",
        "full_data = (df_trimmed.to_numpy(dtype=np.int32)).T\n",
        "\n",
        "# Create labels: first 6 samples -> label 0, rest -> label 1\n",
        "num_samples = full_data.shape[0]\n",
        "labels = torch.zeros(num_samples, dtype=torch.float32)\n",
        "labels[6:] = 1  # Set the rest of the samples to label 1\n",
        "\n",
        "# Convert full_data to a PyTorch tensor\n",
        "features = torch.tensor(full_data, dtype=torch.float32)\n",
        "\n",
        "# Combine features and labels into a dataset\n",
        "dataset = TensorDataset(features, labels)\n",
        "\n",
        "# Create a DataLoader for batching\n",
        "batch_size = 32  # You can adjust this as needed\n",
        "data_loader = DataLoader(dataset, batch_size=batch_size, shuffle=True)\n",
        "\n",
        "# Example: Print the shape of a batch\n",
        "for batch_features, batch_labels in data_loader:\n",
        "    print(f\"Batch features shape: {batch_features.shape}\")\n",
        "    print(f\"Batch labels shape: {batch_labels.shape}\")\n",
        "    break\n"
      ],
      "metadata": {
        "colab": {
          "base_uri": "https://localhost:8080/"
        },
        "id": "4e0tFFYAcnle",
        "outputId": "d092ba2d-88dc-4d53-bdf2-bf70bc55a488"
      },
      "execution_count": 36,
      "outputs": [
        {
          "output_type": "stream",
          "name": "stdout",
          "text": [
            "Batch features shape: torch.Size([32, 1881])\n",
            "Batch labels shape: torch.Size([32])\n"
          ]
        }
      ]
    },
    {
      "cell_type": "code",
      "source": [
        "import torch\n",
        "import torch.nn as nn\n",
        "\n",
        "class SparseNN(nn.Module):\n",
        "    def __init__(self, input_dim):\n",
        "        super(SparseNN, self).__init__()\n",
        "        self.input_dim = input_dim\n",
        "\n",
        "        self.first_layer_weights = nn.Parameter(torch.randn(input_dim))  # 1D tensor for scaling\n",
        "        self.first_layer_biases = nn.Parameter(torch.randn(input_dim))  # 1D tensor for bias\n",
        "\n",
        "\n",
        "        # Second layer: Sparse weighting (learnable parameters)\n",
        "        self.output_weights_raw = nn.Parameter(torch.randn(input_dim))  # Raw weights\n",
        "\n",
        "    def forward(self, x):\n",
        "        # First layer: Linear transformation\n",
        "        first_layer_output = x * self.first_layer_weights + self.first_layer_biases\n",
        "\n",
        "        # Second layer: Apply sparse weights\n",
        "        output_weights = torch.relu(self.output_weights_raw)  # Enforce non-negativity\n",
        "        weighted_output = first_layer_output * output_weights  # Element-wise multiplication\n",
        "  # Element-wise multiplication\n",
        "\n",
        "        # Pooling: Sum the weighted outputs\n",
        "        pooled_output = weighted_output.sum(dim=1)  # Summing across features\n",
        "\n",
        "        # Final activation: tanh\n",
        "        output = torch.sigmoid(pooled_output)\n",
        "        return output\n",
        "\n",
        "# Initialize the model\n",
        "input_dim = full_data.shape[1]\n",
        "model = SparseNN(input_dim)\n",
        "\n",
        "# Define a loss function and optimizer\n",
        "criterion = nn.BCELoss()  # Binary Cross Entropy Loss for binary classification\n",
        "optimizer = torch.optim.Adam(model.parameters(), lr=0.001, weight_decay=1e-5)  # L1 sparsity via weight_decay\n"
      ],
      "metadata": {
        "id": "eM5yeyfSWIqo"
      },
      "execution_count": 37,
      "outputs": []
    },
    {
      "cell_type": "code",
      "execution_count": 38,
      "metadata": {
        "colab": {
          "base_uri": "https://localhost:8080/"
        },
        "id": "u0gHb8mXTh7C",
        "outputId": "be3d080d-faaf-4c1e-c266-beab523388d5"
      },
      "outputs": [
        {
          "output_type": "stream",
          "name": "stdout",
          "text": [
            "Epoch [1/30], Loss: 4.6228\n",
            "Epoch [2/30], Loss: 5.8066\n",
            "Epoch [3/30], Loss: 4.6041\n",
            "Epoch [4/30], Loss: 4.5948\n",
            "Epoch [5/30], Loss: 5.7787\n",
            "Epoch [6/30], Loss: 4.5763\n",
            "Epoch [7/30], Loss: 6.9535\n",
            "Epoch [8/30], Loss: 4.5579\n",
            "Epoch [9/30], Loss: 4.5488\n",
            "Epoch [10/30], Loss: 5.7329\n",
            "Epoch [11/30], Loss: 4.5306\n",
            "Epoch [12/30], Loss: 5.7148\n",
            "Epoch [13/30], Loss: 5.7058\n",
            "Epoch [14/30], Loss: 4.5037\n",
            "Epoch [15/30], Loss: 4.4948\n",
            "Epoch [16/30], Loss: 4.4859\n",
            "Epoch [17/30], Loss: 4.4771\n",
            "Epoch [18/30], Loss: 4.4684\n",
            "Epoch [19/30], Loss: 4.4597\n",
            "Epoch [20/30], Loss: 4.4510\n",
            "Epoch [21/30], Loss: 5.6355\n",
            "Epoch [22/30], Loss: 4.4337\n",
            "Epoch [23/30], Loss: 4.4252\n",
            "Epoch [24/30], Loss: 7.9963\n",
            "Epoch [25/30], Loss: 4.4083\n",
            "Epoch [26/30], Loss: 5.5931\n",
            "Epoch [27/30], Loss: 6.7779\n",
            "Epoch [28/30], Loss: 5.5763\n",
            "Epoch [29/30], Loss: 5.5680\n",
            "Epoch [30/30], Loss: 4.3666\n",
            "Final Accuracy: 0.9640\n"
          ]
        }
      ],
      "source": [
        "import torch\n",
        "import torch.nn as nn\n",
        "import torch.nn.functional as F\n",
        "from torch.utils.data import DataLoader, TensorDataset\n",
        "from sklearn.metrics import accuracy_score\n",
        "\n",
        "# L1 Regularization (sparsity enforcement)\n",
        "def l1_regularization(weight, lambda_l1=0.001):\n",
        "    return lambda_l1 * weight.abs().sum()\n",
        "\n",
        "# Training Loop\n",
        "num_epochs = 30  # Adjust based on dataset size and convergence\n",
        "lambda_l1 = 0.001  # Regularization strength\n",
        "\n",
        "for epoch in range(num_epochs):\n",
        "    model.train()\n",
        "    total_loss = 0.0\n",
        "\n",
        "    for batch_features, batch_labels in data_loader:\n",
        "        # Forward pass\n",
        "        outputs = model(batch_features)\n",
        "        outputs = outputs.squeeze()  # Ensure shape compatibility for BCELoss\n",
        "\n",
        "        # Compute binary cross-entropy loss\n",
        "        loss = criterion(outputs, batch_labels)\n",
        "\n",
        "        # Add L1 regularization for sparsity\n",
        "        loss += l1_regularization(model.output_weights_raw, lambda_l1)\n",
        "\n",
        "        # Backward pass and optimization\n",
        "        optimizer.zero_grad()\n",
        "        loss.backward()\n",
        "        optimizer.step()\n",
        "\n",
        "        total_loss += loss.item()\n",
        "\n",
        "    # Logging epoch statistics\n",
        "    print(f\"Epoch [{epoch + 1}/{num_epochs}], Loss: {total_loss / len(data_loader):.4f}\")\n",
        "\n",
        "# Evaluation (after training)\n",
        "model.eval()\n",
        "with torch.no_grad():\n",
        "    # Forward pass on the entire dataset\n",
        "    predictions = model(features).squeeze()\n",
        "    predictions = (predictions > 0).float()  # Convert probabilities to binary predictions\n",
        "\n",
        "    # Compute accuracy\n",
        "    accuracy = accuracy_score(labels.numpy(), predictions.numpy())\n",
        "    print(f\"Final Accuracy: {accuracy:.4f}\")"
      ]
    },
    {
      "cell_type": "code",
      "source": [
        "# Print the weights of the first layer\n",
        "print(\"First Layer Weights:\")\n",
        "print(torch.Tensor.size(model.first_layer_weights.data))\n",
        "\n",
        "# Print the biases of the first layer (if present)\n",
        "print(\"First Layer Biases:\")\n",
        "print(model.first_layer_biases.data)\n",
        "\n",
        "# Print the weights of the second layer (output weights)\n",
        "print(\"Second Layer (Sparse) Weights:\")\n",
        "print(torch.relu(model.output_weights_raw.data))"
      ],
      "metadata": {
        "colab": {
          "base_uri": "https://localhost:8080/"
        },
        "id": "KTqC-PIcXGej",
        "outputId": "2fbb1e59-aa9e-4563-e6d0-96e18569bdef"
      },
      "execution_count": 39,
      "outputs": [
        {
          "output_type": "stream",
          "name": "stdout",
          "text": [
            "First Layer Weights:\n",
            "torch.Size([1881])\n",
            "First Layer Biases:\n",
            "tensor([-0.8275, -1.5632, -0.5364,  ..., -1.3576, -0.1697, -0.6520])\n",
            "Second Layer (Sparse) Weights:\n",
            "tensor([0.0000e+00, 0.0000e+00, 0.0000e+00,  ..., 1.5769e+00, 0.0000e+00,\n",
            "        1.7388e-04])\n"
          ]
        }
      ]
    }
  ]
}