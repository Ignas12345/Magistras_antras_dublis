{
  "nbformat": 4,
  "nbformat_minor": 0,
  "metadata": {
    "colab": {
      "provenance": [],
      "include_colab_link": true
    },
    "kernelspec": {
      "name": "python3",
      "display_name": "Python 3"
    },
    "language_info": {
      "name": "python"
    }
  },
  "cells": [
    {
      "cell_type": "markdown",
      "metadata": {
        "id": "view-in-github",
        "colab_type": "text"
      },
      "source": [
        "<a href=\"https://colab.research.google.com/github/Ignas12345/Magistro_projektas/blob/main/TCGA_duomenu_apdorojimas.ipynb\" target=\"_parent\"><img src=\"https://colab.research.google.com/assets/colab-badge.svg\" alt=\"Open In Colab\"/></a>"
      ]
    },
    {
      "cell_type": "code",
      "source": [
        "import numpy as np\n",
        "import pandas as pd\n",
        "from sklearn.decomposition import PCA\n",
        "from sklearn.preprocessing import StandardScaler\n",
        "import matplotlib.pyplot as plt\n"
      ],
      "metadata": {
        "id": "O4p0bnNmpwdO"
      },
      "execution_count": 1,
      "outputs": []
    },
    {
      "cell_type": "code",
      "source": [
        "url = 'https://raw.githubusercontent.com/Ignas12345/Magistro_projektas/refs/heads/main/counts_combined.csv'\n",
        "df = pd.read_csv(url)\n",
        "df.head()"
      ],
      "metadata": {
        "colab": {
          "base_uri": "https://localhost:8080/",
          "height": 342
        },
        "id": "Jyt-q3YLpp7X",
        "outputId": "43328a48-dd05-452b-8f08-3facee98873e"
      },
      "execution_count": 61,
      "outputs": [
        {
          "output_type": "execute_result",
          "data": {
            "text/plain": [
              "       miRNA_ID  read_count_TCGA-2G-AAG5-01A-11R-A439-13  \\\n",
              "0  hsa-let-7a-1                                    98880   \n",
              "1  hsa-let-7a-2                                    98726   \n",
              "2  hsa-let-7a-3                                    99331   \n",
              "3    hsa-let-7b                                   144954   \n",
              "4    hsa-let-7c                                   107229   \n",
              "\n",
              "   read_count_TCGA-2G-AAG6-01A-11R-A439-13  \\\n",
              "0                                   199771   \n",
              "1                                   199757   \n",
              "2                                   202322   \n",
              "3                                   257771   \n",
              "4                                   326967   \n",
              "\n",
              "   read_count_TCGA-2G-AAGY-05A-11R-A439-13  \\\n",
              "0                                    14494   \n",
              "1                                    14791   \n",
              "2                                    14662   \n",
              "3                                    15110   \n",
              "4                                     2614   \n",
              "\n",
              "   read_count_TCGA-2G-AAGY-01A-11R-A439-13  \\\n",
              "0                                    39072   \n",
              "1                                    38979   \n",
              "2                                    39183   \n",
              "3                                    41688   \n",
              "4                                    59663   \n",
              "\n",
              "   read_count_TCGA-2G-AAGV-01A-11R-A439-13  \\\n",
              "0                                   127522   \n",
              "1                                   126858   \n",
              "2                                   128460   \n",
              "3                                   108708   \n",
              "4                                   479042   \n",
              "\n",
              "   read_count_TCGA-2G-AAGX-01A-11R-A439-13  \\\n",
              "0                                   151508   \n",
              "1                                   152317   \n",
              "2                                   152572   \n",
              "3                                   185933   \n",
              "4                                   366449   \n",
              "\n",
              "   read_count_TCGA-2G-AAFE-01A-11R-A439-13  \\\n",
              "0                                    40018   \n",
              "1                                    39735   \n",
              "2                                    40299   \n",
              "3                                    41846   \n",
              "4                                     6560   \n",
              "\n",
              "   read_count_TCGA-2G-AAGA-01A-11R-A439-13  \\\n",
              "0                                    36309   \n",
              "1                                    36097   \n",
              "2                                    36326   \n",
              "3                                    44154   \n",
              "4                                    17224   \n",
              "\n",
              "   read_count_TCGA-ZM-AA05-01A-12R-A43A-13  ...  \\\n",
              "0                                    62307  ...   \n",
              "1                                    61796  ...   \n",
              "2                                    62537  ...   \n",
              "3                                    49137  ...   \n",
              "4                                     5367  ...   \n",
              "\n",
              "   read_count_TCGA-WZ-A7V3-01A-11R-A43A-13  \\\n",
              "0                                     7584   \n",
              "1                                     7509   \n",
              "2                                     7638   \n",
              "3                                     7979   \n",
              "4                                      283   \n",
              "\n",
              "   read_count_TCGA-2G-AAH3-01A-11R-A439-13  \\\n",
              "0                                    30863   \n",
              "1                                    30875   \n",
              "2                                    30853   \n",
              "3                                    38504   \n",
              "4                                     6766   \n",
              "\n",
              "   read_count_TCGA-4K-AA1I-01A-11R-A439-13  \\\n",
              "0                                    21545   \n",
              "1                                    21129   \n",
              "2                                    21440   \n",
              "3                                    24463   \n",
              "4                                     4421   \n",
              "\n",
              "   read_count_TCGA-S6-A8JX-01A-11R-A439-13  \\\n",
              "0                                     7863   \n",
              "1                                     8188   \n",
              "2                                     8142   \n",
              "3                                    17472   \n",
              "4                                     3387   \n",
              "\n",
              "   read_count_TCGA-SO-A8JP-01A-11R-A43A-13  \\\n",
              "0                                    19993   \n",
              "1                                    20023   \n",
              "2                                    20107   \n",
              "3                                    30699   \n",
              "4                                     4990   \n",
              "\n",
              "   read_count_TCGA-2G-AAFZ-01A-11R-A439-13  \\\n",
              "0                                    60411   \n",
              "1                                    60324   \n",
              "2                                    60271   \n",
              "3                                    57144   \n",
              "4                                    63271   \n",
              "\n",
              "   read_count_TCGA-XE-AANR-01A-11R-A43A-13  \\\n",
              "0                                    35383   \n",
              "1                                    35142   \n",
              "2                                    35164   \n",
              "3                                    77662   \n",
              "4                                    29257   \n",
              "\n",
              "   read_count_TCGA-XE-AAOJ-01A-12R-A43A-13  \\\n",
              "0                                    33557   \n",
              "1                                    33459   \n",
              "2                                    33762   \n",
              "3                                    34885   \n",
              "4                                    62214   \n",
              "\n",
              "   read_count_TCGA-2G-AAHG-01A-11R-A439-13  \\\n",
              "0                                    10810   \n",
              "1                                    10725   \n",
              "2                                    10830   \n",
              "3                                    15229   \n",
              "4                                     3600   \n",
              "\n",
              "   read_count_TCGA-2G-AAGP-01A-11R-A439-13  \n",
              "0                                    70818  \n",
              "1                                    70561  \n",
              "2                                    71303  \n",
              "3                                    95517  \n",
              "4                                    52257  \n",
              "\n",
              "[5 rows x 140 columns]"
            ],
            "text/html": [
              "\n",
              "  <div id=\"df-307d7642-a925-4f4e-8055-ae2d0d32a9a1\" class=\"colab-df-container\">\n",
              "    <div>\n",
              "<style scoped>\n",
              "    .dataframe tbody tr th:only-of-type {\n",
              "        vertical-align: middle;\n",
              "    }\n",
              "\n",
              "    .dataframe tbody tr th {\n",
              "        vertical-align: top;\n",
              "    }\n",
              "\n",
              "    .dataframe thead th {\n",
              "        text-align: right;\n",
              "    }\n",
              "</style>\n",
              "<table border=\"1\" class=\"dataframe\">\n",
              "  <thead>\n",
              "    <tr style=\"text-align: right;\">\n",
              "      <th></th>\n",
              "      <th>miRNA_ID</th>\n",
              "      <th>read_count_TCGA-2G-AAG5-01A-11R-A439-13</th>\n",
              "      <th>read_count_TCGA-2G-AAG6-01A-11R-A439-13</th>\n",
              "      <th>read_count_TCGA-2G-AAGY-05A-11R-A439-13</th>\n",
              "      <th>read_count_TCGA-2G-AAGY-01A-11R-A439-13</th>\n",
              "      <th>read_count_TCGA-2G-AAGV-01A-11R-A439-13</th>\n",
              "      <th>read_count_TCGA-2G-AAGX-01A-11R-A439-13</th>\n",
              "      <th>read_count_TCGA-2G-AAFE-01A-11R-A439-13</th>\n",
              "      <th>read_count_TCGA-2G-AAGA-01A-11R-A439-13</th>\n",
              "      <th>read_count_TCGA-ZM-AA05-01A-12R-A43A-13</th>\n",
              "      <th>...</th>\n",
              "      <th>read_count_TCGA-WZ-A7V3-01A-11R-A43A-13</th>\n",
              "      <th>read_count_TCGA-2G-AAH3-01A-11R-A439-13</th>\n",
              "      <th>read_count_TCGA-4K-AA1I-01A-11R-A439-13</th>\n",
              "      <th>read_count_TCGA-S6-A8JX-01A-11R-A439-13</th>\n",
              "      <th>read_count_TCGA-SO-A8JP-01A-11R-A43A-13</th>\n",
              "      <th>read_count_TCGA-2G-AAFZ-01A-11R-A439-13</th>\n",
              "      <th>read_count_TCGA-XE-AANR-01A-11R-A43A-13</th>\n",
              "      <th>read_count_TCGA-XE-AAOJ-01A-12R-A43A-13</th>\n",
              "      <th>read_count_TCGA-2G-AAHG-01A-11R-A439-13</th>\n",
              "      <th>read_count_TCGA-2G-AAGP-01A-11R-A439-13</th>\n",
              "    </tr>\n",
              "  </thead>\n",
              "  <tbody>\n",
              "    <tr>\n",
              "      <th>0</th>\n",
              "      <td>hsa-let-7a-1</td>\n",
              "      <td>98880</td>\n",
              "      <td>199771</td>\n",
              "      <td>14494</td>\n",
              "      <td>39072</td>\n",
              "      <td>127522</td>\n",
              "      <td>151508</td>\n",
              "      <td>40018</td>\n",
              "      <td>36309</td>\n",
              "      <td>62307</td>\n",
              "      <td>...</td>\n",
              "      <td>7584</td>\n",
              "      <td>30863</td>\n",
              "      <td>21545</td>\n",
              "      <td>7863</td>\n",
              "      <td>19993</td>\n",
              "      <td>60411</td>\n",
              "      <td>35383</td>\n",
              "      <td>33557</td>\n",
              "      <td>10810</td>\n",
              "      <td>70818</td>\n",
              "    </tr>\n",
              "    <tr>\n",
              "      <th>1</th>\n",
              "      <td>hsa-let-7a-2</td>\n",
              "      <td>98726</td>\n",
              "      <td>199757</td>\n",
              "      <td>14791</td>\n",
              "      <td>38979</td>\n",
              "      <td>126858</td>\n",
              "      <td>152317</td>\n",
              "      <td>39735</td>\n",
              "      <td>36097</td>\n",
              "      <td>61796</td>\n",
              "      <td>...</td>\n",
              "      <td>7509</td>\n",
              "      <td>30875</td>\n",
              "      <td>21129</td>\n",
              "      <td>8188</td>\n",
              "      <td>20023</td>\n",
              "      <td>60324</td>\n",
              "      <td>35142</td>\n",
              "      <td>33459</td>\n",
              "      <td>10725</td>\n",
              "      <td>70561</td>\n",
              "    </tr>\n",
              "    <tr>\n",
              "      <th>2</th>\n",
              "      <td>hsa-let-7a-3</td>\n",
              "      <td>99331</td>\n",
              "      <td>202322</td>\n",
              "      <td>14662</td>\n",
              "      <td>39183</td>\n",
              "      <td>128460</td>\n",
              "      <td>152572</td>\n",
              "      <td>40299</td>\n",
              "      <td>36326</td>\n",
              "      <td>62537</td>\n",
              "      <td>...</td>\n",
              "      <td>7638</td>\n",
              "      <td>30853</td>\n",
              "      <td>21440</td>\n",
              "      <td>8142</td>\n",
              "      <td>20107</td>\n",
              "      <td>60271</td>\n",
              "      <td>35164</td>\n",
              "      <td>33762</td>\n",
              "      <td>10830</td>\n",
              "      <td>71303</td>\n",
              "    </tr>\n",
              "    <tr>\n",
              "      <th>3</th>\n",
              "      <td>hsa-let-7b</td>\n",
              "      <td>144954</td>\n",
              "      <td>257771</td>\n",
              "      <td>15110</td>\n",
              "      <td>41688</td>\n",
              "      <td>108708</td>\n",
              "      <td>185933</td>\n",
              "      <td>41846</td>\n",
              "      <td>44154</td>\n",
              "      <td>49137</td>\n",
              "      <td>...</td>\n",
              "      <td>7979</td>\n",
              "      <td>38504</td>\n",
              "      <td>24463</td>\n",
              "      <td>17472</td>\n",
              "      <td>30699</td>\n",
              "      <td>57144</td>\n",
              "      <td>77662</td>\n",
              "      <td>34885</td>\n",
              "      <td>15229</td>\n",
              "      <td>95517</td>\n",
              "    </tr>\n",
              "    <tr>\n",
              "      <th>4</th>\n",
              "      <td>hsa-let-7c</td>\n",
              "      <td>107229</td>\n",
              "      <td>326967</td>\n",
              "      <td>2614</td>\n",
              "      <td>59663</td>\n",
              "      <td>479042</td>\n",
              "      <td>366449</td>\n",
              "      <td>6560</td>\n",
              "      <td>17224</td>\n",
              "      <td>5367</td>\n",
              "      <td>...</td>\n",
              "      <td>283</td>\n",
              "      <td>6766</td>\n",
              "      <td>4421</td>\n",
              "      <td>3387</td>\n",
              "      <td>4990</td>\n",
              "      <td>63271</td>\n",
              "      <td>29257</td>\n",
              "      <td>62214</td>\n",
              "      <td>3600</td>\n",
              "      <td>52257</td>\n",
              "    </tr>\n",
              "  </tbody>\n",
              "</table>\n",
              "<p>5 rows × 140 columns</p>\n",
              "</div>\n",
              "    <div class=\"colab-df-buttons\">\n",
              "\n",
              "  <div class=\"colab-df-container\">\n",
              "    <button class=\"colab-df-convert\" onclick=\"convertToInteractive('df-307d7642-a925-4f4e-8055-ae2d0d32a9a1')\"\n",
              "            title=\"Convert this dataframe to an interactive table.\"\n",
              "            style=\"display:none;\">\n",
              "\n",
              "  <svg xmlns=\"http://www.w3.org/2000/svg\" height=\"24px\" viewBox=\"0 -960 960 960\">\n",
              "    <path d=\"M120-120v-720h720v720H120Zm60-500h600v-160H180v160Zm220 220h160v-160H400v160Zm0 220h160v-160H400v160ZM180-400h160v-160H180v160Zm440 0h160v-160H620v160ZM180-180h160v-160H180v160Zm440 0h160v-160H620v160Z\"/>\n",
              "  </svg>\n",
              "    </button>\n",
              "\n",
              "  <style>\n",
              "    .colab-df-container {\n",
              "      display:flex;\n",
              "      gap: 12px;\n",
              "    }\n",
              "\n",
              "    .colab-df-convert {\n",
              "      background-color: #E8F0FE;\n",
              "      border: none;\n",
              "      border-radius: 50%;\n",
              "      cursor: pointer;\n",
              "      display: none;\n",
              "      fill: #1967D2;\n",
              "      height: 32px;\n",
              "      padding: 0 0 0 0;\n",
              "      width: 32px;\n",
              "    }\n",
              "\n",
              "    .colab-df-convert:hover {\n",
              "      background-color: #E2EBFA;\n",
              "      box-shadow: 0px 1px 2px rgba(60, 64, 67, 0.3), 0px 1px 3px 1px rgba(60, 64, 67, 0.15);\n",
              "      fill: #174EA6;\n",
              "    }\n",
              "\n",
              "    .colab-df-buttons div {\n",
              "      margin-bottom: 4px;\n",
              "    }\n",
              "\n",
              "    [theme=dark] .colab-df-convert {\n",
              "      background-color: #3B4455;\n",
              "      fill: #D2E3FC;\n",
              "    }\n",
              "\n",
              "    [theme=dark] .colab-df-convert:hover {\n",
              "      background-color: #434B5C;\n",
              "      box-shadow: 0px 1px 3px 1px rgba(0, 0, 0, 0.15);\n",
              "      filter: drop-shadow(0px 1px 2px rgba(0, 0, 0, 0.3));\n",
              "      fill: #FFFFFF;\n",
              "    }\n",
              "  </style>\n",
              "\n",
              "    <script>\n",
              "      const buttonEl =\n",
              "        document.querySelector('#df-307d7642-a925-4f4e-8055-ae2d0d32a9a1 button.colab-df-convert');\n",
              "      buttonEl.style.display =\n",
              "        google.colab.kernel.accessAllowed ? 'block' : 'none';\n",
              "\n",
              "      async function convertToInteractive(key) {\n",
              "        const element = document.querySelector('#df-307d7642-a925-4f4e-8055-ae2d0d32a9a1');\n",
              "        const dataTable =\n",
              "          await google.colab.kernel.invokeFunction('convertToInteractive',\n",
              "                                                    [key], {});\n",
              "        if (!dataTable) return;\n",
              "\n",
              "        const docLinkHtml = 'Like what you see? Visit the ' +\n",
              "          '<a target=\"_blank\" href=https://colab.research.google.com/notebooks/data_table.ipynb>data table notebook</a>'\n",
              "          + ' to learn more about interactive tables.';\n",
              "        element.innerHTML = '';\n",
              "        dataTable['output_type'] = 'display_data';\n",
              "        await google.colab.output.renderOutput(dataTable, element);\n",
              "        const docLink = document.createElement('div');\n",
              "        docLink.innerHTML = docLinkHtml;\n",
              "        element.appendChild(docLink);\n",
              "      }\n",
              "    </script>\n",
              "  </div>\n",
              "\n",
              "\n",
              "<div id=\"df-c3699efa-9cf4-400b-9084-ce33a46aba3d\">\n",
              "  <button class=\"colab-df-quickchart\" onclick=\"quickchart('df-c3699efa-9cf4-400b-9084-ce33a46aba3d')\"\n",
              "            title=\"Suggest charts\"\n",
              "            style=\"display:none;\">\n",
              "\n",
              "<svg xmlns=\"http://www.w3.org/2000/svg\" height=\"24px\"viewBox=\"0 0 24 24\"\n",
              "     width=\"24px\">\n",
              "    <g>\n",
              "        <path d=\"M19 3H5c-1.1 0-2 .9-2 2v14c0 1.1.9 2 2 2h14c1.1 0 2-.9 2-2V5c0-1.1-.9-2-2-2zM9 17H7v-7h2v7zm4 0h-2V7h2v10zm4 0h-2v-4h2v4z\"/>\n",
              "    </g>\n",
              "</svg>\n",
              "  </button>\n",
              "\n",
              "<style>\n",
              "  .colab-df-quickchart {\n",
              "      --bg-color: #E8F0FE;\n",
              "      --fill-color: #1967D2;\n",
              "      --hover-bg-color: #E2EBFA;\n",
              "      --hover-fill-color: #174EA6;\n",
              "      --disabled-fill-color: #AAA;\n",
              "      --disabled-bg-color: #DDD;\n",
              "  }\n",
              "\n",
              "  [theme=dark] .colab-df-quickchart {\n",
              "      --bg-color: #3B4455;\n",
              "      --fill-color: #D2E3FC;\n",
              "      --hover-bg-color: #434B5C;\n",
              "      --hover-fill-color: #FFFFFF;\n",
              "      --disabled-bg-color: #3B4455;\n",
              "      --disabled-fill-color: #666;\n",
              "  }\n",
              "\n",
              "  .colab-df-quickchart {\n",
              "    background-color: var(--bg-color);\n",
              "    border: none;\n",
              "    border-radius: 50%;\n",
              "    cursor: pointer;\n",
              "    display: none;\n",
              "    fill: var(--fill-color);\n",
              "    height: 32px;\n",
              "    padding: 0;\n",
              "    width: 32px;\n",
              "  }\n",
              "\n",
              "  .colab-df-quickchart:hover {\n",
              "    background-color: var(--hover-bg-color);\n",
              "    box-shadow: 0 1px 2px rgba(60, 64, 67, 0.3), 0 1px 3px 1px rgba(60, 64, 67, 0.15);\n",
              "    fill: var(--button-hover-fill-color);\n",
              "  }\n",
              "\n",
              "  .colab-df-quickchart-complete:disabled,\n",
              "  .colab-df-quickchart-complete:disabled:hover {\n",
              "    background-color: var(--disabled-bg-color);\n",
              "    fill: var(--disabled-fill-color);\n",
              "    box-shadow: none;\n",
              "  }\n",
              "\n",
              "  .colab-df-spinner {\n",
              "    border: 2px solid var(--fill-color);\n",
              "    border-color: transparent;\n",
              "    border-bottom-color: var(--fill-color);\n",
              "    animation:\n",
              "      spin 1s steps(1) infinite;\n",
              "  }\n",
              "\n",
              "  @keyframes spin {\n",
              "    0% {\n",
              "      border-color: transparent;\n",
              "      border-bottom-color: var(--fill-color);\n",
              "      border-left-color: var(--fill-color);\n",
              "    }\n",
              "    20% {\n",
              "      border-color: transparent;\n",
              "      border-left-color: var(--fill-color);\n",
              "      border-top-color: var(--fill-color);\n",
              "    }\n",
              "    30% {\n",
              "      border-color: transparent;\n",
              "      border-left-color: var(--fill-color);\n",
              "      border-top-color: var(--fill-color);\n",
              "      border-right-color: var(--fill-color);\n",
              "    }\n",
              "    40% {\n",
              "      border-color: transparent;\n",
              "      border-right-color: var(--fill-color);\n",
              "      border-top-color: var(--fill-color);\n",
              "    }\n",
              "    60% {\n",
              "      border-color: transparent;\n",
              "      border-right-color: var(--fill-color);\n",
              "    }\n",
              "    80% {\n",
              "      border-color: transparent;\n",
              "      border-right-color: var(--fill-color);\n",
              "      border-bottom-color: var(--fill-color);\n",
              "    }\n",
              "    90% {\n",
              "      border-color: transparent;\n",
              "      border-bottom-color: var(--fill-color);\n",
              "    }\n",
              "  }\n",
              "</style>\n",
              "\n",
              "  <script>\n",
              "    async function quickchart(key) {\n",
              "      const quickchartButtonEl =\n",
              "        document.querySelector('#' + key + ' button');\n",
              "      quickchartButtonEl.disabled = true;  // To prevent multiple clicks.\n",
              "      quickchartButtonEl.classList.add('colab-df-spinner');\n",
              "      try {\n",
              "        const charts = await google.colab.kernel.invokeFunction(\n",
              "            'suggestCharts', [key], {});\n",
              "      } catch (error) {\n",
              "        console.error('Error during call to suggestCharts:', error);\n",
              "      }\n",
              "      quickchartButtonEl.classList.remove('colab-df-spinner');\n",
              "      quickchartButtonEl.classList.add('colab-df-quickchart-complete');\n",
              "    }\n",
              "    (() => {\n",
              "      let quickchartButtonEl =\n",
              "        document.querySelector('#df-c3699efa-9cf4-400b-9084-ce33a46aba3d button');\n",
              "      quickchartButtonEl.style.display =\n",
              "        google.colab.kernel.accessAllowed ? 'block' : 'none';\n",
              "    })();\n",
              "  </script>\n",
              "</div>\n",
              "\n",
              "    </div>\n",
              "  </div>\n"
            ],
            "application/vnd.google.colaboratory.intrinsic+json": {
              "type": "dataframe",
              "variable_name": "df"
            }
          },
          "metadata": {},
          "execution_count": 61
        }
      ]
    },
    {
      "cell_type": "code",
      "source": [
        "gene_names = df[\"miRNA_ID\"].to_numpy()\n",
        "df_trimmed = df.drop(df.columns[0], axis=1)"
      ],
      "metadata": {
        "id": "2lCBgucfprqW"
      },
      "execution_count": 106,
      "outputs": []
    },
    {
      "cell_type": "code",
      "source": [
        "full_data = df_trimmed.to_numpy(dtype = np.int32)"
      ],
      "metadata": {
        "id": "P_lgrIvws6_Y"
      },
      "execution_count": 70,
      "outputs": []
    },
    {
      "cell_type": "code",
      "source": [
        "print(full_data)\n",
        "print(np.shape(full_data))"
      ],
      "metadata": {
        "id": "MAS92gWItD7Q",
        "colab": {
          "base_uri": "https://localhost:8080/"
        },
        "outputId": "34216487-019e-4168-f816-4095d6b2addf"
      },
      "execution_count": 5,
      "outputs": [
        {
          "output_type": "stream",
          "name": "stdout",
          "text": [
            "[[ 98880 199771  14494 ...  33557  10810  70818]\n",
            " [ 98726 199757  14791 ...  33459  10725  70561]\n",
            " [ 99331 202322  14662 ...  33762  10830  71303]\n",
            " ...\n",
            " [  1023   2244     63 ...   1010     50    552]\n",
            " [ 26826  88977    781 ...  15641   2606  13387]\n",
            " [396321 632648  41693 ... 719074  34287 254921]]\n",
            "(1881, 139)\n"
          ]
        }
      ]
    },
    {
      "cell_type": "code",
      "source": [
        "filtered_data = full_data[~np.all(full_data == 0, axis=1)]\n",
        "filtered_gene_names = gene_names[~np.all(full_data == 0, axis=1)]"
      ],
      "metadata": {
        "id": "XYNETN5Tt6SM"
      },
      "execution_count": 112,
      "outputs": []
    },
    {
      "cell_type": "code",
      "source": [
        "# Calculate the percentage of values less than 100 for each row\n",
        "min_counts = 100\n",
        "max_below_min_counts = 0\n",
        "percent_less_than_100 = np.sum(full_data < min_counts, axis=1) / full_data.shape[1]\n",
        "\n",
        "# Keep only rows where values less than 100 occur 90% or less of the time\n",
        "further_filtered_data = full_data[percent_less_than_100 <= max_below_min_counts]\n",
        "further_filtered_gene_names = gene_names[percent_less_than_100 <= max_below_min_counts]\n",
        "\n",
        "# Display the filtered array\n",
        "print(np.shape(further_filtered_data))\n",
        "print(further_filtered_data)"
      ],
      "metadata": {
        "colab": {
          "base_uri": "https://localhost:8080/"
        },
        "id": "rK_0hhnrb_d_",
        "outputId": "8a882c5e-b854-48aa-ae86-703a494974c8"
      },
      "execution_count": 113,
      "outputs": [
        {
          "output_type": "stream",
          "name": "stdout",
          "text": [
            "(126, 139)\n",
            "[[ 98880 199771  14494 ...  33557  10810  70818]\n",
            " [ 98726 199757  14791 ...  33459  10725  70561]\n",
            " [ 99331 202322  14662 ...  33762  10830  71303]\n",
            " ...\n",
            " [ 49043  97609  25309 ... 146972  19294  75408]\n",
            " [ 26826  88977    781 ...  15641   2606  13387]\n",
            " [396321 632648  41693 ... 719074  34287 254921]]\n"
          ]
        }
      ]
    },
    {
      "cell_type": "code",
      "source": [
        "print(filtered_data[1000,:])"
      ],
      "metadata": {
        "colab": {
          "base_uri": "https://localhost:8080/"
        },
        "id": "lzMmBlHrwAF6",
        "outputId": "77bcae07-120b-4b35-fd74-6dfa48747a4e"
      },
      "execution_count": 7,
      "outputs": [
        {
          "output_type": "stream",
          "name": "stdout",
          "text": [
            "[    5   107   255     5     3    80   295  9376   127  5285  4120  2956\n",
            " 15488    44  4979   288  1253   300   132   278   637     9    75  8893\n",
            "   791   722 11311  2748  8972    12   335   149    45 16334   306  1095\n",
            "   522     7   313   588     7  1145  1553   522   639  1025  1095  1181\n",
            "   106   271 10139   154 16525   674    23    23  7096  6115   938   112\n",
            "   528  7338   551   108   287   282    11  6126   324   214  2152     7\n",
            "    40  6000   373   683   218  3970  1575   287   634  3442  6511   567\n",
            "   311  8546  5989   446   807  6699   985  1408 13965   792  4822  1021\n",
            "   303  1976  1188 18066   672  8281  6236   250  3101  9709  1103   219\n",
            "  8965   246   629   459   371   117 22680  8868     8   719  7778    26\n",
            "   326  8607   466    47  1054     7   792   368  2122   712   526   377\n",
            "   313   403   245   976    10   440    72]\n"
          ]
        }
      ]
    },
    {
      "cell_type": "code",
      "source": [
        "#duomenu \"suplokstinimas\"/vizualizacija naudojantis principine komponentu analize (PCA)\n",
        "pca = PCA(n_components=15)\n",
        "pca_data = pca.fit_transform(further_filtered_data.T)\n",
        "\n",
        "plt.scatter(pca_data[6:139, 0], pca_data[6:139, 1], c = 'r', label = 'Other')\n",
        "plt.scatter(pca_data[0:6, 0], pca_data[0:6, 1], c = 'b', label = 'Teratoma, benign')\n",
        "plt.xlabel('Principinis komponentas 1')\n",
        "plt.ylabel('Principinis komponentas 2')\n",
        "plt.legend()\n",
        "plt.show()"
      ],
      "metadata": {
        "id": "gkH2TBnAuOrv",
        "colab": {
          "base_uri": "https://localhost:8080/",
          "height": 465
        },
        "outputId": "1640b62f-9e36-46b9-c96b-f3af669829d4"
      },
      "execution_count": 43,
      "outputs": [
        {
          "output_type": "display_data",
          "data": {
            "text/plain": [
              "<Figure size 640x480 with 1 Axes>"
            ],
            "image/png": "[encoded data removed]"
          },
          "metadata": {}
        }
      ]
    },
    {
      "cell_type": "code",
      "source": [
        "plt.scatter(pca_data[6:139, 3], pca_data[6:139, 4], c = 'r', label = 'Other')\n",
        "plt.scatter(pca_data[0:6, 3], pca_data[0:6, 4], c = 'b', label = 'Teratoma, benign')\n",
        "plt.xlabel('Principinis komponentas 3')\n",
        "plt.ylabel('Principinis komponentas 4')\n",
        "plt.legend()\n",
        "plt.show()"
      ],
      "metadata": {
        "id": "DH2on503yHbE"
      },
      "execution_count": null,
      "outputs": []
    },
    {
      "cell_type": "code",
      "source": [
        "#susicentruojam duomenis, jei reikia\n",
        "X = filtered_data.T\n",
        "gene_ids = filtered_gene_names\n",
        "#X = X - np.mean(X, axis = 0)\n",
        "print(np.shape(X))\n",
        "print(np.shape(gene_ids))"
      ],
      "metadata": {
        "colab": {
          "base_uri": "https://localhost:8080/"
        },
        "id": "6IK7xPCNRKe3",
        "outputId": "984df708-3ddf-4ab4-fd3c-643a53732977"
      },
      "execution_count": 117,
      "outputs": [
        {
          "output_type": "stream",
          "name": "stdout",
          "text": [
            "(139, 1546)\n",
            "(1546,)\n"
          ]
        }
      ]
    },
    {
      "cell_type": "markdown",
      "source": [
        "pvz, genas hsa-mir-520f neblogai atskleidzia.\n",
        "Beje, pasirodo, kad yra nemazai genu, kur 1 teratoma benign meginys yra 1, o (visi) like nuliai."
      ],
      "metadata": {
        "id": "JHdMMYL4T6QO"
      }
    },
    {
      "cell_type": "code",
      "source": [
        "#i=np.where(gene_ids == 'hsa-mir-520f')[0][0]\n",
        "i = 1000\n",
        "plt.scatter(X[6:139, i], np.random.normal(scale=0.3, size = len(X[6:139, 0])), c = 'r', label = 'Other')\n",
        "\n",
        "plt.scatter(X[0, i], 0.1, c = 'b', label = 'Teratoma, benign 1')\n",
        "plt.scatter(X[1, i], 0.2, c = 'c', label = 'Teratoma, benign 2')\n",
        "plt.scatter(X[2, i], 0.3, c = 'g', label = 'Teratoma, benign 3')\n",
        "plt.scatter(X[3, i], -0.3, c = 'y', label = 'Teratoma, benign 4')\n",
        "plt.scatter(X[4, i], -0.2, c = 'orange', label = 'Teratoma, benign 5')\n",
        "plt.scatter(X[5, i], -0.1, c = 'k', label = 'Teratoma, benign 6')\n",
        "\n",
        "plt.xlabel('genas ' + str(gene_ids[i]))\n",
        "plt.ylim(-5, 5)\n",
        "plt.legend()\n",
        "plt.show()"
      ],
      "metadata": {
        "colab": {
          "base_uri": "https://localhost:8080/",
          "height": 466
        },
        "id": "XE98YvgESqSE",
        "outputId": "b723a6b2-5ff9-43ec-c3f7-4347258108fe"
      },
      "execution_count": 122,
      "outputs": [
        {
          "output_type": "stream",
          "name": "stdout",
          "text": [
            "1000\n"
          ]
        },
        {
          "output_type": "display_data",
          "data": {
            "text/plain": [
              "<Figure size 640x480 with 1 Axes>"
            ],
            "image/png": "[encoded data removed]"
          },
          "metadata": {}
        }
      ]
    },
    {
      "cell_type": "markdown",
      "source": [
        "pabandom surasti miRNR, kuriu raiska labiausiai skiriasi"
      ],
      "metadata": {
        "id": "uJ3V3b-rUQdt"
      }
    },
    {
      "cell_type": "code",
      "source": [
        "scaler = StandardScaler()\n",
        "transformed_X = scaler.fit_transform(X)"
      ],
      "metadata": {
        "id": "BduPWhU-aH4T"
      },
      "execution_count": 47,
      "outputs": []
    },
    {
      "cell_type": "code",
      "source": [
        "arr = transformed_X\n",
        "Ter = arr[0:6]\n",
        "print(np.shape(Ter))\n",
        "teratoma_benign_means = np.mean(Ter, axis = 0)\n",
        "all_means = np.mean(arr, axis = 0)\n",
        "\n",
        "print(np.shape(teratoma_benign_means))\n",
        "print(np.shape(all_means))"
      ],
      "metadata": {
        "colab": {
          "base_uri": "https://localhost:8080/"
        },
        "id": "uo-lsxd6UZuW",
        "outputId": "28efa65b-9764-4f28-9df3-c90d83e4c01a"
      },
      "execution_count": 52,
      "outputs": [
        {
          "output_type": "stream",
          "name": "stdout",
          "text": [
            "(6, 126)\n",
            "(126,)\n",
            "(126,)\n"
          ]
        }
      ]
    },
    {
      "cell_type": "code",
      "source": [
        "# Example array\n",
        "arr = teratoma_benign_means - all_means\n",
        "\n",
        "# Get sorted indices based on absolute values\n",
        "sorted_indices = np.argsort(-np.abs(arr))\n",
        "\n",
        "# Sort the array based on absolute values\n",
        "sorted_array = arr[sorted_indices]\n",
        "\n",
        "#print(\"Original array:\", arr)\n",
        "#print(\"Sorted array:\", sorted_array)\n",
        "print(\"Sorted indices:\", sorted_indices[0:20])"
      ],
      "metadata": {
        "colab": {
          "base_uri": "https://localhost:8080/"
        },
        "id": "HlRv96gcW2fD",
        "outputId": "c089fc27-3396-4815-89f5-4d54a4605db0"
      },
      "execution_count": 53,
      "outputs": [
        {
          "output_type": "stream",
          "name": "stdout",
          "text": [
            "Sorted indices: [ 80  33  32  71 124  11  79   4  85  54   2   0   1   6   3  89 113  10\n",
            "  60  59]\n"
          ]
        }
      ]
    },
    {
      "cell_type": "code",
      "source": [
        "arr = X #gali buti ir nenormalizuoti/netransformuoti duomenys\n",
        "Ter = arr[0:6]\n",
        "teratoma_benign_vars = np.var(Ter, axis = 0)\n",
        "all_vars = np.var(arr, axis = 0)\n",
        "\n",
        "print(np.shape(teratoma_benign_vars))\n",
        "print(np.shape(all_vars))\n",
        "\n",
        "arr_2 = teratoma_benign_vars - all_vars\n",
        "\n",
        "# Get sorted indices based on absolute values\n",
        "sorted_indices_2 = np.argsort(-np.abs(arr_2))\n",
        "\n",
        "# Sort the array based on absolute values\n",
        "sorted_array_2 = arr_2[sorted_indices_2]\n",
        "\n",
        "#print(\"Original array:\", arr)\n",
        "#print(\"Sorted array:\", sorted_array)\n",
        "print(\"Sorted indices:\", sorted_indices_2[0:20])"
      ],
      "metadata": {
        "colab": {
          "base_uri": "https://localhost:8080/"
        },
        "id": "WZL4CP_Had64",
        "outputId": "a3239423-2d1c-4f68-e73b-c8c8274fc295"
      },
      "execution_count": 48,
      "outputs": [
        {
          "output_type": "stream",
          "name": "stdout",
          "text": [
            "(126,)\n",
            "(126,)\n",
            "Sorted indices: [ 32  66  68  48  35  19 100  85   4  18 119 117 118  11  33  49  53  60\n",
            "   3  59]\n"
          ]
        }
      ]
    }
  ]
}